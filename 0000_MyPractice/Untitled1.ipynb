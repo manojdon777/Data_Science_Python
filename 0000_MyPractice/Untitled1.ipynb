{
 "cells": [
  {
   "cell_type": "code",
   "execution_count": 8,
   "id": "beb4e9d4",
   "metadata": {},
   "outputs": [
    {
     "name": "stdout",
     "output_type": "stream",
     "text": [
      "0 1 1 2 3 5 8 13 "
     ]
    }
   ],
   "source": [
    "def fib(num):\n",
    "    num1 = 0\n",
    "    num2 = 1\n",
    "    print('0','1',end=' ')\n",
    "    for i in range(2, num):\n",
    "        temp = num1 + num2\n",
    "        print(temp,end=' ')\n",
    "        num1 = num2\n",
    "        num2 = temp\n",
    "        \n",
    "fib(8)"
   ]
  },
  {
   "cell_type": "code",
   "execution_count": null,
   "id": "36aaec45",
   "metadata": {},
   "outputs": [],
   "source": [
    "def fib(num):\n",
    "    "
   ]
  }
 ],
 "metadata": {
  "kernelspec": {
   "display_name": "Python 3 (ipykernel)",
   "language": "python",
   "name": "python3"
  },
  "language_info": {
   "codemirror_mode": {
    "name": "ipython",
    "version": 3
   },
   "file_extension": ".py",
   "mimetype": "text/x-python",
   "name": "python",
   "nbconvert_exporter": "python",
   "pygments_lexer": "ipython3",
   "version": "3.9.7"
  }
 },
 "nbformat": 4,
 "nbformat_minor": 5
}
