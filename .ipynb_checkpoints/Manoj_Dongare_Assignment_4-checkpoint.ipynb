{
 "cells": [
  {
   "cell_type": "markdown",
   "id": "46d7118d",
   "metadata": {},
   "source": [
    "#### 1. Python program to sort Python Dictionaries by Keys"
   ]
  },
  {
   "cell_type": "code",
   "execution_count": 2,
   "id": "dd87b7e8",
   "metadata": {},
   "outputs": [
    {
     "name": "stdout",
     "output_type": "stream",
     "text": [
      "{'Bio': 90, 'Che': 94, 'Eng': 95, 'Math': 91, 'Phy': 93}\n"
     ]
    }
   ],
   "source": [
    "def sortByKey(dict1):\n",
    "    sorted_keys = sorted(dict1)\n",
    "    new_dict = {}\n",
    "    for key in sorted_keys:\n",
    "        new_dict[key] = dict1[key]\n",
    "    return new_dict\n",
    "print(sortByKey({'Phy': 93, 'Che': 94, 'Math': 91, 'Eng': 95, 'Bio': 90}))"
   ]
  },
  {
   "cell_type": "markdown",
   "id": "36fd046e",
   "metadata": {},
   "source": [
    "#### 2. Python program to sort Python Dictionaries by Values"
   ]
  },
  {
   "cell_type": "code",
   "execution_count": 7,
   "id": "1aa4f9e8",
   "metadata": {},
   "outputs": [
    {
     "name": "stdout",
     "output_type": "stream",
     "text": [
      "{'Bio': 90, 'Math': 91, 'Phy': 93, 'Che': 94, 'Eng': 95}\n"
     ]
    }
   ],
   "source": [
    "def sortByKey(dict1):\n",
    "    new_dict={}\n",
    "    for val in sorted(dict1.values()):\n",
    "        for key in dict1:\n",
    "            if dict1[key]==val:\n",
    "                new_dict[key]=val\n",
    "    return new_dict\n",
    "print(sortByKey({'Phy': 93, 'Che': 94, 'Math': 91,\n",
    "                 'Eng': 95, 'Bio': 90}))"
   ]
  },
  {
   "cell_type": "markdown",
   "id": "2e88c699",
   "metadata": {},
   "source": [
    "#### 3. Python program to find the sum of all items in a dictionary"
   ]
  },
  {
   "cell_type": "code",
   "execution_count": 8,
   "id": "3ac6560c",
   "metadata": {},
   "outputs": [
    {
     "name": "stdout",
     "output_type": "stream",
     "text": [
      "463\n"
     ]
    }
   ],
   "source": [
    "def sumItems(dct):\n",
    "    ret = 0\n",
    "    for i in dct.values():\n",
    "        ret += i\n",
    "    return ret\n",
    "dct = {'Phy': 93, 'Che': 94, 'Math': 91,\n",
    "                 'Eng': 95, 'Bio': 90}\n",
    "print(sumItems(dct))"
   ]
  },
  {
   "cell_type": "markdown",
   "id": "6847c971",
   "metadata": {},
   "source": [
    "#### 4. Python program to remove a key from a dictionary"
   ]
  },
  {
   "cell_type": "code",
   "execution_count": 12,
   "id": "230d4183",
   "metadata": {},
   "outputs": [
    {
     "name": "stdout",
     "output_type": "stream",
     "text": [
      "{'Che': 94, 'Math': 91}\n",
      "{'Che': 94, 'Math': 91}\n"
     ]
    }
   ],
   "source": [
    "def delt_key_1():#Method 1\n",
    "    dct = {'Phy': 93, 'Che': 94, 'Math': 91}\n",
    "    del dct['Phy']\n",
    "    print(dct)\n",
    "def delt_key_2():#Method2\n",
    "    dct = {'Phy': 93, 'Che': 94, 'Math': 91}\n",
    "    dct.pop('Phy')\n",
    "    print(dct)\n",
    "\n",
    "delt_key_1()\n",
    "delt_key_2()\n"
   ]
  },
  {
   "cell_type": "markdown",
   "id": "8f997f10",
   "metadata": {},
   "source": [
    "#### 5. Python program to merge two Dictionaries"
   ]
  },
  {
   "cell_type": "code",
   "execution_count": 15,
   "id": "c25c29c4",
   "metadata": {},
   "outputs": [
    {
     "name": "stdout",
     "output_type": "stream",
     "text": [
      "{'Employee Name': 'Sagar', 'Salary': 70000, 'Age': 31, 'Company': 'TCS'}\n"
     ]
    },
    {
     "data": {
      "text/plain": [
       "{'Employee Name': 'Sagar', 'Salary': 70000, 'Age': 31, 'Company': 'TCS'}"
      ]
     },
     "execution_count": 15,
     "metadata": {},
     "output_type": "execute_result"
    }
   ],
   "source": [
    "#Method 1\n",
    "def merge_dict1(d1, d2):\n",
    "    d1.update(d2)\n",
    "    print(d1)\n",
    "\n",
    "#Method 2\n",
    "def merge_dict2(d1, d2):\n",
    "    return d1|d2\n",
    "\n",
    "employee_data = {'Employee Name': 'Sagar',\n",
    "                'Salary':50000,\n",
    "                'Age':30,\n",
    "                'Company':'Capgemini'}\n",
    "\n",
    "new_dict = {'Salary': 70000,\n",
    "           'Age':31,\n",
    "           'Company':'TCS'}\n",
    "merge_dict1(employee_data, new_dict)\n",
    "merge_dict2(employee_data, new_dict)"
   ]
  },
  {
   "cell_type": "markdown",
   "id": "8e2c440d",
   "metadata": {},
   "source": [
    "#### 6. Program to create grade calculator in Python"
   ]
  },
  {
   "cell_type": "code",
   "execution_count": null,
   "id": "70654b7a",
   "metadata": {},
   "outputs": [],
   "source": [
    "def grade(marks):\n",
    "    if marks >= 90:\n",
    "        print('Your grade is A')\n",
    "    elif marks >= 80:\n",
    "        print('Your grade is B')\n",
    "    elif marks >= 70:\n",
    "        print('Your grade is C')\n",
    "    elif marks >= 60:\n",
    "        print('Your grade is D')\n",
    "        "
   ]
  }
 ],
 "metadata": {
  "kernelspec": {
   "display_name": "Python 3 (ipykernel)",
   "language": "python",
   "name": "python3"
  },
  "language_info": {
   "codemirror_mode": {
    "name": "ipython",
    "version": 3
   },
   "file_extension": ".py",
   "mimetype": "text/x-python",
   "name": "python",
   "nbconvert_exporter": "python",
   "pygments_lexer": "ipython3",
   "version": "3.9.7"
  }
 },
 "nbformat": 4,
 "nbformat_minor": 5
}
