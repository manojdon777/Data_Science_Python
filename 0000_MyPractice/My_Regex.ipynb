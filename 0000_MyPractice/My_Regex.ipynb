{
 "cells": [
  {
   "cell_type": "code",
   "execution_count": 10,
   "id": "9bbc4424",
   "metadata": {},
   "outputs": [
    {
     "data": {
      "text/plain": [
       "['mobile', 'number', 'email', 'chetanbangale', 'gmail']"
      ]
     },
     "execution_count": 10,
     "metadata": {},
     "output_type": "execute_result"
    }
   ],
   "source": [
    "import re\n",
    "\n",
    "text = ''' MY mobile number is 9970881215\n",
    "            my email id is chetanbangale7@gmail.com\n",
    "            7020043560'''\n",
    "mob = re.findall('[a-z]{5,15}',text)\n",
    "mob"
   ]
  },
  {
   "cell_type": "code",
   "execution_count": 45,
   "id": "a6157aaf",
   "metadata": {},
   "outputs": [
    {
     "name": "stdout",
     "output_type": "stream",
     "text": [
      "['chetanbangale76@gmail.com']\n",
      "['chetanbangale76@gmail.com']\n"
     ]
    }
   ],
   "source": [
    "import re\n",
    "\n",
    "text = ''' MY mobile number is 9970881215\n",
    "            my email id is chetanbangale76@gmail.com\n",
    "            7020043560'''\n",
    "\n",
    "\n",
    "email = re.findall('[a-z0-9]{5,20}@[a-z]{5}.[a-z]{3}', text)\n",
    "print(email)\n",
    "email = re.findall('[a-z0-9]{5,20}@[a-z.]{5,15}[a-z]{2,5}', text)\n",
    "print(email)"
   ]
  },
  {
   "cell_type": "code",
   "execution_count": 69,
   "id": "22f08475",
   "metadata": {},
   "outputs": [
    {
     "name": "stdout",
     "output_type": "stream",
     "text": [
      "['hr@cognizant.com', 'viratkohli123@rediffmail.co.in', 'virat.kohli@rediffmail.co.in', 'virat_kohli123@rediffmail.co.in', 'virat_kohli@rediffmail.com', 'virat_kohli@gmail.com', 'virat_kohli@coep.edu.in']\n"
     ]
    }
   ],
   "source": [
    "String = '''Name : Virat Kohli\n",
    "            hr@cognizant.com\n",
    "            viratkohli123@rediffmail.co.in\n",
    "            virat.kohli@rediffmail.co.in\n",
    "            virat_kohli123@rediffmail.co.in\n",
    "            virat_kohli@rediffmail.com\n",
    "            virat_kohli@gmail.com\n",
    "            virat_kohli@coep.edu.in'''\n",
    "email = re.findall('[a-z0-9_.]{2,20}@[a-z.]{2,20}', String)\n",
    "print(email)\n"
   ]
  },
  {
   "cell_type": "code",
   "execution_count": 57,
   "id": "773a4c07",
   "metadata": {},
   "outputs": [
    {
     "name": "stdout",
     "output_type": "stream",
     "text": [
      "['ASDFG1234Q', 'ASDFG7896P']\n"
     ]
    }
   ],
   "source": [
    "string = '''PAN Card Number\n",
    "            ASDFG1234Q    #Valid\n",
    "            ASDF12345Q    #Invalid\n",
    "            ASDFG12345    #Invalid\n",
    "            ASDFG7896P    #Valid\n",
    "            ASSDF154SW    #Invalid'''\n",
    "pan = re.findall('[A-Z]{5}[0-9]{4}[A-Z]', string)\n",
    "      \n",
    "print(pan)"
   ]
  },
  {
   "cell_type": "code",
   "execution_count": 73,
   "id": "58a4f949",
   "metadata": {},
   "outputs": [
    {
     "name": "stdout",
     "output_type": "stream",
     "text": [
      "['ASDFG1234Q', 'ASDFG7896P']\n"
     ]
    },
    {
     "data": {
      "text/plain": [
       "['11-01-2022', '11-11-2021', '05-12-2021', '35-38-2021']"
      ]
     },
     "execution_count": 73,
     "metadata": {},
     "output_type": "execute_result"
    }
   ],
   "source": [
    "string = '''PAN Card Number\n",
    "            ASDFG1234Q    #Valid\n",
    "            ASDF12345Q    #Invalid\n",
    "            ASDFG12345    #Invalid\n",
    "            ASDFG7896P    #Valid\n",
    "            ASSDF154SW    #Invalid\n",
    "            \n",
    "            Date : 11-01-2022\n",
    "            11-11-2021\n",
    "            05-12-2021\n",
    "            35-38-2021\n",
    "            '''\n",
    "pan_number = re.findall('[A-Z]{5}[0-9]{4}[A-Z]',string)\n",
    "print(pan_number)\n",
    "date = re.findall('[0-9]{2}-[0-9]{2}-[0-9]{4}',string)\n",
    "date"
   ]
  },
  {
   "cell_type": "code",
   "execution_count": 9,
   "id": "504b01b1",
   "metadata": {},
   "outputs": [
    {
     "data": {
      "text/plain": [
       "[]"
      ]
     },
     "execution_count": 9,
     "metadata": {},
     "output_type": "execute_result"
    }
   ],
   "source": [
    "aadhar = '1234 4567 6789'\n",
    "\n",
    "adhar_num = re.findall('[0-9]{4}[0-9]{4}[0-9]{4}',aadhar)\n",
    "adhar_num"
   ]
  },
  {
   "cell_type": "code",
   "execution_count": 18,
   "id": "e8692fe9",
   "metadata": {},
   "outputs": [
    {
     "name": "stdout",
     "output_type": "stream",
     "text": [
      "[]\n"
     ]
    }
   ],
   "source": [
    "text = '''Data science is an interdisciplinary field that uses scientific methods, processes, 1234 12345 123456\n",
    "algorithms and systems to extract  !@#$%^ knowledge and insights from noisy, structured and unstructured data,\n",
    "and apply knowledge and actionable insights from data across a broad range of application domains.'''\n",
    "\n",
    "result = re.findall('{0-9}', text)\n",
    "print(result)"
   ]
  },
  {
   "cell_type": "code",
   "execution_count": 2,
   "id": "511cc38c",
   "metadata": {},
   "outputs": [
    {
     "data": {
      "text/plain": [
       "[]"
      ]
     },
     "execution_count": 2,
     "metadata": {},
     "output_type": "execute_result"
    }
   ],
   "source": [
    "import re\n",
    "aadhar = '91234 4567 6789'\n",
    "result = re.findall('\\b[9]', aadhar)\n",
    "result"
   ]
  },
  {
   "cell_type": "code",
   "execution_count": 8,
   "id": "c6f21093",
   "metadata": {},
   "outputs": [
    {
     "data": {
      "text/plain": [
       "['SBIN0001234']"
      ]
     },
     "execution_count": 8,
     "metadata": {},
     "output_type": "execute_result"
    }
   ],
   "source": [
    "text = '''IFSC is : SBIN0001234\n",
    "            HDFC IFSC : HDFC0009876\n",
    "            KOTAK IFSC : KTKB00001234'''\n",
    "\n",
    "ifsc = re.findall(r'\\b[SBIN]{4}\\d{7}',text)\n",
    "ifsc"
   ]
  },
  {
   "cell_type": "code",
   "execution_count": 9,
   "id": "434e6a71",
   "metadata": {},
   "outputs": [
    {
     "data": {
      "text/plain": [
       "['SBIN0001234', 'HDFC0009876', 'KTKB0000123']"
      ]
     },
     "execution_count": 9,
     "metadata": {},
     "output_type": "execute_result"
    }
   ],
   "source": [
    "text = '''IFSC is : SBIN0001234\n",
    "            HDFC IFSC : HDFC0009876\n",
    "            KOTAK IFSC : KTKB00001234'''\n",
    "\n",
    "ifsc = re.findall('\\w{4}\\d{7}',text)\n",
    "ifsc"
   ]
  },
  {
   "cell_type": "code",
   "execution_count": 12,
   "id": "31944a89",
   "metadata": {},
   "outputs": [
    {
     "data": {
      "text/plain": [
       "['SBIN0001234', 'HDFC0009876', 'KTKB00001234']"
      ]
     },
     "execution_count": 12,
     "metadata": {},
     "output_type": "execute_result"
    }
   ],
   "source": [
    "text = '''IFSC is : SBIN0001234    #valid\n",
    "            HDFC IFSC : HDFC0009876 # valid\n",
    "            KOTAK IFSC : KTKB00001234 #valid\n",
    "            DFGHJK12345678 # invalid\n",
    "            SDFGH456767 #invalid'''\n",
    "\n",
    "ifsc = re.findall(r'\\b[A-Z]{4}\\d{7,10}',text)\n",
    "ifsc"
   ]
  },
  {
   "cell_type": "code",
   "execution_count": 4,
   "id": "f3394ccf",
   "metadata": {},
   "outputs": [
    {
     "data": {
      "text/plain": [
       "['Python']"
      ]
     },
     "execution_count": 4,
     "metadata": {},
     "output_type": "execute_result"
    }
   ],
   "source": [
    "text = 'Velocity Corporate Training Centre, Python and Data Science Class Pune'\n",
    "results = re.findall('Python', text)\n",
    "results"
   ]
  },
  {
   "cell_type": "code",
   "execution_count": 8,
   "id": "88d1507f",
   "metadata": {},
   "outputs": [
    {
     "name": "stdout",
     "output_type": "stream",
     "text": [
      "[] 0\n"
     ]
    }
   ],
   "source": []
  },
  {
   "cell_type": "code",
   "execution_count": null,
   "id": "0135e4d3",
   "metadata": {},
   "outputs": [],
   "source": []
  },
  {
   "cell_type": "code",
   "execution_count": null,
   "id": "412c8817",
   "metadata": {},
   "outputs": [],
   "source": []
  },
  {
   "cell_type": "code",
   "execution_count": null,
   "id": "1be99f0d",
   "metadata": {},
   "outputs": [],
   "source": []
  },
  {
   "cell_type": "code",
   "execution_count": null,
   "id": "87dc7364",
   "metadata": {},
   "outputs": [],
   "source": []
  },
  {
   "cell_type": "code",
   "execution_count": null,
   "id": "8e720e30",
   "metadata": {},
   "outputs": [],
   "source": []
  },
  {
   "cell_type": "code",
   "execution_count": null,
   "id": "363528d1",
   "metadata": {},
   "outputs": [],
   "source": []
  },
  {
   "cell_type": "code",
   "execution_count": null,
   "id": "8b9e9ef2",
   "metadata": {},
   "outputs": [],
   "source": []
  },
  {
   "cell_type": "code",
   "execution_count": null,
   "id": "9d514503",
   "metadata": {},
   "outputs": [],
   "source": []
  },
  {
   "cell_type": "code",
   "execution_count": null,
   "id": "9acedada",
   "metadata": {},
   "outputs": [],
   "source": []
  }
 ],
 "metadata": {
  "kernelspec": {
   "display_name": "Python 3 (ipykernel)",
   "language": "python",
   "name": "python3"
  },
  "language_info": {
   "codemirror_mode": {
    "name": "ipython",
    "version": 3
   },
   "file_extension": ".py",
   "mimetype": "text/x-python",
   "name": "python",
   "nbconvert_exporter": "python",
   "pygments_lexer": "ipython3",
   "version": "3.9.7"
  }
 },
 "nbformat": 4,
 "nbformat_minor": 5
}
