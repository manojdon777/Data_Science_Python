{
 "cells": [
  {
   "cell_type": "code",
   "execution_count": 8,
   "id": "feef5107",
   "metadata": {},
   "outputs": [],
   "source": [
    "import mysql.connector as sql\n",
    "import pandas as pd"
   ]
  },
  {
   "cell_type": "code",
   "execution_count": 5,
   "id": "52b84ab0",
   "metadata": {},
   "outputs": [
    {
     "name": "stdout",
     "output_type": "stream",
     "text": [
      "<mysql.connector.connection.MySQLConnection object at 0x1089e8be0>\n"
     ]
    }
   ],
   "source": [
    "mydb=sql.connect(host='localhost',\n",
    "                user='root',\n",
    "                passwd='system1234',\n",
    "                use_pure= True) # reflect changes in database\n",
    "print(mydb)\n"
   ]
  },
  {
   "cell_type": "code",
   "execution_count": 6,
   "id": "e3a1e192",
   "metadata": {},
   "outputs": [
    {
     "name": "stdout",
     "output_type": "stream",
     "text": [
      "('db_new',)\n",
      "('db_nov',)\n",
      "('information_schema',)\n",
      "('mydb',)\n",
      "('mysql',)\n",
      "('performance_schema',)\n",
      "('sys',)\n"
     ]
    }
   ],
   "source": [
    "mycursor=mydb.cursor()\n",
    "mycursor.execute('show databases')\n",
    "for db in mycursor:\n",
    "    print(db)"
   ]
  },
  {
   "cell_type": "code",
   "execution_count": 7,
   "id": "d7328b7e",
   "metadata": {},
   "outputs": [],
   "source": [
    "mycursor=mydb.cursor()\n",
    "mycursor.execute('create database db_nov_new')\n",
    "for db in mycursor:\n",
    "    print(db)"
   ]
  },
  {
   "cell_type": "code",
   "execution_count": 11,
   "id": "4ade82c1",
   "metadata": {},
   "outputs": [
    {
     "name": "stdout",
     "output_type": "stream",
     "text": [
      "<mysql.connector.connection.MySQLConnection object at 0x10d7798a0>\n"
     ]
    }
   ],
   "source": [
    "mydb=sql.connect(host='localhost',\n",
    "                user='root',\n",
    "                passwd='system1234',\n",
    "                use_pure= True,\n",
    "                database='db_nov') # reflect changes in database\n",
    "print(mydb)\n"
   ]
  },
  {
   "cell_type": "code",
   "execution_count": 13,
   "id": "d2b0e1c2",
   "metadata": {},
   "outputs": [
    {
     "name": "stdout",
     "output_type": "stream",
     "text": [
      "  empid    fname     lname  age  salary     loc     contact\n",
      "0  1001   snehal      more   25   40000    pune  8767564534\n",
      "1  1002   snehal      more   25   40000    pune  8767564534\n",
      "2  1004   mayura  namjoshi   28   80000  mumbai  9876756785\n",
      "3  1005  saurabh     joshi   29   60000  mumbai  7898765678\n",
      "4  1006  swapnil    kendre   25   30000  mumbai  9876756788\n",
      "5  1007     swap         k   21   40000    pune  9845678534\n",
      "6  1008     None      more   25   40000    pune  8767564534\n"
     ]
    },
    {
     "name": "stderr",
     "output_type": "stream",
     "text": [
      "/Library/Frameworks/Python.framework/Versions/3.10/lib/python3.10/site-packages/pandas/io/sql.py:761: UserWarning: pandas only support SQLAlchemy connectable(engine/connection) ordatabase string URI or sqlite3 DBAPI2 connectionother DBAPI2 objects are not tested, please consider using SQLAlchemy\n",
      "  warnings.warn(\n"
     ]
    }
   ],
   "source": [
    "mycursor=mydb.cursor()\n",
    "df=pd.read_sql_query('select * from emp',mydb)\n",
    "print(df)"
   ]
  },
  {
   "cell_type": "code",
   "execution_count": 14,
   "id": "17259c4f",
   "metadata": {},
   "outputs": [
    {
     "name": "stdout",
     "output_type": "stream",
     "text": [
      "('course',)\n",
      "('course1',)\n",
      "('dept',)\n",
      "('details',)\n",
      "('dups_view',)\n",
      "('emp',)\n",
      "('emp_AI',)\n",
      "('emp_bkp',)\n",
      "('emp_chk',)\n",
      "('emp_data',)\n",
      "('emp_df',)\n",
      "('emp_not_null',)\n",
      "('emp_pk',)\n",
      "('emp_unq',)\n",
      "('new_view',)\n",
      "('student',)\n",
      "('TABLE1',)\n",
      "('TABLE2',)\n"
     ]
    }
   ],
   "source": [
    "mycursor=mydb.cursor()\n",
    "mycursor.execute('show tables')\n",
    "for db in mycursor:\n",
    "    print(db)"
   ]
  },
  {
   "cell_type": "code",
   "execution_count": null,
   "id": "620d789a",
   "metadata": {},
   "outputs": [],
   "source": []
  }
 ],
 "metadata": {
  "kernelspec": {
   "display_name": "Python 3 (ipykernel)",
   "language": "python",
   "name": "python3"
  },
  "language_info": {
   "codemirror_mode": {
    "name": "ipython",
    "version": 3
   },
   "file_extension": ".py",
   "mimetype": "text/x-python",
   "name": "python",
   "nbconvert_exporter": "python",
   "pygments_lexer": "ipython3",
   "version": "3.10.2"
  }
 },
 "nbformat": 4,
 "nbformat_minor": 5
}
