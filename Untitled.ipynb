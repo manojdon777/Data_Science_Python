{
 "cells": [
  {
   "cell_type": "code",
   "execution_count": 10,
   "id": "e930df20",
   "metadata": {},
   "outputs": [
    {
     "name": "stdout",
     "output_type": "stream",
     "text": [
      "0\n",
      "0\n",
      "0\n",
      "0\n",
      "0\n"
     ]
    }
   ],
   "source": [
    "arr = np.empty(5)\n",
    "for i in arr:\n",
    "    print(int(i))"
   ]
  },
  {
   "cell_type": "code",
   "execution_count": 14,
   "id": "fa3f26ee",
   "metadata": {},
   "outputs": [
    {
     "name": "stdout",
     "output_type": "stream",
     "text": [
      "Arr1 is :\n",
      " [[2 3]\n",
      " [4 5]]\n",
      "Arr2 is :\n",
      " [[10 20]\n",
      " [30 40]]\n"
     ]
    },
    {
     "data": {
      "text/plain": [
       "array([ 2,  3,  4,  5, 10, 20, 30, 40])"
      ]
     },
     "execution_count": 14,
     "metadata": {},
     "output_type": "execute_result"
    }
   ],
   "source": [
    "arr1 = np.array([[2,3],[4,5]]) # 2D\n",
    "arr2 = np.array([[10,20],[30,40]]) # 2D\n",
    "\n",
    "print('Arr1 is :\\n',arr1)\n",
    "print('Arr2 is :\\n',arr2)\n",
    "\n",
    "arr = np.append(arr1,arr2) # Adding rows\n",
    "arr # 1D"
   ]
  },
  {
   "cell_type": "code",
   "execution_count": 3,
   "id": "875c6b06",
   "metadata": {},
   "outputs": [
    {
     "name": "stdout",
     "output_type": "stream",
     "text": [
      "Arr1 is :\n",
      " [2 3 4 5]\n",
      "Arr2 is :\n",
      " [20 30 40 50]\n"
     ]
    },
    {
     "data": {
      "text/plain": [
       "array([ 2,  3,  4,  5, 20, 30, 40, 50])"
      ]
     },
     "execution_count": 3,
     "metadata": {},
     "output_type": "execute_result"
    }
   ],
   "source": [
    "import numpy as np\n",
    "arr1 = np.array([2,3,4,5])\n",
    "print('Arr1 is :\\n',arr1)\n",
    "\n",
    "arr2 = np.array([20,30,40,50])\n",
    "print('Arr2 is :\\n',arr2)\n",
    "np.concatenate([[2,3,4,5],[20,30,40,50]])"
   ]
  },
  {
   "cell_type": "code",
   "execution_count": 16,
   "id": "0dd862f8",
   "metadata": {},
   "outputs": [
    {
     "name": "stdout",
     "output_type": "stream",
     "text": [
      "Arr1 is :\n",
      " [[2 3]\n",
      " [4 5]]\n",
      "Arr2 is :\n",
      " [[20 30]\n",
      " [40 50]]\n",
      "[[ 2  3 20 30]\n",
      " [ 4  5 40 50]]\n"
     ]
    }
   ],
   "source": [
    "import numpy as np\n",
    "arr1 = np.array([[2,3],[4,5]])\n",
    "print('Arr1 is :\\n',arr1)\n",
    "\n",
    "arr2 = np.array([[20,30],[40,50]])\n",
    "print('Arr2 is :\\n',arr2)\n",
    "\n",
    "np.concatenate([arr1,arr2])\n",
    "print(np.concatenate([arr1,arr2], axis=1))"
   ]
  },
  {
   "cell_type": "code",
   "execution_count": 19,
   "id": "fa67fa95",
   "metadata": {},
   "outputs": [
    {
     "name": "stdout",
     "output_type": "stream",
     "text": [
      "Arr1 is :\n",
      " [2 3 4 5]\n",
      "Arr2 is :\n",
      " [20 30 40 50]\n"
     ]
    },
    {
     "data": {
      "text/plain": [
       "array([ 2,  3,  4,  5, 20, 30, 40, 50])"
      ]
     },
     "execution_count": 19,
     "metadata": {},
     "output_type": "execute_result"
    }
   ],
   "source": [
    "arr1 = np.array([2,3,4,5])\n",
    "print('Arr1 is :\\n',arr1)\n",
    "\n",
    "arr2 = np.array([20,30,40,50])\n",
    "print('Arr2 is :\\n',arr2)\n",
    "np.concatenate([arr1,arr2])"
   ]
  },
  {
   "cell_type": "code",
   "execution_count": null,
   "id": "e55795eb",
   "metadata": {},
   "outputs": [],
   "source": []
  },
  {
   "cell_type": "code",
   "execution_count": null,
   "id": "fe5188ba",
   "metadata": {},
   "outputs": [],
   "source": []
  },
  {
   "cell_type": "code",
   "execution_count": null,
   "id": "2ff17d1f",
   "metadata": {},
   "outputs": [],
   "source": []
  },
  {
   "cell_type": "code",
   "execution_count": null,
   "id": "b1544172",
   "metadata": {},
   "outputs": [],
   "source": []
  },
  {
   "cell_type": "code",
   "execution_count": null,
   "id": "41f9f76e",
   "metadata": {},
   "outputs": [],
   "source": []
  },
  {
   "cell_type": "code",
   "execution_count": 11,
   "id": "fdecbe22",
   "metadata": {},
   "outputs": [
    {
     "data": {
      "text/plain": [
       "array([16, 16, 14, 11, 17])"
      ]
     },
     "execution_count": 11,
     "metadata": {},
     "output_type": "execute_result"
    }
   ],
   "source": [
    "import numpy as np\n",
    "np.random.randint(10,20,size=5)"
   ]
  },
  {
   "cell_type": "code",
   "execution_count": 2,
   "id": "946050c3",
   "metadata": {},
   "outputs": [
    {
     "ename": "NameError",
     "evalue": "name 'x' is not defined",
     "output_type": "error",
     "traceback": [
      "\u001b[1;31m---------------------------------------------------------------------------\u001b[0m",
      "\u001b[1;31mNameError\u001b[0m                                 Traceback (most recent call last)",
      "\u001b[1;32m~\\AppData\\Local\\Temp/ipykernel_8432/1132915463.py\u001b[0m in \u001b[0;36m<module>\u001b[1;34m\u001b[0m\n\u001b[0;32m      1\u001b[0m \u001b[0mtp\u001b[0m \u001b[1;33m=\u001b[0m \u001b[1;33m(\u001b[0m\u001b[1;34m'12'\u001b[0m\u001b[1;33m,\u001b[0m\u001b[1;34m'45'\u001b[0m\u001b[1;33m,\u001b[0m\u001b[1;34m'67'\u001b[0m\u001b[1;33m)\u001b[0m\u001b[1;33m\u001b[0m\u001b[1;33m\u001b[0m\u001b[0m\n\u001b[1;32m----> 2\u001b[1;33m \u001b[0mlist\u001b[0m\u001b[1;33m(\u001b[0m\u001b[0mfilter\u001b[0m\u001b[1;33m(\u001b[0m\u001b[1;32mlambda\u001b[0m \u001b[0mx\u001b[0m\u001b[1;33m:\u001b[0m \u001b[0mx\u001b[0m\u001b[1;33m[\u001b[0m\u001b[1;36m0\u001b[0m\u001b[1;33m]\u001b[0m\u001b[1;33m,\u001b[0m\u001b[0mx\u001b[0m\u001b[1;33m[\u001b[0m\u001b[1;36m1\u001b[0m\u001b[1;33m]\u001b[0m\u001b[1;33m,\u001b[0m\u001b[0mtp\u001b[0m\u001b[1;33m)\u001b[0m\u001b[1;33m)\u001b[0m\u001b[1;33m\u001b[0m\u001b[1;33m\u001b[0m\u001b[0m\n\u001b[0m",
      "\u001b[1;31mNameError\u001b[0m: name 'x' is not defined"
     ]
    }
   ],
   "source": [
    "tp = ('12','45','67')\n",
    "list(filter(lambda x: x[0],x[1],tp))"
   ]
  },
  {
   "cell_type": "code",
   "execution_count": null,
   "id": "7a0af8ab",
   "metadata": {},
   "outputs": [],
   "source": []
  },
  {
   "cell_type": "code",
   "execution_count": null,
   "id": "17ed76f1",
   "metadata": {},
   "outputs": [],
   "source": []
  },
  {
   "cell_type": "code",
   "execution_count": null,
   "id": "9c20321b",
   "metadata": {},
   "outputs": [],
   "source": [
    "fun = lambda x: x*x"
   ]
  },
  {
   "cell_type": "code",
   "execution_count": null,
   "id": "93532230",
   "metadata": {},
   "outputs": [],
   "source": []
  },
  {
   "cell_type": "code",
   "execution_count": null,
   "id": "4faf12e1",
   "metadata": {},
   "outputs": [],
   "source": []
  },
  {
   "cell_type": "code",
   "execution_count": null,
   "id": "ab3fdcaa",
   "metadata": {},
   "outputs": [],
   "source": [
    "list - ordered, mutable , duplicates allowed\n",
    "set - unordered, mut, duplicate3s not allowed\n",
    "tuple - orderes, immut, duplicates allowed\n",
    "dict - ordered, mut, no duplicates key\n",
    "string = ordered, immutable, duplicates allowed\n"
   ]
  },
  {
   "cell_type": "code",
   "execution_count": 5,
   "id": "f3930545",
   "metadata": {},
   "outputs": [
    {
     "name": "stdout",
     "output_type": "stream",
     "text": [
      "{1, 2, 3, 4, 5, 6, 7, 8, 9}\n",
      "{1, 2, 3, 4, 5, 6, 7, 8, 9}\n"
     ]
    }
   ],
   "source": [
    "a = {1,2,3,6,7,8,9}\n",
    "b = [2,3,4,5]\n",
    "uni = a.union(b)\n",
    "a.update(b)\n",
    "print(uni)\n",
    "print(a)"
   ]
  },
  {
   "cell_type": "code",
   "execution_count": null,
   "id": "e36017dc",
   "metadata": {},
   "outputs": [],
   "source": []
  },
  {
   "cell_type": "code",
   "execution_count": 5,
   "id": "8d70828d",
   "metadata": {},
   "outputs": [
    {
     "data": {
      "text/plain": [
       "[(54, 'dot'), (64, 'foy'), (34, 'man')]"
      ]
     },
     "execution_count": 5,
     "metadata": {},
     "output_type": "execute_result"
    }
   ],
   "source": [
    "l=[(34,'man'),(54,'dot'),(64,'foy')]\n",
    "l.sort(key=lambda x:x[1])\n",
    "l"
   ]
  },
  {
   "cell_type": "code",
   "execution_count": null,
   "id": "f6e91aa4",
   "metadata": {},
   "outputs": [],
   "source": []
  },
  {
   "cell_type": "code",
   "execution_count": null,
   "id": "b8c76cb8",
   "metadata": {},
   "outputs": [],
   "source": []
  },
  {
   "cell_type": "code",
   "execution_count": null,
   "id": "56b03e29",
   "metadata": {},
   "outputs": [],
   "source": []
  },
  {
   "cell_type": "code",
   "execution_count": 2,
   "id": "142b3694",
   "metadata": {},
   "outputs": [
    {
     "name": "stdout",
     "output_type": "stream",
     "text": [
      "2 is even\n",
      "3 is odd\n",
      "4 is even\n",
      "5 is odd\n",
      "6 is even\n",
      "[]\n"
     ]
    }
   ],
   "source": [
    "num=[2,3,4,5,6]\n",
    "x = list(filter(lambda x : print(f'{x} is even') if x%2==0 else print(f'{x} is odd') , num))\n",
    "print(x)"
   ]
  },
  {
   "cell_type": "code",
   "execution_count": null,
   "id": "c36a372e",
   "metadata": {},
   "outputs": [],
   "source": []
  },
  {
   "cell_type": "code",
   "execution_count": null,
   "id": "9eae9969",
   "metadata": {},
   "outputs": [],
   "source": []
  },
  {
   "cell_type": "code",
   "execution_count": null,
   "id": "f008afac",
   "metadata": {},
   "outputs": [],
   "source": []
  },
  {
   "cell_type": "code",
   "execution_count": null,
   "id": "fb595bad",
   "metadata": {},
   "outputs": [],
   "source": []
  },
  {
   "cell_type": "code",
   "execution_count": null,
   "id": "cc7c2ed8",
   "metadata": {},
   "outputs": [],
   "source": []
  },
  {
   "cell_type": "code",
   "execution_count": 4,
   "id": "fd05a470",
   "metadata": {},
   "outputs": [
    {
     "name": "stdout",
     "output_type": "stream",
     "text": [
      "2 is even\n",
      "3 is odd\n",
      "4 is even\n",
      "5 is odd\n",
      "6 is even\n",
      "[None, None, None, None, None]\n"
     ]
    }
   ],
   "source": [
    "num=[2,3,4,5,6]\n",
    "x = list(map(lambda x : print(f'{x} is even') if x%2==0 else print(f'{x} is odd') , num))\n",
    "print(x)"
   ]
  },
  {
   "cell_type": "code",
   "execution_count": 2,
   "id": "c68cc620",
   "metadata": {},
   "outputs": [
    {
     "ename": "TypeError",
     "evalue": "<lambda>() missing 1 required positional argument: 'y'",
     "output_type": "error",
     "traceback": [
      "\u001b[1;31m---------------------------------------------------------------------------\u001b[0m",
      "\u001b[1;31mTypeError\u001b[0m                                 Traceback (most recent call last)",
      "\u001b[1;32m~\\AppData\\Local\\Temp/ipykernel_32/3010846600.py\u001b[0m in \u001b[0;36m<module>\u001b[1;34m\u001b[0m\n\u001b[0;32m      1\u001b[0m \u001b[0ma\u001b[0m\u001b[1;33m=\u001b[0m\u001b[1;33m[\u001b[0m\u001b[1;36m1\u001b[0m\u001b[1;33m,\u001b[0m\u001b[1;36m2\u001b[0m\u001b[1;33m,\u001b[0m\u001b[1;36m3\u001b[0m\u001b[1;33m,\u001b[0m\u001b[1;36m4\u001b[0m\u001b[1;33m,\u001b[0m\u001b[1;36m5\u001b[0m\u001b[1;33m,\u001b[0m\u001b[1;36m6\u001b[0m\u001b[1;33m,\u001b[0m\u001b[1;36m7\u001b[0m\u001b[1;33m,\u001b[0m\u001b[1;36m8\u001b[0m\u001b[1;33m]\u001b[0m\u001b[1;33m\u001b[0m\u001b[1;33m\u001b[0m\u001b[0m\n\u001b[1;32m----> 2\u001b[1;33m \u001b[0mt\u001b[0m \u001b[1;33m=\u001b[0m \u001b[0mlist\u001b[0m\u001b[1;33m(\u001b[0m\u001b[0mmap\u001b[0m\u001b[1;33m(\u001b[0m\u001b[1;32mlambda\u001b[0m \u001b[0mx\u001b[0m\u001b[1;33m,\u001b[0m\u001b[0my\u001b[0m\u001b[1;33m:\u001b[0m\u001b[0mx\u001b[0m\u001b[1;33m+\u001b[0m\u001b[0my\u001b[0m\u001b[1;33m,\u001b[0m\u001b[0ma\u001b[0m\u001b[1;33m)\u001b[0m\u001b[1;33m)\u001b[0m\u001b[1;33m\u001b[0m\u001b[1;33m\u001b[0m\u001b[0m\n\u001b[0m\u001b[0;32m      3\u001b[0m \u001b[0mprint\u001b[0m\u001b[1;33m(\u001b[0m\u001b[0mt\u001b[0m\u001b[1;33m)\u001b[0m\u001b[1;33m\u001b[0m\u001b[1;33m\u001b[0m\u001b[0m\n",
      "\u001b[1;31mTypeError\u001b[0m: <lambda>() missing 1 required positional argument: 'y'"
     ]
    }
   ],
   "source": [
    "a=[1,2,3,4,5,6,7,8]\n",
    "t = list(map(lambda x,y:x+y,a))\n",
    "print(t)"
   ]
  },
  {
   "cell_type": "code",
   "execution_count": null,
   "id": "d0d82192",
   "metadata": {},
   "outputs": [],
   "source": []
  },
  {
   "cell_type": "code",
   "execution_count": 1,
   "id": "0ee9aebd",
   "metadata": {},
   "outputs": [
    {
     "name": "stdout",
     "output_type": "stream",
     "text": [
      "2022-01-08 08:45:05.668927\n"
     ]
    }
   ],
   "source": [
    "import datetime\n",
    "print(datetime.datetime.today())"
   ]
  },
  {
   "cell_type": "code",
   "execution_count": 3,
   "id": "0e778376",
   "metadata": {},
   "outputs": [
    {
     "data": {
      "text/plain": [
       "154.0"
      ]
     },
     "execution_count": 3,
     "metadata": {},
     "output_type": "execute_result"
    }
   ],
   "source": [
    "class a:\n",
    "    def __init__(self, radius):\n",
    "        self.radius = radius\n",
    "    def area(self):\n",
    "        return self.radius**2 * 22/7\n",
    "class b(a):\n",
    "    def disp(self):\n",
    "        print('Radius is :',self.radius)\n",
    "object = a(7)\n",
    "object.area()\n"
   ]
  },
  {
   "cell_type": "code",
   "execution_count": null,
   "id": "a3db4301",
   "metadata": {},
   "outputs": [],
   "source": []
  },
  {
   "cell_type": "code",
   "execution_count": null,
   "id": "e2809754",
   "metadata": {},
   "outputs": [],
   "source": []
  },
  {
   "cell_type": "code",
   "execution_count": null,
   "id": "798715d4",
   "metadata": {},
   "outputs": [],
   "source": []
  },
  {
   "cell_type": "code",
   "execution_count": null,
   "id": "6a8b73a2",
   "metadata": {},
   "outputs": [],
   "source": []
  },
  {
   "cell_type": "code",
   "execution_count": null,
   "id": "70c00be1",
   "metadata": {},
   "outputs": [],
   "source": []
  },
  {
   "cell_type": "code",
   "execution_count": null,
   "id": "b1b87837",
   "metadata": {},
   "outputs": [],
   "source": []
  },
  {
   "cell_type": "code",
   "execution_count": null,
   "id": "d52191b9",
   "metadata": {},
   "outputs": [],
   "source": []
  },
  {
   "cell_type": "code",
   "execution_count": null,
   "id": "d0446acd",
   "metadata": {},
   "outputs": [],
   "source": []
  },
  {
   "cell_type": "code",
   "execution_count": 8,
   "id": "090b2ef4",
   "metadata": {},
   "outputs": [
    {
     "ename": "SyntaxError",
     "evalue": "invalid syntax (Temp/ipykernel_4632/1164650733.py, line 1)",
     "output_type": "error",
     "traceback": [
      "\u001b[1;36m  File \u001b[1;32m\"C:\\Users\\manoj\\AppData\\Local\\Temp/ipykernel_4632/1164650733.py\"\u001b[1;36m, line \u001b[1;32m1\u001b[0m\n\u001b[1;33m    a,b,c=[float(x) for x in [1 2 3]]\u001b[0m\n\u001b[1;37m                                ^\u001b[0m\n\u001b[1;31mSyntaxError\u001b[0m\u001b[1;31m:\u001b[0m invalid syntax\n"
     ]
    }
   ],
   "source": [
    "a,b,c=[float(x) for x in [1, 2, 3]]\n",
    "type(a)"
   ]
  },
  {
   "cell_type": "code",
   "execution_count": 1,
   "id": "2d4e89a0",
   "metadata": {},
   "outputs": [
    {
     "name": "stdout",
     "output_type": "stream",
     "text": [
      "*********\n",
      "**** ****\n",
      "***   ***\n",
      "**     **\n",
      "*       *\n",
      "         \n",
      "         \n"
     ]
    }
   ],
   "source": [
    "# Q21\n",
    "for i in range(1,8):\n",
    "    for j in range(1,10):\n",
    "        if j<=6-i or j>=4+i:\n",
    "            print(\"*\",end='')\n",
    "        else:\n",
    "            print(\" \",end='')\n",
    "\n",
    "    print()"
   ]
  },
  {
   "cell_type": "code",
   "execution_count": 10,
   "id": "073d4d5b",
   "metadata": {},
   "outputs": [
    {
     "name": "stdout",
     "output_type": "stream",
     "text": [
      "Hll, hv  gd dy\n"
     ]
    }
   ],
   "source": [
    "string = \"Hello, have a good day\"\n",
    "string = string.replace('a','').replace('e','').replace('i','').replace('o','').replace('u','')\n",
    "string = string.replace('A','').replace('E','').replace('I','').replace('O','').replace('U','')\n",
    "print(string)"
   ]
  },
  {
   "cell_type": "code",
   "execution_count": 1,
   "id": "9fe92464",
   "metadata": {},
   "outputs": [
    {
     "name": "stdout",
     "output_type": "stream",
     "text": [
      "Character A is at index 3\n"
     ]
    }
   ],
   "source": [
    "char = 'A'\n",
    "index = 3\n",
    "print('Character %s is at index %d'%(char, index))"
   ]
  },
  {
   "cell_type": "code",
   "execution_count": 22,
   "id": "b17285e9",
   "metadata": {
    "scrolled": true
   },
   "outputs": [
    {
     "name": "stdout",
     "output_type": "stream",
     "text": [
      "*******\n",
      " ******\n",
      "  *****\n",
      "   ****\n",
      "    ***\n",
      "     **\n",
      "      *\n"
     ]
    }
   ],
   "source": [
    "i=0\n",
    "while i<7:\n",
    "    j=0\n",
    "    while j<7:\n",
    "        if i<=j:\n",
    "            print(\"*\", end='')\n",
    "        else: \n",
    "            print(' ',end='')\n",
    "        j+=1\n",
    "    i+=1\n",
    "    print()"
   ]
  },
  {
   "cell_type": "code",
   "execution_count": 12,
   "id": "9ed64934",
   "metadata": {},
   "outputs": [
    {
     "name": "stdout",
     "output_type": "stream",
     "text": [
      "*******\n",
      " ******\n",
      "  *****\n",
      "   ****\n",
      "    ***\n",
      "     **\n",
      "      *\n"
     ]
    }
   ],
   "source": [
    "for i in range(7):\n",
    "    for j in range(7):\n",
    "        if i<=j:\n",
    "            print(\"*\", end='')\n",
    "        else: \n",
    "            print(' ',end='')\n",
    "    print()"
   ]
  },
  {
   "cell_type": "code",
   "execution_count": 9,
   "id": "0029d657",
   "metadata": {},
   "outputs": [
    {
     "name": "stdout",
     "output_type": "stream",
     "text": [
      "{'g': 2, 'o': 3, 'l': 1, 'e': 1, 'c': 1, 'm': 1}\n"
     ]
    }
   ],
   "source": [
    "a='googlecom'\n",
    "d1={}\n",
    "for char in a:\n",
    "    d1[char] = d1.get(char,0)+1\n",
    "print(d1)"
   ]
  },
  {
   "cell_type": "code",
   "execution_count": null,
   "id": "e80e0003",
   "metadata": {},
   "outputs": [],
   "source": [
    "a='googlecom'\n",
    "d1={}\n",
    "for i,char in enumerate(a):\n",
    "    frc= a.count(char)\n",
    "    d1.update({char:frc})\n",
    "print(d1)"
   ]
  },
  {
   "cell_type": "code",
   "execution_count": 2,
   "id": "a78315b6",
   "metadata": {},
   "outputs": [
    {
     "name": "stdout",
     "output_type": "stream",
     "text": [
      "\n",
      "1 \n",
      "1 2 \n",
      "1 2 3 \n",
      "1 2 3 4 \n",
      "1 \n",
      "1 2 \n",
      "1 2 3 \n",
      "1 2 3 4 \n",
      "1 2 3 4 5 \n"
     ]
    }
   ],
   "source": []
  },
  {
   "cell_type": "code",
   "execution_count": null,
   "id": "59f99a6e",
   "metadata": {},
   "outputs": [],
   "source": [
    "l=[1,21,3,4,5]"
   ]
  },
  {
   "cell_type": "code",
   "execution_count": null,
   "id": "67be3a5e",
   "metadata": {},
   "outputs": [],
   "source": [
    "n=6\n",
    "i=1\n",
    "\n",
    "while i<n:\n",
    "    j=1\n",
    "    while j<=i:\n",
    "        print(j, end= \" \")\n",
    "        j+=1\n",
    "    i+=1\n",
    "    print()"
   ]
  },
  {
   "cell_type": "code",
   "execution_count": null,
   "id": "a5e55c1c",
   "metadata": {},
   "outputs": [],
   "source": [
    "l = ['a','b','c','d','e']\n",
    "for i in range(len(l)//2):\n",
    "    \n",
    "    "
   ]
  },
  {
   "cell_type": "code",
   "execution_count": 24,
   "id": "091cb6c5",
   "metadata": {},
   "outputs": [
    {
     "name": "stdout",
     "output_type": "stream",
     "text": [
      "121345\n"
     ]
    }
   ],
   "source": [
    "def digitCount(val):\n",
    "    ret = 1\n",
    "    while(val>0):\n",
    "        remainder = val%10\n",
    "        ret = ret*10\n",
    "        val = val//10\n",
    "#         print('remainder=',remainder,'ret=',ret,'val',val)\n",
    "    return ret\n",
    "l=[1,21,3,4,5]\n",
    "num = 0\n",
    "for i in l:\n",
    "    num = num*digitCount(i) + i\n",
    "print(num)\n",
    "# print(digitCount(21))"
   ]
  },
  {
   "cell_type": "code",
   "execution_count": 2,
   "id": "fb6efd66",
   "metadata": {},
   "outputs": [
    {
     "data": {
      "text/plain": [
       "11"
      ]
     },
     "execution_count": 2,
     "metadata": {},
     "output_type": "execute_result"
    }
   ],
   "source": [
    "(lambda x:x+1)(10)"
   ]
  }
 ],
 "metadata": {
  "kernelspec": {
   "display_name": "Python 3 (ipykernel)",
   "language": "python",
   "name": "python3"
  },
  "language_info": {
   "codemirror_mode": {
    "name": "ipython",
    "version": 3
   },
   "file_extension": ".py",
   "mimetype": "text/x-python",
   "name": "python",
   "nbconvert_exporter": "python",
   "pygments_lexer": "ipython3",
   "version": "3.9.7"
  }
 },
 "nbformat": 4,
 "nbformat_minor": 5
}
