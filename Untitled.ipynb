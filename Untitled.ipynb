{
 "cells": [
  {
   "cell_type": "code",
   "execution_count": 1,
   "id": "2d4e89a0",
   "metadata": {},
   "outputs": [
    {
     "name": "stdout",
     "output_type": "stream",
     "text": [
      "*********\n",
      "**** ****\n",
      "***   ***\n",
      "**     **\n",
      "*       *\n",
      "         \n",
      "         \n"
     ]
    }
   ],
   "source": [
    "# Q21\n",
    "for i in range(1,8):\n",
    "    for j in range(1,10):\n",
    "        if j<=6-i or j>=4+i:\n",
    "            print(\"*\",end='')\n",
    "        else:\n",
    "            print(\" \",end='')\n",
    "\n",
    "    print()"
   ]
  },
  {
   "cell_type": "code",
   "execution_count": 10,
   "id": "073d4d5b",
   "metadata": {},
   "outputs": [
    {
     "name": "stdout",
     "output_type": "stream",
     "text": [
      "Hll, hv  gd dy\n"
     ]
    }
   ],
   "source": [
    "string = \"Hello, have a good day\"\n",
    "string = string.replace('a','').replace('e','').replace('i','').replace('o','').replace('u','')\n",
    "string = string.replace('A','').replace('E','').replace('I','').replace('O','').replace('U','')\n",
    "print(string)"
   ]
  },
  {
   "cell_type": "code",
   "execution_count": 1,
   "id": "9fe92464",
   "metadata": {},
   "outputs": [
    {
     "name": "stdout",
     "output_type": "stream",
     "text": [
      "Character A is at index 3\n"
     ]
    }
   ],
   "source": [
    "char = 'A'\n",
    "index = 3\n",
    "print('Character %s is at index %d'%(char, index))"
   ]
  },
  {
   "cell_type": "code",
   "execution_count": 22,
   "id": "b17285e9",
   "metadata": {
    "scrolled": true
   },
   "outputs": [
    {
     "name": "stdout",
     "output_type": "stream",
     "text": [
      "*******\n",
      " ******\n",
      "  *****\n",
      "   ****\n",
      "    ***\n",
      "     **\n",
      "      *\n"
     ]
    }
   ],
   "source": [
    "i=0\n",
    "while i<7:\n",
    "    j=0\n",
    "    while j<7:\n",
    "        if i<=j:\n",
    "            print(\"*\", end='')\n",
    "        else: \n",
    "            print(' ',end='')\n",
    "        j+=1\n",
    "    i+=1\n",
    "    print()"
   ]
  },
  {
   "cell_type": "code",
   "execution_count": 12,
   "id": "9ed64934",
   "metadata": {},
   "outputs": [
    {
     "name": "stdout",
     "output_type": "stream",
     "text": [
      "*******\n",
      " ******\n",
      "  *****\n",
      "   ****\n",
      "    ***\n",
      "     **\n",
      "      *\n"
     ]
    }
   ],
   "source": [
    "for i in range(7):\n",
    "    for j in range(7):\n",
    "        if i<=j:\n",
    "            print(\"*\", end='')\n",
    "        else: \n",
    "            print(' ',end='')\n",
    "    print()"
   ]
  },
  {
   "cell_type": "code",
   "execution_count": 9,
   "id": "0029d657",
   "metadata": {},
   "outputs": [
    {
     "name": "stdout",
     "output_type": "stream",
     "text": [
      "{'g': 2, 'o': 3, 'l': 1, 'e': 1, 'c': 1, 'm': 1}\n"
     ]
    }
   ],
   "source": [
    "a='googlecom'\n",
    "d1={}\n",
    "for char in a:\n",
    "    d1[char] = d1.get(char,0)+1\n",
    "print(d1)"
   ]
  },
  {
   "cell_type": "code",
   "execution_count": null,
   "id": "e80e0003",
   "metadata": {},
   "outputs": [],
   "source": [
    "a='googlecom'\n",
    "d1={}\n",
    "for i,char in enumerate(a):\n",
    "    frc= a.count(char)\n",
    "    d1.update({char:frc})\n",
    "print(d1)"
   ]
  },
  {
   "cell_type": "code",
   "execution_count": 2,
   "id": "a78315b6",
   "metadata": {},
   "outputs": [
    {
     "name": "stdout",
     "output_type": "stream",
     "text": [
      "\n",
      "1 \n",
      "1 2 \n",
      "1 2 3 \n",
      "1 2 3 4 \n",
      "1 \n",
      "1 2 \n",
      "1 2 3 \n",
      "1 2 3 4 \n",
      "1 2 3 4 5 \n"
     ]
    }
   ],
   "source": []
  },
  {
   "cell_type": "code",
   "execution_count": null,
   "id": "59f99a6e",
   "metadata": {},
   "outputs": [],
   "source": [
    "l=[1,21,3,4,5]"
   ]
  },
  {
   "cell_type": "code",
   "execution_count": null,
   "id": "67be3a5e",
   "metadata": {},
   "outputs": [],
   "source": [
    "n=6\n",
    "i=1\n",
    "\n",
    "while i<n:\n",
    "    j=1\n",
    "    while j<=i:\n",
    "        print(j, end= \" \")\n",
    "        j+=1\n",
    "    i+=1\n",
    "    print()"
   ]
  },
  {
   "cell_type": "code",
   "execution_count": null,
   "id": "a5e55c1c",
   "metadata": {},
   "outputs": [],
   "source": [
    "l = ['a','b','c','d','e']\n",
    "for i in range(len(l)//2):\n",
    "    \n",
    "    "
   ]
  },
  {
   "cell_type": "code",
   "execution_count": 24,
   "id": "091cb6c5",
   "metadata": {},
   "outputs": [
    {
     "name": "stdout",
     "output_type": "stream",
     "text": [
      "121345\n"
     ]
    }
   ],
   "source": [
    "def digitCount(val):\n",
    "    ret = 1\n",
    "    while(val>0):\n",
    "        remainder = val%10\n",
    "        ret = ret*10\n",
    "        val = val//10\n",
    "#         print('remainder=',remainder,'ret=',ret,'val',val)\n",
    "    return ret\n",
    "l=[1,21,3,4,5]\n",
    "num = 0\n",
    "for i in l:\n",
    "    num = num*digitCount(i) + i\n",
    "print(num)\n",
    "# print(digitCount(21))"
   ]
  },
  {
   "cell_type": "code",
   "execution_count": 2,
   "id": "fb6efd66",
   "metadata": {},
   "outputs": [
    {
     "data": {
      "text/plain": [
       "11"
      ]
     },
     "execution_count": 2,
     "metadata": {},
     "output_type": "execute_result"
    }
   ],
   "source": [
    "(lambda x:x+1)(10)"
   ]
  }
 ],
 "metadata": {
  "kernelspec": {
   "display_name": "Python 3 (ipykernel)",
   "language": "python",
   "name": "python3"
  },
  "language_info": {
   "codemirror_mode": {
    "name": "ipython",
    "version": 3
   },
   "file_extension": ".py",
   "mimetype": "text/x-python",
   "name": "python",
   "nbconvert_exporter": "python",
   "pygments_lexer": "ipython3",
   "version": "3.9.7"
  }
 },
 "nbformat": 4,
 "nbformat_minor": 5
}
