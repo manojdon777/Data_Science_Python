{
 "cells": [
  {
   "cell_type": "markdown",
   "id": "27996e33",
   "metadata": {},
   "source": [
    "#### 1. Python Program for Find largest prime factor of a number"
   ]
  },
  {
   "cell_type": "code",
   "execution_count": 8,
   "id": "ec6606f0",
   "metadata": {},
   "outputs": [
    {
     "name": "stdout",
     "output_type": "stream",
     "text": [
      "11\n"
     ]
    }
   ],
   "source": [
    "def primeFact(num):\n",
    "\ti=2\n",
    "\tmaxPrime = 1\n",
    "\tfor i in range(1,num):\n",
    "\t\tif num%i == 0:\n",
    "\t\t\tmaxPrime = i\t   \n",
    "\treturn maxPrime\n",
    "x = primeFact(77)\n",
    "print(x)"
   ]
  },
  {
   "cell_type": "code",
   "execution_count": null,
   "id": "e887e7b9",
   "metadata": {},
   "outputs": [],
   "source": [
    "#### 2. Python Program for Product of unique prime factors of a number"
   ]
  },
  {
   "cell_type": "code",
   "execution_count": 55,
   "id": "eb98b0ad",
   "metadata": {},
   "outputs": [
    {
     "name": "stdout",
     "output_type": "stream",
     "text": [
      "5\n"
     ]
    }
   ],
   "source": [
    "import math\n",
    "\n",
    "def isPrime(num):\n",
    "    for i in range(2, int(math.sqrt(num) + 1)):\n",
    "        if num%i == 0:\n",
    "            return False\n",
    "    return True\n",
    "\n",
    "def prodUniPrime(num):\n",
    "    factors = {}\n",
    "    for i in range(2,num):\n",
    "        if num%i == 0 and isPrime(i):\n",
    "            factors[i] = factors.setdefault(i)    \n",
    "    return max([s for s in factors.keys()])\n",
    "\n",
    "x = prodUniPrime(300)\n",
    "print(x)"
   ]
  },
  {
   "cell_type": "code",
   "execution_count": null,
   "id": "83b7b84f",
   "metadata": {},
   "outputs": [],
   "source": [
    "#### 3. Python Program to find Factorial of Number"
   ]
  },
  {
   "cell_type": "code",
   "execution_count": 1,
   "id": "8a0b9545",
   "metadata": {},
   "outputs": [
    {
     "name": "stdout",
     "output_type": "stream",
     "text": [
      "5040\n"
     ]
    }
   ],
   "source": [
    "def fact(n):\n",
    "    if n ==0:\n",
    "        return 1\n",
    "    return n*fact(n-1)\n",
    "print(fact(7))"
   ]
  },
  {
   "cell_type": "code",
   "execution_count": null,
   "id": "5b858daf",
   "metadata": {},
   "outputs": [],
   "source": [
    "#### 4. Python Program for Find sum of odd factors of a number"
   ]
  },
  {
   "cell_type": "code",
   "execution_count": 3,
   "id": "05006da7",
   "metadata": {},
   "outputs": [
    {
     "name": "stdout",
     "output_type": "stream",
     "text": [
      "sum of odd factors is:  13\n"
     ]
    }
   ],
   "source": [
    "def odd_factors(num):\n",
    "\tfactors = []\n",
    "\tresult = 0\n",
    "\tfor i in range(1,num):\n",
    "\t\tif num%i==0 and i%2!=0:\n",
    "\t\t\tresult+=i\t\t\t\n",
    "\treturn result\n",
    "\n",
    "print(f'sum of odd factors is: ',odd_factors(18))"
   ]
  },
  {
   "cell_type": "markdown",
   "id": "4158ef07",
   "metadata": {},
   "source": [
    "#### 5. Python Program to Check if binary representation is a palindrome"
   ]
  },
  {
   "cell_type": "code",
   "execution_count": 4,
   "id": "8a5148e1",
   "metadata": {},
   "outputs": [
    {
     "data": {
      "text/plain": [
       "True"
      ]
     },
     "execution_count": 4,
     "metadata": {},
     "output_type": "execute_result"
    }
   ],
   "source": [
    "def isBinPalindrome(binstr):\n",
    "    return binstr == binstr[::-1]\n",
    "isBinPalindrome('10001')\n",
    "        "
   ]
  },
  {
   "cell_type": "markdown",
   "id": "b63e2188",
   "metadata": {},
   "source": [
    "#### 6. Python Program for Number of elements with odd factors in a given range"
   ]
  },
  {
   "cell_type": "code",
   "execution_count": 7,
   "id": "97063a83",
   "metadata": {},
   "outputs": [
    {
     "name": "stdout",
     "output_type": "stream",
     "text": [
      "5\n"
     ]
    }
   ],
   "source": [
    "def oddFactors(n, m):\n",
    "    return int(m**0.5) - int((n-1)**0.5)\n",
    "print(oddFactors(4,36))\n",
    "    "
   ]
  },
  {
   "cell_type": "markdown",
   "id": "b7d0459e",
   "metadata": {},
   "source": [
    "#### 7. Python Program for Common Divisors of Two Numbers"
   ]
  },
  {
   "cell_type": "code",
   "execution_count": 12,
   "id": "df6eba66",
   "metadata": {},
   "outputs": [
    {
     "name": "stdout",
     "output_type": "stream",
     "text": [
      "1 2 "
     ]
    }
   ],
   "source": [
    "def commondiv(m, n):\n",
    "    big = max(m, n)\n",
    "    for i in range(1, big):\n",
    "        if m%i == 0 and n%i == 0:\n",
    "            print(i, end=' ')\n",
    "commondiv(30,24)"
   ]
  },
  {
   "cell_type": "markdown",
   "id": "f8bd8e57",
   "metadata": {},
   "source": [
    "#### 8. Python Program to Check if a count of divisors is even or odd"
   ]
  },
  {
   "cell_type": "code",
   "execution_count": 7,
   "id": "06fdbf04",
   "metadata": {},
   "outputs": [
    {
     "name": "stdout",
     "output_type": "stream",
     "text": [
      "8\n"
     ]
    }
   ],
   "source": [
    "def divisorCount(num):\n",
    "    count = 0\n",
    "    for i in range(1, num+1):\n",
    "        if num%i == 0:\n",
    "            count += 1\n",
    "    return count\n",
    "print(divisorCount(30))"
   ]
  },
  {
   "cell_type": "markdown",
   "id": "33d3d9c2",
   "metadata": {},
   "source": [
    "\n",
    "#### 9. Python Program to Find the minimum sum of factors of a number\n",
    "#### 10. Python Program to find Difference between sums of odd and even digits\n",
    "#### 11. Python Program for Largest and Smallest K digit number divisible by X\n",
    "#### 12. Python Program to calculate the area of a Tetrahedron\n",
    "#### 13. Python Program to Find the perimeter of a cylinder\n",
    "#### 14. Python Program to Find the vertex, focus, and directrix of a parabola\n",
    "#### 15. Python program to find the most occurring character and its count\n",
    "#### 16. Python Program to Find the sum of even factors of a number\n",
    "#### 17. Python Program to Check if all digits of a number divide it\n",
    "#### 18. Python program to convert float decimal to Octal number\n",
    "#### 19. Python program to copy odd lines of one file to other\n",
    "#### 20. Write a Python program to replace whitespaces with an underscore and vice versa\n",
    "#### 21. Write a Python program to convert a date or yyyy-mm-dd format to dd-mm-yyyy\n",
    "#### 22. Write a Python program to find all words starting with 'a' or 'e' in a given string.\n",
    "#### 23. Write a Python program to abbreviate 'Road' as 'Rd.' in a given string."
   ]
  }
 ],
 "metadata": {
  "kernelspec": {
   "display_name": "Python 3 (ipykernel)",
   "language": "python",
   "name": "python3"
  },
  "language_info": {
   "codemirror_mode": {
    "name": "ipython",
    "version": 3
   },
   "file_extension": ".py",
   "mimetype": "text/x-python",
   "name": "python",
   "nbconvert_exporter": "python",
   "pygments_lexer": "ipython3",
   "version": "3.9.7"
  }
 },
 "nbformat": 4,
 "nbformat_minor": 5
}
