{
 "cells": [
  {
   "cell_type": "code",
   "execution_count": 15,
   "id": "052b8d41",
   "metadata": {},
   "outputs": [
    {
     "data": {
      "text/plain": [
       "532.7394178"
      ]
     },
     "execution_count": 15,
     "metadata": {},
     "output_type": "execute_result"
    }
   ],
   "source": [
    "import time\n",
    "t = time.time()\n",
    "time.perf_counter()"
   ]
  },
  {
   "cell_type": "code",
   "execution_count": 37,
   "id": "70f4ff4c",
   "metadata": {
    "scrolled": true
   },
   "outputs": [
    {
     "name": "stdout",
     "output_type": "stream",
     "text": [
      "2022\n",
      "2022-01-23 11:44:47.006045\n"
     ]
    }
   ],
   "source": [
    "import datetime\n",
    "print(datetime.datetime.now())\n",
    "print(datetime.datetime.today())"
   ]
  },
  {
   "cell_type": "code",
   "execution_count": 36,
   "id": "f47401b8",
   "metadata": {},
   "outputs": [
    {
     "data": {
      "text/plain": [
       "2022"
      ]
     },
     "execution_count": 36,
     "metadata": {},
     "output_type": "execute_result"
    }
   ],
   "source": [
    "curr_time = datetime.datetime.today()\n",
    "curr_time.year\n"
   ]
  },
  {
   "cell_type": "code",
   "execution_count": 39,
   "id": "c360643a",
   "metadata": {},
   "outputs": [
    {
     "name": "stdout",
     "output_type": "stream",
     "text": [
      "2022-01-23 18:32:25.549271\n"
     ]
    }
   ],
   "source": [
    "todays_date = datetime.datetime.now()\n",
    "print(todays_date)"
   ]
  },
  {
   "cell_type": "code",
   "execution_count": 42,
   "id": "e28477ec",
   "metadata": {},
   "outputs": [
    {
     "data": {
      "text/plain": [
       "'23 23 2022'"
      ]
     },
     "execution_count": 42,
     "metadata": {},
     "output_type": "execute_result"
    }
   ],
   "source": [
    "todays_date.strftime('%d %d %Y')"
   ]
  },
  {
   "cell_type": "code",
   "execution_count": 43,
   "id": "09f75375",
   "metadata": {},
   "outputs": [
    {
     "data": {
      "text/plain": [
       "'08/20/21'"
      ]
     },
     "execution_count": 43,
     "metadata": {},
     "output_type": "execute_result"
    }
   ],
   "source": [
    "string = '20 Aug 2021'\n",
    "\n",
    "d1 = datetime.datetime.strptime(string, '%d %b %Y')\n",
    "d1.strftime('%D')"
   ]
  },
  {
   "cell_type": "code",
   "execution_count": 47,
   "id": "364b433b",
   "metadata": {},
   "outputs": [],
   "source": [
    "string = '20-August-2021'\n",
    "d = datetime.datetime.strptime(string,'%d-%B-%Y')"
   ]
  },
  {
   "cell_type": "code",
   "execution_count": null,
   "id": "3b6c9269",
   "metadata": {},
   "outputs": [],
   "source": [
    "string = '13/10/2021'\n"
   ]
  },
  {
   "cell_type": "code",
   "execution_count": 2,
   "id": "8a51cf26",
   "metadata": {},
   "outputs": [],
   "source": [
    "import datetime"
   ]
  },
  {
   "cell_type": "code",
   "execution_count": 4,
   "id": "7b81cb32",
   "metadata": {},
   "outputs": [
    {
     "data": {
      "text/plain": [
       "datetime.datetime(2022, 1, 24, 21, 12, 40, 206018)"
      ]
     },
     "execution_count": 4,
     "metadata": {},
     "output_type": "execute_result"
    }
   ],
   "source": [
    "to = datetime.datetime.today()\n",
    "to"
   ]
  },
  {
   "cell_type": "code",
   "execution_count": 8,
   "id": "a5440255",
   "metadata": {},
   "outputs": [
    {
     "data": {
      "text/plain": [
       "datetime.datetime(2022, 5, 4, 21, 12, 40, 206018)"
      ]
     },
     "execution_count": 8,
     "metadata": {},
     "output_type": "execute_result"
    }
   ],
   "source": [
    "n = to + datetime.timedelta(days=100)\n",
    "n"
   ]
  },
  {
   "cell_type": "code",
   "execution_count": 9,
   "id": "dfac70cc",
   "metadata": {},
   "outputs": [
    {
     "name": "stdout",
     "output_type": "stream",
     "text": [
      "2022-01-24 21:54:30.889098\n"
     ]
    }
   ],
   "source": [
    "todays_date = datetime.datetime.now()\n",
    "print(todays_date)"
   ]
  },
  {
   "cell_type": "code",
   "execution_count": 13,
   "id": "ee203ce3",
   "metadata": {},
   "outputs": [
    {
     "data": {
      "text/plain": [
       "'24-01-2022-PM'"
      ]
     },
     "execution_count": 13,
     "metadata": {},
     "output_type": "execute_result"
    }
   ],
   "source": [
    "todays_date.strftime('%d-%m-%Y-%p')"
   ]
  },
  {
   "cell_type": "code",
   "execution_count": null,
   "id": "fcb9876c",
   "metadata": {},
   "outputs": [],
   "source": []
  },
  {
   "cell_type": "code",
   "execution_count": null,
   "id": "3b40272b",
   "metadata": {},
   "outputs": [],
   "source": []
  },
  {
   "cell_type": "code",
   "execution_count": null,
   "id": "563455b9",
   "metadata": {},
   "outputs": [],
   "source": []
  },
  {
   "cell_type": "code",
   "execution_count": null,
   "id": "5af24385",
   "metadata": {},
   "outputs": [],
   "source": []
  },
  {
   "cell_type": "code",
   "execution_count": null,
   "id": "b2af7e94",
   "metadata": {},
   "outputs": [],
   "source": []
  },
  {
   "cell_type": "code",
   "execution_count": null,
   "id": "780a1240",
   "metadata": {},
   "outputs": [],
   "source": []
  }
 ],
 "metadata": {
  "kernelspec": {
   "display_name": "Python 3 (ipykernel)",
   "language": "python",
   "name": "python3"
  },
  "language_info": {
   "codemirror_mode": {
    "name": "ipython",
    "version": 3
   },
   "file_extension": ".py",
   "mimetype": "text/x-python",
   "name": "python",
   "nbconvert_exporter": "python",
   "pygments_lexer": "ipython3",
   "version": "3.9.7"
  }
 },
 "nbformat": 4,
 "nbformat_minor": 5
}
