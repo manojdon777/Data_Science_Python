{
 "cells": [
  {
   "cell_type": "markdown",
   "id": "73310f1d",
   "metadata": {},
   "source": [
    "#### 1. What Is Object-Oriented Programming?"
   ]
  },
  {
   "cell_type": "markdown",
   "id": "bcf611db",
   "metadata": {},
   "source": [
    "In Python, object-oriented Programming (OOPs) is a programming paradigm that uses objects and classes in programming. It aims to implement real-world entities like inheritance, polymorphisms, encapsulation, etc. in the programming. The main concept of OOPs is to bind the data and the functions that work on that together as a single unit so that no other part of the code can access this data"
   ]
  },
  {
   "cell_type": "markdown",
   "id": "f19b366c",
   "metadata": {},
   "source": [
    "#### 2. Difference between Procedural programming and OOPs?"
   ]
  },
  {
   "cell_type": "markdown",
   "id": "c2cb49a1",
   "metadata": {},
   "source": [
    "#### Procedural programming\n",
    "- Program is divided into small parts called functions.\n",
    "- There is no access specifier in procedural programming.\n",
    "- Adding new data and function is not easy.\n",
    "- Procedural programming does not have any proper way for hiding data so it is less secure.\n",
    "---\n",
    "#### OOPs\n",
    "- Program is divided into small parts called objects.\n",
    "- Object oriented programming have access specifiers like private, public, protected etc.\n",
    "- Adding new data and function is easy.\n",
    "- Object oriented programming provides data hiding so it is more secure."
   ]
  },
  {
   "cell_type": "markdown",
   "id": "17620079",
   "metadata": {},
   "source": [
    "#### 3. What are the fundamental principles/features of Object-Oriented Programming?"
   ]
  },
  {
   "cell_type": "markdown",
   "id": "ec52caca",
   "metadata": {},
   "source": [
    "#### Main Concepts of Object-Oriented Programming (OOPs) \n",
    "- #### Class\n",
    "     A class is a collection of objects. A class contains the blueprints or the prototype from which the objects are being created. It is a logical entity that contains some attributes and methods. \n",
    "- #### Objects\n",
    "    The object is an entity that has a state and behavior associated with it. It may be any real-world object like a mouse, keyboard, chair, table, pen, etc. Integers, strings, floating-point numbers, even arrays, and dictionaries, are all objects.\n",
    "- #### Inheritance\n",
    "    Inheritance is the capability of one class to derive or inherit the properties from another class. The class that derives properties is called the derived class or base class and the class from which the properties are being derived is called the base class or parent class.\n",
    "- #### Polymorphism\n",
    "    Polymorphism simply means having many forms. For example, we need to determine if the given species of birds fly or not, using polymorphism we can do this using a single function.\n",
    "- #### Encapsulation\n",
    "    It describes the idea of wrapping data and the methods that work on data within one unit. This puts restrictions on accessing variables and methods directly and can prevent the accidental modification of data. To prevent accidental change, an object’s variable can only be changed by an object’s method. Those types of variables are known as private variables."
   ]
  },
  {
   "cell_type": "markdown",
   "id": "40fca115",
   "metadata": {},
   "source": [
    "#### 4. What is an object?"
   ]
  },
  {
   "cell_type": "markdown",
   "id": "04c4c476",
   "metadata": {},
   "source": [
    "The object is an entity that has a state and behavior associated with it. It may be any real-world object like a mouse, keyboard, chair, table, pen, etc. Integers, strings, floating-point numbers, even arrays, and dictionaries, are all objects."
   ]
  },
  {
   "cell_type": "markdown",
   "id": "0b3af7aa",
   "metadata": {},
   "source": [
    "#### 5. What is a class?"
   ]
  },
  {
   "cell_type": "markdown",
   "id": "bcfd8f77",
   "metadata": {},
   "source": [
    "A class is a collection of objects. A class contains the blueprints or the prototype from which the objects are being created. It is a logical entity that contains some attributes and methods. "
   ]
  },
  {
   "cell_type": "markdown",
   "id": "0c55e9d2",
   "metadata": {},
   "source": [
    "#### 6. What is the difference between a class and an object?"
   ]
  },
  {
   "cell_type": "markdown",
   "id": "8196f1e0",
   "metadata": {},
   "source": [
    "#### Class:\n",
    "- Class is used as a template for declaring and creating the objects.\n",
    "- When a class is created, no memory is allocated.\n",
    "- The class has to be declared only once.\n",
    "#### Object:\n",
    "- An object is an instance of a class.\n",
    "- Objects are allocated memory space whenever they are created.\n",
    "- An object is created many times as per requirement."
   ]
  },
  {
   "cell_type": "markdown",
   "id": "10a27c8b",
   "metadata": {},
   "source": [
    "#### 7. Can you call the base class method without creating an instance?"
   ]
  },
  {
   "cell_type": "markdown",
   "id": "7c236351",
   "metadata": {},
   "source": [
    "Yes. For that we have to inherit its properties to child class."
   ]
  },
  {
   "cell_type": "markdown",
   "id": "573d251f",
   "metadata": {},
   "source": [
    "#### 8. What is inheritance?"
   ]
  },
  {
   "cell_type": "markdown",
   "id": "3e7817ce",
   "metadata": {},
   "source": [
    "Inheritance is the capability of one class to derive or inherit the properties from another class. The class that derives properties is called the derived class or base class and the class from which the properties are being derived is called the base class or parent class."
   ]
  },
  {
   "cell_type": "markdown",
   "id": "cd52328d",
   "metadata": {},
   "source": [
    "#### 9. What are the different types of inheritance?"
   ]
  },
  {
   "cell_type": "markdown",
   "id": "4f436fe9",
   "metadata": {},
   "source": [
    "#### Types Of Inheritance\n",
    "1. **Single Inheritance:**  \n",
    "    &nbsp;&nbsp;&nbsp;&nbsp;&nbsp;&nbsp;&nbsp;&nbsp;Single inheritance enables a derived class to inherit properties from a single parent class, thus enabling code reusability and the addition of new features to existing code.\n",
    "2. **Multiple Inheritance:**  \n",
    "    &nbsp;&nbsp;&nbsp;&nbsp;&nbsp;&nbsp;&nbsp;&nbsp;When a class can be derived from more than one base class this type of inheritance is called multiple inheritance. In multiple inheritance, all the features of the base classes are inherited into the derived class. \n",
    "3. **Multilevel Inheritance:**  \n",
    "    &nbsp;&nbsp;&nbsp;&nbsp;&nbsp;&nbsp;&nbsp;&nbsp;In multilevel inheritance, features of the base class and the derived class are further inherited into the new derived class. This is similar to a relationship representing a child and grandfather. \n",
    "4. **Hierarchical Inheritance:**  \n",
    "    &nbsp;&nbsp;&nbsp;&nbsp;&nbsp;&nbsp;&nbsp;&nbsp;When more than one derived classes are created from a single base this type of inheritance is called hierarchical inheritance. In this program, we have a parent (base) class and two child (derived) classes."
   ]
  },
  {
   "cell_type": "markdown",
   "id": "7b4a5e83",
   "metadata": {},
   "source": [
    "#### 10. What is the difference between multiple and multilevel inheritances?"
   ]
  },
  {
   "cell_type": "markdown",
   "id": "a35a6754",
   "metadata": {},
   "source": [
    "Multiple inheritance:\n",
    "If class is derived from more than one base classes then is known as Multiple inheritance\n",
    "Multilevel Inheritance:\n",
    "class is derived from another class, which is also derived from someanother class then it is known as Multilevel inheritance"
   ]
  },
  {
   "cell_type": "markdown",
   "id": "36925d8b",
   "metadata": {},
   "source": [
    "#### 11. What are the limitations of inheritance?"
   ]
  },
  {
   "cell_type": "markdown",
   "id": "c2388dc8",
   "metadata": {},
   "source": [
    "It increases the execution time and effort.\n",
    "It also requires jumping back and forth between different classes\n",
    "The parent class and child class is always tightly coupled\n",
    "Afford Modifications in the program would require changes for parent and the child class both"
   ]
  },
  {
   "cell_type": "markdown",
   "id": "7a762211",
   "metadata": {},
   "source": [
    "#### 12. What are the superclass and subclass?"
   ]
  },
  {
   "cell_type": "markdown",
   "id": "eb3f373e",
   "metadata": {},
   "source": [
    "- **Superclass** is nothing but base class who works as parent to another class  \n",
    "$\\;\\;\\;\\;\\;\\;$-eg. Human-Being is superclass for men class  \n",
    "- **Subclass** is nothing but derived class who works as child of some other class  \n",
    "$\\;\\;\\;\\;\\;\\;$-eg. woman class are subclass of"
   ]
  },
  {
   "cell_type": "markdown",
   "id": "7568c672",
   "metadata": {},
   "source": [
    "#### 13. What is the super keyword?"
   ]
  },
  {
   "cell_type": "markdown",
   "id": "fac47144",
   "metadata": {},
   "source": [
    "-using super() method we can access methods from parent class to child class.  \n",
    "-this is use when we impliment inheritance in our code."
   ]
  },
  {
   "cell_type": "markdown",
   "id": "0474d98c",
   "metadata": {},
   "source": [
    "#### 14. What is encapsulation?"
   ]
  },
  {
   "cell_type": "markdown",
   "id": "37620013",
   "metadata": {},
   "source": [
    "It describes the idea of wrapping data and the methods that work on data within one unit. This puts restrictions on accessing variables and methods directly and can prevent the accidental modification of data. To prevent accidental change, an object’s variable can only be changed by an object’s method. Those types of variables are known as private variables."
   ]
  },
  {
   "cell_type": "markdown",
   "id": "3ac58351",
   "metadata": {},
   "source": [
    "#### 15. What is the name mangling and how does it work?"
   ]
  },
  {
   "cell_type": "markdown",
   "id": "d201c153",
   "metadata": {},
   "source": [
    "1. Name mangling process helps to access the private class variables from outside of the class.\n",
    "2. The private variables/methods can be accessed by adding _classname.Method or _classname.variable.\n",
    "3. The data in private variables can be modified using object._class__variable = 'value'.\n",
    "4. The name mangling is closest to private but not exactly private."
   ]
  },
  {
   "cell_type": "markdown",
   "id": "9606094d",
   "metadata": {},
   "source": [
    "#### 16. What is the difference between public and private access modifiers?"
   ]
  },
  {
   "cell_type": "markdown",
   "id": "78dad492",
   "metadata": {},
   "source": [
    "**Public Access Modifier :**  \n",
    "The members of a class that are declared public are easily accessile from any part of program.\n",
    "All data members and member functions of a class are public by default  \n",
    "**Private Access Modifier :**  \n",
    "The members of a class that are decleared private are accessible within the class only\n",
    "Private access modifier is the most secure access modifier\n",
    "Data members of a class are declared private by adding a double underscore symbol before the data member"
   ]
  },
  {
   "cell_type": "markdown",
   "id": "4f11bd7b",
   "metadata": {},
   "source": [
    "#### 17. Is Python 100 percent object-oriented?"
   ]
  },
  {
   "cell_type": "markdown",
   "id": "034f0f0e",
   "metadata": {},
   "source": [
    "Python supports all the concept of \"object oriented programming\" but it is NOT fully object oriented because - The code in Python can also be written without creating classes"
   ]
  },
  {
   "cell_type": "markdown",
   "id": "02ba841c",
   "metadata": {},
   "source": [
    "#### 18. What is data abstraction?"
   ]
  },
  {
   "cell_type": "markdown",
   "id": "6f8b286e",
   "metadata": {},
   "source": [
    "-Abstraction is used to hide the internal functionality of the function from the users. The users only interact with the basic implementation of the function, but inner working is hidden. User is familiar with that \"what function does\" but they don't know \"how it does.\""
   ]
  },
  {
   "cell_type": "markdown",
   "id": "bb0ad374",
   "metadata": {},
   "source": [
    "#### 19. How to achieve data abstraction?"
   ]
  },
  {
   "cell_type": "markdown",
   "id": "c3e7a089",
   "metadata": {},
   "source": [
    "Data Abstraction in Python can be achieved through creating abstract classes and inheriting them later. "
   ]
  },
  {
   "cell_type": "markdown",
   "id": "aa272d22",
   "metadata": {},
   "source": [
    "#### 20. What is an abstract class?"
   ]
  },
  {
   "cell_type": "markdown",
   "id": "6d5ab7e6",
   "metadata": {},
   "source": [
    "A class is called an **Abstract class** if it contains one or more abstract methods. An abstract method is a method that is declared, but contains no implementation."
   ]
  },
  {
   "cell_type": "markdown",
   "id": "3c4d188c",
   "metadata": {},
   "source": [
    "#### 21. Can you create an object of an abstract class?"
   ]
  },
  {
   "cell_type": "markdown",
   "id": "228932f6",
   "metadata": {},
   "source": [
    "1. The object of an abstract class can't be created.\n",
    "2. Since, in abstract class variables, methods inside are only\n",
    "declared and not implemented"
   ]
  },
  {
   "cell_type": "markdown",
   "id": "ecfba559",
   "metadata": {},
   "source": [
    "#### 22. Differentiate between data abstraction and encapsulation"
   ]
  },
  {
   "cell_type": "markdown",
   "id": "2a8308a8",
   "metadata": {},
   "source": [
    "Abstraction:\n",
    "1. Abstraction is the method of hiding the unwanted information.\n",
    "2. In Abstraction, members/variables, method is hidden to reduce\n",
    "complexity of the program/system.\n",
    "3. Abstraction begins with creation of abstract class.\n",
    "Encapsulation:\n",
    "1. Encapsulation is a method to hide the data in a single entity or\n",
    "unit along with a method to protect information from outside.\n",
    "2. In Encapsulation, Data hiding is done for securing it or to\n",
    "restrict access of certain members/variables.\n",
    "3. Encapsulation uses access modifiers to declare methods, variables\n",
    "public or private"
   ]
  },
  {
   "cell_type": "markdown",
   "id": "b03ef1bf",
   "metadata": {},
   "source": [
    "#### 23. What is polymorphism?"
   ]
  },
  {
   "cell_type": "markdown",
   "id": "e3d18433",
   "metadata": {},
   "source": [
    "1. The word ‘Poly’ means many and ‘Morphs’ means forms.\n",
    "2. The process of representing “one form in many forms” is called a\n",
    "polymorphism.\n",
    "3. Polymorphism refers to a method/ function which is defined with\n",
    "same name under different classes butoffers different functionality\n",
    "in each class.\n",
    "4. Compile-time polymorphism and Run time polymorphism are the two\n",
    "types of polymorphisms in OOPs languages."
   ]
  },
  {
   "cell_type": "markdown",
   "id": "4b81dfe8",
   "metadata": {},
   "source": [
    "#### 24. What is the overloading method?"
   ]
  },
  {
   "cell_type": "markdown",
   "id": "a70842c2",
   "metadata": {},
   "source": [
    "Overloading:\n",
    "Overloading refers to method offering different functionalities with\n",
    "the same name under different classes.\n",
    "There are 3 types of overloading:\n",
    "1. Operator Overloading\n",
    "2. Method Overloading\n",
    "3. Constructor Overloading\n",
    "1. Operator Overloading:\n",
    "1. use of same operator for multiple purposes refers to operator\n",
    "overloading.\n",
    "2. example, '+'- addition operator can be used for Arithmetic addition\n",
    "and String concatenation. '*' multiplication\n",
    "operator can be used for multiplication for numbers and repetition for\n",
    "2. Method Overloading:\n",
    "1. If 2 methods have the same name but different types of arguments,\n",
    "then these methods are said to be\n",
    "overloading methods.\n",
    "2. In Python Method overloading is not possible.\n",
    "3. If we are trying to declare multiple methods with the same name\n",
    "and different number of arguments, then Python will always consider\n",
    "only the recently created method.\n",
    "3. Constructor Overloading:\n",
    "1. If 2 constructors have the same name but different types of\n",
    "atributes, then these constructors are said to be overloading\n",
    "constructors.\n",
    "2. Constructor overloading is also not possible in Python.\n",
    "3. If we define multiple constructors, only the ecently createdr\n",
    "constructor will be considered"
   ]
  },
  {
   "cell_type": "markdown",
   "id": "5d9cdb6d",
   "metadata": {},
   "source": [
    "#### 25. What are the limitations of OOPs?"
   ]
  },
  {
   "cell_type": "markdown",
   "id": "a6d5e1b6",
   "metadata": {},
   "source": [
    "limitations of OOPs:\n",
    "1. Steep learning curve: The thought process involved in OO\n",
    "programming may not be natural for some people, and it will take\n",
    "the time to get used to it.\n",
    "2. The complexity of creating programs: it is very complex to create\n",
    "programs based on the interaction of objects and programmer must\n",
    "have idea about class documention.\n",
    "3. Programs created using OOP's becomes larger in length and complex\n",
    "than the ones created suing Procedural Programming.\n",
    "4. Programs created using OOP's concept needs more time to process, as it needs to nav\n",
    "multiple classes and objects for its implementation. This\n",
    "leads to higher memory consumption as compared to the programs\n",
    "created in procedural programming."
   ]
  },
  {
   "cell_type": "code",
   "execution_count": null,
   "id": "c6a7947d",
   "metadata": {},
   "outputs": [],
   "source": []
  }
 ],
 "metadata": {
  "kernelspec": {
   "display_name": "Python 3 (ipykernel)",
   "language": "python",
   "name": "python3"
  },
  "language_info": {
   "codemirror_mode": {
    "name": "ipython",
    "version": 3
   },
   "file_extension": ".py",
   "mimetype": "text/x-python",
   "name": "python",
   "nbconvert_exporter": "python",
   "pygments_lexer": "ipython3",
   "version": "3.9.7"
  }
 },
 "nbformat": 4,
 "nbformat_minor": 5
}
