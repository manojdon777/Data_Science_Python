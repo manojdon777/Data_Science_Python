{
 "cells": [
  {
   "cell_type": "markdown",
   "id": "dc61172f",
   "metadata": {},
   "source": [
    "# 1.Problem Statements\n"
   ]
  },
  {
   "cell_type": "markdown",
   "id": "6ad435a1",
   "metadata": {},
   "source": [
    "Our client is an Insurance company that has provided Health Insurance to its customers now \n",
    "they need your help in building a model to predict whether the policyholders (customers) from\n",
    "past year will also be interested in Vehicle Insurance provided by the company."
   ]
  },
  {
   "cell_type": "code",
   "execution_count": null,
   "id": "e8fcc18f",
   "metadata": {},
   "outputs": [],
   "source": [
    "# what and how  benefits to our clients by building model?????????\n",
    "# what if business solutions given to clients...how he gets benefits\n",
    "# what if business solution goes wrongs\n",
    "# who are our clients\n",
    "# understanding the clients\n",
    "# what are his terms and conditions"
   ]
  },
  {
   "cell_type": "markdown",
   "id": "1017a884",
   "metadata": {},
   "source": [
    "# 2.Data Gathering"
   ]
  },
  {
   "cell_type": "code",
   "execution_count": null,
   "id": "27f22fe0",
   "metadata": {},
   "outputs": [],
   "source": [
    "import pandas as pd\n",
    "import numpy as np\n",
    "import matplotlib.pyplot as plt\n",
    "import seaborn as sns\n",
    "\n",
    "\n",
    "import warnings\n",
    "warnings.filterwarnings('ignore')\n",
    "from sklearn.preprocessing import LabelEncoder\n",
    "\n",
    "from sklearn.model_selection import train_test_split\n",
    "from sklearn.linear_model import LogisticRegression\n",
    "from sklearn.neighbors import KNeighborsClassifier\n",
    "\n",
    "\n",
    "from sklearn.tree import DecisionTreeClassifier\n",
    "from sklearn.tree import plot_tree\n",
    "\n",
    "\n",
    "\n",
    "\n",
    "from sklearn.metrics import accuracy_score, confusion_matrix, classification_report\n",
    "\n",
    "\n",
    "from sklearn.ensemble import RandomForestClassifier"
   ]
  },
  {
   "cell_type": "markdown",
   "id": "b16dc99f",
   "metadata": {},
   "source": [
    "# SCOPE OF IMPROVEMENTS AND REQUIREMENTS\n",
    ">>list of customer\n",
    ">>premium\n",
    ">>policy terms and condition\n",
    ">>salary\n",
    ">>married and unmarried\n",
    ">>age\n",
    ">>driving liences\n",
    ">>loan >>cibil score\n",
    ">>area rules and regulations\n",
    "\n",
    ">>vehicle damage \n",
    ">>vehicle "
   ]
  },
  {
   "cell_type": "code",
   "execution_count": null,
   "id": "6f9e6d8d",
   "metadata": {},
   "outputs": [],
   "source": [
    "def read_csv_file():\n",
    "    global d\n",
    "    d=pd.read_csv(r\"C:\\Users\\AJEETKUMAR UKANDE\\Desktop\\dataset\\final data sets\\train.csv\")\n",
    "    return d\n",
    "read_csv_file()"
   ]
  },
  {
   "cell_type": "code",
   "execution_count": null,
   "id": "a682f355",
   "metadata": {},
   "outputs": [],
   "source": [
    "def copy_main_data():\n",
    "    global df\n",
    "    df=d.copy()\n",
    "    return df\n",
    "copy_main_data()"
   ]
  },
  {
   "cell_type": "code",
   "execution_count": null,
   "id": "dbe3ea78",
   "metadata": {},
   "outputs": [],
   "source": [
    "# Analysis of Data"
   ]
  },
  {
   "cell_type": "code",
   "execution_count": null,
   "id": "ce3517ac",
   "metadata": {},
   "outputs": [],
   "source": [
    "def df_info():\n",
    "    return df.info()\n",
    "df_info()"
   ]
  },
  {
   "cell_type": "code",
   "execution_count": null,
   "id": "d5ee4adf",
   "metadata": {},
   "outputs": [],
   "source": [
    "def drop_id():\n",
    "    return df.drop('id',axis=1,inplace=True)\n",
    "drop_id()"
   ]
  },
  {
   "cell_type": "code",
   "execution_count": null,
   "id": "b7625901",
   "metadata": {},
   "outputs": [],
   "source": [
    "def df_shape():\n",
    "    print(f'no of rows is:{df.shape[0]}')\n",
    "    print(f'no of features is:{df.shape[1]}')\n",
    "df_shape()    "
   ]
  },
  {
   "cell_type": "code",
   "execution_count": null,
   "id": "8bbbc174",
   "metadata": {},
   "outputs": [],
   "source": [
    "def df_dtypes():\n",
    "    print('datatypes of features:',df.dtypes)\n",
    "df_dtypes()    "
   ]
  },
  {
   "cell_type": "code",
   "execution_count": null,
   "id": "7856cb08",
   "metadata": {},
   "outputs": [],
   "source": [
    "def df_head():\n",
    "    return df.head()\n",
    "df_head()"
   ]
  },
  {
   "cell_type": "code",
   "execution_count": null,
   "id": "138ee8ba",
   "metadata": {},
   "outputs": [],
   "source": [
    "def df_tail():\n",
    "    return df.tail()\n",
    "df_tail()\n"
   ]
  },
  {
   "cell_type": "markdown",
   "id": "bde5c582",
   "metadata": {},
   "source": [
    "# Exploratory Data Analysis"
   ]
  },
  {
   "cell_type": "markdown",
   "id": "a08f2058",
   "metadata": {},
   "source": [
    "# NULL_COUNTS"
   ]
  },
  {
   "cell_type": "code",
   "execution_count": null,
   "id": "03a55450",
   "metadata": {},
   "outputs": [],
   "source": [
    "def null_count():  \n",
    "    for features in df.columns:\n",
    "        print(f'Number of Null values for {features} is:--> {df[features].isna().sum()}')\n",
    "null_count()        "
   ]
  },
  {
   "cell_type": "markdown",
   "id": "9dd5ff45",
   "metadata": {},
   "source": [
    "# FEATURES WITH ONLY INT AND FLOAT  AS A DATATYPES"
   ]
  },
  {
   "cell_type": "code",
   "execution_count": null,
   "id": "af2d1fcc",
   "metadata": {},
   "outputs": [],
   "source": [
    "def int_float_dtype_features():\n",
    "    global df_num\n",
    "    df_num=df.select_dtypes(exclude=['object'])\n",
    "    return df_num\n",
    "int_float_dtype_features()"
   ]
  },
  {
   "cell_type": "markdown",
   "id": "a2a64512",
   "metadata": {},
   "source": [
    "# FEATURES WITH ONLY OBJECT AS A DATATYPES"
   ]
  },
  {
   "cell_type": "code",
   "execution_count": null,
   "id": "50fb4873",
   "metadata": {},
   "outputs": [],
   "source": [
    "def obj_dtype_features():\n",
    "    global df_obj\n",
    "    df_obj=df.select_dtypes(include=['object'])\n",
    "    return df_obj\n",
    "obj_dtype_features()\n",
    "\n"
   ]
  },
  {
   "cell_type": "code",
   "execution_count": null,
   "id": "ce15f42d",
   "metadata": {},
   "outputs": [],
   "source": [
    "def encoding():\n",
    "    lbl_enc= LabelEncoder()\n",
    "    for features in df_obj:\n",
    "        df_obj[features]=lbl_enc.fit_transform(df_obj[features])\n",
    "    return df_obj[features]\n",
    "encoding()\n",
    "\n",
    "# ?????????????????????\n",
    "\n",
    "# def encoding():\n",
    "#     lbl_enc= LabelEncoder()\n",
    "#     for features in df_obj:\n",
    "#         df[features]=lbl_enc.fit_transform(df[features])\n",
    "#     return df[features]\n",
    "# encoding()\n",
    "\n",
    "# why lable encoding?? why not?\n",
    "\n",
    "# why not onehot encoding?? why not?  \n",
    "# why  not get_dummies encoding?? why not?    \n",
    "    "
   ]
  },
  {
   "cell_type": "code",
   "execution_count": null,
   "id": "4bc9cd89",
   "metadata": {},
   "outputs": [],
   "source": [
    "def n_uniq():\n",
    "    return df.nunique()\n",
    "n_uniq()"
   ]
  },
  {
   "cell_type": "markdown",
   "id": "b181f5ed",
   "metadata": {},
   "source": [
    "# VALUE_COUNTS"
   ]
  },
  {
   "cell_type": "code",
   "execution_count": null,
   "id": "5e6fa51e",
   "metadata": {},
   "outputs": [],
   "source": [
    "def value_count():\n",
    "    for features in df.columns:\n",
    "        print(\"value_counts are:\",df[[features]].value_counts())\n",
    "value_count()    \n",
    "        \n",
    "    "
   ]
  },
  {
   "cell_type": "code",
   "execution_count": null,
   "id": "94332b55",
   "metadata": {},
   "outputs": [],
   "source": [
    "# observations\n",
    "# imbalence\n",
    "# Vehicle_Age\n",
    "# driving license\n",
    "# Vehicle_Age\n"
   ]
  },
  {
   "cell_type": "markdown",
   "id": "ec23656b",
   "metadata": {},
   "source": [
    "# ask customer for whether 1 means driving license?y or no?"
   ]
  },
  {
   "cell_type": "markdown",
   "id": "1033343c",
   "metadata": {},
   "source": [
    "# imbalance of data\n",
    "# need corrective actions"
   ]
  },
  {
   "cell_type": "code",
   "execution_count": null,
   "id": "5619c003",
   "metadata": {},
   "outputs": [],
   "source": [
    "# ask for region code where is location?"
   ]
  },
  {
   "cell_type": "code",
   "execution_count": null,
   "id": "939b72f4",
   "metadata": {},
   "outputs": [],
   "source": [
    "# Handling Outliers and after that Check of Imbalance of Data"
   ]
  },
  {
   "cell_type": "markdown",
   "id": "14d328dc",
   "metadata": {},
   "source": [
    "# STATISTICAL ANALYSIS"
   ]
  },
  {
   "cell_type": "code",
   "execution_count": null,
   "id": "9273c5ee",
   "metadata": {},
   "outputs": [],
   "source": [
    "# droping of ID FEATURES BEACUSE OF ALL UNIQUE A=VALUES\n",
    "# df.drop('id',axis=1,inplace=True)\n",
    "def df_describes():\n",
    "    return df.describe()\n",
    "df_describes()"
   ]
  },
  {
   "cell_type": "code",
   "execution_count": null,
   "id": "eb84f9df",
   "metadata": {},
   "outputs": [],
   "source": [
    "# By Observation There is Presence Of Outliers In Annual_Premium"
   ]
  },
  {
   "cell_type": "code",
   "execution_count": null,
   "id": "b982912f",
   "metadata": {},
   "outputs": [],
   "source": [
    "# VISUALIZATIONS OF OUTLIERS USING BOXPLOT"
   ]
  },
  {
   "cell_type": "code",
   "execution_count": null,
   "id": "e9301760",
   "metadata": {},
   "outputs": [],
   "source": [
    "def outliers():\n",
    "    for features in df_num:\n",
    "        plt.figure()\n",
    "        print(\"boxplot:,features\",'\\n',df_num[[features]].boxplot())\n",
    "        print(plt.show())\n",
    "outliers()\n",
    "    "
   ]
  },
  {
   "cell_type": "code",
   "execution_count": null,
   "id": "3cdcbc1c",
   "metadata": {},
   "outputs": [],
   "source": [
    "# observations\n",
    "# outliers present in Annual_Premium\n",
    "# Handling Of Outliers# IQR Calcalculations??????\n",
    "# RANGE DECIDE??3SD???Z-Score METHODS????"
   ]
  },
  {
   "cell_type": "code",
   "execution_count": null,
   "id": "2816a611",
   "metadata": {},
   "outputs": [],
   "source": [
    "# visualizations using differents libraries"
   ]
  },
  {
   "cell_type": "code",
   "execution_count": null,
   "id": "a470a03f",
   "metadata": {},
   "outputs": [],
   "source": [
    "# histplot and kde plot"
   ]
  },
  {
   "cell_type": "code",
   "execution_count": null,
   "id": "142d2f6f",
   "metadata": {},
   "outputs": [],
   "source": [
    "def hist_kde_plot():\n",
    "    for features in df_num.columns:\n",
    "\n",
    "        print(\"hist_kde_plot:\",features,'\\n',sns.histplot(df[features],kde=True))\n",
    "        print(plt.show())\n",
    "hist_kde_plot()        \n",
    "\n"
   ]
  },
  {
   "cell_type": "code",
   "execution_count": null,
   "id": "27ea7e46",
   "metadata": {},
   "outputs": [],
   "source": [
    "# observations"
   ]
  },
  {
   "cell_type": "code",
   "execution_count": null,
   "id": "a273bc9b",
   "metadata": {},
   "outputs": [],
   "source": [
    "def count_plot():    \n",
    "    for features in df_num.columns:\n",
    "        print(\"countplot:\",features,'\\n',sns.countplot(df_num[features]))\n",
    "        print(plt.show())\n",
    "count_plot()        "
   ]
  },
  {
   "cell_type": "code",
   "execution_count": null,
   "id": "06a90229",
   "metadata": {},
   "outputs": [],
   "source": [
    "# scaling:num values only!!!!!!\n",
    "# Age\n",
    "# region code\n",
    "# annual premium\n",
    "# Policy_Sales_Channel\n",
    "# Vintage\n",
    "# check for distribution is distirbution lies inside in normal dist.??\n",
    "# otherwise we hve go for other scaling technique>>standard scaler>>log?\n",
    "# >>srt>cbrt>>\n",
    "# sns.kdplot\n",
    "\n",
    "# spirio test,ktest,qqtest>>>>and distribution check>>sns.kdplot(normaal_arrY,FILL=TRUE)"
   ]
  },
  {
   "cell_type": "code",
   "execution_count": null,
   "id": "9ba98174",
   "metadata": {},
   "outputs": [],
   "source": [
    "# CALCULATIONS Annual_Premium\n",
    "# CAPPING?MEAN?MEDIAN?DROPPING?"
   ]
  },
  {
   "cell_type": "code",
   "execution_count": null,
   "id": "d6d4cc82",
   "metadata": {},
   "outputs": [],
   "source": [
    "# Scatter Plot"
   ]
  },
  {
   "cell_type": "code",
   "execution_count": null,
   "id": "236d6204",
   "metadata": {},
   "outputs": [],
   "source": [
    "def scatter_plot():\n",
    "    print(plot(kind=scatter))\n",
    "    print(sns.pairplot(df))\n",
    "scatter_plot()        "
   ]
  },
  {
   "cell_type": "code",
   "execution_count": null,
   "id": "6fc35fb2",
   "metadata": {},
   "outputs": [],
   "source": [
    "# OBSERVATIONS:\n",
    "# CONCLUSIONS:"
   ]
  },
  {
   "cell_type": "code",
   "execution_count": null,
   "id": "b301c82f",
   "metadata": {},
   "outputs": [],
   "source": [
    "def Target_Variable_Response():\n",
    "    return sns.countplot(df['Response'])\n",
    "Target_Variable_Response()"
   ]
  },
  {
   "cell_type": "code",
   "execution_count": null,
   "id": "053ae6da",
   "metadata": {},
   "outputs": [],
   "source": [
    "def Age_vs_Annual_premium():\n",
    "    print(sns.scatterplot(x=df['Age'],y=df['Annual_Premium']))\n",
    "Age_vs_Annual_premium()"
   ]
  },
  {
   "cell_type": "code",
   "execution_count": null,
   "id": "7feefd71",
   "metadata": {},
   "outputs": [],
   "source": [
    "def Gender_vs_Response():\n",
    "    return sns.countplot(df.Gender)\n",
    "Gender_vs_Response()"
   ]
  },
  {
   "cell_type": "code",
   "execution_count": null,
   "id": "55275747",
   "metadata": {},
   "outputs": [],
   "source": [
    "def Driving_license_by_Gender():\n",
    "    df_dl=df.groupby(['Gender'])['Driving_License'].count().to_frame().reset_index()\n",
    "    return df_dl\n",
    "Driving_license_by_Gender()  "
   ]
  },
  {
   "cell_type": "code",
   "execution_count": null,
   "id": "392f0833",
   "metadata": {},
   "outputs": [],
   "source": [
    "def Customers_having_Vehicle_insurance_already():\n",
    "    return sns.countplot(df.Previously_Insured)\n",
    "Customers_having_Vehicle_insurance_already()   "
   ]
  },
  {
   "cell_type": "code",
   "execution_count": null,
   "id": "97298054",
   "metadata": {},
   "outputs": [],
   "source": [
    "# Response and Vehicle age\n",
    "def Response_vs_Vehicle_age():\n",
    "    return df.groupby(['Vehicle_Age','Response'])['id'].count().to_frame().rename(columns={'id':'count'}).reset_index()\n",
    "Response_vs_Vehicle_age()\n",
    "    "
   ]
  },
  {
   "cell_type": "code",
   "execution_count": null,
   "id": "db552906",
   "metadata": {},
   "outputs": [],
   "source": [
    "\n",
    "def Customers_having_damaged_vehicle():\n",
    "    return sns.countplot(df.Vehicle_Damage)\n",
    "Customers_having_damaged_vehicle()\n",
    "    \n"
   ]
  },
  {
   "cell_type": "code",
   "execution_count": null,
   "id": "01b10b4f",
   "metadata": {},
   "outputs": [],
   "source": [
    "# Damage Vehicle and Response\n",
    "# def Damage_Vehicle_vs_Response():\n",
    "#     dm=df.groupby(['Vehicle_Damage','Response'])['id'].count().to_frame().rename(columns={'id':'count'}).reset_index()\n",
    "#     g = sns.catplot(x=\"Vehicle_Damage\", y=\"count\",col=\"Response\",\n",
    "#                     data=df, kind=\"bar\",height=4, aspect=.7);\n",
    "#     return dm\n",
    "#     return g\n",
    "# Damage_Vehicle_vs_Response()\n",
    "    "
   ]
  },
  {
   "cell_type": "code",
   "execution_count": null,
   "id": "4e19e203",
   "metadata": {},
   "outputs": [],
   "source": [
    "def Annual_Premium_Distribution():\n",
    "    return sns.distplot(df.Annual_Premium)\n",
    "Annual_Premium_Distribution()\n",
    "    "
   ]
  },
  {
   "cell_type": "code",
   "execution_count": null,
   "id": "3753bf80",
   "metadata": {},
   "outputs": [],
   "source": [
    "# Vintage\n",
    "# Number of Days, Customer has been associated with the company\n",
    " "
   ]
  },
  {
   "cell_type": "code",
   "execution_count": null,
   "id": "644648a8",
   "metadata": {},
   "outputs": [],
   "source": [
    "# sns.distplot(train.Vintage)\n",
    "def vintage():\n",
    "    return sns.distplot(df.Vintage)\n",
    "vintage()\n",
    "    "
   ]
  },
  {
   "cell_type": "code",
   "execution_count": null,
   "id": "d6b4e360",
   "metadata": {},
   "outputs": [],
   "source": [
    "# Visualization of Correlation Analysis"
   ]
  },
  {
   "cell_type": "code",
   "execution_count": null,
   "id": "3e9b32e1",
   "metadata": {},
   "outputs": [],
   "source": [
    "def correlation_heatmap():\n",
    "    plt.figure(figsize=[15,12])\n",
    "    plt.savefig('vehicle_insurance.jpg')\n",
    "    return sns.heatmap(df.corr(),annot=True)\n",
    "correlation_heatmap()"
   ]
  },
  {
   "cell_type": "code",
   "execution_count": null,
   "id": "94031463",
   "metadata": {},
   "outputs": [],
   "source": [
    "# take a decision with consulting expert and business analysts ??????????we need one \n",
    "# business analyst persons?????????whether \n",
    "# to drop some of features bcoz poor correlations"
   ]
  },
  {
   "cell_type": "code",
   "execution_count": null,
   "id": "c87d39ab",
   "metadata": {},
   "outputs": [],
   "source": [
    "# Data Preprocessing \n"
   ]
  },
  {
   "cell_type": "code",
   "execution_count": null,
   "id": "485279b9",
   "metadata": {},
   "outputs": [],
   "source": [
    "# changing of data types comes insides the data preprocessing?????????\n"
   ]
  },
  {
   "cell_type": "code",
   "execution_count": null,
   "id": "f1d6c544",
   "metadata": {},
   "outputs": [],
   "source": [
    "# handling of missing values\n",
    "# there is no null values inside the df>>how to answer it????"
   ]
  },
  {
   "cell_type": "code",
   "execution_count": null,
   "id": "b1fe8bfa",
   "metadata": {},
   "outputs": [],
   "source": [
    "# handling of outliers\n",
    "# diffrent methods\n",
    "# iqr.............why and why not\n",
    "# z_score.........why and why not\n",
    "# write down other methods????....why and why not(advantages and disadvanteges)\n",
    "# Handling Outliers and after that Check of Imbalance of Data\n",
    "\n",
    "# OTHERWISE:\n",
    "# Z_SCORE CAL.\n",
    "\n",
    "# print()\n",
    "# findind out % of outliers in Annual_Premium columns\n",
    "\n",
    "# if outliers % less than 1% then drop it...otherwise we can cap it"
   ]
  },
  {
   "cell_type": "code",
   "execution_count": null,
   "id": "d6edfe59",
   "metadata": {},
   "outputs": [],
   "source": [
    "def handling_outliers():\n",
    "    Q1=df['Annual_Premium'].quantile(0.25)\n",
    "    Q3=df['Annual_Premium'].quantile(0.75)\n",
    "    IQR=Q3-Q1\n",
    "    UL=Q3+1.5*IQR\n",
    "    LL=Q1-1.5*IQR\n",
    "\n",
    "    df['Annual_Premium']=np.where(df['Annual_Premium']>UL,UL,df['Annual_Premium'])\n",
    "\n",
    "    return df['Annual_Premium']\n",
    "\n",
    "handling_outliers()\n",
    "\n"
   ]
  },
  {
   "cell_type": "code",
   "execution_count": null,
   "id": "d8d0184f",
   "metadata": {},
   "outputs": [],
   "source": [
    "def outliers_handling():\n",
    "    print(sns.boxplot(df['Annual_Premium']))\n",
    "outliers_handling()"
   ]
  },
  {
   "cell_type": "code",
   "execution_count": null,
   "id": "36f2d4f6",
   "metadata": {},
   "outputs": [],
   "source": [
    "# encode\n",
    "# getdummies(encoding)......why and why not???\n",
    "# lebelencoding...why and why not???\n",
    "\n",
    "#  SUCESSFULLY CONVERTED ALL DATATYPES INTO INT AND FLOAT¶"
   ]
  },
  {
   "cell_type": "code",
   "execution_count": null,
   "id": "a8a77b56",
   "metadata": {},
   "outputs": [],
   "source": [
    "# scaling\n",
    "# whats are the types of scaling technique\n",
    "# reasoning behind of using od scaling technique"
   ]
  },
  {
   "cell_type": "code",
   "execution_count": null,
   "id": "96f4a023",
   "metadata": {},
   "outputs": [],
   "source": [
    "from sklearn.preprocessing import LabelEncoder, StandardScaler, MinMaxScaler, RobustScaler\n",
    "# \n",
    "# def scaling_min_max():\n",
    "#     scaling=MinMaxScaler()\n",
    "#     for i in df_num:\n",
    "#         scaling.fit_transform(df[i])\n",
    "# scaling()  \n",
    "# def scaling_std():\n",
    "#     scaling=StandardScaler()\n",
    "#     for i in df_num:\n",
    "#         scaling.fit_transform(df[i])\n",
    "# scaling_std()  \n",
    "\n",
    "# ss = StandardScaler()\n",
    "# df[] = ss.fit_transform(df[])\n",
    "\n",
    "\n",
    "# which one is better one minmax or standard scaling\n",
    "# mm = MinMaxScaler()\n",
    "# train[['Annual_Premium']] = mm.fit_transform(train[['Annual_Premium']])"
   ]
  },
  {
   "cell_type": "code",
   "execution_count": null,
   "id": "27f43a21",
   "metadata": {},
   "outputs": [],
   "source": [
    "# using oversampling and undersampling\n",
    "# Handling Outliers and after that Check of Imbalance of Data\n"
   ]
  },
  {
   "cell_type": "code",
   "execution_count": null,
   "id": "527361ef",
   "metadata": {},
   "outputs": [],
   "source": [
    "df_num.columns"
   ]
  },
  {
   "cell_type": "code",
   "execution_count": null,
   "id": "1aee46c0",
   "metadata": {},
   "outputs": [],
   "source": [
    "# Age\n",
    "# region code\n",
    "# annual premium\n",
    "# Policy_Sales_Channel\n",
    "# Vintage\n",
    "# normal_scaler=MinMaxScaler()\n",
    "\n",
    "# df['Age']=normal_scaler.fit_transform(df['Age'])\n",
    "# df['Age']\n",
    "\n"
   ]
  },
  {
   "cell_type": "code",
   "execution_count": null,
   "id": "db36918d",
   "metadata": {},
   "outputs": [],
   "source": []
  },
  {
   "cell_type": "code",
   "execution_count": null,
   "id": "0a184392",
   "metadata": {},
   "outputs": [],
   "source": [
    "# from sklearn.preprocessing import LabelEncoder, StandardScaler, MinMaxScaler, RobustScaler\n",
    "# ss = StandardScaler()\n",
    "# train[num_feat***************] = ss.fit_transform(train[num_feat****************])\n",
    "\n",
    "\n",
    "# mm = MinMaxScaler()\n",
    "# train[['Annual_Premium']] = mm.fit_transform(train[['Annual_Premium']])"
   ]
  },
  {
   "cell_type": "code",
   "execution_count": null,
   "id": "6a0e3f17",
   "metadata": {},
   "outputs": [],
   "source": []
  },
  {
   "cell_type": "code",
   "execution_count": null,
   "id": "4cb5826a",
   "metadata": {},
   "outputs": [],
   "source": [
    "# model training\n",
    "# train_test_split()"
   ]
  },
  {
   "cell_type": "code",
   "execution_count": null,
   "id": "8f2208b8",
   "metadata": {},
   "outputs": [],
   "source": [
    "# hyperparametsrs"
   ]
  },
  {
   "cell_type": "code",
   "execution_count": null,
   "id": "f9a72033",
   "metadata": {},
   "outputs": [],
   "source": [
    "# Data Modelling and Evaluation\n"
   ]
  },
  {
   "cell_type": "markdown",
   "id": "32ac7ec1",
   "metadata": {},
   "source": [
    "<!-- performance matrix -->\n"
   ]
  },
  {
   "cell_type": "code",
   "execution_count": null,
   "id": "02350ce4",
   "metadata": {},
   "outputs": [],
   "source": []
  },
  {
   "cell_type": "code",
   "execution_count": null,
   "id": "bfe2a652",
   "metadata": {},
   "outputs": [],
   "source": []
  },
  {
   "cell_type": "code",
   "execution_count": null,
   "id": "b38e9d25",
   "metadata": {},
   "outputs": [],
   "source": []
  },
  {
   "cell_type": "markdown",
   "id": "7413845d",
   "metadata": {},
   "source": [
    " "
   ]
  },
  {
   "cell_type": "code",
   "execution_count": null,
   "id": "de2125f1",
   "metadata": {},
   "outputs": [],
   "source": [
    "# using oversampling and undersampling\n"
   ]
  },
  {
   "cell_type": "code",
   "execution_count": null,
   "id": "03451b94",
   "metadata": {},
   "outputs": [],
   "source": [
    "y = df['Response']\n",
    "x = df.drop('Response',axis=1)\n",
    "x.head()\n",
    "\n"
   ]
  },
  {
   "cell_type": "code",
   "execution_count": null,
   "id": "08ca69ea",
   "metadata": {},
   "outputs": [],
   "source": [
    "x_train, x_test, y_train, y_test = train_test_split(x,y, test_size=0.2, random_state=10)\n",
    "x_train\n",
    "\n",
    "# x_train, x_test, y_train, y_test = train_test_split(x,y, test_size=0.2, random_state=10)"
   ]
  },
  {
   "cell_type": "markdown",
   "id": "678b0764",
   "metadata": {},
   "source": [
    "# model biulding:logistics "
   ]
  },
  {
   "cell_type": "code",
   "execution_count": null,
   "id": "eea52ed5",
   "metadata": {},
   "outputs": [],
   "source": [
    "lr_clf = LogisticRegression()\n",
    "lr_clf.fit(x_train,y_train)"
   ]
  },
  {
   "cell_type": "code",
   "execution_count": null,
   "id": "ce7f923d",
   "metadata": {},
   "outputs": [],
   "source": [
    "y_pred = lr_clf.predict(x_test)\n",
    "y_pred[:5]"
   ]
  },
  {
   "cell_type": "code",
   "execution_count": null,
   "id": "cd3faad1",
   "metadata": {},
   "outputs": [],
   "source": [
    "y_test[:5]"
   ]
  },
  {
   "cell_type": "code",
   "execution_count": null,
   "id": "c8787d9a",
   "metadata": {},
   "outputs": [],
   "source": [
    "# Accuracy"
   ]
  },
  {
   "cell_type": "code",
   "execution_count": null,
   "id": "0801d173",
   "metadata": {},
   "outputs": [],
   "source": [
    "cnf_matrix = confusion_matrix(y_test, y_pred)\n",
    "print('Confusion Matrix is: \\n',cnf_matrix)"
   ]
  },
  {
   "cell_type": "code",
   "execution_count": null,
   "id": "c338f29b",
   "metadata": {},
   "outputs": [],
   "source": [
    "Accuracy = accuracy_score(y_test, y_pred)\n",
    "print('Accuracy of Model is: \\n', Accuracy)"
   ]
  },
  {
   "cell_type": "code",
   "execution_count": null,
   "id": "15574be6",
   "metadata": {},
   "outputs": [],
   "source": [
    "clf_report = classification_report(y_test, y_pred)\n",
    "print('Classification Report is : \\n', clf_report)"
   ]
  },
  {
   "cell_type": "code",
   "execution_count": null,
   "id": "89bd9e2e",
   "metadata": {},
   "outputs": [],
   "source": [
    "# Probability of class 0 and class 1\n",
    "y_pred[0:10]"
   ]
  },
  {
   "cell_type": "code",
   "execution_count": null,
   "id": "5a0c150e",
   "metadata": {},
   "outputs": [],
   "source": [
    "y_pred_prob = lr_clf.predict_proba(x_test)\n",
    "y_pred_prob"
   ]
  },
  {
   "cell_type": "markdown",
   "id": "bf207e4d",
   "metadata": {},
   "source": [
    "# Model Training:knn model"
   ]
  },
  {
   "cell_type": "code",
   "execution_count": null,
   "id": "d97c9fbd",
   "metadata": {},
   "outputs": [],
   "source": [
    "from sklearn.neighbors import KNeighborsClassifier"
   ]
  },
  {
   "cell_type": "code",
   "execution_count": null,
   "id": "95e21497",
   "metadata": {},
   "outputs": [],
   "source": [
    "knn_model = KNeighborsClassifier(n_neighbors=11,p=2)\n",
    "knn_model.fit(x_train, y_train)"
   ]
  },
  {
   "cell_type": "code",
   "execution_count": null,
   "id": "3cac5a9f",
   "metadata": {},
   "outputs": [],
   "source": [
    "# evaluations"
   ]
  },
  {
   "cell_type": "code",
   "execution_count": null,
   "id": "f6feb134",
   "metadata": {},
   "outputs": [],
   "source": [
    "y_pred = knn_model.predict(x_test)\n",
    "confusion_matrix(y_test,y_pred)"
   ]
  },
  {
   "cell_type": "code",
   "execution_count": null,
   "id": "62a01783",
   "metadata": {},
   "outputs": [],
   "source": [
    "# plot_confusion_matrix(knn_model, x_test, y_test)"
   ]
  },
  {
   "cell_type": "code",
   "execution_count": null,
   "id": "7471f81e",
   "metadata": {},
   "outputs": [],
   "source": [
    "accuracy_score(y_test, y_pred)"
   ]
  },
  {
   "cell_type": "code",
   "execution_count": null,
   "id": "bdff1e6b",
   "metadata": {},
   "outputs": [],
   "source": [
    "clf_report = classification_report(y_test,y_pred)\n",
    "print('Classification Report : \\n', clf_report)"
   ]
  },
  {
   "cell_type": "markdown",
   "id": "8c50df10",
   "metadata": {},
   "source": [
    "# Model Training:Decision Tree"
   ]
  },
  {
   "cell_type": "code",
   "execution_count": null,
   "id": "caea2872",
   "metadata": {},
   "outputs": [],
   "source": [
    "dt_model = DecisionTreeClassifier(random_state=1,ccp_alpha=0.0)\n",
    "dt_model.fit(x_train, y_train)"
   ]
  },
  {
   "cell_type": "code",
   "execution_count": null,
   "id": "58d9aa59",
   "metadata": {},
   "outputs": [],
   "source": [
    "train_accuracy=dt_model.score(x_train, y_train)\n",
    "test_accuracy=dt_model.score(x_test,y_test)\n",
    "print(train_accuracy)\n",
    "print(test_accuracy)"
   ]
  },
  {
   "cell_type": "code",
   "execution_count": null,
   "id": "490376c0",
   "metadata": {},
   "outputs": [],
   "source": [
    "# Testing Accuracy\n",
    "y_pred = dt_model.predict(x_test)\n",
    "test_accuracy = accuracy_score(y_test, y_pred)\n",
    "print('Test Data Accuracy is:\\n',test_accuracy)\n",
    "\n",
    "clf_report = classification_report(y_test, y_pred)\n",
    "print('Classification Report :\\n',clf_report)\n",
    "\n",
    "cnf_matrix = confusion_matrix(y_test, y_pred)\n",
    "print('Confusion Matrix :\\n',cnf_matrix)"
   ]
  },
  {
   "cell_type": "code",
   "execution_count": null,
   "id": "6680f4ae",
   "metadata": {},
   "outputs": [],
   "source": [
    "# Training Accuracy\n",
    "y_pred_train = dt_model.predict(x_train)\n",
    "test_accuracy = accuracy_score(y_train, y_pred_train)\n",
    "print('Test Data Accuracy is:\\n',test_accuracy)\n",
    "\n",
    "clf_report = classification_report(y_train, y_pred_train)\n",
    "print('Classification Report :\\n',clf_report)\n",
    "\n",
    "cnf_matrix = confusion_matrix(y_train, y_pred_train)\n",
    "print('Confusion Matrix :\\n',cnf_matrix)"
   ]
  },
  {
   "cell_type": "code",
   "execution_count": null,
   "id": "fa7085e3",
   "metadata": {},
   "outputs": [],
   "source": [
    "Model Training:Random Forest"
   ]
  },
  {
   "cell_type": "code",
   "execution_count": null,
   "id": "bb85e723",
   "metadata": {},
   "outputs": [],
   "source": [
    "rf_reg  = RandomForestRegressor(random_state=12)\n",
    "rf_reg.fit(x_train,y_train)"
   ]
  },
  {
   "cell_type": "code",
   "execution_count": null,
   "id": "4576d513",
   "metadata": {},
   "outputs": [],
   "source": [
    "# test accuracy\n",
    "y_pred = rf_model.predict(x_test)\n",
    "\n",
    "test_accuracy = accuracy_score(y_test, y_pred)\n",
    "print('Test Data Accuracy :', test_accuracy)\n",
    "\n",
    "clf_report = classification_report(y_test, y_pred)\n",
    "print('Classification Report is :\\n',clf_report)\n",
    "\n",
    "confusion_matrix(y_test, y_pred)\n"
   ]
  },
  {
   "cell_type": "code",
   "execution_count": null,
   "id": "7c1897bc",
   "metadata": {},
   "outputs": [],
   "source": [
    "# train accuracy\n",
    "y_pred_train = rf_model.predict(x_train)\n",
    "\n",
    "train_accuracy = accuracy_score(y_train, y_pred_train)\n",
    "print('Train Data Accuracy :', train_accuracy)\n",
    "\n",
    "clf_report = classification_report(y_train, y_pred_train)\n",
    "print('Classification Report is :\\n',clf_report)\n",
    "\n",
    "confusion_matrix(y_train, y_pred_train)"
   ]
  },
  {
   "cell_type": "code",
   "execution_count": null,
   "id": "26b9d8e0",
   "metadata": {},
   "outputs": [],
   "source": []
  },
  {
   "cell_type": "code",
   "execution_count": null,
   "id": "861e5b43",
   "metadata": {},
   "outputs": [],
   "source": []
  },
  {
   "cell_type": "code",
   "execution_count": null,
   "id": "d7a9b66a",
   "metadata": {},
   "outputs": [],
   "source": [
    "# hyperparametsrs\n",
    "# rf_model = RandomForestClassifier()\n",
    "# hyp = {'n_estimators': np.arange(10,15), 'criterion':['gini','entropy'],'min_samples_leaf':np.arange(2,20),\n",
    "#       'min_samples_split':np.arange(2,10), 'random_state':np.arange(1,10)}\n",
    "# rscv_rf_model = RandomizedSearchCV(rf_model,hyp, cv=8 )\n",
    "# rscv_rf_model.fit(x_train, y_train)\n",
    "# rscv_rf_model.best_params_"
   ]
  },
  {
   "cell_type": "code",
   "execution_count": null,
   "id": "e730cfa9",
   "metadata": {},
   "outputs": [],
   "source": []
  },
  {
   "cell_type": "code",
   "execution_count": null,
   "id": "1d4353d9",
   "metadata": {},
   "outputs": [],
   "source": [
    "# adaboost"
   ]
  },
  {
   "cell_type": "code",
   "execution_count": null,
   "id": "fb4719f4",
   "metadata": {},
   "outputs": [],
   "source": [
    "# xgboost"
   ]
  },
  {
   "cell_type": "code",
   "execution_count": null,
   "id": "1d8718f5",
   "metadata": {},
   "outputs": [],
   "source": [
    "# gradients boosting"
   ]
  },
  {
   "cell_type": "code",
   "execution_count": null,
   "id": "330e5eb1",
   "metadata": {},
   "outputs": [],
   "source": []
  },
  {
   "cell_type": "code",
   "execution_count": null,
   "id": "bf92cc08",
   "metadata": {},
   "outputs": [],
   "source": []
  },
  {
   "cell_type": "markdown",
   "id": "e27d60ba",
   "metadata": {},
   "source": [
    "# re_evalaution of model:after hyperparameter tunining,resampling,scaling...etc    "
   ]
  },
  {
   "cell_type": "code",
   "execution_count": null,
   "id": "0fc70146",
   "metadata": {},
   "outputs": [],
   "source": []
  },
  {
   "cell_type": "code",
   "execution_count": null,
   "id": "c7a8e45d",
   "metadata": {},
   "outputs": [],
   "source": []
  },
  {
   "cell_type": "code",
   "execution_count": null,
   "id": "cced1c5a",
   "metadata": {},
   "outputs": [],
   "source": []
  },
  {
   "cell_type": "code",
   "execution_count": null,
   "id": "4a1fcfce",
   "metadata": {},
   "outputs": [],
   "source": [
    "# what if business solutions given to clients...how he gets benefits"
   ]
  },
  {
   "cell_type": "code",
   "execution_count": null,
   "id": "3a828201",
   "metadata": {},
   "outputs": [],
   "source": [
    "is there clients g"
   ]
  },
  {
   "cell_type": "code",
   "execution_count": null,
   "id": "5b80a23a",
   "metadata": {},
   "outputs": [],
   "source": []
  },
  {
   "cell_type": "code",
   "execution_count": null,
   "id": "d407db02",
   "metadata": {},
   "outputs": [],
   "source": []
  },
  {
   "cell_type": "code",
   "execution_count": null,
   "id": "e14b5e3c",
   "metadata": {},
   "outputs": [],
   "source": []
  },
  {
   "cell_type": "code",
   "execution_count": null,
   "id": "50644a20",
   "metadata": {},
   "outputs": [],
   "source": []
  },
  {
   "cell_type": "code",
   "execution_count": null,
   "id": "a40ed09b",
   "metadata": {},
   "outputs": [],
   "source": []
  },
  {
   "cell_type": "code",
   "execution_count": null,
   "id": "508a32a0",
   "metadata": {},
   "outputs": [],
   "source": []
  },
  {
   "cell_type": "code",
   "execution_count": null,
   "id": "d98e98b8",
   "metadata": {},
   "outputs": [],
   "source": []
  },
  {
   "cell_type": "code",
   "execution_count": null,
   "id": "37c2955f",
   "metadata": {},
   "outputs": [],
   "source": []
  },
  {
   "cell_type": "code",
   "execution_count": null,
   "id": "1e4737e7",
   "metadata": {},
   "outputs": [],
   "source": []
  },
  {
   "cell_type": "code",
   "execution_count": null,
   "id": "d9471faa",
   "metadata": {},
   "outputs": [],
   "source": []
  },
  {
   "cell_type": "code",
   "execution_count": null,
   "id": "67b2a913",
   "metadata": {},
   "outputs": [],
   "source": []
  },
  {
   "cell_type": "code",
   "execution_count": null,
   "id": "f7aaf171",
   "metadata": {},
   "outputs": [],
   "source": []
  },
  {
   "cell_type": "code",
   "execution_count": null,
   "id": "395ed9c1",
   "metadata": {},
   "outputs": [],
   "source": []
  },
  {
   "cell_type": "code",
   "execution_count": null,
   "id": "55b138b4",
   "metadata": {},
   "outputs": [],
   "source": []
  },
  {
   "cell_type": "code",
   "execution_count": null,
   "id": "a9a5dc9f",
   "metadata": {},
   "outputs": [],
   "source": []
  },
  {
   "cell_type": "code",
   "execution_count": null,
   "id": "f47f0bca",
   "metadata": {},
   "outputs": [],
   "source": []
  },
  {
   "cell_type": "code",
   "execution_count": null,
   "id": "8eb8c08b",
   "metadata": {},
   "outputs": [],
   "source": []
  },
  {
   "cell_type": "code",
   "execution_count": null,
   "id": "4c2015c8",
   "metadata": {},
   "outputs": [],
   "source": []
  },
  {
   "cell_type": "code",
   "execution_count": null,
   "id": "6d4d0f37",
   "metadata": {},
   "outputs": [],
   "source": []
  },
  {
   "cell_type": "code",
   "execution_count": null,
   "id": "5ab84f59",
   "metadata": {},
   "outputs": [],
   "source": []
  },
  {
   "cell_type": "code",
   "execution_count": null,
   "id": "73f8f8e6",
   "metadata": {},
   "outputs": [],
   "source": []
  },
  {
   "cell_type": "code",
   "execution_count": null,
   "id": "418b9245",
   "metadata": {},
   "outputs": [],
   "source": []
  },
  {
   "cell_type": "code",
   "execution_count": null,
   "id": "6afdd9e4",
   "metadata": {},
   "outputs": [],
   "source": []
  },
  {
   "cell_type": "code",
   "execution_count": null,
   "id": "74f0d4f1",
   "metadata": {},
   "outputs": [],
   "source": []
  },
  {
   "cell_type": "code",
   "execution_count": null,
   "id": "7416c24c",
   "metadata": {},
   "outputs": [],
   "source": []
  },
  {
   "cell_type": "code",
   "execution_count": null,
   "id": "dcb349d8",
   "metadata": {},
   "outputs": [],
   "source": []
  },
  {
   "cell_type": "code",
   "execution_count": null,
   "id": "ef70b6f2",
   "metadata": {},
   "outputs": [],
   "source": []
  },
  {
   "cell_type": "code",
   "execution_count": null,
   "id": "597a3f46",
   "metadata": {},
   "outputs": [],
   "source": []
  },
  {
   "cell_type": "code",
   "execution_count": null,
   "id": "1ae9ad35",
   "metadata": {},
   "outputs": [],
   "source": []
  },
  {
   "cell_type": "code",
   "execution_count": null,
   "id": "b9609bb6",
   "metadata": {},
   "outputs": [],
   "source": []
  },
  {
   "cell_type": "code",
   "execution_count": null,
   "id": "43534989",
   "metadata": {},
   "outputs": [],
   "source": []
  },
  {
   "cell_type": "code",
   "execution_count": null,
   "id": "30be99f5",
   "metadata": {},
   "outputs": [],
   "source": []
  },
  {
   "cell_type": "code",
   "execution_count": null,
   "id": "95893e82",
   "metadata": {},
   "outputs": [],
   "source": []
  }
 ],
 "metadata": {
  "kernelspec": {
   "display_name": "Python 3 (ipykernel)",
   "language": "python",
   "name": "python3"
  },
  "language_info": {
   "codemirror_mode": {
    "name": "ipython",
    "version": 3
   },
   "file_extension": ".py",
   "mimetype": "text/x-python",
   "name": "python",
   "nbconvert_exporter": "python",
   "pygments_lexer": "ipython3",
   "version": "3.9.7"
  }
 },
 "nbformat": 4,
 "nbformat_minor": 5
}
