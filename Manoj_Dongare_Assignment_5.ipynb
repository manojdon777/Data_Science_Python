{
 "cells": [
  {
   "cell_type": "markdown",
   "id": "27996e33",
   "metadata": {},
   "source": [
    "#### 1. Python Program for Find largest prime factor of a number"
   ]
  },
  {
   "cell_type": "code",
   "execution_count": 8,
   "id": "ec6606f0",
   "metadata": {},
   "outputs": [
    {
     "name": "stdout",
     "output_type": "stream",
     "text": [
      "11\n"
     ]
    }
   ],
   "source": [
    "def primeFact(num):\n",
    "\ti=2\n",
    "\tmaxPrime = 1\n",
    "\tfor i in range(1,num):\n",
    "\t\tif num%i == 0:\n",
    "\t\t\tmaxPrime = i\t   \n",
    "\treturn maxPrime\n",
    "x = primeFact(77)\n",
    "print(x)"
   ]
  },
  {
   "cell_type": "markdown",
   "id": "a39ea1ff",
   "metadata": {},
   "source": [
    "#### 2. Python Program for Product of unique prime factors of a number"
   ]
  },
  {
   "cell_type": "code",
   "execution_count": 55,
   "id": "eb98b0ad",
   "metadata": {},
   "outputs": [
    {
     "name": "stdout",
     "output_type": "stream",
     "text": [
      "5\n"
     ]
    }
   ],
   "source": [
    "import math\n",
    "\n",
    "def isPrime(num):\n",
    "    for i in range(2, int(math.sqrt(num) + 1)):\n",
    "        if num%i == 0:\n",
    "            return False\n",
    "    return True\n",
    "\n",
    "def prodUniPrime(num):\n",
    "    factors = {}\n",
    "    for i in range(2,num):\n",
    "        if num%i == 0 and isPrime(i):\n",
    "            factors[i] = factors.setdefault(i)    \n",
    "    return max([s for s in factors.keys()])\n",
    "\n",
    "x = prodUniPrime(300)\n",
    "print(x)"
   ]
  },
  {
   "cell_type": "code",
   "execution_count": null,
   "id": "83b7b84f",
   "metadata": {},
   "outputs": [],
   "source": [
    "#### 3. Python Program to find Factorial of Number"
   ]
  },
  {
   "cell_type": "code",
   "execution_count": 1,
   "id": "8a0b9545",
   "metadata": {},
   "outputs": [
    {
     "name": "stdout",
     "output_type": "stream",
     "text": [
      "5040\n"
     ]
    }
   ],
   "source": [
    "def fact(n):\n",
    "    if n ==0:\n",
    "        return 1\n",
    "    return n*fact(n-1)\n",
    "print(fact(7))"
   ]
  },
  {
   "cell_type": "code",
   "execution_count": null,
   "id": "5b858daf",
   "metadata": {},
   "outputs": [],
   "source": [
    "#### 4. Python Program for Find sum of odd factors of a number"
   ]
  },
  {
   "cell_type": "code",
   "execution_count": 3,
   "id": "05006da7",
   "metadata": {},
   "outputs": [
    {
     "name": "stdout",
     "output_type": "stream",
     "text": [
      "sum of odd factors is:  13\n"
     ]
    }
   ],
   "source": [
    "def odd_factors(num):\n",
    "\tfactors = []\n",
    "\tresult = 0\n",
    "\tfor i in range(1,num):\n",
    "\t\tif num%i==0 and i%2!=0:\n",
    "\t\t\tresult+=i\t\t\t\n",
    "\treturn result\n",
    "\n",
    "print(f'sum of odd factors is: ',odd_factors(18))"
   ]
  },
  {
   "cell_type": "markdown",
   "id": "4158ef07",
   "metadata": {},
   "source": [
    "#### 5. Python Program to Check if binary representation is a palindrome"
   ]
  },
  {
   "cell_type": "code",
   "execution_count": 4,
   "id": "8a5148e1",
   "metadata": {},
   "outputs": [
    {
     "data": {
      "text/plain": [
       "True"
      ]
     },
     "execution_count": 4,
     "metadata": {},
     "output_type": "execute_result"
    }
   ],
   "source": [
    "def isBinPalindrome(binstr):\n",
    "    return binstr == binstr[::-1]\n",
    "isBinPalindrome('10001')\n",
    "        "
   ]
  },
  {
   "cell_type": "markdown",
   "id": "b63e2188",
   "metadata": {},
   "source": [
    "#### 6. Python Program for Number of elements with odd factors in a given range"
   ]
  },
  {
   "cell_type": "code",
   "execution_count": 7,
   "id": "97063a83",
   "metadata": {},
   "outputs": [
    {
     "name": "stdout",
     "output_type": "stream",
     "text": [
      "5\n"
     ]
    }
   ],
   "source": [
    "def oddFactors(n, m):\n",
    "    return int(m**0.5) - int((n-1)**0.5)\n",
    "print(oddFactors(4,36))\n",
    "    "
   ]
  },
  {
   "cell_type": "markdown",
   "id": "b7d0459e",
   "metadata": {},
   "source": [
    "#### 7. Python Program for Common Divisors of Two Numbers"
   ]
  },
  {
   "cell_type": "code",
   "execution_count": 12,
   "id": "df6eba66",
   "metadata": {},
   "outputs": [
    {
     "name": "stdout",
     "output_type": "stream",
     "text": [
      "1 2 "
     ]
    }
   ],
   "source": [
    "def commondiv(m, n):\n",
    "    big = max(m, n)\n",
    "    for i in range(1, big):\n",
    "        if m%i == 0 and n%i == 0:\n",
    "            print(i, end=' ')\n",
    "commondiv(30,24)"
   ]
  },
  {
   "cell_type": "markdown",
   "id": "f8bd8e57",
   "metadata": {},
   "source": [
    "#### 8. Python Program to Check if a count of divisors is even or odd"
   ]
  },
  {
   "cell_type": "code",
   "execution_count": 7,
   "id": "06fdbf04",
   "metadata": {
    "scrolled": true
   },
   "outputs": [
    {
     "name": "stdout",
     "output_type": "stream",
     "text": [
      "8\n"
     ]
    }
   ],
   "source": [
    "def divisorCount(num):\n",
    "    count = 0\n",
    "    for i in range(1, num+1):\n",
    "        if num%i == 0:\n",
    "            count += 1\n",
    "    return count\n",
    "print(divisorCount(30))"
   ]
  },
  {
   "cell_type": "markdown",
   "id": "c119ab70",
   "metadata": {},
   "source": [
    "#### 9. Python Program to Find the minimum sum of factors of a number"
   ]
  },
  {
   "cell_type": "code",
   "execution_count": null,
   "id": "68d42a8e",
   "metadata": {},
   "outputs": [],
   "source": []
  },
  {
   "cell_type": "markdown",
   "id": "3a337b03",
   "metadata": {},
   "source": [
    "#### 10. Python Program to find Difference between sums of odd and even digits"
   ]
  },
  {
   "cell_type": "code",
   "execution_count": 3,
   "id": "7a805226",
   "metadata": {},
   "outputs": [
    {
     "name": "stdout",
     "output_type": "stream",
     "text": [
      "Diff is  5\n"
     ]
    }
   ],
   "source": [
    "def odd_even_diff(arr):\n",
    "    odd = []\n",
    "    even = []\n",
    "    for i in arr:\n",
    "        if i%2 == 0:\n",
    "            even.append(i)\n",
    "        else:\n",
    "            odd.append(i)\n",
    "    oddSum = sum(odd)\n",
    "    evenSum = sum(even)\n",
    "    print('Diff is ', abs(oddSum-evenSum))\n",
    "odd_even_diff([1,2,3,4,5,6,7,8,9])"
   ]
  },
  {
   "cell_type": "markdown",
   "id": "d7824f99",
   "metadata": {},
   "source": [
    "#### 11. Python Program for Largest and Smallest K digit number divisible by X"
   ]
  },
  {
   "cell_type": "code",
   "execution_count": 4,
   "id": "e75ec871",
   "metadata": {},
   "outputs": [
    {
     "name": "stdout",
     "output_type": "stream",
     "text": [
      "10043\n"
     ]
    }
   ],
   "source": [
    "def answer(X, K):\n",
    "\tMIN = pow(10, K-1)\n",
    "\t\n",
    "\tif(MIN%X == 0):\n",
    "\t\treturn (MIN)\n",
    "\t\n",
    "\telse:\n",
    "\t\treturn ((MIN + X) - ((MIN + X) % X))\n",
    "\t\n",
    "\n",
    "X = 83;\n",
    "K = 5;\n",
    "\n",
    "print(answer(X, K));"
   ]
  },
  {
   "cell_type": "markdown",
   "id": "c0698295",
   "metadata": {},
   "source": [
    "#### 12. Python Program to calculate the area of a Tetrahedron"
   ]
  },
  {
   "cell_type": "code",
   "execution_count": 6,
   "id": "4620f562",
   "metadata": {},
   "outputs": [
    {
     "data": {
      "text/plain": [
       "15.588457268119894"
      ]
     },
     "execution_count": 6,
     "metadata": {},
     "output_type": "execute_result"
    }
   ],
   "source": [
    "def area(side):\n",
    "    return 3**0.5 * side**2\n",
    "area(3)"
   ]
  },
  {
   "cell_type": "markdown",
   "id": "bc11d20d",
   "metadata": {},
   "source": [
    "#### 13. Python Program to Find the perimeter of a cylinder"
   ]
  },
  {
   "cell_type": "code",
   "execution_count": null,
   "id": "e061a9c6",
   "metadata": {},
   "outputs": [],
   "source": [
    "def perimeter(diameter, height):\n",
    "    return 2 * (diameter + height)\n",
    "perimeter(5,6)"
   ]
  },
  {
   "cell_type": "markdown",
   "id": "531a0cdb",
   "metadata": {},
   "source": [
    "#### 14. Python Program to Find the vertex, focus, and directrix of a parabola"
   ]
  },
  {
   "cell_type": "code",
   "execution_count": 7,
   "id": "0c68d49f",
   "metadata": {
    "scrolled": true
   },
   "outputs": [
    {
     "name": "stdout",
     "output_type": "stream",
     "text": [
      "Vertex: (-0.3, 1.55)\n",
      "Focus: (-0.3, 1.6)\n",
      "Directrix: y=-198\n"
     ]
    }
   ],
   "source": [
    "def parabola(a, b, c):\n",
    "\tprint(\"Vertex: (\" , (-b / (2 * a)),\n",
    "\t\t\", \", (((4 * a * c) - (b * b))\n",
    "\t\t\t/ (4 * a)), \")\", sep = \"\")\n",
    "\t\t\t\n",
    "\tprint(\"Focus: (\" , (-b / (2 * a)),\n",
    "\t\", \", (((4 * a * c) - (b * b) + 1)\n",
    "\t\t\t/ (4 * a)), \")\", sep = \"\")\n",
    "\t\t\t\t\n",
    "\tprint(\"Directrix: y=\", c - ((b * b)\n",
    "\t\t\t\t+ 1) * 4 * a, sep = \"\")\n",
    "a = 5\n",
    "b = 3\n",
    "c = 2\n",
    "parabola(a, b, c)\n"
   ]
  },
  {
   "cell_type": "markdown",
   "id": "2adc7edf",
   "metadata": {},
   "source": [
    "#### 15. Python program to find the most occurring character and its count"
   ]
  },
  {
   "cell_type": "code",
   "execution_count": 10,
   "id": "0509e154",
   "metadata": {},
   "outputs": [
    {
     "name": "stdout",
     "output_type": "stream",
     "text": [
      "e\n"
     ]
    }
   ],
   "source": [
    "def mostOccuring(string):\n",
    "    Dict = {}\n",
    "    for i in string:\n",
    "        if i in Dict:\n",
    "            Dict[i] += 1\n",
    "        else: Dict[i] = 1\n",
    "    res = max(Dict, key = Dict.get)\n",
    "    print(res)\n",
    "mostOccuring('Velocity Center')"
   ]
  },
  {
   "cell_type": "markdown",
   "id": "a99f6717",
   "metadata": {},
   "source": [
    "#### 16. Python Program to Find the sum of even factors of a number"
   ]
  },
  {
   "cell_type": "code",
   "execution_count": 25,
   "id": "60270c48",
   "metadata": {},
   "outputs": [
    {
     "name": "stdout",
     "output_type": "stream",
     "text": [
      "36\n"
     ]
    }
   ],
   "source": [
    "def sumEven(num):\n",
    "    res = 0\n",
    "    for i in range(2,num//2):        \n",
    "        if num%i == 0 and i%2 == 0:\n",
    "            res += i\n",
    "    return res\n",
    "\n",
    "print(sumEven(88))"
   ]
  },
  {
   "cell_type": "markdown",
   "id": "504271cf",
   "metadata": {},
   "source": [
    "#### 17. Python Program to Check if all digits of a number divide it"
   ]
  },
  {
   "cell_type": "code",
   "execution_count": 38,
   "id": "9b90a353",
   "metadata": {},
   "outputs": [
    {
     "data": {
      "text/plain": [
       "True"
      ]
     },
     "execution_count": 38,
     "metadata": {},
     "output_type": "execute_result"
    }
   ],
   "source": [
    "def isDivides(num):\n",
    "    val = num\n",
    "    while val > 0:\n",
    "        if num%(val%10) != 0:\n",
    "            return False\n",
    "        val //= 10\n",
    "    return True\n",
    "isDivides(888)"
   ]
  },
  {
   "cell_type": "markdown",
   "id": "9a569569",
   "metadata": {},
   "source": [
    "#### 18. Python program to convert float decimal to Octal number"
   ]
  },
  {
   "cell_type": "code",
   "execution_count": null,
   "id": "f590c9c2",
   "metadata": {},
   "outputs": [],
   "source": []
  },
  {
   "cell_type": "markdown",
   "id": "0042069f",
   "metadata": {},
   "source": [
    "#### 19. Python program to copy odd lines of one file to other"
   ]
  },
  {
   "cell_type": "code",
   "execution_count": 41,
   "id": "4557cbae",
   "metadata": {},
   "outputs": [],
   "source": [
    "fn = open('bcd.txt', 'r')\n",
    "fn1 = open('nfile.txt', 'w')\n",
    "cont = fn.readlines()\n",
    "type(cont)\n",
    "for i in range(0, len(cont)):\n",
    "    if(i % 2 != 0):\n",
    "        fn1.write(cont[i])\n",
    "    else:\n",
    "        pass\n",
    "fn1.close()\n",
    "fn1 = open('nfile.txt', 'r')\n",
    "cont1 = fn1.read()\n",
    "print(cont1)\n",
    "fn.close()\n",
    "fn1.close()"
   ]
  },
  {
   "cell_type": "markdown",
   "id": "d136411b",
   "metadata": {},
   "source": [
    "#### 20. Write a Python program to replace whitespaces with an underscore and vice versa"
   ]
  },
  {
   "cell_type": "code",
   "execution_count": 57,
   "id": "d2d92742",
   "metadata": {},
   "outputs": [
    {
     "name": "stdout",
     "output_type": "stream",
     "text": [
      "Before\n",
      "*  S__S  S__S *\n",
      "After\n",
      "*__S  S__S  S_*\n"
     ]
    }
   ],
   "source": [
    "def swap(string):\n",
    "    print(string)\n",
    "    string = string.replace(' ', 'TEMP')\n",
    "    string = string.replace('_', ' ')\n",
    "    string = string.replace('TEMP', '_')\n",
    "    print('After')\n",
    "    print(string)\n",
    "print('Before')\n",
    "swap(\"*  S__S  S__S *\")"
   ]
  },
  {
   "cell_type": "markdown",
   "id": "6dfd46b9",
   "metadata": {},
   "source": [
    "#### 21. Write a Python program to convert a date or yyyy-mm-dd format to dd-mm-yyyy"
   ]
  },
  {
   "cell_type": "code",
   "execution_count": 80,
   "id": "a954fd26",
   "metadata": {},
   "outputs": [
    {
     "name": "stdout",
     "output_type": "stream",
     "text": [
      "12-01-2022\n"
     ]
    }
   ],
   "source": [
    "def convertDate(date):\n",
    "    print(date[-2:] +'-' + date[5:7] +'-' + date[:4])\n",
    "    \n",
    "x = convertDate('2022-01-12')"
   ]
  },
  {
   "cell_type": "markdown",
   "id": "553a9e5c",
   "metadata": {},
   "source": [
    "#### 22. Write a Python program to find all words starting with 'a' or 'e' in a given string."
   ]
  },
  {
   "cell_type": "code",
   "execution_count": 85,
   "id": "aa5b9a92",
   "metadata": {},
   "outputs": [
    {
     "name": "stdout",
     "output_type": "stream",
     "text": [
      "['afgi', 'erjh']\n"
     ]
    }
   ],
   "source": [
    "def startsWith(string):\n",
    "    list1 = []\n",
    "    string = string.split(' ')\n",
    "    for word in string:\n",
    "        if word.startswith('a') or word.startswith('e'):\n",
    "            list1.append(word)\n",
    "    print(list1)\n",
    "startsWith('afgi i jg fderfo erjh ihgjrh ')"
   ]
  },
  {
   "cell_type": "markdown",
   "id": "33d3d9c2",
   "metadata": {},
   "source": [
    "#### 23. Write a Python program to abbreviate 'Road' as 'Rd.' in a given string."
   ]
  },
  {
   "cell_type": "code",
   "execution_count": 86,
   "id": "4ba1fafc",
   "metadata": {},
   "outputs": [
    {
     "name": "stdout",
     "output_type": "stream",
     "text": [
      "Amravati Rd.\n"
     ]
    }
   ],
   "source": [
    "import re\n",
    "street = 'Amravati Road'\n",
    "print(re.sub('Road$', 'Rd.', street))"
   ]
  }
 ],
 "metadata": {
  "kernelspec": {
   "display_name": "Python 3 (ipykernel)",
   "language": "python",
   "name": "python3"
  },
  "language_info": {
   "codemirror_mode": {
    "name": "ipython",
    "version": 3
   },
   "file_extension": ".py",
   "mimetype": "text/x-python",
   "name": "python",
   "nbconvert_exporter": "python",
   "pygments_lexer": "ipython3",
   "version": "3.9.7"
  }
 },
 "nbformat": 4,
 "nbformat_minor": 5
}
