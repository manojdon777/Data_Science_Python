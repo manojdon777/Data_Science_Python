{
 "cells": [
  {
   "cell_type": "markdown",
   "id": "d764d3dc",
   "metadata": {},
   "source": [
    "<center><h1> Assignment Solution 2</h1></center>\n",
    "<center><h2>Manoj Dongare</h2></center>"
   ]
  },
  {
   "cell_type": "markdown",
   "id": "1ca4fcb0",
   "metadata": {},
   "source": [
    "#### Q1. What is a List?\n",
    "<b>Ans - </b>List is a collection of items used to store sequence\n",
    "of various data types(int, float, list, tuple, set, dict, dataframe)\n",
    "Lists are mutable and can contains duplicates. These are ordered and are enclosed by square( [ ] ) brackets. <b>e.g.</b> list1 = [1, 2, 'c', ['c', 'd']]"
   ]
  },
  {
   "cell_type": "markdown",
   "id": "a7cea0bd",
   "metadata": {},
   "source": [
    "#### Q2. What is a Tuple?\n",
    "<b>Ans</b> - Tuples are same as lists and are immutable and are enclosed by round(( )) beackets. <b>e.g.</b> tuple1 = (2,3,4,5)"
   ]
  },
  {
   "cell_type": "markdown",
   "id": "b83d6fac",
   "metadata": {},
   "source": [
    "#### Q3. What is the difference between List and Tuple?\n",
    "<b>Ans - </b> Lists are mutable and enclosed within square brackets, where as Tuples are immutable and are enclosed within round brackets."
   ]
  },
  {
   "cell_type": "markdown",
   "id": "96d56bf4",
   "metadata": {},
   "source": [
    "#### Q4. Python Program to find the largest element in the list."
   ]
  },
  {
   "cell_type": "code",
   "execution_count": 15,
   "id": "e5673721",
   "metadata": {},
   "outputs": [
    {
     "name": "stdout",
     "output_type": "stream",
     "text": [
      "8\n"
     ]
    }
   ],
   "source": [
    "def findLargest(list1):\n",
    "    largest = list1[0]\n",
    "    for i in list1:\n",
    "        if largest < i:\n",
    "            largest = i\n",
    "    return largest\n",
    "        \n",
    "print(findLargest([1,3,2,5,6,8]))"
   ]
  },
  {
   "cell_type": "markdown",
   "id": "81e076c8",
   "metadata": {},
   "source": [
    "#### Q5. Python program to interchange first and last elements in a list."
   ]
  },
  {
   "cell_type": "code",
   "execution_count": 11,
   "id": "7094b912",
   "metadata": {},
   "outputs": [
    {
     "name": "stdout",
     "output_type": "stream",
     "text": [
      "[9, 2, 3, 4, 5, 6, 7, 8, 1]\n",
      "['y', 'e', 'l', 'o', 'c', 'i', 't', 'V']\n"
     ]
    }
   ],
   "source": [
    "def interchangeFIrstAndLast(list1):\n",
    "    list1[0], list1[-1] = list1[-1], list1[0]\n",
    "    return list1\n",
    "print(interchangeFIrstAndLast([1,2,3,4,5,6,7,8,9]))\n",
    "print(interchangeFIrstAndLast(['V','e','l','o','c','i','t','y']))"
   ]
  },
  {
   "cell_type": "markdown",
   "id": "87e4b255",
   "metadata": {},
   "source": [
    "#### Q6. Python program to swap two elements in a list."
   ]
  },
  {
   "cell_type": "code",
   "execution_count": 14,
   "id": "630d7028",
   "metadata": {},
   "outputs": [
    {
     "name": "stdout",
     "output_type": "stream",
     "text": [
      "[0, 1, 2, 7, 4, 5, 6, 3, 8, 9]\n"
     ]
    }
   ],
   "source": [
    "def swapTwoElements(lst, index1, index2):\n",
    "    lst[index1], lst[index2] = lst[index2], lst[index1]\n",
    "    return lst\n",
    "print(swapTwoElements([0,1,2,3,4,5,6,7,8,9], 7, 3))\n"
   ]
  },
  {
   "cell_type": "markdown",
   "id": "fd5f2df7",
   "metadata": {},
   "source": [
    "#### Q7. Python program to Reverse a List"
   ]
  },
  {
   "cell_type": "code",
   "execution_count": 16,
   "id": "c833849b",
   "metadata": {},
   "outputs": [
    {
     "name": "stdout",
     "output_type": "stream",
     "text": [
      "yticoleV\n"
     ]
    }
   ],
   "source": [
    "def reverse(lst):\n",
    "    return lst[::-1]\n",
    "print(reverse('Velocity'))"
   ]
  },
  {
   "cell_type": "markdown",
   "id": "487d849a",
   "metadata": {},
   "source": [
    "#### Q8. Python program to count occurrences of an element in a list"
   ]
  },
  {
   "cell_type": "code",
   "execution_count": 18,
   "id": "6ea35129",
   "metadata": {
    "collapsed": true
   },
   "outputs": [
    {
     "name": "stdout",
     "output_type": "stream",
     "text": [
      "3\n"
     ]
    }
   ],
   "source": [
    "def frequency(element, lst):\n",
    "    return lst.count(element)\n",
    "print(frequency(3,[1,3,2,3,5,6,3,6,8,9]))"
   ]
  },
  {
   "cell_type": "markdown",
   "id": "a7742352",
   "metadata": {},
   "source": [
    "#### Q9. Python program to find the sum of elements in a list"
   ]
  },
  {
   "cell_type": "code",
   "execution_count": 20,
   "id": "9ee3d28e",
   "metadata": {},
   "outputs": [
    {
     "name": "stdout",
     "output_type": "stream",
     "text": [
      "45\n"
     ]
    }
   ],
   "source": [
    "def SUM(lst):\n",
    "    sum = 0;\n",
    "    for element in lst:\n",
    "        sum += element\n",
    "    return sum\n",
    "print(SUM([1,2,3,4,5,6,7,8,9]))"
   ]
  },
  {
   "cell_type": "markdown",
   "id": "250cdb6f",
   "metadata": {},
   "source": [
    "#### Q10. Python program to Multiply all numbers in the list"
   ]
  },
  {
   "cell_type": "code",
   "execution_count": 21,
   "id": "603099a3",
   "metadata": {},
   "outputs": [
    {
     "name": "stdout",
     "output_type": "stream",
     "text": [
      "362880\n"
     ]
    }
   ],
   "source": [
    "def MULTIPLY(lst):\n",
    "    product = 1;\n",
    "    for element in lst:\n",
    "        product *= element\n",
    "    return product\n",
    "print(MULTIPLY([1,2,3,4,5,6,7,8,9]))"
   ]
  },
  {
   "cell_type": "markdown",
   "id": "77fc13d4",
   "metadata": {},
   "source": [
    "#### Q11. What are the ways to find the length of a list"
   ]
  },
  {
   "cell_type": "code",
   "execution_count": 30,
   "id": "c002968f",
   "metadata": {},
   "outputs": [
    {
     "name": "stdout",
     "output_type": "stream",
     "text": [
      "10\n",
      "10\n",
      "10\n"
     ]
    }
   ],
   "source": [
    "######## Method-1 #########\n",
    "def len1(lst):\n",
    "    count = 0\n",
    "    for i in lst:\n",
    "        count += 1\n",
    "    return count\n",
    "\n",
    "######## Method-2 #########\n",
    "def len2(lst):\n",
    "    count = 0\n",
    "    for i in range(0, len(lst)):\n",
    "        count += 1\n",
    "    return count\n",
    "\n",
    "######## Method-3 #########\n",
    "def len3(lst):\n",
    "    return len(lst)\n",
    "\n",
    "print(len1([0,1,2,3,4,5,6,7,8,9]))\n",
    "print(len2([0,1,2,3,4,5,6,7,8,9]))\n",
    "print(len3([0,1,2,3,4,5,6,7,8,9]))\n"
   ]
  },
  {
   "cell_type": "markdown",
   "id": "b8be36a2",
   "metadata": {},
   "source": [
    "#### Q12. Python program to find the smallest and largest number in a list (Without min-max function)"
   ]
  },
  {
   "cell_type": "code",
   "execution_count": 33,
   "id": "cab1eb51",
   "metadata": {},
   "outputs": [
    {
     "name": "stdout",
     "output_type": "stream",
     "text": [
      "(8, 1)\n"
     ]
    }
   ],
   "source": [
    "def findSmallestAndLargest(list1):\n",
    "    largest = list1[0]\n",
    "    smallest = list1[0]\n",
    "    for i in list1:\n",
    "        if largest < i:\n",
    "            largest = i\n",
    "        if smallest > i:\n",
    "            smallest = i\n",
    "    return largest, smallest\n",
    "        \n",
    "print(findSmallestAndLargest([1,3,2,5,6,8]))"
   ]
  },
  {
   "cell_type": "markdown",
   "id": "839877f6",
   "metadata": {},
   "source": [
    "#### Q13. Python Program to find the area of a circle"
   ]
  },
  {
   "cell_type": "code",
   "execution_count": 42,
   "id": "6a4342fa",
   "metadata": {},
   "outputs": [
    {
     "name": "stdout",
     "output_type": "stream",
     "text": [
      "Area =  22.07071428571428\n"
     ]
    }
   ],
   "source": [
    "radius = 7\n",
    "PI = 22/7\n",
    "print('Area = ',PI*radius*radius)"
   ]
  },
  {
   "cell_type": "markdown",
   "id": "b4928ed8",
   "metadata": {},
   "source": [
    "#### Q14. Take inputs from the user to make a list. Again take one input from the user and search it in the list and delete that element, if found. Iterate over a list using for loop."
   ]
  },
  {
   "cell_type": "code",
   "execution_count": 26,
   "id": "58af2935",
   "metadata": {},
   "outputs": [
    {
     "name": "stdout",
     "output_type": "stream",
     "text": [
      "Enter the list size\" 4\n",
      "Enter values of List: 1\n",
      "Enter values of List: 2\n",
      "Enter values of List: 3\n",
      "Enter values of List: 4\n",
      "Enter the number to search for\" 3\n",
      "List after deleting 3: [1, 2, 4]\n"
     ]
    }
   ],
   "source": [
    "list1 = []\n",
    "listSize = int(input('Enter the list size\" '))\n",
    "for i in range(0,listSize):\n",
    "    list1.append(int(input('Enter values of List: ')))\n",
    "    \n",
    "num = int(input('Enter the number to search for\" '))\n",
    "for i in range(len(list1)-1):\n",
    "    if list1[i] == num:\n",
    "        list1.remove( num)\n",
    "print(f'List after deleting {num}:', list1)"
   ]
  },
  {
   "cell_type": "markdown",
   "id": "6be87722",
   "metadata": {},
   "source": [
    "#### Q15. You are given a list of integer elements. Make a new list that will store a\n",
    "square of elements of the previous list. (With and without list comprehension)  \n",
    "i. Input_list = [2,5,6,12]  \n",
    "ii. Output_list = [4,25,36,144]  "
   ]
  },
  {
   "cell_type": "code",
   "execution_count": 29,
   "id": "65752ba0",
   "metadata": {},
   "outputs": [
    {
     "name": "stdout",
     "output_type": "stream",
     "text": [
      "With comprehension    [4, 25, 36, 144]\n",
      "Without comprehension [4, 25, 36, 144]\n"
     ]
    }
   ],
   "source": [
    "def withComprehension(lst):\n",
    "    return [i*i for i in lst]\n",
    "Input_list = [2,5,6,12]\n",
    "\n",
    "def withOutComprehension(lst):\n",
    "    result = []\n",
    "    for i in lst:\n",
    "        result.append(i*i)\n",
    "    return result\n",
    "Input_list = [2,5,6,12]\n",
    "\n",
    "print('With comprehension   ', withComprehension(Input_list))\n",
    "print('Without comprehension', withOutComprehension(Input_list))\n"
   ]
  },
  {
   "cell_type": "markdown",
   "id": "9f528d75",
   "metadata": {},
   "source": [
    "#### Q16. WAP to create two lists, one containing all even numbers and the other containing all odd numbers between 0 to 151"
   ]
  },
  {
   "cell_type": "code",
   "execution_count": 35,
   "id": "33fb564c",
   "metadata": {},
   "outputs": [
    {
     "name": "stdout",
     "output_type": "stream",
     "text": [
      "Even numbers:  [0, 2, 4, 6, 8, 10, 12, 14, 16, 18, 20, 22, 24, 26, 28, 30, 32, 34, 36, 38, 40, 42, 44, 46, 48, 50, 52, 54, 56, 58, 60, 62, 64, 66, 68, 70, 72, 74, 76, 78, 80, 82, 84, 86, 88, 90, 92, 94, 96, 98, 100, 102, 104, 106, 108, 110, 112, 114, 116, 118, 120, 122, 124, 126, 128, 130, 132, 134, 136, 138, 140, 142, 144, 146, 148, 150]\n",
      "Odd numbers :  [1, 3, 5, 7, 9, 11, 13, 15, 17, 19, 21, 23, 25, 27, 29, 31, 33, 35, 37, 39, 41, 43, 45, 47, 49, 51, 53, 55, 57, 59, 61, 63, 65, 67, 69, 71, 73, 75, 77, 79, 81, 83, 85, 87, 89, 91, 93, 95, 97, 99, 101, 103, 105, 107, 109, 111, 113, 115, 117, 119, 121, 123, 125, 127, 129, 131, 133, 135, 137, 139, 141, 143, 145, 147, 149, 151]\n"
     ]
    }
   ],
   "source": [
    "even = []\n",
    "odd  = []\n",
    "for i in range(152):\n",
    "    if i%2 == 0:\n",
    "        even.append(i)\n",
    "    else:\n",
    "        odd.append(i)\n",
    "print('Even numbers: ', even)\n",
    "print('Odd numbers : ', odd)"
   ]
  },
  {
   "cell_type": "markdown",
   "id": "b2144492",
   "metadata": {},
   "source": [
    "#### Q17. Python program to Count Even and Odd numbers in a List"
   ]
  },
  {
   "cell_type": "code",
   "execution_count": 38,
   "id": "a79ae979",
   "metadata": {},
   "outputs": [
    {
     "name": "stdout",
     "output_type": "stream",
     "text": [
      "Even numbers:  4\n",
      "Odd numbers :  6\n"
     ]
    }
   ],
   "source": [
    "def countEvenOdd(list1):\n",
    "    even = 0\n",
    "    odd  = 0\n",
    "    for i in list1:\n",
    "        if i%2 == 0:\n",
    "            even += 1\n",
    "        else:\n",
    "            odd += 1\n",
    "    print('Even numbers: ', even)\n",
    "    print('Odd numbers : ', odd)\n",
    "countEvenOdd([2,4,7,8,3,5,6,35,73,35])"
   ]
  },
  {
   "cell_type": "markdown",
   "id": "aec90a0a",
   "metadata": {},
   "source": [
    "#### Q18. WAP to make new lists, containing only numbers which are divisible by 4, 6, 8, 10, 3, 5, 7, and 9 in separate lists for range(0,151)"
   ]
  },
  {
   "cell_type": "code",
   "execution_count": 40,
   "id": "4bff0f4c",
   "metadata": {},
   "outputs": [
    {
     "name": "stdout",
     "output_type": "stream",
     "text": [
      "[0, 3, 4, 5, 6, 7, 8, 9, 10, 12, 14, 15, 16, 18, 20, 21, 24, 25, 27, 28, 30, 32, 33, 35, 36, 39, 40, 42, 44, 45, 48, 49, 50, 51, 52, 54, 55, 56, 57, 60, 63, 64, 65, 66, 68, 69, 70, 72, 75, 76, 77, 78, 80, 81, 84, 85, 87, 88, 90, 91, 92, 93, 95, 96, 98, 99, 100, 102, 104, 105, 108, 110, 111, 112, 114, 115, 116, 117, 119, 120, 123, 124, 125, 126, 128, 129, 130, 132, 133, 135, 136, 138, 140, 141, 144, 145, 147, 148, 150]\n"
     ]
    }
   ],
   "source": [
    "result = []\n",
    "for i in range(152):\n",
    "    if i%4==0 or i%6 == 0 or i%8==0 or i%10==0 or i%3==0 or i%5==0 or i%7==0 or i%9==0 :\n",
    "        result.append(i)\n",
    "print(result)      "
   ]
  },
  {
   "cell_type": "markdown",
   "id": "e71310ce",
   "metadata": {},
   "source": [
    "#### Q19. From a list containing ints, strings, and floats, make three lists to store them separately."
   ]
  },
  {
   "cell_type": "code",
   "execution_count": 3,
   "id": "39d4eeb0",
   "metadata": {},
   "outputs": [
    {
     "name": "stdout",
     "output_type": "stream",
     "text": [
      "Integers:  [1]\n",
      "Floats [3.14]\n",
      "Strings ['Python']\n"
     ]
    }
   ],
   "source": [
    "def dTypeSeparator(lst):\n",
    "    intList = []\n",
    "    floatList = []\n",
    "    strList = []\n",
    "    for i in lst:\n",
    "        if type(i) == int:\n",
    "            intList.append(i)\n",
    "        if type(i) == float:\n",
    "            floatList.append(i)\n",
    "        if type(i) == str:\n",
    "            strList.append(i)\n",
    "    print('Integers: ', intList)\n",
    "    print('Floats', floatList)\n",
    "    print('Strings', strList)\n",
    "dTypeSeparator([1, 'Python', 3.14])"
   ]
  },
  {
   "cell_type": "markdown",
   "id": "ccca079b",
   "metadata": {},
   "source": [
    "#### Q20. What’s The Difference Between The Python append() and extend() Methods?"
   ]
  },
  {
   "cell_type": "markdown",
   "id": "e64cf871",
   "metadata": {},
   "source": [
    "<font color = blue><b>Append</b></font> function Adds the argument as single list. Increases size of list by one.  \n",
    "<b>e.g.</b>  \n",
    "list1 = [1, 2, 3]  \n",
    "list2 = [4, 5, 6]  \n",
    "list1.append(list2)  \n",
    "Here list1 will contain [1, 2, 3, [4, 5, 6] ]  \n",
    "<hr width = 7/>\n",
    "Where as <font color = blue><b>Extend</b></font> will iterate over its argument and adding each element, extending the list.<br>\n",
    "<b>e.g.</b><br>\n",
    "list1.append(list2)<br>  \n",
    "Here list2 will contain elements as [1, 2, 3, 4, 5, 6]"
   ]
  },
  {
   "cell_type": "markdown",
   "id": "2234278f",
   "metadata": {},
   "source": [
    "#### Q21. Write a Python program to append a list to the second list"
   ]
  },
  {
   "cell_type": "code",
   "execution_count": 1,
   "id": "908975ac",
   "metadata": {},
   "outputs": [
    {
     "name": "stdout",
     "output_type": "stream",
     "text": [
      "[1, 2, 3, [4, 5, 6]]\n"
     ]
    }
   ],
   "source": [
    "l1 = [1,2,3]\n",
    "l2 = [4,5,6]\n",
    "l1.append(l2)\n",
    "print(l1)"
   ]
  },
  {
   "cell_type": "markdown",
   "id": "1c0f64ff",
   "metadata": {},
   "source": [
    "#### Q22. Write a Python program to find the third-largest number in a list"
   ]
  },
  {
   "cell_type": "code",
   "execution_count": 5,
   "id": "4c3b9908",
   "metadata": {},
   "outputs": [
    {
     "name": "stdout",
     "output_type": "stream",
     "text": [
      "67\n"
     ]
    }
   ],
   "source": [
    "a = [3,55,34,67,84,23,7,90,45,64]\n",
    "a.sort()\n",
    "print(a[-3])"
   ]
  },
  {
   "cell_type": "markdown",
   "id": "6cf581ec",
   "metadata": {},
   "source": [
    "#### Q23. Write a Python program to get the frequency of the elements in a list."
   ]
  },
  {
   "cell_type": "code",
   "execution_count": 8,
   "id": "39ca4c97",
   "metadata": {},
   "outputs": [
    {
     "name": "stdout",
     "output_type": "stream",
     "text": [
      "4\n"
     ]
    }
   ],
   "source": [
    "def frequency(element, list1):\n",
    "    return list1.count(element)\n",
    "print(frequency(3, [1,4,3,2,3,5,6,7,3,5,3]))"
   ]
  },
  {
   "cell_type": "markdown",
   "id": "966a826a",
   "metadata": {},
   "source": [
    "#### Q24. Write a Python program to check whether a list contains a sublist"
   ]
  },
  {
   "cell_type": "code",
   "execution_count": 15,
   "id": "0645fa32",
   "metadata": {},
   "outputs": [
    {
     "name": "stdout",
     "output_type": "stream",
     "text": [
      "True\n",
      "False\n"
     ]
    }
   ],
   "source": [
    "def SubList(sublist, mainlist):\n",
    "    for element in sublist:\n",
    "        if element not in mainlist:\n",
    "            return False\n",
    "    return True\n",
    "print(SubList([1,3,5],[1,2,3,4,5,6,7,8,9]))\n",
    "print(SubList([1,3,5,76],[1,2,3,4,5,6,7,8,9]))\n"
   ]
  },
  {
   "cell_type": "markdown",
   "id": "49da4f11",
   "metadata": {},
   "source": [
    "#### Q25. Write a Python program to generate all sublists of a list"
   ]
  },
  {
   "cell_type": "code",
   "execution_count": null,
   "id": "7fac74e8",
   "metadata": {},
   "outputs": [],
   "source": [
    "lst = ['a','b','c']\n",
    "for i in range(len(lst)):\n",
    "    for j in range(len(lst)):\n",
    "        "
   ]
  },
  {
   "cell_type": "markdown",
   "id": "c910b679",
   "metadata": {},
   "source": [
    "#### Q26. Write a Python program to find common items from two lists"
   ]
  },
  {
   "cell_type": "code",
   "execution_count": 3,
   "id": "6ddb9c50",
   "metadata": {},
   "outputs": [
    {
     "name": "stdout",
     "output_type": "stream",
     "text": [
      "[2, 3]\n"
     ]
    }
   ],
   "source": [
    "def common(l1,l2):\n",
    "    result = []\n",
    "    for i in l1:\n",
    "        for j in l2:\n",
    "            if i == j:\n",
    "                result.append(i)\n",
    "    return result\n",
    "print(common([1,2,3], [2,3,4]))"
   ]
  },
  {
   "cell_type": "markdown",
   "id": "f1f1c499",
   "metadata": {},
   "source": [
    "#### Q27. How to flatten a list in python?"
   ]
  },
  {
   "cell_type": "code",
   "execution_count": 4,
   "id": "bb9bfa40",
   "metadata": {},
   "outputs": [
    {
     "name": "stdout",
     "output_type": "stream",
     "text": [
      "[1, 2, 3, 4, 5, 6, 7, 8, 9]\n"
     ]
    }
   ],
   "source": [
    "def flatten(unflattenedList):\n",
    "    flattenedList = []\n",
    "    for list1 in unflattenedList:\n",
    "        for element in list1:\n",
    "            flattenedList.append(element)\n",
    "    return flattenedList\n",
    "print(flatten([[1, 2, 3], [4, 5, 6], [7], [8, 9]]))    "
   ]
  },
  {
   "cell_type": "markdown",
   "id": "32665ea6",
   "metadata": {},
   "source": [
    "#### Q28. How to sort a list in ascending and descending order without using the sort function?"
   ]
  },
  {
   "cell_type": "code",
   "execution_count": 14,
   "id": "cfa41ecf",
   "metadata": {},
   "outputs": [
    {
     "name": "stdout",
     "output_type": "stream",
     "text": [
      "Ascending order is:  [12, 23, 34, 56, 67, 96]\n",
      "Descending order is:  [96, 67, 56, 34, 23, 12]\n"
     ]
    }
   ],
   "source": [
    "def sort(lst):\n",
    "    length = len(lst)\n",
    "    for i in range(length):\n",
    "        for j in range(length):\n",
    "            if lst[i] <= lst[j]:\n",
    "                lst[i],lst[j] = lst[j],lst[i]\n",
    "    return lst\n",
    "new = sort([34,67,23,96,12,56])\n",
    "print('Ascending order is: ',new)\n",
    "print('Descending order is: ',new[::-1])"
   ]
  },
  {
   "cell_type": "markdown",
   "id": "e3812218",
   "metadata": {},
   "source": [
    "#### Q29. How to sort a tuple?"
   ]
  },
  {
   "cell_type": "code",
   "execution_count": 15,
   "id": "67cdff0b",
   "metadata": {},
   "outputs": [
    {
     "data": {
      "text/plain": [
       "[2, 2, 2, 3, 3, 3, 4, 5, 7, 9]"
      ]
     },
     "execution_count": 15,
     "metadata": {},
     "output_type": "execute_result"
    }
   ],
   "source": [
    "tuple1 = (3,2,5,3,7,2,9,4,3,2)\n",
    "list1 = sorted(tuple1)\n",
    "print(list1)"
   ]
  },
  {
   "cell_type": "markdown",
   "id": "91ae497a",
   "metadata": {},
   "source": [
    "30. Write a Python program to convert a list of multiple integers into a single integer  \n",
    "a. [11, 33, 50] >>> 113350"
   ]
  },
  {
   "cell_type": "code",
   "execution_count": 21,
   "id": "17c31edd",
   "metadata": {},
   "outputs": [
    {
     "name": "stdout",
     "output_type": "stream",
     "text": [
      "11 33 50\n",
      "11 33 50\n"
     ]
    }
   ],
   "source": [
    "def multiIntToSinglInt(string):\n",
    "    string = str(string).replace('[', '').replace(']', '').replace(',','')\n",
    "    print(string)\n",
    "    return string\n",
    "print(multiIntToSinglInt([11, 33, 50]))"
   ]
  }
 ],
 "metadata": {
  "kernelspec": {
   "display_name": "Python 3 (ipykernel)",
   "language": "python",
   "name": "python3"
  },
  "language_info": {
   "codemirror_mode": {
    "name": "ipython",
    "version": 3
   },
   "file_extension": ".py",
   "mimetype": "text/x-python",
   "name": "python",
   "nbconvert_exporter": "python",
   "pygments_lexer": "ipython3",
   "version": "3.9.7"
  }
 },
 "nbformat": 4,
 "nbformat_minor": 5
}
