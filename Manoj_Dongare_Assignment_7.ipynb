{
 "cells": [
  {
   "cell_type": "markdown",
   "id": "48dd249e",
   "metadata": {},
   "source": [
    "#### 1. Write a Python program to read an entire text file"
   ]
  },
  {
   "cell_type": "code",
   "execution_count": 18,
   "id": "53cff3c2",
   "metadata": {},
   "outputs": [
    {
     "name": "stdout",
     "output_type": "stream",
     "text": [
      "1. this is text file\n",
      "2. this is second line of text\n",
      "3. NOIDA Customer No:-74125863\n",
      "4. UTTAR PRADESH SCHEME : CURRENT ACCOUNT-NORMAL\n",
      "5. 201301 Curency: INR\n",
      "6. Anand Electricals\n",
      "7. Joint holder :- \n",
      "8. SHOP NO 01 BABA MARKET HAROLA\n",
      "9. SECTOR 05\n",
      "10. NOIDA Customer No:-74125863\n",
      "11. UTTAR PRADESH SCHEME : CURRENT ACCOUNT-NORMAL\n",
      "12. 201301 Curency: INR\n",
      "NOIDA Customer No:-74125863\n",
      "UTTAR PRADESH SCHEME : CURRENT ACCOUNT-NORMAL\n",
      "201301 Curency: INR\n",
      "NOIDA Customer No:-74125863\n",
      "UTTAR PRADESH SCHEME : CURRENT ACCOUNT-NORMAL\n",
      "201301 Curency: INR\n",
      "NOIDA Customer No:-74125863\n",
      "UTTAR PRADESH SCHEME : CURRENT ACCOUNT-NORMAL\n",
      "201301 Curency: INR\n",
      "NOIDA Customer No:-74125863\n",
      "UTTAR PRADESH SCHEME : CURRENT ACCOUNT-NORMAL\n",
      "201301 Curency: INR\n"
     ]
    }
   ],
   "source": [
    "file = open('input.txt')\n",
    "r = file.read()\n",
    "print(r)\n",
    "file.close()"
   ]
  },
  {
   "cell_type": "markdown",
   "id": "ebc569e0",
   "metadata": {},
   "source": [
    "#### 2. Write a Python program to read the first n lines of a file"
   ]
  },
  {
   "cell_type": "code",
   "execution_count": 19,
   "id": "a527da65",
   "metadata": {},
   "outputs": [
    {
     "name": "stdout",
     "output_type": "stream",
     "text": [
      "1. this is text file\n",
      "\n",
      "2. this is second line of text\n",
      "\n",
      "3. NOIDA Customer No:-74125863\n",
      "\n"
     ]
    }
   ],
   "source": [
    "file = open('input.txt')\n",
    "n = 3\n",
    "for i in range(n):\n",
    "    r = file.readline()\n",
    "    print(r)\n",
    "file.close()"
   ]
  },
  {
   "cell_type": "markdown",
   "id": "3199a36b",
   "metadata": {},
   "source": [
    "#### 3. Write a Python program to append text to a file and display the text"
   ]
  },
  {
   "cell_type": "code",
   "execution_count": 20,
   "id": "cfc2c7ea",
   "metadata": {},
   "outputs": [],
   "source": [
    "file = open('input.txt', 'a')\n",
    "new_bank_data='''\n",
    "NOIDA Customer No:-74125863\n",
    "UTTAR PRADESH SCHEME : CURRENT ACCOUNT-NORMAL\n",
    "201301 Curency: INR'''\n",
    "\n",
    "file.write(new_bank_data)\n",
    "file.close()"
   ]
  },
  {
   "cell_type": "markdown",
   "id": "16de4e5e",
   "metadata": {},
   "source": [
    "#### 4. Write a Python program to read the last n lines of a file"
   ]
  },
  {
   "cell_type": "code",
   "execution_count": 21,
   "id": "bcece658",
   "metadata": {},
   "outputs": [
    {
     "name": "stdout",
     "output_type": "stream",
     "text": [
      "201301 Curency: INR\n",
      "NOIDA Customer No:-74125863\n",
      "UTTAR PRADESH SCHEME : CURRENT ACCOUNT-NORMAL\n",
      "201301 Curency: INR"
     ]
    }
   ],
   "source": [
    "file = open('input.txt')\n",
    "n = 4\n",
    "data = file.readlines()\n",
    "for i in data[-n:]:\n",
    "    print(i,end = '')\n",
    "file.close()"
   ]
  },
  {
   "cell_type": "markdown",
   "id": "54b92971",
   "metadata": {},
   "source": [
    "#### 5. Write a Python program to read a file line by line and store it into a list"
   ]
  },
  {
   "cell_type": "code",
   "execution_count": 22,
   "id": "79233b03",
   "metadata": {},
   "outputs": [
    {
     "name": "stdout",
     "output_type": "stream",
     "text": [
      "['1. this is text file\\n', '2. this is second line of text\\n', '3. NOIDA Customer No:-74125863\\n', '4. UTTAR PRADESH SCHEME : CURRENT ACCOUNT-NORMAL\\n', '5. 201301 Curency: INR\\n', '6. Anand Electricals\\n', '7. Joint holder :- \\n', '8. SHOP NO 01 BABA MARKET HAROLA\\n', '9. SECTOR 05\\n', '10. NOIDA Customer No:-74125863\\n', '11. UTTAR PRADESH SCHEME : CURRENT ACCOUNT-NORMAL\\n', '12. 201301 Curency: INR\\n', 'NOIDA Customer No:-74125863\\n', 'UTTAR PRADESH SCHEME : CURRENT ACCOUNT-NORMAL\\n', '201301 Curency: INR\\n', 'NOIDA Customer No:-74125863\\n', 'UTTAR PRADESH SCHEME : CURRENT ACCOUNT-NORMAL\\n', '201301 Curency: INR\\n', 'NOIDA Customer No:-74125863\\n', 'UTTAR PRADESH SCHEME : CURRENT ACCOUNT-NORMAL\\n', '201301 Curency: INR\\n', 'NOIDA Customer No:-74125863\\n', 'UTTAR PRADESH SCHEME : CURRENT ACCOUNT-NORMAL\\n', '201301 Curency: INR\\n', 'NOIDA Customer No:-74125863\\n', 'UTTAR PRADESH SCHEME : CURRENT ACCOUNT-NORMAL\\n', '201301 Curency: INR']\n"
     ]
    }
   ],
   "source": [
    "file = open('input.txt')\n",
    "data = file.readlines()\n",
    "list1 = []\n",
    "for i in data:\n",
    "    list1.append(i)\n",
    "print(list1)\n",
    "file.close()"
   ]
  },
  {
   "cell_type": "markdown",
   "id": "387205bc",
   "metadata": {},
   "source": [
    "#### 6. Write a Python program to count the number of lines in a text file"
   ]
  },
  {
   "cell_type": "code",
   "execution_count": 23,
   "id": "838d0a33",
   "metadata": {},
   "outputs": [
    {
     "name": "stdout",
     "output_type": "stream",
     "text": [
      "27\n"
     ]
    }
   ],
   "source": [
    "file = open('input.txt')\n",
    "data = file.readlines()\n",
    "counter = 0\n",
    "for i in data:\n",
    "    counter += 1\n",
    "print(counter)\n",
    "file.close()"
   ]
  },
  {
   "cell_type": "markdown",
   "id": "d0a64c5f",
   "metadata": {},
   "source": [
    "#### 7. Write a Python program to count the frequency of words in a file"
   ]
  },
  {
   "cell_type": "code",
   "execution_count": 24,
   "id": "2993a589",
   "metadata": {},
   "outputs": [
    {
     "ename": "UnsupportedOperation",
     "evalue": "not readable",
     "output_type": "error",
     "traceback": [
      "\u001b[1;31m---------------------------------------------------------------------------\u001b[0m",
      "\u001b[1;31mUnsupportedOperation\u001b[0m                      Traceback (most recent call last)",
      "\u001b[1;32m~\\AppData\\Local\\Temp/ipykernel_8496/2458143803.py\u001b[0m in \u001b[0;36m<module>\u001b[1;34m\u001b[0m\n\u001b[0;32m      1\u001b[0m \u001b[1;32mfrom\u001b[0m \u001b[0mcollections\u001b[0m \u001b[1;32mimport\u001b[0m \u001b[0mCounter\u001b[0m\u001b[1;33m\u001b[0m\u001b[1;33m\u001b[0m\u001b[0m\n\u001b[0;32m      2\u001b[0m \u001b[0mf\u001b[0m\u001b[1;33m=\u001b[0m\u001b[0mopen\u001b[0m\u001b[1;33m(\u001b[0m\u001b[1;34m\"xyz.txt\"\u001b[0m\u001b[1;33m,\u001b[0m\u001b[1;34m\"w\"\u001b[0m\u001b[1;33m)\u001b[0m\u001b[1;33m\u001b[0m\u001b[1;33m\u001b[0m\u001b[0m\n\u001b[1;32m----> 3\u001b[1;33m \u001b[0mtext\u001b[0m\u001b[1;33m=\u001b[0m\u001b[0mf\u001b[0m\u001b[1;33m.\u001b[0m\u001b[0mread\u001b[0m\u001b[1;33m(\u001b[0m\u001b[1;33m)\u001b[0m\u001b[1;33m.\u001b[0m\u001b[0msplit\u001b[0m\u001b[1;33m(\u001b[0m\u001b[1;33m)\u001b[0m\u001b[1;33m\u001b[0m\u001b[1;33m\u001b[0m\u001b[0m\n\u001b[0m\u001b[0;32m      4\u001b[0m \u001b[0mfreq\u001b[0m\u001b[1;33m=\u001b[0m\u001b[0mdict\u001b[0m\u001b[1;33m(\u001b[0m\u001b[0mCounter\u001b[0m\u001b[1;33m(\u001b[0m\u001b[0mtext\u001b[0m\u001b[1;33m)\u001b[0m\u001b[1;33m)\u001b[0m\u001b[1;33m\u001b[0m\u001b[1;33m\u001b[0m\u001b[0m\n\u001b[0;32m      5\u001b[0m \u001b[0mprint\u001b[0m\u001b[1;33m(\u001b[0m\u001b[0mfreq\u001b[0m\u001b[1;33m)\u001b[0m\u001b[1;33m\u001b[0m\u001b[1;33m\u001b[0m\u001b[0m\n",
      "\u001b[1;31mUnsupportedOperation\u001b[0m: not readable"
     ]
    }
   ],
   "source": [
    "from collections import Counter\n",
    "f=open(\"xyz.txt\",\"w\")\n",
    "text=f.read().split()\n",
    "freq=dict(Counter(text))\n",
    "print(freq)\n",
    "f.close()"
   ]
  },
  {
   "cell_type": "markdown",
   "id": "6cfa9597",
   "metadata": {},
   "source": [
    "#### 8. Write a Python program to copy the contents of a file to another file"
   ]
  },
  {
   "cell_type": "code",
   "execution_count": null,
   "id": "00e9d4e9",
   "metadata": {},
   "outputs": [],
   "source": [
    "# file = open('input.txt')\n",
    "# source = file.readline()\n",
    "out = open('out.txt', 'w')\n",
    "with open('input.txt') as file:\n",
    "    for line in file:\n",
    "        out.write(line)\n",
    "out.close()"
   ]
  },
  {
   "cell_type": "markdown",
   "id": "e6bb43eb",
   "metadata": {},
   "source": [
    "#### 9. Write a Python script to display the various Date Time formats - Go to the editor\n",
    "    a) Current date and time\n",
    "    b) Current year\n",
    "    c) Month of year\n",
    "    d) Week number of the year\n",
    "    e) Weekday of the week\n",
    "    f) Day of year\n",
    "    g) Day of the month\n",
    "    h) Day of week"
   ]
  },
  {
   "cell_type": "code",
   "execution_count": null,
   "id": "b34560bd",
   "metadata": {},
   "outputs": [],
   "source": [
    "from datetime import datetime\n",
    "curr_date=datetime.now()\n",
    "print(\"Current date and time: \",curr_date)\n",
    "print(\" Current year: \",curr_date.strftime(\"%Y\"))\n",
    "print(\"Month of year : \",curr_date.strftime(\"%m--->%b---%B\"))\n",
    "print(\"Week number of the year: \",curr_date.strftime(\"%U\"))\n",
    "print(\"Weekday of the week : \",curr_date.strftime(\"%w\"))\n",
    "print(\"Day of year : \",curr_date.strftime(\"%j\"))\n",
    "print(\"Day of the month :\",curr_date.strftime(\"%d\"))\n",
    "print(\"Day of week : \",curr_date.strftime(\"%a-->%A\"))"
   ]
  },
  {
   "cell_type": "markdown",
   "id": "c8499a64",
   "metadata": {},
   "source": [
    "#### 10. Write a Python program to determine whether a given year is a leap year"
   ]
  },
  {
   "cell_type": "code",
   "execution_count": null,
   "id": "37491f17",
   "metadata": {},
   "outputs": [],
   "source": [
    "def isLeapyear(year):\n",
    "    if (year % 400 == 0) and (year % 100 == 0):\n",
    "        print(\"{0} is a leap year\".format(year))\n",
    "    elif (year % 4 ==0) and (year % 100 != 0):\n",
    "        print(\"{0} is a leap year\".format(year))\n",
    "    else:\n",
    "        print(\"{0} is not a leap year\".format(year))\n",
    "isLeapyear(1700)"
   ]
  },
  {
   "cell_type": "markdown",
   "id": "178eb910",
   "metadata": {},
   "source": [
    "#### 11. Write a Python program to convert a string to datetime. Go to the editor\n",
    "\n",
    "    ○ Sample String : Jan 1 2014 2:43PM\n",
    "    ○ Expected Output : 2014-07-01 14:43:00"
   ]
  },
  {
   "cell_type": "code",
   "execution_count": 34,
   "id": "fbcd7d80",
   "metadata": {},
   "outputs": [
    {
     "name": "stdout",
     "output_type": "stream",
     "text": [
      "2014-01-01 14:43:00\n",
      "2014-07-01 14:43:00\n"
     ]
    }
   ],
   "source": [
    "from datetime import datetime, timedelta\n",
    "Sample_String=\"Jan 1 2014 2:43PM\"\n",
    "date=datetime.strptime(Sample_String,\"%b %d %Y %I:%M%p\")\n",
    "print(date)\n",
    "#date.strftime(%Y-%m-%d )\n",
    "newdate=date+timedelta(weeks=25,days=6)\n",
    "print(newdate)"
   ]
  },
  {
   "cell_type": "markdown",
   "id": "88f30752",
   "metadata": {},
   "source": [
    "#### 12. Write a Python program to subtract five days from current date"
   ]
  },
  {
   "cell_type": "code",
   "execution_count": null,
   "id": "5adcefc4",
   "metadata": {},
   "outputs": [],
   "source": [
    "from datetime import timedelta\n",
    "curr_date=datetime.now()\n",
    "new_date=curr_date-timedelta(days=5)\n",
    "print(new_date.date())"
   ]
  },
  {
   "cell_type": "markdown",
   "id": "b40980ab",
   "metadata": {},
   "source": [
    "#### 13. Write a Python program to print yesterday, today, tomorrow"
   ]
  },
  {
   "cell_type": "code",
   "execution_count": 33,
   "id": "df63d5ff",
   "metadata": {},
   "outputs": [
    {
     "name": "stdout",
     "output_type": "stream",
     "text": [
      "Yesterday date: 2022-01-19\n",
      "Today date: 2022-01-20\n",
      "Tomorrow date: 2022-01-21\n"
     ]
    }
   ],
   "source": [
    "from datetime import timedelta\n",
    "curr_date=datetime.now()\n",
    "Yesterday=(curr_date-timedelta(days=1)).date()\n",
    "Today=curr_date.date()\n",
    "tomorrow=(curr_date+timedelta(days=1)).date()\n",
    "print(\"Yesterday date:\",Yesterday)\n",
    "print(\"Today date:\",Today)\n",
    "print(\"Tomorrow date:\",tomorrow)"
   ]
  },
  {
   "cell_type": "markdown",
   "id": "f6232d3f",
   "metadata": {},
   "source": [
    "#### 14. Write a Python program to print next 5 days starting from today"
   ]
  },
  {
   "cell_type": "code",
   "execution_count": 32,
   "id": "9f1615b8",
   "metadata": {},
   "outputs": [
    {
     "name": "stdout",
     "output_type": "stream",
     "text": [
      "2022-01-20\n",
      "2022-01-21\n",
      "2022-01-22\n",
      "2022-01-23\n",
      "2022-01-24\n"
     ]
    }
   ],
   "source": [
    "from datetime import timedelta\n",
    "curr_date=datetime.now()\n",
    "for i in range(0,5):\n",
    "    new_date=curr_date+timedelta(days=i)\n",
    "    print(new_date.date())"
   ]
  },
  {
   "cell_type": "markdown",
   "id": "df618815",
   "metadata": {},
   "source": [
    "#### 15. Write a Python program to drop microseconds from DateTime"
   ]
  },
  {
   "cell_type": "code",
   "execution_count": 25,
   "id": "762e62da",
   "metadata": {},
   "outputs": [
    {
     "name": "stdout",
     "output_type": "stream",
     "text": [
      "2022-01-20 07:27:02\n"
     ]
    }
   ],
   "source": [
    "dt=datetime.today().replace(microsecond=0)\n",
    "print(dt)"
   ]
  },
  {
   "cell_type": "markdown",
   "id": "aa62118d",
   "metadata": {},
   "source": [
    "#### 16. Write a Python program to find the date of the first Monday of a given week"
   ]
  },
  {
   "cell_type": "code",
   "execution_count": 26,
   "id": "341278ba",
   "metadata": {},
   "outputs": [
    {
     "name": "stdout",
     "output_type": "stream",
     "text": [
      "Mon Jan 18 00:00:00 2021\n"
     ]
    }
   ],
   "source": [
    "import time\n",
    "print(time.asctime(time.strptime('2021 3 1', '%Y %W %w')))"
   ]
  },
  {
   "cell_type": "markdown",
   "id": "a509f182",
   "metadata": {},
   "source": [
    "#### 17. Write a Python program to select all the Sundays of a specified year"
   ]
  },
  {
   "cell_type": "code",
   "execution_count": 30,
   "id": "625f0272",
   "metadata": {},
   "outputs": [
    {
     "name": "stdout",
     "output_type": "stream",
     "text": [
      "2021-01-03\n",
      "2021-01-10\n",
      "2021-01-17\n",
      "2021-01-24\n",
      "2021-01-31\n",
      "2021-02-07\n",
      "2021-02-14\n",
      "2021-02-21\n",
      "2021-02-28\n",
      "2021-03-07\n",
      "2021-03-14\n",
      "2021-03-21\n",
      "2021-03-28\n",
      "2021-04-04\n",
      "2021-04-11\n",
      "2021-04-18\n",
      "2021-04-25\n",
      "2021-05-02\n",
      "2021-05-09\n",
      "2021-05-16\n",
      "2021-05-23\n",
      "2021-05-30\n",
      "2021-06-06\n",
      "2021-06-13\n",
      "2021-06-20\n",
      "2021-06-27\n",
      "2021-07-04\n",
      "2021-07-11\n",
      "2021-07-18\n",
      "2021-07-25\n",
      "2021-08-01\n",
      "2021-08-08\n",
      "2021-08-15\n",
      "2021-08-22\n",
      "2021-08-29\n",
      "2021-09-05\n",
      "2021-09-12\n",
      "2021-09-19\n",
      "2021-09-26\n",
      "2021-10-03\n",
      "2021-10-10\n",
      "2021-10-17\n",
      "2021-10-24\n",
      "2021-10-31\n",
      "2021-11-07\n",
      "2021-11-14\n",
      "2021-11-21\n",
      "2021-11-28\n",
      "2021-12-05\n",
      "2021-12-12\n",
      "2021-12-19\n",
      "2021-12-26\n"
     ]
    }
   ],
   "source": [
    "from datetime import date, timedelta\n",
    "def all_sundays(year):\n",
    "    dt = date(year, 1, 1)\n",
    "    dt += timedelta(days = 6 - dt.weekday())\n",
    "    while dt.year == year:\n",
    "        print(dt)\n",
    "        dt += timedelta(days = 7)\n",
    "all_sundays(2021)"
   ]
  },
  {
   "cell_type": "markdown",
   "id": "42cc1dbb",
   "metadata": {},
   "source": [
    "#### 18. Write a Pytwehon program to create a file and write some text and rename the file name"
   ]
  },
  {
   "cell_type": "code",
   "execution_count": 35,
   "id": "b850bc1a",
   "metadata": {},
   "outputs": [
    {
     "name": "stdout",
     "output_type": "stream",
     "text": [
      "\n",
      "Contents of a.txt: Hi i am Yogesh\n"
     ]
    },
    {
     "ename": "FileExistsError",
     "evalue": "[WinError 183] Cannot create a file when that file already exists: 'a.txt' -> 'b.txt'",
     "output_type": "error",
     "traceback": [
      "\u001b[1;31m---------------------------------------------------------------------------\u001b[0m",
      "\u001b[1;31mFileExistsError\u001b[0m                           Traceback (most recent call last)",
      "\u001b[1;32m~\\AppData\\Local\\Temp/ipykernel_8496/2519637650.py\u001b[0m in \u001b[0;36m<module>\u001b[1;34m\u001b[0m\n\u001b[0;32m      4\u001b[0m \u001b[1;32mwith\u001b[0m \u001b[0mopen\u001b[0m\u001b[1;33m(\u001b[0m\u001b[1;34m'a.txt'\u001b[0m\u001b[1;33m,\u001b[0m \u001b[1;34m'r'\u001b[0m\u001b[1;33m)\u001b[0m \u001b[1;32mas\u001b[0m \u001b[0mf\u001b[0m\u001b[1;33m:\u001b[0m\u001b[1;33m\u001b[0m\u001b[1;33m\u001b[0m\u001b[0m\n\u001b[0;32m      5\u001b[0m     \u001b[0mprint\u001b[0m\u001b[1;33m(\u001b[0m\u001b[1;34m'\\nContents of a.txt:'\u001b[0m\u001b[1;33m,\u001b[0m\u001b[0mf\u001b[0m\u001b[1;33m.\u001b[0m\u001b[0mread\u001b[0m\u001b[1;33m(\u001b[0m\u001b[1;33m)\u001b[0m\u001b[1;33m)\u001b[0m\u001b[1;33m\u001b[0m\u001b[1;33m\u001b[0m\u001b[0m\n\u001b[1;32m----> 6\u001b[1;33m \u001b[0mos\u001b[0m\u001b[1;33m.\u001b[0m\u001b[0mrename\u001b[0m\u001b[1;33m(\u001b[0m\u001b[1;34m'a.txt'\u001b[0m\u001b[1;33m,\u001b[0m \u001b[1;34m'b.txt'\u001b[0m\u001b[1;33m)\u001b[0m\u001b[1;33m\u001b[0m\u001b[1;33m\u001b[0m\u001b[0m\n\u001b[0m\u001b[0;32m      7\u001b[0m \u001b[1;32mwith\u001b[0m \u001b[0mopen\u001b[0m\u001b[1;33m(\u001b[0m\u001b[1;34m'b.txt'\u001b[0m\u001b[1;33m,\u001b[0m \u001b[1;34m'r'\u001b[0m\u001b[1;33m)\u001b[0m \u001b[1;32mas\u001b[0m \u001b[0mf\u001b[0m\u001b[1;33m:\u001b[0m\u001b[1;33m\u001b[0m\u001b[1;33m\u001b[0m\u001b[0m\n\u001b[0;32m      8\u001b[0m     \u001b[0mprint\u001b[0m\u001b[1;33m(\u001b[0m\u001b[1;34m'\\nContents of b.txt:'\u001b[0m\u001b[1;33m,\u001b[0m\u001b[0mf\u001b[0m\u001b[1;33m.\u001b[0m\u001b[0mread\u001b[0m\u001b[1;33m(\u001b[0m\u001b[1;33m)\u001b[0m\u001b[1;33m)\u001b[0m\u001b[1;33m\u001b[0m\u001b[1;33m\u001b[0m\u001b[0m\n",
      "\u001b[1;31mFileExistsError\u001b[0m: [WinError 183] Cannot create a file when that file already exists: 'a.txt' -> 'b.txt'"
     ]
    }
   ],
   "source": [
    "import os\n",
    "with open('a.txt', 'w') as f:\n",
    "    f.write('Hi i am Yogesh')\n",
    "with open('a.txt', 'r') as f:\n",
    "    print('\\nContents of a.txt:',f.read())\n",
    "os.rename('a.txt', 'b.txt')\n",
    "with open('b.txt', 'r') as f:\n",
    "    print('\\nContents of b.txt:',f.read())"
   ]
  },
  {
   "cell_type": "markdown",
   "id": "51e0fab1",
   "metadata": {},
   "source": [
    "#### 19. What are different methods available in the OS module for creating a directory?"
   ]
  },
  {
   "cell_type": "markdown",
   "id": "fd70059e",
   "metadata": {},
   "source": [
    "There are two ways two Create Directory in OS Module\n",
    "1. mkdir() : using this method we can create single Directory at in Current Working Directory.\n",
    "mkdir(\"Folder_name\")\n",
    "2. makedirs() : using this method we can create nested Directory in Current Working Directory.\n",
    "makedirs(\"Folder1_name/Folder2_name/Folder3_name\")"
   ]
  },
  {
   "cell_type": "markdown",
   "id": "15066c88",
   "metadata": {},
   "source": [
    "#### 20. Explain os.listdir() method."
   ]
  },
  {
   "cell_type": "code",
   "execution_count": null,
   "id": "e7628bd9",
   "metadata": {},
   "outputs": [],
   "source": [
    "1. os.listdir() method in python is used to get the list of all files and\n",
    "directories in the specified directory.\n",
    "2. If we don’t specify any directory, then list of files and directories in the\n",
    "current working directory will be returned.\n",
    "3. os.listdir(path)"
   ]
  },
  {
   "cell_type": "markdown",
   "id": "88a3c3cd",
   "metadata": {},
   "source": [
    "#### 21. What are different methods for removing directories and files in Python?"
   ]
  },
  {
   "cell_type": "code",
   "execution_count": null,
   "id": "d78c6d6d",
   "metadata": {},
   "outputs": [],
   "source": [
    "There are two ways two Create Directory in OS Module\n",
    "1. remove():\n",
    "using this we can remove file from present working directory. it is not use\n",
    "to delete folder.\n",
    "os.remove(\"File_name\")\n",
    "2. rmdir() :\n",
    "this method is used to delete empty directory\n",
    "os.rmdir(\"Folder_name\")"
   ]
  },
  {
   "cell_type": "markdown",
   "id": "db57a5b3",
   "metadata": {},
   "source": [
    "#### 22. What are exceptions in Python?"
   ]
  },
  {
   "cell_type": "code",
   "execution_count": null,
   "id": "baf2ec0f",
   "metadata": {},
   "outputs": [],
   "source": [
    "1. Errors that occur at runtime (after passing the syntax test) are called\n",
    "exceptions or logical errors.\n",
    "2. For instance, they occur when we try to open a file(for reading) that does\n",
    "not exist (FileNotFoundError),\n",
    "try to divide a number by zero (ZeroDivisionError), or try to import a\n",
    "module that does not exist (ImportError).\n",
    "3. Whenever these types of runtime errors occur, Python creates an exception\n",
    "object.\n",
    "If not handled properly, it prints a traceback to that error along with some\n",
    "details about why that error occurred."
   ]
  },
  {
   "cell_type": "markdown",
   "id": "812a7423",
   "metadata": {},
   "source": [
    "#### 23. What are Built-in exceptions?"
   ]
  },
  {
   "cell_type": "code",
   "execution_count": null,
   "id": "c4e0460b",
   "metadata": {},
   "outputs": [],
   "source": [
    "-The built-in exceptions can be generated by the interpreter or built-in\n",
    "functions.\n",
    "-There are several built-in exceptions in Python that are raised when errors\n",
    "occur.\n",
    "-These built-in exceptions can be viewed using the local() built-in functions\n",
    "-Examples\n",
    "1. ZeroDivisionError\n",
    "2. AttributeError\n",
    "3. IndexError"
   ]
  },
  {
   "cell_type": "markdown",
   "id": "670fd8b8",
   "metadata": {},
   "source": [
    "#### 24. What are User-defined Exceptions?"
   ]
  },
  {
   "cell_type": "code",
   "execution_count": 28,
   "id": "629c78e3",
   "metadata": {},
   "outputs": [
    {
     "ename": "SyntaxError",
     "evalue": "invalid syntax (Temp/ipykernel_8496/3012022648.py, line 1)",
     "output_type": "error",
     "traceback": [
      "\u001b[1;36m  File \u001b[1;32m\"C:\\Users\\manoj\\AppData\\Local\\Temp/ipykernel_8496/3012022648.py\"\u001b[1;36m, line \u001b[1;32m1\u001b[0m\n\u001b[1;33m    -Python throws errors and exceptions whenever code behaves abnormally & its\u001b[0m\n\u001b[1;37m            ^\u001b[0m\n\u001b[1;31mSyntaxError\u001b[0m\u001b[1;31m:\u001b[0m invalid syntax\n"
     ]
    }
   ],
   "source": [
    "-Python throws errors and exceptions whenever code behaves abnormally & its\n",
    "execution stop abruptly.\n",
    "-Python provides us tools to handle such scenarios by the help of exception\n",
    "handling method using try-except statements.\n",
    "-User-defined Exceptions need to be derived from the built-in Exception class,\n",
    "either directly or indirectly."
   ]
  },
  {
   "cell_type": "markdown",
   "id": "08f09e19",
   "metadata": {},
   "source": [
    "#### 25. When would you not use try-except?"
   ]
  },
  {
   "cell_type": "code",
   "execution_count": null,
   "id": "ab9b94e7",
   "metadata": {},
   "outputs": [],
   "source": [
    "basically when we know that our system is not taking input from any user,\n",
    "and it works on static data then no need to use try - except,\n",
    "because, generally error occurs when user enter wrong input."
   ]
  },
  {
   "cell_type": "markdown",
   "id": "2dfa5e7b",
   "metadata": {},
   "source": [
    "#### 26. Can try-except catch the error if a file can’t be opened?"
   ]
  },
  {
   "cell_type": "code",
   "execution_count": 29,
   "id": "5785427a",
   "metadata": {},
   "outputs": [
    {
     "ename": "SyntaxError",
     "evalue": "invalid syntax (Temp/ipykernel_8496/156121572.py, line 1)",
     "output_type": "error",
     "traceback": [
      "\u001b[1;36m  File \u001b[1;32m\"C:\\Users\\manoj\\AppData\\Local\\Temp/ipykernel_8496/156121572.py\"\u001b[1;36m, line \u001b[1;32m1\u001b[0m\n\u001b[1;33m    -It depends on which mode you are using.\u001b[0m\n\u001b[1;37m        ^\u001b[0m\n\u001b[1;31mSyntaxError\u001b[0m\u001b[1;31m:\u001b[0m invalid syntax\n"
     ]
    }
   ],
   "source": [
    "-It depends on which mode you are using.\n",
    "1. if we use \"w\" mode then if that file is not present for opening , so it will\n",
    "be created and open.\n",
    "2. but with \"r\" mode if we are opening file then it should be present in that\n",
    "location or it will generate exception,\n",
    "and that we can handled using try-except block"
   ]
  }
 ],
 "metadata": {
  "kernelspec": {
   "display_name": "Python 3 (ipykernel)",
   "language": "python",
   "name": "python3"
  },
  "language_info": {
   "codemirror_mode": {
    "name": "ipython",
    "version": 3
   },
   "file_extension": ".py",
   "mimetype": "text/x-python",
   "name": "python",
   "nbconvert_exporter": "python",
   "pygments_lexer": "ipython3",
   "version": "3.9.7"
  }
 },
 "nbformat": 4,
 "nbformat_minor": 5
}
