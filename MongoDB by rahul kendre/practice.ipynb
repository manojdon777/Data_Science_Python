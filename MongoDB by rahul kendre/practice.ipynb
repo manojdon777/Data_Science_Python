{
 "cells": [
  {
   "cell_type": "code",
   "execution_count": 5,
   "id": "8cf0aade",
   "metadata": {
    "scrolled": true
   },
   "outputs": [
    {
     "data": {
      "text/plain": [
       "MongoClient(host=['localhost:27017'], document_class=dict, tz_aware=False, connect=True)"
      ]
     },
     "execution_count": 5,
     "metadata": {},
     "output_type": "execute_result"
    }
   ],
   "source": [
    "import pymongo\n",
    "port_number = 27017  # 27021\n",
    "mongo_client = pymongo.MongoClient('mongodb://localhost:27017')\n",
    "mongo_client"
   ]
  },
  {
   "cell_type": "code",
   "execution_count": 16,
   "id": "ab0f605d",
   "metadata": {},
   "outputs": [
    {
     "data": {
      "text/plain": [
       "Database(MongoClient(host=['localhost:27017'], document_class=dict, tz_aware=False, connect=True), 'test1')"
      ]
     },
     "execution_count": 16,
     "metadata": {},
     "output_type": "execute_result"
    }
   ],
   "source": [
    "db_name = 'test1'\n",
    "db = mongo_client[db_name]\n",
    "db"
   ]
  },
  {
   "cell_type": "code",
   "execution_count": 15,
   "id": "54b1afc7",
   "metadata": {},
   "outputs": [
    {
     "data": {
      "text/plain": [
       "['admin', 'config', 'local', 'test1']"
      ]
     },
     "execution_count": 15,
     "metadata": {},
     "output_type": "execute_result"
    }
   ],
   "source": [
    "mongo_client.list_database_names()"
   ]
  },
  {
   "cell_type": "code",
   "execution_count": 20,
   "id": "a7e1ff84",
   "metadata": {},
   "outputs": [],
   "source": [
    "collection_user = db['user_details']\n",
    "collection_proj_var = db['proj_variables']\n",
    "collection_analysis = db['analysis_details']"
   ]
  },
  {
   "cell_type": "code",
   "execution_count": 23,
   "id": "40eb7d3a",
   "metadata": {},
   "outputs": [
    {
     "data": {
      "text/plain": [
       "['user_details', 'emp']"
      ]
     },
     "execution_count": 23,
     "metadata": {},
     "output_type": "execute_result"
    }
   ],
   "source": [
    "collection_names_list = db.list_collection_names()\n",
    "collection_names_list"
   ]
  },
  {
   "cell_type": "code",
   "execution_count": null,
   "id": "dee8a3d4",
   "metadata": {},
   "outputs": [],
   "source": []
  },
  {
   "cell_type": "code",
   "execution_count": 22,
   "id": "9db0ed84",
   "metadata": {},
   "outputs": [
    {
     "data": {
      "text/plain": [
       "<pymongo.results.InsertOneResult at 0x26e3bf23d30>"
      ]
     },
     "execution_count": 22,
     "metadata": {},
     "output_type": "execute_result"
    }
   ],
   "source": [
    "collection_user.insert_one({'First Name': \"Virat\", \"Last Name\": \"Kohli\",\n",
    "                           'Mobile Number':9988776655, \"Location\": 'Bangalore'})"
   ]
  },
  {
   "cell_type": "code",
   "execution_count": 24,
   "id": "2274b15a",
   "metadata": {},
   "outputs": [
    {
     "data": {
      "text/plain": [
       "<pymongo.results.InsertOneResult at 0x26e3b8d6f10>"
      ]
     },
     "execution_count": 24,
     "metadata": {},
     "output_type": "execute_result"
    }
   ],
   "source": [
    "collection_user.insert_one({'First Name': \"Rohit\", \"Last Name\": \"Sharma\",\n",
    "                           'Mobile Number':8988112233, \"Location\": 'Mumbai'})\n",
    "collection_user.insert_one({'First Name': \"Rohit\", \"Last Name\": \"Sharma\",\n",
    "                           'Mobile Number':8988112233, \"Location\": 'Chennai'})"
   ]
  },
  {
   "cell_type": "code",
   "execution_count": 25,
   "id": "a7f9205a",
   "metadata": {},
   "outputs": [
    {
     "data": {
      "text/plain": [
       "<pymongo.results.DeleteResult at 0x26e3de4d550>"
      ]
     },
     "execution_count": 25,
     "metadata": {},
     "output_type": "execute_result"
    }
   ],
   "source": [
    "collection_user.delete_one({\"First Name\":\"Virat\"})"
   ]
  },
  {
   "cell_type": "code",
   "execution_count": 31,
   "id": "93303329",
   "metadata": {},
   "outputs": [
    {
     "data": {
      "text/plain": [
       "<pymongo.results.UpdateResult at 0x26e3bf23820>"
      ]
     },
     "execution_count": 31,
     "metadata": {},
     "output_type": "execute_result"
    }
   ],
   "source": [
    "old_query = {'First Name':'Rohit'}\n",
    "new_query = {'$set': {\"First Name\":\"Sachin\"}}\n",
    "collection_user.update_one(old_query, new_query)"
   ]
  },
  {
   "cell_type": "code",
   "execution_count": 33,
   "id": "acccb4ba",
   "metadata": {},
   "outputs": [
    {
     "data": {
      "text/plain": [
       "<pymongo.results.DeleteResult at 0x26e3ddc04f0>"
      ]
     },
     "execution_count": 33,
     "metadata": {},
     "output_type": "execute_result"
    }
   ],
   "source": [
    "collection_user.delete_one({\"FIrst Name\":\"Sachin\"})"
   ]
  },
  {
   "cell_type": "code",
   "execution_count": 40,
   "id": "8c238454",
   "metadata": {},
   "outputs": [
    {
     "ename": "SyntaxError",
     "evalue": "invalid syntax (Temp/ipykernel_10340/185890636.py, line 1)",
     "output_type": "error",
     "traceback": [
      "\u001b[1;36m  File \u001b[1;32m\"C:\\Users\\manoj\\AppData\\Local\\Temp/ipykernel_10340/185890636.py\"\u001b[1;36m, line \u001b[1;32m1\u001b[0m\n\u001b[1;33m    collection_user.update({  }, { $unset : { 'First Name':'Rohit'} })\u001b[0m\n\u001b[1;37m                                   ^\u001b[0m\n\u001b[1;31mSyntaxError\u001b[0m\u001b[1;31m:\u001b[0m invalid syntax\n"
     ]
    }
   ],
   "source": [
    "collection_user.update({ 'First Name':'Rohit' }, { $unset : { 'First Name':'Rohit'} })"
   ]
  },
  {
   "cell_type": "code",
   "execution_count": null,
   "id": "a7879bf7",
   "metadata": {},
   "outputs": [],
   "source": []
  }
 ],
 "metadata": {
  "kernelspec": {
   "display_name": "Python 3 (ipykernel)",
   "language": "python",
   "name": "python3"
  },
  "language_info": {
   "codemirror_mode": {
    "name": "ipython",
    "version": 3
   },
   "file_extension": ".py",
   "mimetype": "text/x-python",
   "name": "python",
   "nbconvert_exporter": "python",
   "pygments_lexer": "ipython3",
   "version": "3.9.7"
  }
 },
 "nbformat": 4,
 "nbformat_minor": 5
}
