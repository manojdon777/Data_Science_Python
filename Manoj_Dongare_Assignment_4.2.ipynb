{
 "cells": [
  {
   "cell_type": "markdown",
   "id": "854f23ae",
   "metadata": {},
   "source": [
    "#### 1. Python program to sort Python Dictionaries by Keys"
   ]
  },
  {
   "cell_type": "code",
   "execution_count": 2,
   "id": "c7d7f1e7",
   "metadata": {},
   "outputs": [
    {
     "name": "stdout",
     "output_type": "stream",
     "text": [
      "{'Bio': 90, 'Che': 94, 'Eng': 95, 'Math': 91, 'Phy': 93}\n"
     ]
    }
   ],
   "source": [
    "def sortByKey(dict1):\n",
    "    sorted_keys = sorted(dict1)\n",
    "    new_dict = {}\n",
    "    for key in sorted_keys:\n",
    "        new_dict[key] = dict1[key]\n",
    "    return new_dict\n",
    "print(sortByKey({'Phy': 93, 'Che': 94, 'Math': 91, 'Eng': 95, 'Bio': 90}))"
   ]
  },
  {
   "cell_type": "markdown",
   "id": "1ea42cd6",
   "metadata": {},
   "source": [
    "#### 2. Python program to sort Python Dictionaries by Values"
   ]
  },
  {
   "cell_type": "code",
   "execution_count": 7,
   "id": "00e6f6fd",
   "metadata": {},
   "outputs": [
    {
     "name": "stdout",
     "output_type": "stream",
     "text": [
      "{'Bio': 90, 'Math': 91, 'Phy': 93, 'Che': 94, 'Eng': 95}\n"
     ]
    }
   ],
   "source": [
    "def sortByKey(dict1):\n",
    "    new_dict={}\n",
    "    for val in sorted(dict1.values()):\n",
    "        for key in dict1:\n",
    "            if dict1[key]==val:\n",
    "                new_dict[key]=val\n",
    "    return new_dict\n",
    "print(sortByKey({'Phy': 93, 'Che': 94, 'Math': 91,\n",
    "                 'Eng': 95, 'Bio': 90}))"
   ]
  },
  {
   "cell_type": "markdown",
   "id": "0ba9d88b",
   "metadata": {},
   "source": [
    "#### 3. Python program to find the sum of all items in a dictionary"
   ]
  },
  {
   "cell_type": "code",
   "execution_count": 8,
   "id": "e1e6234e",
   "metadata": {},
   "outputs": [
    {
     "name": "stdout",
     "output_type": "stream",
     "text": [
      "463\n"
     ]
    }
   ],
   "source": [
    "def sumItems(dct):\n",
    "    ret = 0\n",
    "    for i in dct.values():\n",
    "        ret += i\n",
    "    return ret\n",
    "dct = {'Phy': 93, 'Che': 94, 'Math': 91,\n",
    "                 'Eng': 95, 'Bio': 90}\n",
    "print(sumItems(dct))"
   ]
  },
  {
   "cell_type": "markdown",
   "id": "afb994ba",
   "metadata": {},
   "source": [
    "#### 4. Python program to remove a key from a dictionary"
   ]
  },
  {
   "cell_type": "code",
   "execution_count": 12,
   "id": "4834b7f0",
   "metadata": {},
   "outputs": [
    {
     "name": "stdout",
     "output_type": "stream",
     "text": [
      "{'Che': 94, 'Math': 91}\n",
      "{'Che': 94, 'Math': 91}\n"
     ]
    }
   ],
   "source": [
    "def delt_key_1():#Method 1\n",
    "    dct = {'Phy': 93, 'Che': 94, 'Math': 91}\n",
    "    del dct['Phy']\n",
    "    print(dct)\n",
    "def delt_key_2():#Method2\n",
    "    dct = {'Phy': 93, 'Che': 94, 'Math': 91}\n",
    "    dct.pop('Phy')\n",
    "    print(dct)\n",
    "\n",
    "delt_key_1()\n",
    "delt_key_2()\n"
   ]
  },
  {
   "cell_type": "markdown",
   "id": "824ee1de",
   "metadata": {},
   "source": [
    "#### 5. Python program to merge two Dictionaries"
   ]
  },
  {
   "cell_type": "code",
   "execution_count": 15,
   "id": "b9c0bead",
   "metadata": {},
   "outputs": [
    {
     "name": "stdout",
     "output_type": "stream",
     "text": [
      "{'Employee Name': 'Sagar', 'Salary': 70000, 'Age': 31, 'Company': 'TCS'}\n"
     ]
    },
    {
     "data": {
      "text/plain": [
       "{'Employee Name': 'Sagar', 'Salary': 70000, 'Age': 31, 'Company': 'TCS'}"
      ]
     },
     "execution_count": 15,
     "metadata": {},
     "output_type": "execute_result"
    }
   ],
   "source": [
    "#Method 1\n",
    "def merge_dict1(d1, d2):\n",
    "    d1.update(d2)\n",
    "    print(d1)\n",
    "\n",
    "#Method 2\n",
    "def merge_dict2(d1, d2):\n",
    "    return d1|d2\n",
    "\n",
    "employee_data = {'Employee Name': 'Sagar',\n",
    "                'Salary':50000,\n",
    "                'Age':30,\n",
    "                'Company':'Capgemini'}\n",
    "\n",
    "new_dict = {'Salary': 70000,\n",
    "           'Age':31,\n",
    "           'Company':'TCS'}\n",
    "merge_dict1(employee_data, new_dict)\n",
    "merge_dict2(employee_data, new_dict)"
   ]
  },
  {
   "cell_type": "markdown",
   "id": "0b41e94e",
   "metadata": {},
   "source": [
    "#### 6. Program to create grade calculator in Python"
   ]
  },
  {
   "cell_type": "code",
   "execution_count": 16,
   "id": "8a6afaff",
   "metadata": {},
   "outputs": [
    {
     "name": "stdout",
     "output_type": "stream",
     "text": [
      "Your grade is C\n"
     ]
    }
   ],
   "source": [
    "def grade(marks):\n",
    "    if marks >= 90:\n",
    "        print('Your grade is A')\n",
    "    elif marks >= 80:\n",
    "        print('Your grade is B')\n",
    "    elif marks >= 70:\n",
    "        print('Your grade is C')\n",
    "    elif marks >= 60:\n",
    "        print('Your grade is D')\n",
    "\n",
    "grade(76)\n",
    "        "
   ]
  },
  {
   "cell_type": "markdown",
   "id": "cb7bda3e",
   "metadata": {},
   "source": [
    "#### 7. Print anagrams together in Python using List and Dictionary"
   ]
  },
  {
   "cell_type": "raw",
   "id": "dffb7b54",
   "metadata": {},
   "source": []
  },
  {
   "cell_type": "markdown",
   "id": "a269f6b4",
   "metadata": {},
   "source": [
    "#### 8. Check if binary representations of two numbers are an anagram"
   ]
  },
  {
   "cell_type": "code",
   "execution_count": 5,
   "id": "daf9e7ed",
   "metadata": {},
   "outputs": [
    {
     "name": "stdout",
     "output_type": "stream",
     "text": [
      "10110 and 11001 are anagrams.\n"
     ]
    }
   ],
   "source": [
    "def areAnagram(num1, num2):\n",
    "    d1 = d2 = {}\n",
    "    num1 = str(num1)\n",
    "    num2 = str(num2)\n",
    "    for i in num1:\n",
    "        d1[i] = d1.get(i,0) + 1\n",
    "        d2[i] = d2.get(i,0) + 1\n",
    "    if(d1 == d2):\n",
    "        print(f'{num1} and {num2} are anagrams.')\n",
    "    else:\n",
    "        print(f'{num1} and {num2} are not anagrams.')\n",
    "areAnagram(10110,11001)"
   ]
  },
  {
   "cell_type": "markdown",
   "id": "a40f06c8",
   "metadata": {},
   "source": [
    "#### 9. Python Counter to find the size of the largest subset of anagram words"
   ]
  },
  {
   "cell_type": "code",
   "execution_count": null,
   "id": "5e836caa",
   "metadata": {},
   "outputs": [],
   "source": [
    "def larg_subset_anagram(string):\n",
    "    size = len(string)//2+1\n",
    "    "
   ]
  },
  {
   "cell_type": "markdown",
   "id": "96399acd",
   "metadata": {},
   "source": [
    "#### 10. Python Dictionary to find mirror characters in a string"
   ]
  },
  {
   "cell_type": "code",
   "execution_count": 18,
   "id": "f0da3ec8",
   "metadata": {},
   "outputs": [
    {
     "name": "stdout",
     "output_type": "stream",
     "text": [
      "kzizwlc\n"
     ]
    }
   ],
   "source": [
    "def find_mirror_char(string):\n",
    "    original = 'abcdefghijklmnopqrstuvwxyz'\n",
    "    reverse = original[::-1]\n",
    "    dictMap = dict(zip(original, reverse))\n",
    "    mirror = ''\n",
    "    for i in range(len(string)):\n",
    "        mirror += dictMap[string[i]]\n",
    "    print(mirror)\n",
    "find_mirror_char('paradox')"
   ]
  },
  {
   "cell_type": "markdown",
   "id": "2347ff4d",
   "metadata": {},
   "source": [
    "#### 12. Python program to convert a list of Tuples into Dictionary"
   ]
  },
  {
   "cell_type": "code",
   "execution_count": 55,
   "id": "7c550510",
   "metadata": {},
   "outputs": [
    {
     "name": "stdout",
     "output_type": "stream",
     "text": [
      "{'akash': 10, 'gaurav': 12, 'anand': 14, 'suraj': 20, 'akhil': 25, 'ashish': 30}\n"
     ]
    }
   ],
   "source": [
    "def tuples_to_dictionary(tups):\n",
    "    dct = {}\n",
    "    for tup in tups:\n",
    "        dct[tup[0]] = tup[1]\n",
    "    print(dct)\n",
    "tups = [(\"akash\", 10), (\"gaurav\", 12), (\"anand\", 14), \n",
    "     (\"suraj\", 20), (\"akhil\", 25), (\"ashish\", 30)]\n",
    "tuples_to_dictionary(tups)"
   ]
  },
  {
   "cell_type": "markdown",
   "id": "0a3c13e3",
   "metadata": {},
   "source": [
    "#### 13. Scraping And Finding Ordered Words In A Dictionary using Python"
   ]
  },
  {
   "cell_type": "code",
   "execution_count": null,
   "id": "952c96c6",
   "metadata": {},
   "outputs": [],
   "source": []
  },
  {
   "cell_type": "markdown",
   "id": "d6f11523",
   "metadata": {},
   "source": [
    "#### 14. Create a list of tuples from the given list having a number and its cube in each tuple"
   ]
  },
  {
   "cell_type": "code",
   "execution_count": 4,
   "id": "d9a0be9e",
   "metadata": {},
   "outputs": [
    {
     "name": "stdout",
     "output_type": "stream",
     "text": [
      "{1: 1, 2: 8, 3: 27, 4: 64, 5: 125, 6: 216, 7: 343, 8: 512, 9: 729}\n"
     ]
    }
   ],
   "source": [
    "def create_cube_tuple(numList):\n",
    "    cubeDict = {}\n",
    "    for i in numList:\n",
    "        cubeDict[i] = i**3\n",
    "    return cubeDict\n",
    "resultList = create_cube_tuple([1,2,3,4,5,6,7,8,9])\n",
    "print(resultList)\n",
    "      "
   ]
  },
  {
   "cell_type": "markdown",
   "id": "29ee04c2",
   "metadata": {},
   "source": [
    "#### 15. Sort a list of tuples by the second Item"
   ]
  },
  {
   "cell_type": "code",
   "execution_count": 5,
   "id": "666bfcf0",
   "metadata": {},
   "outputs": [
    {
     "name": "stdout",
     "output_type": "stream",
     "text": [
      "[('akash', 5), ('rishav', 10), ('gaurav', 15), ('ram', 20)]\n"
     ]
    }
   ],
   "source": [
    "def Sort_Tuple(tup):\n",
    "    return sorted(tup, key=lambda x: x[1])\n",
    "\n",
    "tup = [('rishav', 10), ('akash', 5), ('ram', 20), ('gaurav', 15)]\n",
    "print(Sort_Tuple(tup))\n"
   ]
  },
  {
   "cell_type": "markdown",
   "id": "23356f54",
   "metadata": {},
   "source": [
    "#### 16. Python Program for Insertion Sort"
   ]
  },
  {
   "cell_type": "code",
   "execution_count": 6,
   "id": "2488dbc4",
   "metadata": {},
   "outputs": [
    {
     "name": "stdout",
     "output_type": "stream",
     "text": [
      "[5, 6, 11, 12, 13]\n"
     ]
    }
   ],
   "source": [
    "def insertionSort(arr):\n",
    "    for i in range(1, len(arr)):\n",
    "        \n",
    "        current = arr[i]\n",
    "        j = i-1\n",
    "        while current < arr[j] and j>=0:\n",
    "            arr[j+1] = arr[j]\n",
    "            j = j - 1\n",
    "        arr[j+1] = current\n",
    "    print(arr)\n",
    "        \n",
    "arr = [12, 11, 13, 5, 6]\n",
    "insertionSort(arr)"
   ]
  },
  {
   "cell_type": "markdown",
   "id": "cec32503",
   "metadata": {},
   "source": [
    "#### 17. Python Program for SelectionSort"
   ]
  },
  {
   "cell_type": "code",
   "execution_count": 3,
   "id": "7d556e34",
   "metadata": {},
   "outputs": [
    {
     "name": "stdout",
     "output_type": "stream",
     "text": [
      "[5, 6, 11, 12, 13]\n"
     ]
    }
   ],
   "source": [
    "def selectionSort(arr):\n",
    "    for i in range(len(arr)):\n",
    "        minIndex = i\n",
    "        for j in range(i+1,len(arr)):\n",
    "            if arr[j] < arr[minIndex]:\n",
    "                minIndex = j\n",
    "        arr[minIndex], arr[i] = arr[i], arr[minIndex]\n",
    "            \n",
    "        \n",
    "    print(arr)\n",
    "        \n",
    "arr = [12, 11, 13, 5, 6]\n",
    "selectionSort(arr)"
   ]
  },
  {
   "cell_type": "markdown",
   "id": "110254ef",
   "metadata": {},
   "source": [
    "#### 18. Python Program for Bubble Sort"
   ]
  },
  {
   "cell_type": "code",
   "execution_count": 2,
   "id": "e503f1b1",
   "metadata": {},
   "outputs": [
    {
     "name": "stdout",
     "output_type": "stream",
     "text": [
      "[1, 2, 3, 4, 5, 5, 7, 8, 9]\n"
     ]
    }
   ],
   "source": [
    "def bubbleSort(a):\n",
    "    for i in range(0,len(a)):\n",
    "        for j in range(0,len(a)-i-1):\n",
    "            if a[j] > a[j+1]:\n",
    "                a[j], a[j+1] = a[j+1], a[j]\n",
    "    return a\n",
    "\n",
    "print(bubbleSort([4,2,3,5,9,1,7,8,5]))"
   ]
  },
  {
   "cell_type": "markdown",
   "id": "658bc9aa",
   "metadata": {},
   "source": [
    "#### 19. Python Program for Merge Sort"
   ]
  },
  {
   "cell_type": "code",
   "execution_count": 1,
   "id": "ec806c0c",
   "metadata": {},
   "outputs": [
    {
     "name": "stdout",
     "output_type": "stream",
     "text": [
      "Given array is\n",
      "[12, 11, 13, 5, 6, 7]\n",
      "Sorted array is: \n",
      "[5, 6, 7, 12, 11, 13]\n"
     ]
    }
   ],
   "source": [
    "def mergeSort(arr):\n",
    "    if len(arr) > 1:\n",
    "    mid = len(arr)//2\n",
    "        L = arr[:mid]\n",
    "        R = arr[mid:]\n",
    "        mergeSort(L)\n",
    "        mergeSort(R)\n",
    "        merge(L, R)\n",
    "\n",
    "def merge(L, R):\n",
    "    i = j = k = 0\n",
    "    while i < len(L) and j < len(R):\n",
    "        if L[i] < R[j]:\n",
    "            arr[k] = L[i]\n",
    "            i += 1\n",
    "        else:\n",
    "            arr[k] = R[j]\n",
    "            j += 1\n",
    "        k += 1\n",
    "\n",
    "    while i < len(L):\n",
    "        arr[k] = L[i]\n",
    "        i += 1\n",
    "        k += 1\n",
    "\n",
    "    while j < len(R):\n",
    "        arr[k] = R[j]\n",
    "        j += 1\n",
    "        k += 1\n",
    "\n",
    "arr = [12, 11, 13, 5, 6, 7]\n",
    "print(\"Given array is\", end=\"\\n\")\n",
    "print(arr)\n",
    "mergeSort(arr)\n",
    "print(\"Sorted array is: \", end=\"\\n\")\n",
    "print(arr)\n",
    "\n",
    "\n"
   ]
  },
  {
   "cell_type": "markdown",
   "id": "048c5e04",
   "metadata": {},
   "source": [
    "#### 20. Python Program for QuickSortSort"
   ]
  },
  {
   "cell_type": "code",
   "execution_count": 7,
   "id": "efc835ec",
   "metadata": {},
   "outputs": [
    {
     "name": "stdout",
     "output_type": "stream",
     "text": [
      "Sorted array: [1, 5, 7, 8, 9, 10]\n"
     ]
    }
   ],
   "source": [
    "def partition(start, end, array):\n",
    "    pivot_index = start\n",
    "    pivot = array[pivot_index]\n",
    "    while start < end:\n",
    "        while start < len(array) and array[start] <= pivot:\n",
    "            start += 1\n",
    "        while array[end] > pivot:\n",
    "            end -= 1\n",
    "        if(start < end):\n",
    "            array[start], array[end] = array[end], array[start]\n",
    "    array[end], array[pivot_index] = array[pivot_index], array[end]\n",
    "    return end\n",
    "def quick_sort(start, end, array):\n",
    "    if (start < end):\n",
    "        p = partition(start, end, array)\n",
    "        quick_sort(start, p - 1, array)\n",
    "        quick_sort(p + 1, end, array)\n",
    "array = [ 10, 7, 8, 9, 1, 5 ]\n",
    "quick_sort(0, len(array) - 1, array)\n",
    "print(f'Sorted array: {array}')"
   ]
  },
  {
   "cell_type": "code",
   "execution_count": null,
   "id": "0e7f5f76",
   "metadata": {},
   "outputs": [],
   "source": []
  }
 ],
 "metadata": {
  "kernelspec": {
   "display_name": "Python 3 (ipykernel)",
   "language": "python",
   "name": "python3"
  },
  "language_info": {
   "codemirror_mode": {
    "name": "ipython",
    "version": 3
   },
   "file_extension": ".py",
   "mimetype": "text/x-python",
   "name": "python",
   "nbconvert_exporter": "python",
   "pygments_lexer": "ipython3",
   "version": "3.9.7"
  }
 },
 "nbformat": 4,
 "nbformat_minor": 5
}
