{
 "cells": [
  {
   "cell_type": "markdown",
   "metadata": {},
   "source": [
    "## What is Flask ?"
   ]
  },
  {
   "cell_type": "markdown",
   "metadata": {},
   "source": [
    "It is basically a web framework written in python. \n",
    "Which is also called a an application framework.\n",
    "It is an open source.\n",
    "And widely/mostly used framework.\n",
    "Flask is also a collection of so many libraries and even many different modules.\n",
    "Need to install flask from python 2.7 onwards, works very well with python 3 n that to 3.3 onwards."
   ]
  },
  {
   "cell_type": "markdown",
   "metadata": {},
   "source": [
    "Uses:\n",
    "    1. Developing Web applications\n",
    "    2. Creating Web APIs\n",
    "    3. For creating machine learning application where one is developing end to end project."
   ]
  },
  {
   "cell_type": "markdown",
   "metadata": {},
   "source": [
    "It is developed by Armin Ronacher.\n",
    "He is currently leads an International Group of python enthusiats>>>>> Pocco\n"
   ]
  },
  {
   "cell_type": "markdown",
   "metadata": {},
   "source": [
    "Flask Depends on two different concepts:\n",
    "    1. WSGI\n",
    "    2. Jinja 2 template engine"
   ]
  },
  {
   "cell_type": "code",
   "execution_count": null,
   "metadata": {},
   "outputs": [],
   "source": [
    "1. WSGI: Web Server Gateway Interface\n",
    "    called as a setup rules or protocols or standards used for communication between web server and web application. \n",
    "    People request web server to get the access or simply access the web application."
   ]
  },
  {
   "cell_type": "code",
   "execution_count": null,
   "metadata": {},
   "outputs": [],
   "source": [
    "2. Jinja 2 template engine"
   ]
  },
  {
   "cell_type": "code",
   "execution_count": null,
   "metadata": {},
   "outputs": [],
   "source": [
    "http: hyper text transfer protocol\n",
    "https: SSL Certified"
   ]
  },
  {
   "cell_type": "code",
   "execution_count": null,
   "metadata": {},
   "outputs": [],
   "source": [
    "Different IDEs\n",
    "VS code\n",
    "Pycharm\n",
    "Spider"
   ]
  },
  {
   "cell_type": "code",
   "execution_count": null,
   "metadata": {},
   "outputs": [],
   "source": [
    "from flask import Flask\n",
    "app = Flask(__name__)\n",
    "\n",
    "@app.route('/') #there are 2 parameters in this paranthesis(rule, options)\n",
    "def welcome():\n",
    "    return 'Welcome to the Flask class'\n",
    "\n",
    "if __name__ == '__main__':\n",
    "    app.run() # there are 4 parameters in this(host, port, debug, options)\n"
   ]
  },
  {
   "cell_type": "code",
   "execution_count": null,
   "metadata": {},
   "outputs": [],
   "source": [
    "host >> Ip address 120.45.3.1\n",
    "port >> 5000/5001\n",
    "debug >> True and False\n",
    "Generally whatever changes we make in code, it simply update n debug. "
   ]
  },
  {
   "cell_type": "code",
   "execution_count": null,
   "metadata": {},
   "outputs": [],
   "source": [
    "steps:\n",
    "installation of virtual environment\n",
    "pip install virtualenv >> windows \n",
    "python -m <environment name_whatever u wish to give> <path of our project>\n",
    "ctrl+shift+p >> python: select interpreter> Enter interpreter path>> find>> it will pop u to the folder which given the path.\n",
    "    script>>python>> click on select interpreter."
   ]
  },
  {
   "cell_type": "code",
   "execution_count": null,
   "metadata": {},
   "outputs": [],
   "source": [
    "from flask import Flask\n",
    "app = Flask(__name__)\n",
    "\n",
    "@app.route('/')\n",
    "def welcome():\n",
    "    return 'Welcome to the Flask class'\n",
    "\n",
    "\n",
    "if __name__ == '__main__':\n",
    "    app.run()"
   ]
  },
  {
   "cell_type": "code",
   "execution_count": null,
   "metadata": {},
   "outputs": [],
   "source": [
    "Building URL in a Dynamic way and different variable rules:\n",
    "int: integers are included\n",
    "float: floats are included\n",
    "path: include the space "
   ]
  },
  {
   "cell_type": "markdown",
   "metadata": {},
   "source": [
    "If we want to divert or direct our URL with respect to our result or output, we can direct it with the help of a concept called url_for.\n",
    "We added two more libraries url_for, redirect.\n",
    "So in the program instead of returning just result, we will replace it with  \"return redirect(url_for(parameters))\" "
   ]
  },
  {
   "cell_type": "code",
   "execution_count": null,
   "metadata": {},
   "outputs": [],
   "source": []
  }
 ],
 "metadata": {
  "kernelspec": {
   "display_name": "Python 3 (ipykernel)",
   "language": "python",
   "name": "python3"
  },
  "language_info": {
   "codemirror_mode": {
    "name": "ipython",
    "version": 3
   },
   "file_extension": ".py",
   "mimetype": "text/x-python",
   "name": "python",
   "nbconvert_exporter": "python",
   "pygments_lexer": "ipython3",
   "version": "3.9.7"
  }
 },
 "nbformat": 4,
 "nbformat_minor": 4
}
