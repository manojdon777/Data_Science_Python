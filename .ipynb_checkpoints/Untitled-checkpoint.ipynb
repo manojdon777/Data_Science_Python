{
 "cells": [
  {
   "cell_type": "code",
   "execution_count": 3,
   "id": "ad250f41",
   "metadata": {},
   "outputs": [
    {
     "data": {
      "text/plain": [
       "'a=10\\nb=float(a)'"
      ]
     },
     "execution_count": 3,
     "metadata": {},
     "output_type": "execute_result"
    }
   ],
   "source": [
    "data = '''a=10\n",
    "b=float(a)\n",
    "hivg jbrgbtu45\n",
    "cnbv kjchbhbhivg'''\n",
    "data"
   ]
  },
  {
   "cell_type": "code",
   "execution_count": null,
   "id": "88a375fe",
   "metadata": {},
   "outputs": [],
   "source": []
  },
  {
   "cell_type": "code",
   "execution_count": null,
   "id": "d998c589",
   "metadata": {},
   "outputs": [],
   "source": [
    "two types of bitwise operators\n",
    "1.  unary\n",
    "2. binary\n",
    "5 101\n",
    "7 111\n",
    "-------\n",
    "  111 "
   ]
  },
  {
   "cell_type": "code",
   "execution_count": 6,
   "id": "82ff5931",
   "metadata": {},
   "outputs": [
    {
     "name": "stdout",
     "output_type": "stream",
     "text": [
      "0b10110\n",
      "-0b10111\n",
      "-23\n"
     ]
    }
   ],
   "source": [
    "print(bin(22))\n",
    "print(bin(~22))\n",
    "print(~22)\n"
   ]
  }
 ],
 "metadata": {
  "kernelspec": {
   "display_name": "Python 3 (ipykernel)",
   "language": "python",
   "name": "python3"
  },
  "language_info": {
   "codemirror_mode": {
    "name": "ipython",
    "version": 3
   },
   "file_extension": ".py",
   "mimetype": "text/x-python",
   "name": "python",
   "nbconvert_exporter": "python",
   "pygments_lexer": "ipython3",
   "version": "3.9.7"
  }
 },
 "nbformat": 4,
 "nbformat_minor": 5
}
