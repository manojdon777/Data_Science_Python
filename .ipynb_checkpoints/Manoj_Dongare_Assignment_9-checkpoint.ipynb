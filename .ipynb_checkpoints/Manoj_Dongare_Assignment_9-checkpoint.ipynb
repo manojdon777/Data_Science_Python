{
 "cells": [
  {
   "cell_type": "markdown",
   "id": "99c4e24f",
   "metadata": {},
   "source": [
    "1. Write a re program to check that a string contains only a certain set of characters (in this case a-z, A-Z and 0-9)."
   ]
  },
  {
   "cell_type": "code",
   "execution_count": 2,
   "id": "02024b6c",
   "metadata": {},
   "outputs": [
    {
     "name": "stdout",
     "output_type": "stream",
     "text": [
      "Using Method 1:\n",
      "True\n",
      "False\n",
      "Using Method 2:\n",
      "True\n",
      "False\n",
      "Using Method 3:\n",
      "True\n",
      "False\n"
     ]
    }
   ],
   "source": [
    "import re \n",
    "\n",
    "####### Method 1 #######\n",
    "def fun1 (text):\n",
    "    result = re.compile(r'[^a-zA-Z0-9]')\n",
    "    return not result.search(text)\n",
    "print('Using Method 1:') \n",
    "print(fun1('ehkb009'))\n",
    "print(fun1('Hello!'))\n",
    "\n",
    "####### Method 2 #######\n",
    "def fun2(text):\n",
    "    result = re.sub(\"[A-Za-z0-9]\", '', text)\n",
    "    return not len(result)\n",
    "print('Using Method 2:')\n",
    "print(fun2('ehkb009'))\n",
    "print(fun2('Hello!'))\n",
    "\n",
    "####### Method 3 #######\n",
    "def fun3(text):\n",
    "    result = re.findall('[^\\w\\s]+',text)\n",
    "    return not result\n",
    "print('Using Method 3:')\n",
    "print(fun3('ehkb009'))\n",
    "print(fun3('Hello!'))\n",
    "\n"
   ]
  },
  {
   "cell_type": "markdown",
   "id": "0a8fc8fc",
   "metadata": {},
   "source": [
    "2. Create a program to split a string by only the first occurrence of any substring."
   ]
  },
  {
   "cell_type": "code",
   "execution_count": 14,
   "id": "3862d18f",
   "metadata": {},
   "outputs": [
    {
     "name": "stdout",
     "output_type": "stream",
     "text": [
      "['Johnson ', ' Sons']\n"
     ]
    }
   ],
   "source": [
    "import re\n",
    "string = 'Johnson & Sons'\n",
    "print(re.split('&', string))"
   ]
  },
  {
   "cell_type": "markdown",
   "id": "2ecc6d02",
   "metadata": {},
   "source": [
    "3. Write a python code that would matches a string that has an 'a' followed by zero or more 'b's."
   ]
  },
  {
   "cell_type": "code",
   "execution_count": 2,
   "id": "43dbc6b1",
   "metadata": {},
   "outputs": [
    {
     "data": {
      "text/plain": [
       "['abb', 'a', 'ab', 'a', 'a']"
      ]
     },
     "execution_count": 2,
     "metadata": {},
     "output_type": "execute_result"
    }
   ],
   "source": [
    "import re\n",
    "a = 'abb annnn ab adbbbb a'\n",
    "b = re.findall('[a][b]*',a)\n",
    "b"
   ]
  },
  {
   "cell_type": "markdown",
   "id": "5a2a9c44",
   "metadata": {},
   "source": [
    "4. Wap to find Three digit number followed by space followed by two digit number in a string."
   ]
  },
  {
   "cell_type": "code",
   "execution_count": 12,
   "id": "51a0e663",
   "metadata": {},
   "outputs": [
    {
     "data": {
      "text/plain": [
       "['900 98', '900 45']"
      ]
     },
     "execution_count": 12,
     "metadata": {},
     "output_type": "execute_result"
    }
   ],
   "source": [
    "import re\n",
    "string = '98900 98900 459i'\n",
    "re.findall('\\d{3}\\s\\d{2}', string)"
   ]
  },
  {
   "cell_type": "markdown",
   "id": "b1698f46",
   "metadata": {},
   "source": [
    "5. Write a Python program that matches a string that has an a followed by one or more b's."
   ]
  },
  {
   "cell_type": "code",
   "execution_count": 14,
   "id": "55bc0c1a",
   "metadata": {},
   "outputs": [
    {
     "data": {
      "text/plain": [
       "['abb', 'ab']"
      ]
     },
     "execution_count": 14,
     "metadata": {},
     "output_type": "execute_result"
    }
   ],
   "source": [
    "import re\n",
    "string = 'abb annnn ab adbbbb a'\n",
    "re.findall('[a][b]+',string)\n"
   ]
  },
  {
   "cell_type": "markdown",
   "id": "42407c25",
   "metadata": {},
   "source": [
    "6. Write a program to search inform in a string both in uppercase & in lowercase. (INFORM or inform)"
   ]
  },
  {
   "cell_type": "code",
   "execution_count": 3,
   "id": "85ca8b12",
   "metadata": {},
   "outputs": [
    {
     "name": "stdout",
     "output_type": "stream",
     "text": [
      "['INFORM']\n",
      "['inform']\n"
     ]
    }
   ],
   "source": [
    "import re\n",
    "s1 = 'INFORM'\n",
    "s2 = 'inform'\n",
    "string = 'this is to inform you that tomorrow will be holiday also you have INFORM that you have to complete work by today evening'\n",
    "print(re.findall(s1, string))\n",
    "print(re.findall(s2, string))"
   ]
  },
  {
   "cell_type": "markdown",
   "id": "126eeea9",
   "metadata": {},
   "source": [
    "7. WAP that matches a string that has an 'a' followed by zero or one 'b'."
   ]
  },
  {
   "cell_type": "code",
   "execution_count": 4,
   "id": "2d750fa6",
   "metadata": {},
   "outputs": [
    {
     "data": {
      "text/plain": [
       "['ab', 'a', 'ab', 'a', 'a']"
      ]
     },
     "execution_count": 4,
     "metadata": {},
     "output_type": "execute_result"
    }
   ],
   "source": [
    "import re\n",
    "string = 'abb annnn ab adbbbb a'\n",
    "re.findall('[a][b]?',string)"
   ]
  },
  {
   "cell_type": "markdown",
   "id": "b2d5414d",
   "metadata": {},
   "source": [
    "8. WAP that matches a string that has an 'a' followed by three 'b'."
   ]
  },
  {
   "cell_type": "code",
   "execution_count": 6,
   "id": "755e8f33",
   "metadata": {},
   "outputs": [
    {
     "data": {
      "text/plain": [
       "['abbb', 'abbb']"
      ]
     },
     "execution_count": 6,
     "metadata": {},
     "output_type": "execute_result"
    }
   ],
   "source": [
    "import re\n",
    "string = 'abb abbb annnnabbb ab adbbbb a'\n",
    "re.findall('[a][b]{3}?',string)"
   ]
  },
  {
   "cell_type": "markdown",
   "id": "81f904d5",
   "metadata": {},
   "source": [
    "9. Write a Python program that matches a string that has an 'a' followed by two to three 'b'."
   ]
  },
  {
   "cell_type": "code",
   "execution_count": 18,
   "id": "31fba154",
   "metadata": {},
   "outputs": [
    {
     "data": {
      "text/plain": [
       "['abb', 'abbb', 'abbb', 'abbb']"
      ]
     },
     "execution_count": 18,
     "metadata": {},
     "output_type": "execute_result"
    }
   ],
   "source": [
    "import re\n",
    "string = 'abb abbb annnnabbb ab abbbb a'\n",
    "re.findall('[a][b]{2,3}',string)"
   ]
  },
  {
   "cell_type": "markdown",
   "id": "bef445a7",
   "metadata": {},
   "source": [
    "10. Find all the words starting in range of k-n using a for loop & re."
   ]
  },
  {
   "cell_type": "code",
   "execution_count": 34,
   "id": "3a6939c6",
   "metadata": {},
   "outputs": [
    {
     "name": "stdout",
     "output_type": "stream",
     "text": [
      "['kaplesh', 'lython', 'man', 'nest']\n"
     ]
    }
   ],
   "source": [
    "import re\n",
    "string = 'man sure lython use kaplesh nest '\n",
    "c = ['k','l','m','n']\n",
    "d = []\n",
    "for i in c:\n",
    "    b = re.search(f'{i}'+'[A-z]{1,12}',string)\n",
    "    d.append(b.group())\n",
    "print(d)"
   ]
  },
  {
   "cell_type": "markdown",
   "id": "89f05ad5",
   "metadata": {},
   "source": [
    "11. Write a Python program to find sequences of lowercase letters joined with a underscore."
   ]
  },
  {
   "cell_type": "code",
   "execution_count": 2,
   "id": "72c3b550",
   "metadata": {},
   "outputs": [
    {
     "data": {
      "text/plain": [
       "['abcds_asdsf', 'manoj_don']"
      ]
     },
     "execution_count": 2,
     "metadata": {},
     "output_type": "execute_result"
    }
   ],
   "source": [
    "import re\n",
    "text = 'abcds_asdsf asfsdf manoj_don'\n",
    "op = re.findall('[a-z]+[_][a-z]+',text)\n",
    "op"
   ]
  },
  {
   "cell_type": "markdown",
   "id": "5c32b4d3",
   "metadata": {},
   "source": [
    "12. Write a program to find the sequences of one upper case letter followed by lower case letters."
   ]
  },
  {
   "cell_type": "code",
   "execution_count": 6,
   "id": "64562b66",
   "metadata": {},
   "outputs": [
    {
     "data": {
      "text/plain": [
       "['Rushi', 'Pkshay', 'Pallawi']"
      ]
     },
     "execution_count": 6,
     "metadata": {},
     "output_type": "execute_result"
    }
   ],
   "source": [
    "text = 'abcds_asdsf Rushi APPkshay_surve Pallawi'\n",
    "\n",
    "import re\n",
    "op = re.findall('[A-Z][a-z]+',text)\n",
    "op"
   ]
  },
  {
   "cell_type": "markdown",
   "id": "d220a28b",
   "metadata": {},
   "source": [
    "13. Write a program that matches a string that has an 'a' followed by anything, ending in 'b'."
   ]
  },
  {
   "cell_type": "code",
   "execution_count": 7,
   "id": "f73d0da8",
   "metadata": {},
   "outputs": [
    {
     "data": {
      "text/plain": [
       "['absorb', 'aub']"
      ]
     },
     "execution_count": 7,
     "metadata": {},
     "output_type": "execute_result"
    }
   ],
   "source": [
    "s='dry towel can absorb water well aub'\n",
    "a=re.findall('[a]\\w*[b]',s)\n",
    "a"
   ]
  },
  {
   "cell_type": "code",
   "execution_count": null,
   "id": "64d69d8e",
   "metadata": {},
   "outputs": [],
   "source": [
    "14. WAP that matches a word at the beginning of a string."
   ]
  },
  {
   "cell_type": "code",
   "execution_count": 8,
   "id": "5543f7f3",
   "metadata": {},
   "outputs": [
    {
     "name": "stdout",
     "output_type": "stream",
     "text": [
      "first word matches\n"
     ]
    }
   ],
   "source": [
    "s='Joey doesn\\'t share food'\n",
    "a=re.match('Joey',s)\n",
    "if a:\n",
    "    print('first word matches')\n",
    "else:\n",
    "    print('first word DOESN\\'t match')"
   ]
  },
  {
   "cell_type": "markdown",
   "id": "77af6aef",
   "metadata": {},
   "source": [
    "15. Write a program that matches a word at the end of string, with optional punctuation."
   ]
  },
  {
   "cell_type": "code",
   "execution_count": null,
   "id": "9d1b1601",
   "metadata": {},
   "outputs": [],
   "source": []
  },
  {
   "cell_type": "markdown",
   "id": "ccb77d2d",
   "metadata": {},
   "source": [
    "16. Write a Python program that matches a word containing 'z'. .\n"
   ]
  },
  {
   "cell_type": "code",
   "execution_count": 3,
   "id": "447d9528",
   "metadata": {},
   "outputs": [
    {
     "name": "stdout",
     "output_type": "stream",
     "text": [
      "['manoz']\n"
     ]
    }
   ],
   "source": [
    "import re\n",
    "string='Its not manoz. It is manoj'\n",
    "result=re.findall('\\w*z\\w*',string)\n",
    "print(result)"
   ]
  },
  {
   "cell_type": "markdown",
   "id": "8e31df12",
   "metadata": {},
   "source": [
    "17.Write a program that matches a word containing 'z', not at the start or end of the word."
   ]
  },
  {
   "cell_type": "code",
   "execution_count": 4,
   "id": "4f49f0a1",
   "metadata": {},
   "outputs": [
    {
     "name": "stdout",
     "output_type": "stream",
     "text": [
      "['cdzh']\n"
     ]
    }
   ],
   "source": [
    "string=\"Abc_xyz Manoz cdzh fnke zdfg\"\n",
    "pattern=\"\\w+z\\w+\"\n",
    "s=re.findall(pattern,string)\n",
    "print(s)"
   ]
  },
  {
   "cell_type": "markdown",
   "id": "bca54eee",
   "metadata": {},
   "source": [
    "18.Write a program to match a string that contains only upper and lowercase letters, numbers, and underscores."
   ]
  },
  {
   "cell_type": "code",
   "execution_count": 5,
   "id": "89b3a083",
   "metadata": {},
   "outputs": [
    {
     "name": "stdout",
     "output_type": "stream",
     "text": [
      "['Abc_xyz123']\n"
     ]
    }
   ],
   "source": [
    "string=\"Abc_xyz123 kfk@db12\"\n",
    "pattern=\"^[\\w_]*\"\n",
    "s=re.findall(pattern,string)\n",
    "print(s)"
   ]
  },
  {
   "cell_type": "code",
   "execution_count": null,
   "id": "9e10860e",
   "metadata": {},
   "outputs": [],
   "source": [
    "19.WAP where a string will start with a specific\n",
    "number."
   ]
  },
  {
   "cell_type": "code",
   "execution_count": null,
   "id": "e0fb4c10",
   "metadata": {},
   "outputs": [],
   "source": [
    "string=\"55688\"\n",
    "pattern=\"^5[0-9]*\"\n",
    "s=re.findall(pattern,string)\n",
    "print(s)"
   ]
  },
  {
   "cell_type": "markdown",
   "id": "baee3622",
   "metadata": {},
   "source": [
    "20.Write a Python program to remove leading zeros from an IP address."
   ]
  },
  {
   "cell_type": "code",
   "execution_count": 3,
   "id": "0eafe9b0",
   "metadata": {},
   "outputs": [
    {
     "name": "stdout",
     "output_type": "stream",
     "text": [
      "100.20.3.400\n",
      "201.34.56.12\n"
     ]
    }
   ],
   "source": [
    "import re\n",
    "############ Method 1 ###############\n",
    "t = '100.020.003.400'\n",
    "op = re.sub('[.][0]*','.',t)\n",
    "print(op)\n",
    "############ Method 2 ###############\n",
    "ip=\"0201.034.056.012\"\n",
    "s=re.sub(r'\\b0+(\\d)', r'\\1',ip)\n",
    "print(s)"
   ]
  },
  {
   "cell_type": "markdown",
   "id": "6e3d188c",
   "metadata": {},
   "source": [
    "21.Write a program to check for a number at the end of a string."
   ]
  },
  {
   "cell_type": "code",
   "execution_count": 2,
   "id": "ff6cb95b",
   "metadata": {},
   "outputs": [
    {
     "name": "stdout",
     "output_type": "stream",
     "text": [
      "['khuihihuii8']\n",
      "[]\n"
     ]
    }
   ],
   "source": [
    "import re\n",
    "string=\"f45gff hl12\"\n",
    "string1=\"akonl55k\"\n",
    "pattern=\"\\w*\\d$\"\n",
    "s=re.findall(pattern,string)\n",
    "s1=re.findall(pattern,string1)\n",
    "print(s)\n",
    "print(s1)"
   ]
  },
  {
   "cell_type": "markdown",
   "id": "fce90659",
   "metadata": {},
   "source": [
    "22. Code a program to search the numbers (0-9) of length between 1 to 3 in a given string."
   ]
  },
  {
   "cell_type": "code",
   "execution_count": 6,
   "id": "159f55d4",
   "metadata": {},
   "outputs": [
    {
     "data": {
      "text/plain": [
       "['1', '12', '123', '455', '222', '741']"
      ]
     },
     "execution_count": 6,
     "metadata": {},
     "output_type": "execute_result"
    }
   ],
   "source": [
    "import re\n",
    "text1 = 'aj 1 12 123 bj 1234 455 222 741 5678'\n",
    "text2=re.findall(r\"\\b[0-9]{1,3}\\b\",text1)\n",
    "text2"
   ]
  },
  {
   "cell_type": "markdown",
   "id": "2aa98c1e",
   "metadata": {},
   "source": [
    "Q23.Write a program to search some literals strings in a string."
   ]
  },
  {
   "cell_type": "code",
   "execution_count": 8,
   "id": "a62cab5c",
   "metadata": {},
   "outputs": [
    {
     "data": {
      "text/plain": [
       "['fox', 'dog']"
      ]
     },
     "execution_count": 8,
     "metadata": {},
     "output_type": "execute_result"
    }
   ],
   "source": [
    "import re\n",
    "input_text='The quick brown fox jumps over the lazy dog.'\n",
    "# Searched words : 'fox', 'dog', 'horse'\n",
    "result=re.findall(\"fox|dog|horse\",input_text)\n",
    "result"
   ]
  },
  {
   "cell_type": "markdown",
   "id": "3fada596",
   "metadata": {},
   "source": [
    "Q24. Write a Python program to search a literals string in a string and also find the location within the original string where the pattern occurs."
   ]
  },
  {
   "cell_type": "code",
   "execution_count": 10,
   "id": "d283cf6d",
   "metadata": {},
   "outputs": [
    {
     "name": "stdout",
     "output_type": "stream",
     "text": [
      "match found\n",
      "location is (16, 19)\n"
     ]
    }
   ],
   "source": [
    "text='The quick brown fox jumps over the lazy dog.'\n",
    "result=re.search('fox',text)\n",
    "if 'fox' in result.group():\n",
    "    print('match found')\n",
    "    print('location is',result.span())\n",
    "else:\n",
    "    print('match not found')"
   ]
  },
  {
   "cell_type": "markdown",
   "id": "1a4ea4bd",
   "metadata": {},
   "source": [
    "25. Write a code to find a common substrings within a string."
   ]
  },
  {
   "cell_type": "code",
   "execution_count": 1,
   "id": "41c3e8e9",
   "metadata": {},
   "outputs": [
    {
     "data": {
      "text/plain": [
       "['exercises', 'exercises', 'exercises']"
      ]
     },
     "execution_count": 1,
     "metadata": {},
     "output_type": "execute_result"
    }
   ],
   "source": [
    "text = 'Python exercises, PHP exercises, C# exercises'\n",
    "\n",
    "import re\n",
    "op = re.findall('exercises', text)\n",
    "op"
   ]
  },
  {
   "cell_type": "code",
   "execution_count": null,
   "id": "3b1ab50a",
   "metadata": {},
   "outputs": [],
   "source": [
    "26. Write a program to find the occurrence and position of the substrings within a\n",
    "string."
   ]
  },
  {
   "cell_type": "code",
   "execution_count": null,
   "id": "9829ab4b",
   "metadata": {},
   "outputs": [],
   "source": [
    "text = 'Write a program to find the occurrence and position of the substrings\n",
    "\n",
    "within a string'\n",
    "word = input('Enter Word:')\n",
    "occurance = re.findall(f'{word}', text)\n",
    "position = re.search(f'{word}', text)\n",
    "print(f'Word \"{word}\" is present at position {position.span()} and occurs {len\n",
    "(occurance)} times.')"
   ]
  },
  {
   "cell_type": "markdown",
   "id": "79273092",
   "metadata": {},
   "source": [
    "27. Write a code to replace whitespaces with an underscore and vice versa."
   ]
  },
  {
   "cell_type": "code",
   "execution_count": 2,
   "id": "58cb449a",
   "metadata": {},
   "outputs": [
    {
     "name": "stdout",
     "output_type": "stream",
     "text": [
      "op1: akshay_surve_@11_gmail_com\n",
      "op2: akshay surve @11 gmail com\n"
     ]
    }
   ],
   "source": [
    "text = 'akshay_surve @11_gmail com'\n",
    "\n",
    "import re\n",
    "op1 = re.sub(' ', '_', text)\n",
    "op2 = re.sub('_',' ', text)\n",
    "print('op1:',op1) ; print('op2:',op2)"
   ]
  },
  {
   "cell_type": "markdown",
   "id": "64e9888f",
   "metadata": {},
   "source": [
    "28. How would you remove all whitespaces from a string?"
   ]
  },
  {
   "cell_type": "code",
   "execution_count": 4,
   "id": "32df1dfc",
   "metadata": {},
   "outputs": [
    {
     "name": "stdout",
     "output_type": "stream",
     "text": [
      "Aregularexpressionisasequenceofcharactersthatspecifiesasearchpatternintext.\n"
     ]
    }
   ],
   "source": [
    "text = 'A regular expression is a sequence of characters that specifies a search pattern in text. '\n",
    "import re\n",
    "op = re.sub(' +', '', text)\n",
    "print(op)"
   ]
  },
  {
   "cell_type": "markdown",
   "id": "dc144ca2",
   "metadata": {},
   "source": [
    "29. Write a Python program to match if two words from a list of words starting\n",
    "with letter 'P'."
   ]
  },
  {
   "cell_type": "code",
   "execution_count": null,
   "id": "64ab18ce",
   "metadata": {},
   "outputs": [],
   "source": [
    "import re\n",
    "text = 'pass parker sanket paulie akshay'\n",
    "op = re.findall('\\b[p]w+|[p]\\w+', text)\n",
    "print(op)\n",
    "#########################################"
   ]
  },
  {
   "cell_type": "code",
   "execution_count": null,
   "id": "30f82ac7",
   "metadata": {},
   "outputs": [],
   "source": []
  },
  {
   "cell_type": "code",
   "execution_count": null,
   "id": "a75be798",
   "metadata": {},
   "outputs": [],
   "source": []
  },
  {
   "cell_type": "code",
   "execution_count": null,
   "id": "0115c730",
   "metadata": {},
   "outputs": [],
   "source": []
  },
  {
   "cell_type": "code",
   "execution_count": null,
   "id": "e690bfca",
   "metadata": {},
   "outputs": [],
   "source": []
  },
  {
   "cell_type": "code",
   "execution_count": null,
   "id": "d57be737",
   "metadata": {},
   "outputs": [],
   "source": []
  }
 ],
 "metadata": {
  "kernelspec": {
   "display_name": "Python 3 (ipykernel)",
   "language": "python",
   "name": "python3"
  },
  "language_info": {
   "codemirror_mode": {
    "name": "ipython",
    "version": 3
   },
   "file_extension": ".py",
   "mimetype": "text/x-python",
   "name": "python",
   "nbconvert_exporter": "python",
   "pygments_lexer": "ipython3",
   "version": "3.9.7"
  }
 },
 "nbformat": 4,
 "nbformat_minor": 5
}
