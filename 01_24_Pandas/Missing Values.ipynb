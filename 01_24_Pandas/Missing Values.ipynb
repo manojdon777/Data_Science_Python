{
 "cells": [
  {
   "cell_type": "markdown",
   "id": "893e3ae5",
   "metadata": {},
   "source": [
    "## Handling Missing Values"
   ]
  },
  {
   "cell_type": "code",
   "execution_count": 1,
   "id": "7e191dc9",
   "metadata": {},
   "outputs": [],
   "source": [
    "import pandas as pd \n",
    "import numpy as np"
   ]
  },
  {
   "cell_type": "code",
   "execution_count": null,
   "id": "5df97bbe",
   "metadata": {},
   "outputs": [],
   "source": [
    "1. Detect Null/Misssing Values\n",
    "2. Fill Null Values\n",
    "3. Drop Null Values Column"
   ]
  },
  {
   "cell_type": "code",
   "execution_count": null,
   "id": "521641fd",
   "metadata": {},
   "outputs": [],
   "source": [
    "1. df.isnull()\n",
    "   df.isnull().sum()\n",
    "2. df.isna()\n",
    "   df.isna().sum()\n",
    "3. df.fillna() # inplace=True\n",
    "4. df.dropna() #Dropping rows\n",
    "5. df.drop()   # Dropping Columns"
   ]
  },
  {
   "cell_type": "code",
   "execution_count": null,
   "id": "46bc408e",
   "metadata": {},
   "outputs": [],
   "source": [
    "df.min()\n",
    "df.max()\n",
    "df.mean()\n",
    "df.median()\n",
    "stats.mode()"
   ]
  },
  {
   "cell_type": "markdown",
   "id": "f0907ee9",
   "metadata": {},
   "source": [
    "## 1. Detect Null Values"
   ]
  },
  {
   "cell_type": "code",
   "execution_count": null,
   "id": "b1f63efe",
   "metadata": {},
   "outputs": [],
   "source": [
    "df = pd.read_csv('Emp_Records.csv')\n",
    "df.head(10)"
   ]
  },
  {
   "cell_type": "code",
   "execution_count": null,
   "id": "ad9dee13",
   "metadata": {},
   "outputs": [],
   "source": [
    "df = pd.read_csv('Emp_Records2.csv')\n",
    "df.head(10)"
   ]
  },
  {
   "cell_type": "code",
   "execution_count": null,
   "id": "7ac6fe92",
   "metadata": {},
   "outputs": [],
   "source": [
    "df.isnull() # True or False"
   ]
  },
  {
   "cell_type": "code",
   "execution_count": null,
   "id": "ac741ce0",
   "metadata": {},
   "outputs": [],
   "source": [
    "df.isnull().sum()"
   ]
  },
  {
   "cell_type": "code",
   "execution_count": null,
   "id": "cc6c7723",
   "metadata": {},
   "outputs": [],
   "source": [
    "df.isna()"
   ]
  },
  {
   "cell_type": "code",
   "execution_count": null,
   "id": "575fcdbb",
   "metadata": {},
   "outputs": [],
   "source": [
    "df.isna().sum()"
   ]
  },
  {
   "cell_type": "code",
   "execution_count": null,
   "id": "b19d0855",
   "metadata": {},
   "outputs": [],
   "source": [
    "df.info()"
   ]
  },
  {
   "cell_type": "markdown",
   "id": "e13dadf5",
   "metadata": {},
   "source": [
    "## 2. Fill Missing Values"
   ]
  },
  {
   "cell_type": "code",
   "execution_count": null,
   "id": "29733a9c",
   "metadata": {},
   "outputs": [],
   "source": [
    "df.fillna(value, inplace = True)"
   ]
  },
  {
   "cell_type": "code",
   "execution_count": null,
   "id": "b2932adc",
   "metadata": {},
   "outputs": [],
   "source": [
    "df.head()"
   ]
  },
  {
   "cell_type": "code",
   "execution_count": null,
   "id": "2d794b1b",
   "metadata": {},
   "outputs": [],
   "source": [
    "df1 = df.fillna(1000)\n",
    "df1.head(10)"
   ]
  },
  {
   "cell_type": "code",
   "execution_count": null,
   "id": "f72a2ccf",
   "metadata": {},
   "outputs": [],
   "source": [
    "df['Age in Yrs'] = df['Age in Yrs'].fillna(2000)\n",
    "df.head()"
   ]
  },
  {
   "cell_type": "code",
   "execution_count": null,
   "id": "b7cfec09",
   "metadata": {},
   "outputs": [],
   "source": [
    "df.isna().sum()"
   ]
  },
  {
   "cell_type": "code",
   "execution_count": null,
   "id": "fb332889",
   "metadata": {},
   "outputs": [],
   "source": [
    "df = pd.read_csv('Emp_Records2.csv')\n",
    "df.head(10)"
   ]
  },
  {
   "cell_type": "code",
   "execution_count": null,
   "id": "7aac5df6",
   "metadata": {},
   "outputs": [],
   "source": [
    "df.isna().sum()"
   ]
  },
  {
   "cell_type": "code",
   "execution_count": null,
   "id": "98f61265",
   "metadata": {},
   "outputs": [],
   "source": [
    "df['Age in Yrs'].mean()"
   ]
  },
  {
   "cell_type": "code",
   "execution_count": null,
   "id": "727c2c31",
   "metadata": {},
   "outputs": [],
   "source": [
    "df['Age in Yrs'] = df['Age in Yrs'].fillna(df['Age in Yrs'].mean())\n",
    "df.head()"
   ]
  },
  {
   "cell_type": "code",
   "execution_count": null,
   "id": "a47cf2f7",
   "metadata": {},
   "outputs": [],
   "source": [
    "df['Weight in Kgs'].mean()"
   ]
  },
  {
   "cell_type": "code",
   "execution_count": null,
   "id": "f467503a",
   "metadata": {},
   "outputs": [],
   "source": [
    "df['Weight in Kgs'] = df['Weight in Kgs'].fillna(df['Weight in Kgs'].mean())\n",
    "df.head()"
   ]
  },
  {
   "cell_type": "code",
   "execution_count": null,
   "id": "cce847f5",
   "metadata": {},
   "outputs": [],
   "source": [
    "df = pd.read_csv('Emp_Records2.csv')\n",
    "df1 = df.copy()\n",
    "df.head(10)"
   ]
  },
  {
   "cell_type": "code",
   "execution_count": null,
   "id": "67522130",
   "metadata": {},
   "outputs": [],
   "source": [
    "mean_wt = df['Weight in Kgs'].mean()\n",
    "med_wt  = df['Weight in Kgs'].median()\n",
    "print(mean_wt)\n",
    "print(med_wt)"
   ]
  },
  {
   "cell_type": "code",
   "execution_count": null,
   "id": "79bb06e3",
   "metadata": {},
   "outputs": [],
   "source": [
    "df1['Weight in Kgs'] = df1['Weight in Kgs'].fillna(mean_wt)\n",
    "df1.head(10)"
   ]
  },
  {
   "cell_type": "code",
   "execution_count": null,
   "id": "2c40aef0",
   "metadata": {},
   "outputs": [],
   "source": [
    "from scipy import stats\n",
    "stats.mode(df['Weight in Kgs'])"
   ]
  },
  {
   "cell_type": "code",
   "execution_count": null,
   "id": "b4f90064",
   "metadata": {},
   "outputs": [],
   "source": [
    "df1['Age in Yrs'].fillna(df1['Age in Yrs'].mean(),inplace=True)\n",
    "df1.head(10)"
   ]
  },
  {
   "cell_type": "code",
   "execution_count": null,
   "id": "2ce124c3",
   "metadata": {},
   "outputs": [],
   "source": [
    "stats.mode(df1['City'])"
   ]
  },
  {
   "cell_type": "code",
   "execution_count": null,
   "id": "43ab5a96",
   "metadata": {},
   "outputs": [],
   "source": [
    "df = pd.read_csv('Emp_Records2.csv')\n",
    "df1 = df.copy()\n",
    "df.head(10)"
   ]
  },
  {
   "cell_type": "code",
   "execution_count": null,
   "id": "c437329d",
   "metadata": {},
   "outputs": [],
   "source": [
    "df['City'] = df['City'].fillna(df['City'].mode())\n",
    "df.head()"
   ]
  },
  {
   "cell_type": "code",
   "execution_count": null,
   "id": "b76c45f8",
   "metadata": {},
   "outputs": [],
   "source": [
    "df['City'].mode()"
   ]
  },
  {
   "cell_type": "code",
   "execution_count": null,
   "id": "127d84e4",
   "metadata": {},
   "outputs": [],
   "source": [
    "df = pd.read_csv('Emp_Records2.csv')\n",
    "df1 = df.copy()\n",
    "df.head(10)"
   ]
  },
  {
   "cell_type": "markdown",
   "id": "4e941ac5",
   "metadata": {},
   "source": [
    "## dropna"
   ]
  },
  {
   "cell_type": "code",
   "execution_count": null,
   "id": "87681ed4",
   "metadata": {},
   "outputs": [],
   "source": [
    "df.isna().sum()"
   ]
  },
  {
   "cell_type": "code",
   "execution_count": null,
   "id": "9a08c5ec",
   "metadata": {},
   "outputs": [],
   "source": [
    "df.dropna().head()"
   ]
  },
  {
   "cell_type": "code",
   "execution_count": null,
   "id": "30c3de65",
   "metadata": {},
   "outputs": [],
   "source": [
    "df.shape"
   ]
  },
  {
   "cell_type": "code",
   "execution_count": null,
   "id": "6b68455d",
   "metadata": {},
   "outputs": [],
   "source": [
    "df.dropna(thresh=6) # In a row if there are 6 Non Null values, that row will not be deleted"
   ]
  },
  {
   "cell_type": "code",
   "execution_count": null,
   "id": "f5b4b5fb",
   "metadata": {},
   "outputs": [],
   "source": [
    "df1.head(10)"
   ]
  },
  {
   "cell_type": "code",
   "execution_count": null,
   "id": "50222e02",
   "metadata": {},
   "outputs": [],
   "source": [
    "df.dropna(thresh=5) # In a row if there are 5 Non Null values, that row will not be deleted"
   ]
  },
  {
   "cell_type": "code",
   "execution_count": null,
   "id": "a7a1ae3c",
   "metadata": {},
   "outputs": [],
   "source": []
  },
  {
   "cell_type": "code",
   "execution_count": null,
   "id": "d549d683",
   "metadata": {},
   "outputs": [],
   "source": [
    "df2 = df1[:11]\n",
    "df2"
   ]
  },
  {
   "cell_type": "code",
   "execution_count": null,
   "id": "78774131",
   "metadata": {},
   "outputs": [],
   "source": [
    "df2.isna().sum()"
   ]
  },
  {
   "cell_type": "code",
   "execution_count": null,
   "id": "baca7144",
   "metadata": {},
   "outputs": [],
   "source": [
    "df2.dropna(thresh=7)"
   ]
  },
  {
   "cell_type": "code",
   "execution_count": null,
   "id": "5881fa47",
   "metadata": {},
   "outputs": [],
   "source": [
    "df2.dropna(thresh=6)"
   ]
  },
  {
   "cell_type": "code",
   "execution_count": null,
   "id": "514432fd",
   "metadata": {},
   "outputs": [],
   "source": [
    "df2.dropna(thresh=5)"
   ]
  },
  {
   "cell_type": "code",
   "execution_count": null,
   "id": "a9668e14",
   "metadata": {},
   "outputs": [],
   "source": [
    "df2"
   ]
  },
  {
   "cell_type": "code",
   "execution_count": null,
   "id": "027b8ccd",
   "metadata": {},
   "outputs": [],
   "source": [
    "df2.dropna(thresh=11,axis=1)"
   ]
  },
  {
   "cell_type": "code",
   "execution_count": null,
   "id": "891c42a3",
   "metadata": {},
   "outputs": [],
   "source": [
    "df2.dropna(thresh=10,axis=1)"
   ]
  },
  {
   "cell_type": "code",
   "execution_count": null,
   "id": "099b5a74",
   "metadata": {},
   "outputs": [],
   "source": [
    "df2.dropna(thresh=8,axis=1)"
   ]
  },
  {
   "cell_type": "code",
   "execution_count": null,
   "id": "389c7b67",
   "metadata": {},
   "outputs": [],
   "source": [
    "df1.dropna(thresh=100,axis=1)"
   ]
  },
  {
   "cell_type": "code",
   "execution_count": null,
   "id": "d95f8359",
   "metadata": {},
   "outputs": [],
   "source": [
    "df1.drop(['Age in Yrs'],axis=1,inplace=True)"
   ]
  },
  {
   "cell_type": "code",
   "execution_count": null,
   "id": "9a957fb8",
   "metadata": {},
   "outputs": [],
   "source": [
    "df1"
   ]
  },
  {
   "cell_type": "code",
   "execution_count": null,
   "id": "35c305f8",
   "metadata": {},
   "outputs": [],
   "source": [
    "df1.drop(1,axis=0)"
   ]
  },
  {
   "cell_type": "code",
   "execution_count": null,
   "id": "970977a5",
   "metadata": {},
   "outputs": [],
   "source": [
    "df1.drop(['Salary','Age in Company'],axis=1)"
   ]
  },
  {
   "cell_type": "code",
   "execution_count": null,
   "id": "b8a47068",
   "metadata": {},
   "outputs": [],
   "source": [
    "df1= df.copy()\n",
    "df1"
   ]
  },
  {
   "cell_type": "code",
   "execution_count": null,
   "id": "bbeeeeb6",
   "metadata": {},
   "outputs": [],
   "source": [
    "df1.drop(['Emp ID','First Name','City'],axis=1,inplace=True)\n",
    "df1"
   ]
  },
  {
   "cell_type": "code",
   "execution_count": null,
   "id": "f1920273",
   "metadata": {},
   "outputs": [],
   "source": [
    "df1"
   ]
  },
  {
   "cell_type": "code",
   "execution_count": null,
   "id": "66422567",
   "metadata": {},
   "outputs": [],
   "source": [
    "df1.drop(1:5,axis=0)"
   ]
  },
  {
   "cell_type": "code",
   "execution_count": null,
   "id": "b379db16",
   "metadata": {},
   "outputs": [],
   "source": [
    "df1.drop(1,axis=0)"
   ]
  },
  {
   "cell_type": "markdown",
   "id": "d0bf9610",
   "metadata": {},
   "source": [
    "## replace()"
   ]
  },
  {
   "cell_type": "code",
   "execution_count": null,
   "id": "af31c023",
   "metadata": {},
   "outputs": [],
   "source": []
  },
  {
   "cell_type": "code",
   "execution_count": null,
   "id": "08de34b2",
   "metadata": {},
   "outputs": [],
   "source": [
    "df = pd.read_csv('Emp_Records2.csv')\n",
    "df1 = df.copy()\n",
    "df.head(10)"
   ]
  },
  {
   "cell_type": "code",
   "execution_count": null,
   "id": "a5a1d8d5",
   "metadata": {},
   "outputs": [],
   "source": [
    "df['Emp ID'].nunique()"
   ]
  },
  {
   "cell_type": "code",
   "execution_count": null,
   "id": "0273c7ba",
   "metadata": {},
   "outputs": [],
   "source": [
    "df['First Name'].value_counts()"
   ]
  },
  {
   "cell_type": "code",
   "execution_count": null,
   "id": "55f6a81b",
   "metadata": {},
   "outputs": [],
   "source": [
    "df.replace({'Denver':'Mumbai','Lois':'John'},inplace=True)"
   ]
  },
  {
   "cell_type": "code",
   "execution_count": null,
   "id": "938ff537",
   "metadata": {},
   "outputs": [],
   "source": [
    "df.replace({60:100,np.nan:300},inplace=True)\n",
    "df"
   ]
  },
  {
   "cell_type": "code",
   "execution_count": null,
   "id": "77520953",
   "metadata": {},
   "outputs": [],
   "source": [
    "df['Emp ID'].replace({940761:9876543456},inplace=True)\n",
    "df"
   ]
  },
  {
   "cell_type": "code",
   "execution_count": null,
   "id": "00a74245",
   "metadata": {},
   "outputs": [],
   "source": [
    "df.filter(regex='Sal|Age')"
   ]
  },
  {
   "cell_type": "code",
   "execution_count": null,
   "id": "62f1ce90",
   "metadata": {},
   "outputs": [],
   "source": [
    "df1['Age in Yrs'].quantile(0.25)"
   ]
  },
  {
   "cell_type": "code",
   "execution_count": null,
   "id": "47b5fdcd",
   "metadata": {},
   "outputs": [],
   "source": [
    "df1['Age in Yrs'].quantile(0.5)"
   ]
  },
  {
   "cell_type": "code",
   "execution_count": null,
   "id": "5be855a7",
   "metadata": {},
   "outputs": [],
   "source": [
    "df1['Age in Yrs'].quantile(0.75)"
   ]
  },
  {
   "cell_type": "code",
   "execution_count": null,
   "id": "cc488bd7",
   "metadata": {},
   "outputs": [],
   "source": [
    "df1['Age in Yrs'].quantile(0.95)"
   ]
  },
  {
   "cell_type": "code",
   "execution_count": null,
   "id": "cb6c533a",
   "metadata": {},
   "outputs": [],
   "source": [
    "df1['Age in Yrs'].quantile(0.99)"
   ]
  },
  {
   "cell_type": "code",
   "execution_count": null,
   "id": "388ef3ed",
   "metadata": {},
   "outputs": [],
   "source": [
    "df1"
   ]
  }
 ],
 "metadata": {
  "kernelspec": {
   "display_name": "Python 3 (ipykernel)",
   "language": "python",
   "name": "python3"
  },
  "language_info": {
   "codemirror_mode": {
    "name": "ipython",
    "version": 3
   },
   "file_extension": ".py",
   "mimetype": "text/x-python",
   "name": "python",
   "nbconvert_exporter": "python",
   "pygments_lexer": "ipython3",
   "version": "3.9.7"
  }
 },
 "nbformat": 4,
 "nbformat_minor": 5
}
