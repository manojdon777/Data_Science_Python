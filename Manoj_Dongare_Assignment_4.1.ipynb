{
 "cells": [
  {
   "cell_type": "markdown",
   "id": "64f2f91c",
   "metadata": {},
   "source": [
    "#### 1. Print anagrams together in python using a list and dictionary.\n",
    "Input : arr = ['cat', 'dog', 'tac', 'god', 'act']  \n",
    "Output : 'cat tac act dog god'"
   ]
  },
  {
   "cell_type": "code",
   "execution_count": null,
   "id": "8f0f6423",
   "metadata": {},
   "outputs": [],
   "source": []
  },
  {
   "cell_type": "markdown",
   "id": "03516689",
   "metadata": {},
   "source": [
    "#### 2. Python counter to find the size of the largest subset of anagram words.\n",
    "Input ::> \"qwe ewq rty ytr ytr ytr\"  \n",
    "Output ::> 4  \n",
    "\n",
    "Input :: > \"cars bikes arcs steer\"  \n",
    "Output :: > 2"
   ]
  },
  {
   "cell_type": "code",
   "execution_count": null,
   "id": "05ac8b85",
   "metadata": {},
   "outputs": [],
   "source": []
  },
  {
   "cell_type": "markdown",
   "id": "f586a6d0",
   "metadata": {},
   "source": [
    "#### 3. Python dictionary, set and counter to check if frequencies can become the same.\n",
    "Input : str = \"xyyz\"  \n",
    "Output : Yes  \n",
    "We can remove character 'y' from above string to make the frequency of each  \n",
    "character same."
   ]
  },
  {
   "cell_type": "code",
   "execution_count": null,
   "id": "17432203",
   "metadata": {},
   "outputs": [],
   "source": []
  },
  {
   "cell_type": "markdown",
   "id": "5a920a89",
   "metadata": {},
   "source": [
    "#### 4. Python program for number of elements with odd factors in a given range\n",
    "Input : n = 5, m = 100  \n",
    "Output : 8  \n",
    "The numbers with odd factors are 9, 16, 25, 36, 49, 64, 81 and 100  \n",
    "\n",
    "Input : n = 8, m = 65  \n",
    "Output : 6"
   ]
  },
  {
   "cell_type": "code",
   "execution_count": null,
   "id": "c3f0872e",
   "metadata": {},
   "outputs": [],
   "source": []
  },
  {
   "cell_type": "markdown",
   "id": "828662a2",
   "metadata": {},
   "source": [
    "#### 5. python program to find the minimum sum of factors of a number.\n",
    "Input : 12  \n",
    "Output : 7  \n",
    "Explanation:  \n",
    "Following are different ways to factorize 12 and sum of factors in different ways.  \n",
    "12 = 12 * 1 = 12 + 1 = 13  \n",
    "12 = 2 * 6 = 2 + 6 = 8  \n",
    "12 = 3 * 4 = 3 + 4 = 7  \n",
    "12 = 2 * 2 * 3 = 2 + 2 + 3 = 7  \n",
    "Therefore minimum sum is 7"
   ]
  },
  {
   "cell_type": "code",
   "execution_count": null,
   "id": "19e675c6",
   "metadata": {},
   "outputs": [],
   "source": []
  }
 ],
 "metadata": {
  "kernelspec": {
   "display_name": "Python 3 (ipykernel)",
   "language": "python",
   "name": "python3"
  },
  "language_info": {
   "codemirror_mode": {
    "name": "ipython",
    "version": 3
   },
   "file_extension": ".py",
   "mimetype": "text/x-python",
   "name": "python",
   "nbconvert_exporter": "python",
   "pygments_lexer": "ipython3",
   "version": "3.9.7"
  }
 },
 "nbformat": 4,
 "nbformat_minor": 5
}
