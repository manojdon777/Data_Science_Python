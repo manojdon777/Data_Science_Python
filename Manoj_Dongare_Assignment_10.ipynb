{
 "cells": [
  {
   "cell_type": "markdown",
   "id": "46330be0",
   "metadata": {},
   "source": [
    "1. Create a null vector of size 10"
   ]
  },
  {
   "cell_type": "code",
   "execution_count": 1,
   "id": "41156ee6",
   "metadata": {},
   "outputs": [
    {
     "data": {
      "text/plain": [
       "array([0, 0, 0, 0, 0, 0, 0, 0, 0, 0])"
      ]
     },
     "execution_count": 1,
     "metadata": {},
     "output_type": "execute_result"
    }
   ],
   "source": [
    "import numpy as np\n",
    "vector = np.zeros(10, dtype = int)\n",
    "vector"
   ]
  },
  {
   "cell_type": "markdown",
   "id": "2dc09e15",
   "metadata": {},
   "source": [
    "2. How to find the memory size of an array"
   ]
  },
  {
   "cell_type": "code",
   "execution_count": 2,
   "id": "a0ff15b0",
   "metadata": {},
   "outputs": [
    {
     "name": "stdout",
     "output_type": "stream",
     "text": [
      "Memory Size: 24\n"
     ]
    }
   ],
   "source": [
    "import numpy as np\n",
    "arr = np.array([1,2,3,4,5,6])\n",
    "m = arr.itemsize\n",
    "n = arr.size\n",
    "print('Memory Size:', m*n)"
   ]
  },
  {
   "cell_type": "markdown",
   "id": "be564a73",
   "metadata": {},
   "source": [
    "3. Create a null vector of size 10 but the fifth value which is 1"
   ]
  },
  {
   "cell_type": "code",
   "execution_count": 3,
   "id": "88fad34f",
   "metadata": {},
   "outputs": [
    {
     "data": {
      "text/plain": [
       "array([0, 0, 0, 0, 1, 0, 0, 0, 0, 0])"
      ]
     },
     "execution_count": 3,
     "metadata": {},
     "output_type": "execute_result"
    }
   ],
   "source": [
    "import numpy as np\n",
    "arr = np.zeros(10, dtype = int)\n",
    "arr[4] = 1\n",
    "arr"
   ]
  },
  {
   "cell_type": "markdown",
   "id": "df22358f",
   "metadata": {},
   "source": [
    "4. Create a vector with values ranging from 15 to 45"
   ]
  },
  {
   "cell_type": "code",
   "execution_count": 4,
   "id": "0945d2fa",
   "metadata": {},
   "outputs": [
    {
     "data": {
      "text/plain": [
       "array([15, 16, 17, 18, 19, 20, 21, 22, 23, 24, 25, 26, 27, 28, 29, 30, 31,\n",
       "       32, 33, 34, 35, 36, 37, 38, 39, 40, 41, 42, 43, 44, 45])"
      ]
     },
     "execution_count": 4,
     "metadata": {},
     "output_type": "execute_result"
    }
   ],
   "source": [
    "vect = np.arange(15,46)\n",
    "vect"
   ]
  },
  {
   "cell_type": "markdown",
   "id": "9c7e731a",
   "metadata": {},
   "source": [
    "5. Reverse a vector (The first element becomes last)"
   ]
  },
  {
   "cell_type": "code",
   "execution_count": 5,
   "id": "943ff55d",
   "metadata": {},
   "outputs": [
    {
     "data": {
      "text/plain": [
       "array([9, 8, 7, 6, 5, 4, 3, 2, 1, 0])"
      ]
     },
     "execution_count": 5,
     "metadata": {},
     "output_type": "execute_result"
    }
   ],
   "source": [
    "vect = np.arange(0,10)\n",
    "vect = vect[::-1]\n",
    "vect"
   ]
  },
  {
   "cell_type": "markdown",
   "id": "e70b41f4",
   "metadata": {},
   "source": [
    "6. Write a NumPy program to add, subtract, multiply, divide arguments element-wise"
   ]
  },
  {
   "cell_type": "code",
   "execution_count": 6,
   "id": "119459f6",
   "metadata": {},
   "outputs": [
    {
     "name": "stdout",
     "output_type": "stream",
     "text": [
      "Add: [ 7  9 11 13 15]\n",
      "Sub: [-5 -5 -5 -5 -5]\n",
      "Mul: [ 6 14 24 36 50]\n",
      "Divide: [0.16666667 0.28571429 0.375      0.44444444 0.5       ]\n"
     ]
    }
   ],
   "source": [
    "arr1=np.array([1,2,3,4,5])\n",
    "arr2=np.array([6,7,8,9,10])\n",
    "print(\"Add:\", np.add(arr1, arr2))\n",
    "print(\"Sub:\", np.subtract(arr1, arr2))\n",
    "print(\"Mul:\", np.multiply(arr1, arr2))\n",
    "print(\"Divide:\", np.divide(arr1, arr2))"
   ]
  },
  {
   "cell_type": "markdown",
   "id": "5fd0b7e6",
   "metadata": {},
   "source": [
    "7. Write a NumPy program to round elements of the array to the nearest integer"
   ]
  },
  {
   "cell_type": "code",
   "execution_count": 7,
   "id": "aebe0aba",
   "metadata": {},
   "outputs": [
    {
     "name": "stdout",
     "output_type": "stream",
     "text": [
      "using round function: [2 2 4 4 6]\n",
      "using ceil function: [2 3 4 5 6]\n",
      "using floor function: [1 2 3 4 5]\n"
     ]
    }
   ],
   "source": [
    "arr1=np.array([1.6,2.3,3.7,4.4,5.9])\n",
    "print(\"using round function:\",np.array(np.round(arr1),dtype=int))\n",
    "print(\"using ceil function:\",np.array(np.ceil(arr1),dtype=int))\n",
    "print(\"using floor function:\",np.array(np.floor(arr1),dtype=int))"
   ]
  },
  {
   "cell_type": "markdown",
   "id": "34f61bee",
   "metadata": {},
   "source": [
    "8. Write a NumPy program to get the floor and ceiling values of the elements of a NumPy array"
   ]
  },
  {
   "cell_type": "code",
   "execution_count": 8,
   "id": "1936433c",
   "metadata": {},
   "outputs": [
    {
     "name": "stdout",
     "output_type": "stream",
     "text": [
      "using ceil function: [2. 3. 4. 5. 6.]\n",
      "using floor function: [1. 2. 3. 4. 5.]\n"
     ]
    }
   ],
   "source": [
    "arr1=np.array([1.6,2.3,3.7,4.4,5.9])\n",
    "print(\"using ceil function:\",np.ceil(arr1))\n",
    "print(\"using floor function:\",np.floor(arr1))"
   ]
  },
  {
   "cell_type": "markdown",
   "id": "c3667604",
   "metadata": {},
   "source": [
    "9. Write a NumPy program to calculate mean across dimensions, in a 2D NumPy array."
   ]
  },
  {
   "cell_type": "code",
   "execution_count": 9,
   "id": "6aa217d2",
   "metadata": {},
   "outputs": [
    {
     "name": "stdout",
     "output_type": "stream",
     "text": [
      "[4. 5. 6.]\n",
      "[2. 5. 8.]\n"
     ]
    }
   ],
   "source": [
    "arr=np.array([[1,2,3],[4,5,6],[7,8,9]])\n",
    "print(np.mean(arr,axis=0))\n",
    "print(np.mean(arr,axis=1))"
   ]
  },
  {
   "cell_type": "markdown",
   "id": "3218922d",
   "metadata": {},
   "source": [
    "10. Write a NumPy program to convert angles from degrees to radians for all elements in a given array."
   ]
  },
  {
   "cell_type": "code",
   "execution_count": 10,
   "id": "fad561d8",
   "metadata": {},
   "outputs": [
    {
     "name": "stdout",
     "output_type": "stream",
     "text": [
      "0.0 0.5235987755982988 0.7853981633974483 1.0471975511965976 1.5707963267948966 \n",
      "[0.         0.52359878 0.78539816 1.04719755 1.57079633]\n"
     ]
    }
   ],
   "source": [
    "deg_angle=np.array([0,30,45,60,90])\n",
    "for i in deg_angle:\n",
    "    print(np.deg2rad(i), end=' ')\n",
    "print()\n",
    "print(np.deg2rad(deg_angle))"
   ]
  },
  {
   "cell_type": "markdown",
   "id": "25500311",
   "metadata": {},
   "source": [
    "11. What is the use of all and any function in numpy?"
   ]
  },
  {
   "cell_type": "markdown",
   "id": "432c5697",
   "metadata": {},
   "source": [
    "The numpy.any() function tests whether any array elements along the mentioned axis evaluate to True.  \n",
    "The numpy.all() function tests whether all array elements along the mentioned axis evaluate to True."
   ]
  },
  {
   "cell_type": "markdown",
   "id": "4cd65992",
   "metadata": {},
   "source": [
    "12. Create a 3x3 matrix with values ranging from 0 to 8\n",
    "[[0 1 2]\n",
    "[3 4 5]\n",
    "[6 7 8]]"
   ]
  },
  {
   "cell_type": "code",
   "execution_count": 11,
   "id": "e17228f5",
   "metadata": {},
   "outputs": [
    {
     "data": {
      "text/plain": [
       "array([[0, 1, 2],\n",
       "       [3, 4, 5],\n",
       "       [6, 7, 8]])"
      ]
     },
     "execution_count": 11,
     "metadata": {},
     "output_type": "execute_result"
    }
   ],
   "source": [
    "np.arange(9).reshape(3, 3)"
   ]
  },
  {
   "cell_type": "markdown",
   "id": "614bbe95",
   "metadata": {},
   "source": [
    "13. How to reverse the columns of a 2D array?"
   ]
  },
  {
   "cell_type": "code",
   "execution_count": 12,
   "id": "c6634649",
   "metadata": {},
   "outputs": [
    {
     "data": {
      "text/plain": [
       "[[2, 1, 0], [5, 4, 3], [8, 7, 6]]"
      ]
     },
     "execution_count": 12,
     "metadata": {},
     "output_type": "execute_result"
    }
   ],
   "source": [
    "([[2, 1, 0],\n",
    "[5, 4, 3],\n",
    "[8, 7, 6]])"
   ]
  },
  {
   "cell_type": "markdown",
   "id": "020d8b5b",
   "metadata": {},
   "source": [
    "14. How to reverse the rows of a 2D array?"
   ]
  },
  {
   "cell_type": "code",
   "execution_count": 13,
   "id": "8df68bea",
   "metadata": {},
   "outputs": [
    {
     "data": {
      "text/plain": [
       "[[6, 7, 8], [3, 4, 5], [0, 1, 2]]"
      ]
     },
     "execution_count": 13,
     "metadata": {},
     "output_type": "execute_result"
    }
   ],
   "source": [
    "[[6, 7, 8],\n",
    "[3, 4, 5],\n",
    "[0, 1, 2]]"
   ]
  },
  {
   "cell_type": "markdown",
   "id": "5754361d",
   "metadata": {},
   "source": [
    "15. Find indices of non-zero elements from [1,2,0,0,4,0]"
   ]
  },
  {
   "cell_type": "code",
   "execution_count": 14,
   "id": "3d18dab9",
   "metadata": {},
   "outputs": [
    {
     "name": "stdout",
     "output_type": "stream",
     "text": [
      "(array([0, 1, 4], dtype=int64),)\n",
      "(array([0, 1, 4], dtype=int64),)\n"
     ]
    }
   ],
   "source": [
    "##########################\n",
    "arr1 =([1,2,0,0,4,0])\n",
    "print(np.nonzero(arr1))\n",
    "##########################\n",
    "arr1 =([1,2,0,0,4,0])\n",
    "print(np.where(arr1))"
   ]
  },
  {
   "cell_type": "markdown",
   "id": "9fe7c00b",
   "metadata": {},
   "source": [
    "16. Write a NumPy program to compute the determinant of an array."
   ]
  },
  {
   "cell_type": "code",
   "execution_count": 15,
   "id": "a339a5e4",
   "metadata": {},
   "outputs": [
    {
     "data": {
      "text/plain": [
       "2.0"
      ]
     },
     "execution_count": 15,
     "metadata": {},
     "output_type": "execute_result"
    }
   ],
   "source": [
    "arr=np.array([[1,2],[0,2]])\n",
    "det= np.linalg.det(arr)\n",
    "det"
   ]
  },
  {
   "cell_type": "markdown",
   "id": "ede5c77e",
   "metadata": {},
   "source": [
    "17. Write a NumPy program to compute the inverse of a given matrix"
   ]
  },
  {
   "cell_type": "code",
   "execution_count": 16,
   "id": "b97d7ccd",
   "metadata": {},
   "outputs": [
    {
     "name": "stdout",
     "output_type": "stream",
     "text": [
      "[[1 2]\n",
      " [0 2]]\n"
     ]
    },
    {
     "data": {
      "text/plain": [
       "array([[ 1. , -1. ],\n",
       "       [ 0. ,  0.5]])"
      ]
     },
     "execution_count": 16,
     "metadata": {},
     "output_type": "execute_result"
    }
   ],
   "source": [
    "arr=np.array([[1,2],[0,2]])\n",
    "print(arr)\n",
    "inv=np.linalg.inv(arr)\n",
    "inv"
   ]
  },
  {
   "cell_type": "markdown",
   "id": "48484806",
   "metadata": {},
   "source": [
    "18. Create a random vector of size 30 and find the mean value"
   ]
  },
  {
   "cell_type": "code",
   "execution_count": 17,
   "id": "cd9fab87",
   "metadata": {},
   "outputs": [
    {
     "name": "stdout",
     "output_type": "stream",
     "text": [
      "Random array of size 30: [10 15 19 19 16  1  8 17 19  4  1 11  3  9  2  8  7  8 18 16 17  3 14 18\n",
      " 11  1  9 11  8  3]\n",
      "mean is : 10.2\n"
     ]
    }
   ],
   "source": [
    "rand_arr=np.random.randint(1,20,30)\n",
    "print('Random array of size 30:',rand_arr)\n",
    "print(\"mean is :\",np.mean(rand_arr))"
   ]
  },
  {
   "cell_type": "markdown",
   "id": "c8d6c733",
   "metadata": {},
   "source": [
    "19. How to extract all numbers between a given range from a NumPy array?"
   ]
  },
  {
   "cell_type": "code",
   "execution_count": 18,
   "id": "6c617281",
   "metadata": {},
   "outputs": [
    {
     "name": "stdout",
     "output_type": "stream",
     "text": [
      "using slicing: [5 6 7 8]\n"
     ]
    }
   ],
   "source": [
    "arr=np.array([i for i in range(20)])\n",
    "print(\"using slicing:\",arr[5:9])"
   ]
  },
  {
   "cell_type": "markdown",
   "id": "aef8bd0a",
   "metadata": {},
   "source": [
    "20. Create a 3x3x3 array with random values"
   ]
  },
  {
   "cell_type": "code",
   "execution_count": 19,
   "id": "f1c9289b",
   "metadata": {},
   "outputs": [
    {
     "name": "stdout",
     "output_type": "stream",
     "text": [
      "[[[29 39 36]\n",
      "  [22 38 32]\n",
      "  [22 27 21]]\n",
      "\n",
      " [[31 22 21]\n",
      "  [37 23 31]\n",
      "  [32 31 39]]\n",
      "\n",
      " [[31 22 29]\n",
      "  [31 25 38]\n",
      "  [31 32 35]]]\n"
     ]
    }
   ],
   "source": [
    "arr1 = np.random.randint(20,40,(3,3,3))\n",
    "\n",
    "print(arr1)"
   ]
  },
  {
   "cell_type": "markdown",
   "id": "d4eb625f",
   "metadata": {},
   "source": [
    "21. Create a 10x10 array with random values and find the minimum and maximum values"
   ]
  },
  {
   "cell_type": "code",
   "execution_count": 20,
   "id": "2fc47b04",
   "metadata": {},
   "outputs": [
    {
     "name": "stdout",
     "output_type": "stream",
     "text": [
      "[[19 18 10 23 18 26 14 14  3 12]\n",
      " [11 27 22 17 27 16  7 23 14 17]\n",
      " [16 18 18 13  4 24 16  7 24  2]\n",
      " [14 15 16 25  1 10 21 27  6 18]\n",
      " [12 25  2 10  7 24 12 13 28 23]\n",
      " [16 29 14 11 18 12 12 22  8 11]\n",
      " [17 21 21 26 17  2 27 13 27  1]\n",
      " [24 24 28 11  2 22 26  7  9 12]\n",
      " [23  6 26 21 18 22 12 10  1 27]\n",
      " [ 9  6 12  1 15 10  4  9  8 27]]\n",
      "29\n",
      "1\n"
     ]
    }
   ],
   "source": [
    "arr=np.random.randint(1,30,(10,10))\n",
    "print(arr)\n",
    "print(arr.max())\n",
    "print(arr.min())"
   ]
  },
  {
   "cell_type": "markdown",
   "id": "3601c533",
   "metadata": {},
   "source": [
    "22. Create a 2d array with 1 on the border and 0 inside"
   ]
  },
  {
   "cell_type": "code",
   "execution_count": 21,
   "id": "c92f97f7",
   "metadata": {},
   "outputs": [
    {
     "name": "stdout",
     "output_type": "stream",
     "text": [
      "[[1. 1. 1. 1. 1.]\n",
      " [1. 1. 1. 1. 1.]\n",
      " [1. 1. 1. 1. 1.]\n",
      " [1. 1. 1. 1. 1.]\n",
      " [1. 1. 1. 1. 1.]]\n",
      "\n",
      "[[1. 1. 1. 1. 1.]\n",
      " [1. 0. 0. 0. 1.]\n",
      " [1. 0. 0. 0. 1.]\n",
      " [1. 0. 0. 0. 1.]\n",
      " [1. 1. 1. 1. 1.]]\n"
     ]
    }
   ],
   "source": [
    "arr=np.ones([5,5])\n",
    "print(arr)\n",
    "arr[1:4,1:4]=0\n",
    "print()\n",
    "print(arr)"
   ]
  },
  {
   "cell_type": "markdown",
   "id": "d9df1e47",
   "metadata": {},
   "source": [
    "23. Create a 5x5 matrix with values 1,2,3,4 just\n",
    "below the diagonal"
   ]
  },
  {
   "cell_type": "code",
   "execution_count": 22,
   "id": "8ae193d6",
   "metadata": {},
   "outputs": [
    {
     "data": {
      "text/plain": [
       "array([[0, 0, 0, 0, 0],\n",
       "       [1, 0, 0, 0, 0],\n",
       "       [0, 2, 0, 0, 0],\n",
       "       [0, 0, 3, 0, 0],\n",
       "       [0, 0, 0, 4, 0]])"
      ]
     },
     "execution_count": 22,
     "metadata": {},
     "output_type": "execute_result"
    }
   ],
   "source": [
    "arr=np.diag([1,2,3,4],k=-1)\n",
    "arr"
   ]
  },
  {
   "cell_type": "markdown",
   "id": "3b438d90",
   "metadata": {},
   "source": [
    "24. Create a 3x3 identity matrix"
   ]
  },
  {
   "cell_type": "code",
   "execution_count": 23,
   "id": "ff895e75",
   "metadata": {},
   "outputs": [
    {
     "data": {
      "text/plain": [
       "array([[1, 0, 0],\n",
       "       [0, 1, 0],\n",
       "       [0, 0, 1]])"
      ]
     },
     "execution_count": 23,
     "metadata": {},
     "output_type": "execute_result"
    }
   ],
   "source": [
    "identity_mat=np.identity(3,dtype=int)\n",
    "identity_mat"
   ]
  },
  {
   "cell_type": "markdown",
   "id": "0aecd962",
   "metadata": {},
   "source": [
    "25. Create a 8x8 matrix and fill it with a checkerboard pattern  \n",
    "[[0 1 0 1 0 1 0 1]  \n",
    "[1 0 1 0 1 0 1 0]  \n",
    "[0 1 0 1 0 1 0 1]  \n",
    "[1 0 1 0 1 0 1 0]  \n",
    "[0 1 0 1 0 1 0 1]  \n",
    "[1 0 1 0 1 0 1 0]  \n",
    "[0 1 0 1 0 1 0 1]  \n",
    "[1 0 1 0 1 0 1 0]]"
   ]
  },
  {
   "cell_type": "code",
   "execution_count": 24,
   "id": "e4cb35c1",
   "metadata": {},
   "outputs": [
    {
     "data": {
      "text/plain": [
       "array([[0, 1, 0, 1, 0, 1, 0, 1],\n",
       "       [1, 0, 1, 0, 1, 0, 1, 0],\n",
       "       [0, 1, 0, 1, 0, 1, 0, 1],\n",
       "       [1, 0, 1, 0, 1, 0, 1, 0],\n",
       "       [0, 1, 0, 1, 0, 1, 0, 1],\n",
       "       [1, 0, 1, 0, 1, 0, 1, 0],\n",
       "       [0, 1, 0, 1, 0, 1, 0, 1],\n",
       "       [1, 0, 1, 0, 1, 0, 1, 0]])"
      ]
     },
     "execution_count": 24,
     "metadata": {},
     "output_type": "execute_result"
    }
   ],
   "source": [
    "chkbrd = np.zeros([8, 8], dtype=int)\n",
    "chkbrd[1::2,::2] = 1\n",
    "chkbrd[::2,1::2] = 1\n",
    "chkbrd"
   ]
  },
  {
   "cell_type": "markdown",
   "id": "385ce375",
   "metadata": {},
   "source": [
    "26. Multiply a 5x3 matrix by a 3x2 matrix (real matrix product)"
   ]
  },
  {
   "cell_type": "code",
   "execution_count": 25,
   "id": "2f024ce7",
   "metadata": {},
   "outputs": [
    {
     "name": "stdout",
     "output_type": "stream",
     "text": [
      "[[33 34]\n",
      " [43 45]\n",
      " [37 43]\n",
      " [27 29]\n",
      " [37 37]]\n"
     ]
    }
   ],
   "source": [
    "a1 = np.array([[2,3,4],[3,4,5],[5,4,3],[3,2,3],[3,2,5]])\n",
    "\n",
    "a2 = np.array([[2,3],[3,4],[5,4]])\n",
    "real = np.dot(a1,a2)\n",
    "print(real)"
   ]
  },
  {
   "cell_type": "markdown",
   "id": "cd9516df",
   "metadata": {},
   "source": [
    "27. Given a 1D array, negate all elements which are between 3 and 8, in place"
   ]
  },
  {
   "cell_type": "code",
   "execution_count": 26,
   "id": "a1a359ce",
   "metadata": {},
   "outputs": [
    {
     "name": "stdout",
     "output_type": "stream",
     "text": [
      "[ 0  1  2  3  4  5  6  7  8  9 10 11 12 13 14]\n"
     ]
    },
    {
     "data": {
      "text/plain": [
       "array([ 0,  1,  2, -3, -4, -5, -6, -7, -8,  9, 10, 11, 12, 13, 14])"
      ]
     },
     "execution_count": 26,
     "metadata": {},
     "output_type": "execute_result"
    }
   ],
   "source": [
    "arr=np.array([i for i in range(15)])\n",
    "print(arr)\n",
    "arr[3:9]=np.multiply(arr[3:9],-1)\n",
    "arr"
   ]
  },
  {
   "cell_type": "markdown",
   "id": "255fea63",
   "metadata": {},
   "source": [
    "28. How to round away from zero a float array?"
   ]
  },
  {
   "cell_type": "code",
   "execution_count": 27,
   "id": "8bdb9584",
   "metadata": {},
   "outputs": [
    {
     "name": "stdout",
     "output_type": "stream",
     "text": [
      "[32. 52.  0.]\n"
     ]
    }
   ],
   "source": [
    "import numpy as np\n",
    "def round_array(x,y):\n",
    "    return np.round(x,y)\n",
    "test = np.array([32.11, 51.5, 0.112])\n",
    "print(round_array(test,0))"
   ]
  },
  {
   "cell_type": "markdown",
   "id": "eb1ab988",
   "metadata": {},
   "source": [
    "29. How to find common values between the two arrays?"
   ]
  },
  {
   "cell_type": "code",
   "execution_count": 28,
   "id": "1e311a46",
   "metadata": {},
   "outputs": [
    {
     "name": "stdout",
     "output_type": "stream",
     "text": [
      "Common element in array: [3 4 5]\n"
     ]
    }
   ],
   "source": [
    "arr1=np.array([1,2,3,4,5])\n",
    "arr2=np.array([3,4,5,6,7])\n",
    "print('Common element in array:',np.intersect1d(arr1,arr2))"
   ]
  },
  {
   "cell_type": "markdown",
   "id": "ab16169b",
   "metadata": {},
   "source": [
    "30. Create a vector of size 10 with values ranging from 0 to 1, both excluded"
   ]
  },
  {
   "cell_type": "code",
   "execution_count": 29,
   "id": "0e679b0c",
   "metadata": {},
   "outputs": [
    {
     "data": {
      "text/plain": [
       "array([4.43830741e-04, 5.50322330e-02, 7.77152082e-01, 4.44681770e-01,\n",
       "       4.21442952e-01, 3.77322667e-02, 6.13770458e-01, 3.52643065e-01,\n",
       "       1.91411715e-01, 2.07127475e-01])"
      ]
     },
     "execution_count": 29,
     "metadata": {},
     "output_type": "execute_result"
    }
   ],
   "source": [
    "arr=np.random.rand(10)\n",
    "arr"
   ]
  },
  {
   "cell_type": "markdown",
   "id": "711915ed",
   "metadata": {},
   "source": [
    "31. Create a random vector of size 10 and sort it"
   ]
  },
  {
   "cell_type": "code",
   "execution_count": 30,
   "id": "4e774cf6",
   "metadata": {},
   "outputs": [
    {
     "name": "stdout",
     "output_type": "stream",
     "text": [
      "Random Array: [18  3 16 14 18  4  1 10 15 15]\n",
      "Sorted Array: [ 1  3  4 10 14 15 15 16 18 18]\n"
     ]
    }
   ],
   "source": [
    "arr=np.random.randint(1,20,10)\n",
    "print(\"Random Array:\",arr)\n",
    "\n",
    "print('Sorted Array:',np.sort(arr))"
   ]
  },
  {
   "cell_type": "markdown",
   "id": "6d7606d0",
   "metadata": {},
   "source": [
    "32. Create a 5x5 matrix with row values ranging from 0 to 4  \n",
    "[[0. 1. 2. 3. 4.]  \n",
    " [0. 1. 2. 3. 4.]  \n",
    " [0. 1. 2. 3. 4.]  \n",
    " [0. 1. 2. 3. 4.]  \n",
    " [0. 1. 2. 3. 4.]]"
   ]
  },
  {
   "cell_type": "code",
   "execution_count": 31,
   "id": "7d11ef06",
   "metadata": {},
   "outputs": [
    {
     "name": "stdout",
     "output_type": "stream",
     "text": [
      "[[0. 1. 2. 3. 4.]\n",
      " [0. 1. 2. 3. 4.]\n",
      " [0. 1. 2. 3. 4.]\n",
      " [0. 1. 2. 3. 4.]\n",
      " [0. 1. 2. 3. 4.]]\n"
     ]
    }
   ],
   "source": [
    "arr1 = np.zeros([5,5])\n",
    "arr2 = arr1+np.arange(0,5)\n",
    "print(arr2)"
   ]
  },
  {
   "cell_type": "markdown",
   "id": "501f1890",
   "metadata": {},
   "source": [
    "33. Consider two random arrays A and B, check if they are equal"
   ]
  },
  {
   "cell_type": "code",
   "execution_count": 32,
   "id": "eb95f673",
   "metadata": {},
   "outputs": [
    {
     "name": "stdout",
     "output_type": "stream",
     "text": [
      "Array's are not same\n"
     ]
    }
   ],
   "source": [
    "arr1=np.random.randint(1,10,5)\n",
    "arr2=np.random.randint(1,10,5)\n",
    "if np.allclose(arr1,arr2):\n",
    "    print(\"array's are same\")\n",
    "else:\n",
    "    print(\"Array's are not same\")"
   ]
  },
  {
   "cell_type": "markdown",
   "id": "acda1ac9",
   "metadata": {},
   "source": [
    "34. Create a random vector of size 10 and replace the maximum value by 0"
   ]
  },
  {
   "cell_type": "code",
   "execution_count": 33,
   "id": "804f2ea8",
   "metadata": {},
   "outputs": [
    {
     "name": "stdout",
     "output_type": "stream",
     "text": [
      "[23 14 10 10  4  2 19 22 12 21]\n",
      "[ 0 14 10 10  4  2 19 22 12 21]\n"
     ]
    }
   ],
   "source": [
    "arr1=np.random.randint(1,30,10)\n",
    "print(arr1)\n",
    "arr1[arr1.argmax()]=0\n",
    "print(arr1)"
   ]
  },
  {
   "cell_type": "markdown",
   "id": "e625a15b",
   "metadata": {},
   "source": [
    "35. How to find out multiple indices of an item?"
   ]
  },
  {
   "cell_type": "code",
   "execution_count": 34,
   "id": "ebd8bc02",
   "metadata": {},
   "outputs": [
    {
     "name": "stdout",
     "output_type": "stream",
     "text": [
      "(array([2, 6, 8], dtype=int64),)\n"
     ]
    }
   ],
   "source": [
    "arr1 = np.array([4,0,3,0,2,4,3,6,3])\n",
    "indices = np.where(arr1 == 3)\n",
    "print(indices)"
   ]
  },
  {
   "cell_type": "markdown",
   "id": "d0bcc18d",
   "metadata": {},
   "source": [
    "36. What is the equivalent of enumerate for NumPy arrays?"
   ]
  },
  {
   "cell_type": "code",
   "execution_count": 35,
   "id": "726f1408",
   "metadata": {},
   "outputs": [
    {
     "name": "stdout",
     "output_type": "stream",
     "text": [
      "(0, 0) -> 1\n",
      "(0, 1) -> 2\n",
      "(0, 2) -> 3\n",
      "(1, 0) -> 4\n",
      "(1, 1) -> 5\n",
      "(1, 2) -> 6\n",
      "(2, 0) -> 7\n",
      "(2, 1) -> 8\n",
      "(2, 2) -> 9\n"
     ]
    }
   ],
   "source": [
    "arr=np.array([[1,2,3],[4,5,6],[7,8,9]])\n",
    "for i,j in np.ndenumerate(arr):\n",
    "    print(i,\"->\",j)"
   ]
  },
  {
   "cell_type": "markdown",
   "id": "9b3f9510",
   "metadata": {},
   "source": [
    "37. How to sort an array by the nth column?"
   ]
  },
  {
   "cell_type": "code",
   "execution_count": 36,
   "id": "87598b80",
   "metadata": {},
   "outputs": [
    {
     "data": {
      "text/plain": [
       "array([[1, 2, 3],\n",
       "       [4, 5, 6],\n",
       "       [7, 8, 9]])"
      ]
     },
     "execution_count": 36,
     "metadata": {},
     "output_type": "execute_result"
    }
   ],
   "source": [
    "arr[arr[:,1].argsort()]"
   ]
  },
  {
   "cell_type": "markdown",
   "id": "2e1d19c3",
   "metadata": {},
   "source": [
    "38. How to swap two rows of an array?"
   ]
  },
  {
   "cell_type": "code",
   "execution_count": 37,
   "id": "c683887c",
   "metadata": {},
   "outputs": [
    {
     "name": "stdout",
     "output_type": "stream",
     "text": [
      "[[9 5 7]\n",
      " [0 3 7]\n",
      " [0 1 9]]\n"
     ]
    },
    {
     "data": {
      "text/plain": [
       "array([[0, 3, 7],\n",
       "       [9, 5, 7],\n",
       "       [0, 1, 9]])"
      ]
     },
     "execution_count": 37,
     "metadata": {},
     "output_type": "execute_result"
    }
   ],
   "source": [
    "arr=np.array([[9 ,5, 7],\n",
    "[0, 3 ,7],\n",
    "[0, 1, 9]])\n",
    "print(arr)\n",
    "arr[[0,1]]=arr[[1,0]] # swapping of 1st two row's\n",
    "arr"
   ]
  },
  {
   "cell_type": "markdown",
   "id": "c7da981a",
   "metadata": {},
   "source": [
    "39. How to compute the mean of a NumPy array?"
   ]
  },
  {
   "cell_type": "code",
   "execution_count": 38,
   "id": "dd57b7de",
   "metadata": {},
   "outputs": [
    {
     "name": "stdout",
     "output_type": "stream",
     "text": [
      "[[9 5 7]\n",
      " [0 3 7]\n",
      " [0 1 9]]\n"
     ]
    },
    {
     "data": {
      "text/plain": [
       "4.555555555555555"
      ]
     },
     "execution_count": 38,
     "metadata": {},
     "output_type": "execute_result"
    }
   ],
   "source": [
    "arr=np.array([[9 ,5, 7],\n",
    "[0, 3 ,7],\n",
    "[0, 1, 9]])\n",
    "print(arr)\n",
    "np.mean(arr)"
   ]
  },
  {
   "cell_type": "markdown",
   "id": "4698c1da",
   "metadata": {},
   "source": [
    "40. How to compute the median of a NumPy array?"
   ]
  },
  {
   "cell_type": "code",
   "execution_count": 39,
   "id": "3fa104f9",
   "metadata": {},
   "outputs": [
    {
     "data": {
      "text/plain": [
       "5.0"
      ]
     },
     "execution_count": 39,
     "metadata": {},
     "output_type": "execute_result"
    }
   ],
   "source": [
    "arr=np.array([[9 ,5, 7],\n",
    "[0, 3 ,7],\n",
    "[0, 1, 9]])\n",
    "np.median(arr)"
   ]
  },
  {
   "cell_type": "markdown",
   "id": "757e56ad",
   "metadata": {},
   "source": [
    "41. How to compute the standard deviation of a NumPy array?"
   ]
  },
  {
   "cell_type": "code",
   "execution_count": 40,
   "id": "ecf2fccf",
   "metadata": {},
   "outputs": [
    {
     "data": {
      "text/plain": [
       "3.467663674294941"
      ]
     },
     "execution_count": 40,
     "metadata": {},
     "output_type": "execute_result"
    }
   ],
   "source": [
    "arr=np.array([[9 ,5, 7],\n",
    "[0, 3 ,7],\n",
    "[0, 1, 9]])\n",
    "np.std(arr)"
   ]
  },
  {
   "cell_type": "markdown",
   "id": "2ef8b4b5",
   "metadata": {},
   "source": [
    "42. How to compute the mode of a NumPy array"
   ]
  },
  {
   "cell_type": "code",
   "execution_count": 41,
   "id": "4eb9f0c3",
   "metadata": {},
   "outputs": [
    {
     "data": {
      "text/plain": [
       "ModeResult(mode=array([0]), count=array([2]))"
      ]
     },
     "execution_count": 41,
     "metadata": {},
     "output_type": "execute_result"
    }
   ],
   "source": [
    "from scipy import stats\n",
    "arr=np.array([9 ,5, 7,0, 3 ,7,0, 1, 9])\n",
    "stats.mode(arr)"
   ]
  },
  {
   "cell_type": "markdown",
   "id": "33bedf94",
   "metadata": {},
   "source": [
    "43. How to print only 3 decimal places in a python NumPy array"
   ]
  },
  {
   "cell_type": "code",
   "execution_count": 42,
   "id": "e66c890c",
   "metadata": {},
   "outputs": [
    {
     "data": {
      "text/plain": [
       "array([0.121, 0.4  , 0.922, 0.679, 0.568, 0.329, 0.419, 0.145, 0.002,\n",
       "       0.252])"
      ]
     },
     "execution_count": 42,
     "metadata": {},
     "output_type": "execute_result"
    }
   ],
   "source": [
    "arr=np.array([0.12110113, 0.40035121, 0.92241944, 0.67946091, 0.56842447,\n",
    "0.32889515, 0.41926619, 0.14454096, 0.00154814, 0.2518045 ])\n",
    "arr=np.around(arr,decimals=3)\n",
    "arr"
   ]
  },
  {
   "cell_type": "markdown",
   "id": "432ab703",
   "metadata": {},
   "source": [
    "44. Write a NumPy program to compute the inverse of a given matrix"
   ]
  },
  {
   "cell_type": "code",
   "execution_count": 43,
   "id": "ff1d5d6c",
   "metadata": {},
   "outputs": [
    {
     "data": {
      "text/plain": [
       "array([[-0.6875    , -0.125     ,  0.3125    ],\n",
       "       [-0.125     ,  0.25      , -0.125     ],\n",
       "       [ 0.64583333, -0.125     , -0.02083333]])"
      ]
     },
     "execution_count": 43,
     "metadata": {},
     "output_type": "execute_result"
    }
   ],
   "source": [
    "arr = np.array([[1, 2, 3],[4, 9, 6],[7, 8, 9]])\n",
    "np.linalg.inv(arr)"
   ]
  },
  {
   "cell_type": "markdown",
   "id": "8125bb0b",
   "metadata": {},
   "source": [
    "45. Write a NumPy program to compute the covariance matrix of two given arrays"
   ]
  },
  {
   "cell_type": "code",
   "execution_count": 44,
   "id": "ce5ed1cd",
   "metadata": {},
   "outputs": [
    {
     "data": {
      "text/plain": [
       "array([[ 1. , -0.5],\n",
       "       [-0.5,  1. ]])"
      ]
     },
     "execution_count": 44,
     "metadata": {},
     "output_type": "execute_result"
    }
   ],
   "source": [
    "arr1=np.array([1,2,0])\n",
    "arr2=np.array([0,1,2])\n",
    "np.cov(arr1,arr2)"
   ]
  },
  {
   "cell_type": "markdown",
   "id": "39893939",
   "metadata": {},
   "source": [
    "46. How to find the most frequent value in a NumPy array?"
   ]
  },
  {
   "cell_type": "code",
   "execution_count": 45,
   "id": "fddd0fc4",
   "metadata": {},
   "outputs": [
    {
     "name": "stdout",
     "output_type": "stream",
     "text": [
      "Original array:\n",
      "[4 7 4 9 4 2 5 5 6 0 5 3 9 1 2 9 2 4 6 4 6 6 1 4 6 0 9 7 0 8 9 0 8 4 6 3 1\n",
      " 8 2 4]\n",
      "Most frequent value in the above array:\n",
      "4\n"
     ]
    }
   ],
   "source": [
    "import numpy as np\n",
    "x = np.random.randint(0, 10, 40)\n",
    "print(\"Original array:\")\n",
    "print(x)\n",
    "print(\"Most frequent value in the above array:\")\n",
    "print(np.bincount(x).argmax())"
   ]
  },
  {
   "cell_type": "markdown",
   "id": "ee28642b",
   "metadata": {},
   "source": [
    "47. How to convert 1D array to 3D array?"
   ]
  },
  {
   "cell_type": "code",
   "execution_count": 46,
   "id": "0e01f95c",
   "metadata": {},
   "outputs": [
    {
     "name": "stdout",
     "output_type": "stream",
     "text": [
      "dimension of array 1\n",
      "\n",
      "dimension of array 3\n"
     ]
    }
   ],
   "source": [
    "arr1=np.array([1,2,0])\n",
    "print(\"dimension of array\",arr1.ndim)\n",
    "arr1=np.array(arr1,ndmin=3)\n",
    "print(\"\\ndimension of array\",arr1.ndim)"
   ]
  },
  {
   "cell_type": "markdown",
   "id": "8350330e",
   "metadata": {},
   "source": [
    "48. How to convert 4D array to 2D array?"
   ]
  },
  {
   "cell_type": "code",
   "execution_count": 47,
   "id": "2cc72b4b",
   "metadata": {},
   "outputs": [
    {
     "name": "stdout",
     "output_type": "stream",
     "text": [
      "[[[ 1  2  3]\n",
      "  [ 4  5  6]\n",
      "  [ 7  8  9]]\n",
      "\n",
      " [[10 11 12]\n",
      "  [13 14 15]\n",
      "  [16 17 18]]\n",
      "\n",
      " [[19 20 21]\n",
      "  [22 23 24]\n",
      "  [25 26 27]]]\n",
      "\n",
      "dimension of array 3\n"
     ]
    }
   ],
   "source": [
    "arr2=np.arange(1,28)\n",
    "arr2=arr2.reshape([3,3,3])\n",
    "print(arr2)\n",
    "print(\"\\ndimension of array\",arr2.ndim)"
   ]
  },
  {
   "cell_type": "markdown",
   "id": "5b3916d9",
   "metadata": {},
   "source": [
    "49. Create a Numpy array filled with all zeros"
   ]
  },
  {
   "cell_type": "code",
   "execution_count": 48,
   "id": "65596cc1",
   "metadata": {},
   "outputs": [
    {
     "name": "stdout",
     "output_type": "stream",
     "text": [
      "[[0. 0. 0.]\n",
      " [0. 0. 0.]\n",
      " [0. 0. 0.]\n",
      " [0. 0. 0.]]\n"
     ]
    }
   ],
   "source": [
    "arr1 = np.zeros([4,3])\n",
    "\n",
    "print(arr1)"
   ]
  },
  {
   "cell_type": "markdown",
   "id": "fac8f825",
   "metadata": {},
   "source": [
    "50. Find the number of rows and columns of a given matrix using NumPy"
   ]
  },
  {
   "cell_type": "code",
   "execution_count": 49,
   "id": "1b45f67a",
   "metadata": {},
   "outputs": [
    {
     "name": "stdout",
     "output_type": "stream",
     "text": [
      "Number of Rows in array: 4\n",
      "Number of Columns in array: 5\n"
     ]
    }
   ],
   "source": [
    "arr=np.random.randint(1,30,(4,5))\n",
    "print('Number of Rows in array:',arr.shape[0])\n",
    "print('Number of Columns in array:',arr.shape[1])"
   ]
  },
  {
   "cell_type": "code",
   "execution_count": null,
   "id": "abbb94d0",
   "metadata": {},
   "outputs": [],
   "source": []
  }
 ],
 "metadata": {
  "kernelspec": {
   "display_name": "Python 3 (ipykernel)",
   "language": "python",
   "name": "python3"
  },
  "language_info": {
   "codemirror_mode": {
    "name": "ipython",
    "version": 3
   },
   "file_extension": ".py",
   "mimetype": "text/x-python",
   "name": "python",
   "nbconvert_exporter": "python",
   "pygments_lexer": "ipython3",
   "version": "3.9.7"
  }
 },
 "nbformat": 4,
 "nbformat_minor": 5
}
