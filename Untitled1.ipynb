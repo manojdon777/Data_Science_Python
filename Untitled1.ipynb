{
 "cells": [
  {
   "cell_type": "code",
   "execution_count": 2,
   "id": "86e321ee",
   "metadata": {},
   "outputs": [
    {
     "data": {
      "text/plain": [
       "[2, 4]"
      ]
     },
     "execution_count": 2,
     "metadata": {},
     "output_type": "execute_result"
    }
   ],
   "source": [
    "l1 = [1,2,3,4,5]\n",
    "list(filter(lambda x:x%2==0 ,l1 ))"
   ]
  },
  {
   "cell_type": "code",
   "execution_count": 3,
   "id": "73f1cfca",
   "metadata": {},
   "outputs": [
    {
     "ename": "TypeError",
     "evalue": "test_parameters() got multiple values for argument 'phy'",
     "output_type": "error",
     "traceback": [
      "\u001b[1;31m---------------------------------------------------------------------------\u001b[0m",
      "\u001b[1;31mTypeError\u001b[0m                                 Traceback (most recent call last)",
      "\u001b[1;32m~\\AppData\\Local\\Temp/ipykernel_2032/1650938433.py\u001b[0m in \u001b[0;36m<module>\u001b[1;34m\u001b[0m\n\u001b[0;32m      5\u001b[0m     \u001b[0mprint\u001b[0m\u001b[1;33m(\u001b[0m\u001b[1;34mf'kwargs=={kwargs}'\u001b[0m\u001b[1;33m)\u001b[0m\u001b[1;33m\u001b[0m\u001b[1;33m\u001b[0m\u001b[0m\n\u001b[0;32m      6\u001b[0m \u001b[1;33m\u001b[0m\u001b[0m\n\u001b[1;32m----> 7\u001b[1;33m \u001b[0mtest_parameters\u001b[0m\u001b[1;33m(\u001b[0m\u001b[1;36m10\u001b[0m\u001b[1;33m,\u001b[0m\u001b[1;36m20\u001b[0m\u001b[1;33m,\u001b[0m\u001b[1;36m30\u001b[0m\u001b[1;33m,\u001b[0m\u001b[1;36m40\u001b[0m\u001b[1;33m,\u001b[0m\u001b[1;36m50\u001b[0m\u001b[1;33m,\u001b[0m\u001b[0mphy\u001b[0m\u001b[1;33m=\u001b[0m\u001b[1;36m100\u001b[0m\u001b[1;33m)\u001b[0m\u001b[1;33m\u001b[0m\u001b[1;33m\u001b[0m\u001b[0m\n\u001b[0m",
      "\u001b[1;31mTypeError\u001b[0m: test_parameters() got multiple values for argument 'phy'"
     ]
    }
   ],
   "source": [
    "def test_parameters(v1 , v2, v3, phy=95, che=88, **kwargs):\n",
    "    print(f'v1=={v1}, v2=={v2}, v3=={v3}')\n",
    "#     print(f'Args=={args}')\n",
    "    print(f'Phy=={phy}, Che=={che}')\n",
    "    print(f'kwargs=={kwargs}')\n",
    "    \n",
    "test_parameters(10,20,30,40,50,phy=100)"
   ]
  },
  {
   "cell_type": "code",
   "execution_count": null,
   "id": "5210bf9f",
   "metadata": {},
   "outputs": [],
   "source": []
  },
  {
   "cell_type": "code",
   "execution_count": 8,
   "id": "f135ceae",
   "metadata": {},
   "outputs": [
    {
     "name": "stdout",
     "output_type": "stream",
     "text": [
      "frozenset({'che', 'math', 'phy'})\n"
     ]
    }
   ],
   "source": [
    "dict1 = {'phy':100,'che':98,'math':90}\n",
    "keys = frozenset(dict1)\n",
    "print(frozenset(dict1))"
   ]
  },
  {
   "cell_type": "code",
   "execution_count": 7,
   "id": "5a71a9e8",
   "metadata": {},
   "outputs": [
    {
     "data": {
      "text/plain": [
       "frozenset({'che', 'math', 'phy'})"
      ]
     },
     "execution_count": 7,
     "metadata": {},
     "output_type": "execute_result"
    }
   ],
   "source": [
    "dict1 = {'phy':100,'che':98,'math':90}\n",
    "keys = frozenset(dict1)\n",
    "keys"
   ]
  },
  {
   "cell_type": "code",
   "execution_count": 7,
   "id": "2ef14791",
   "metadata": {},
   "outputs": [
    {
     "name": "stdout",
     "output_type": "stream",
     "text": [
      "\n",
      "a \n",
      "b c \n",
      "d e f \n",
      "g h i j \n",
      "k l m n o \n"
     ]
    }
   ],
   "source": [
    "char = 97\n",
    "# print(char)\n",
    "for i in range(6):\n",
    "    for j in range(i):\n",
    "        print(chr(char), end = ' ')\n",
    "        char += 1\n",
    "    print()\n",
    "        "
   ]
  },
  {
   "cell_type": "code",
   "execution_count": 5,
   "id": "5a803f89",
   "metadata": {},
   "outputs": [
    {
     "name": "stdout",
     "output_type": "stream",
     "text": [
      "Args >>  (10, 2, 20, 4, 5, 6, 2)\n",
      "10\n",
      "2\n",
      "20\n",
      "4\n",
      "5\n",
      "6\n",
      "2\n"
     ]
    },
    {
     "data": {
      "text/plain": [
       "3168000"
      ]
     },
     "execution_count": 5,
     "metadata": {},
     "output_type": "execute_result"
    }
   ],
   "source": [
    "def multiplication(*args,n1=33):  # n1=1 >> Default args\n",
    "    print('Args >> ', args) # Tuple\n",
    "    mul=n1\n",
    "    for i in args:\n",
    "        \n",
    "        mul *= i\n",
    "        print(i)\n",
    "    return mul\n",
    "\n",
    "multiplication(10,2,20,4,5,6,2) "
   ]
  },
  {
   "cell_type": "code",
   "execution_count": 2,
   "id": "e224332a",
   "metadata": {},
   "outputs": [
    {
     "name": "stdout",
     "output_type": "stream",
     "text": [
      "*       \n",
      "* *     \n",
      "* * *   \n",
      "* * * * \n"
     ]
    }
   ],
   "source": [
    "for i in range(1,5):\n",
    "    for j in range(1,5):\n",
    "        if j<=i:\n",
    "            print('*' , end=' ')\n",
    "        else:\n",
    "            print(' ', end =' ')\n",
    "    print()"
   ]
  },
  {
   "cell_type": "code",
   "execution_count": 3,
   "id": "1d343cf6",
   "metadata": {},
   "outputs": [
    {
     "name": "stdout",
     "output_type": "stream",
     "text": [
      "* * * * \n",
      "  * * * \n",
      "    * * \n",
      "      * \n"
     ]
    }
   ],
   "source": [
    "for i in range(1,5):\n",
    "    for j in range(1,5):\n",
    "        if j>=i:\n",
    "            print('*' , end=' ')\n",
    "        else:\n",
    "            print(' ', end =' ')\n",
    "    print()"
   ]
  },
  {
   "cell_type": "code",
   "execution_count": 4,
   "id": "ed191947",
   "metadata": {},
   "outputs": [
    {
     "name": "stdout",
     "output_type": "stream",
     "text": [
      "      * \n",
      "    * * \n",
      "  * * * \n",
      "* * * * \n"
     ]
    }
   ],
   "source": [
    "for i in range(1,5):\n",
    "    for j in range(1,5):\n",
    "        if j>=5-i:\n",
    "            print('*' , end=' ')\n",
    "        else:\n",
    "            print(' ', end =' ')\n",
    "    print()"
   ]
  },
  {
   "cell_type": "code",
   "execution_count": 7,
   "id": "d110e9e7",
   "metadata": {},
   "outputs": [
    {
     "name": "stdout",
     "output_type": "stream",
     "text": [
      "* * * * \n",
      "* * *   \n",
      "* *     \n",
      "*       \n"
     ]
    }
   ],
   "source": [
    "for i in range(1,5):\n",
    "    for j in range(1,5):\n",
    "        if j<=5-i:\n",
    "            print('*' , end=' ')\n",
    "        else:\n",
    "            print(' ', end =' ')\n",
    "    print()"
   ]
  },
  {
   "cell_type": "code",
   "execution_count": 19,
   "id": "27a451a2",
   "metadata": {},
   "outputs": [
    {
     "name": "stdout",
     "output_type": "stream",
     "text": [
      "* * * * * * * * * \n",
      "* * * *   * * * * \n",
      "* * *       * * * \n",
      "* *           * * \n",
      "*               * \n",
      "                  \n",
      "                  \n"
     ]
    }
   ],
   "source": [
    "m = 8\n",
    "n = 10\n",
    "for i in range(1,m):\n",
    "    for j in range(1,n):\n",
    "        if j<=6-i or j>=4+i:\n",
    "            print('*' , end=' ')\n",
    "        else:\n",
    "            print(' ', end =' ')\n",
    "    print()"
   ]
  }
 ],
 "metadata": {
  "kernelspec": {
   "display_name": "Python 3 (ipykernel)",
   "language": "python",
   "name": "python3"
  },
  "language_info": {
   "codemirror_mode": {
    "name": "ipython",
    "version": 3
   },
   "file_extension": ".py",
   "mimetype": "text/x-python",
   "name": "python",
   "nbconvert_exporter": "python",
   "pygments_lexer": "ipython3",
   "version": "3.9.7"
  }
 },
 "nbformat": 4,
 "nbformat_minor": 5
}
