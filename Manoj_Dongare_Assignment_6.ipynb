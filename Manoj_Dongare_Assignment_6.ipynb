{
 "cells": [
  {
   "cell_type": "markdown",
   "id": "99e59bde",
   "metadata": {},
   "source": [
    "#### 1. Write a Python program to sort a list of tuples using Lambda."
   ]
  },
  {
   "cell_type": "code",
   "execution_count": 32,
   "id": "45fcd197",
   "metadata": {},
   "outputs": [
    {
     "name": "stdout",
     "output_type": "stream",
     "text": [
      "[(34, 12), (35, 23), (32, 46)]\n",
      "[(34, 12), (35, 23), (32, 46)]\n"
     ]
    }
   ],
   "source": [
    "def sortTuple(tup1):\n",
    "    tup1.sort(key=lambda x:x[1])\n",
    "    print(tup1)\n",
    "def sortedTuple(tup1):\n",
    "    tup1 = sorted(tup1, key=lambda x:x[1])\n",
    "    print(tup1)\n",
    "sortTuple([(32,46),(34,12),(35,23)])\n",
    "sortedTuple([(32,46),(34,12),(35,23)])"
   ]
  },
  {
   "cell_type": "markdown",
   "id": "ea2b4a41",
   "metadata": {},
   "source": [
    "#### 2. Write a Python program to sort a list of dictionaries using Lambda\n"
   ]
  },
  {
   "cell_type": "code",
   "execution_count": 37,
   "id": "aa9a3f35",
   "metadata": {},
   "outputs": [
    {
     "name": "stdout",
     "output_type": "stream",
     "text": [
      "[{'name': 'ajit', 'mark': 98}, {'name': 'ashj', 'mark': 95}]\n",
      "[{'name': 'ashj', 'mark': 95}, {'name': 'ajit', 'mark': 98}]\n"
     ]
    }
   ],
   "source": [
    "def sortDict(dct):\n",
    "    dct.sort(key=lambda x:x['name'])\n",
    "    print(dct)\n",
    "def sortedDict(dct):\n",
    "    dct = sorted(dct, key=lambda x:x['mark'])\n",
    "    print(dct)\n",
    "    \n",
    "lst=[{\"name\":'ajit',\"mark\":98},{\"name\":\"ashj\",\"mark\":95}]\n",
    "\n",
    "sortDict(lst)\n",
    "sortedDict(lst)"
   ]
  },
  {
   "cell_type": "markdown",
   "id": "9574232e",
   "metadata": {},
   "source": [
    "#### 3. Write a Python program to find square and cube every number in a given list of integers using Lambda"
   ]
  },
  {
   "cell_type": "code",
   "execution_count": 1,
   "id": "2dc18f2d",
   "metadata": {},
   "outputs": [
    {
     "name": "stdout",
     "output_type": "stream",
     "text": [
      "[1, 4, 9, 16, 25]\n",
      "[1, 8, 27, 64, 125]\n"
     ]
    }
   ],
   "source": [
    "def sqDict(dict1):\n",
    "    return (list(map(lambda x: x**2,dict1)))\n",
    "def cubeDict(dict1):\n",
    "    return (list(map(lambda x: x**3,dict1)))\n",
    "print(sqDict([1,2,3,4,5]))\n",
    "print(cubeDict([1,2,3,4,5]))\n"
   ]
  },
  {
   "cell_type": "markdown",
   "id": "6950d2ce",
   "metadata": {},
   "source": [
    "#### 4. Write a Python program to find if a given string starts with a given character using Lambda"
   ]
  },
  {
   "cell_type": "code",
   "execution_count": 44,
   "id": "fec7f607",
   "metadata": {},
   "outputs": [
    {
     "name": "stdout",
     "output_type": "stream",
     "text": [
      "True\n"
     ]
    }
   ],
   "source": [
    "def fun(string):\n",
    "    x = lambda x: x.startswith('c')\n",
    "    print(x(string))\n",
    "fun('charcoal')"
   ]
  },
  {
   "cell_type": "markdown",
   "id": "fb0f8854",
   "metadata": {},
   "source": [
    "#### 5. Write a Python program to check whether a given string is number or not using Lambda\n"
   ]
  },
  {
   "cell_type": "code",
   "execution_count": 48,
   "id": "031934bd",
   "metadata": {},
   "outputs": [
    {
     "name": "stdout",
     "output_type": "stream",
     "text": [
      "True\n"
     ]
    }
   ],
   "source": [
    "def isNumber(string):\n",
    "    fun = lambda x:x.isdecimal()\n",
    "    print(fun(string))\n",
    "isNumber('2987')"
   ]
  },
  {
   "cell_type": "markdown",
   "id": "ad40ce3d",
   "metadata": {},
   "source": [
    "#### 6. Write a Python program to create Fibonacci series using Lambda\n",
    "#### 7. Write a Python program to find the intersection of two given arrays using Lambda\n",
    "#### 8. Write a Python program to rearrange positive and negative numbers in a given array using Lambda\n",
    "#### 9. Write a Python program to count the even, odd numbers in a given array of integers using Lambda\n",
    "#### 10. Write a Python program to add two given lists using map and lambda\n",
    "#### 11. Write a Python program to find numbers divisible by nineteen or thirteen from a list of numbers using Lambda\n",
    "#### 12. Write a Python program to find palindromes in a given list of strings using Lambda\n",
    "#### 13. Write a Python program to find all anagrams of a string in a given list of strings using lambda\n",
    "#### 14. Write a Python program that multiplies each number of a given list with a given number using lambda function. Print the result\n",
    "#### 15. Write a Python program to calculate the sum of the positive and negative numbers of a given list of numbers using lambda function\n",
    "#### 16. Write a Python program to find the list with maximum and minimum length using lambda\n",
    "#### 17. Write a Python program to check whether a specified list is sorted or not using lambda\n",
    "#### 18. Write a Python program to remove all elements from a given list present in another list using lambda.\n",
    "#### 19. Write a Python program to convert string element to integer inside a given tuple using\n",
    "#### 20. Write a Python program to count the occurrences of the items in a given list using lambda\n",
    "#### 21. Write a Python program to add three given lists using Python map and lambda\n",
    "#### 22. Write a Python program to listify the list of given strings individually using Python map\n",
    "#### 23. Write a Python program to square the elements of a list using map() function\n",
    "#### 24. Write a Python program to add two given lists and find the difference between lists. Use map() function\n",
    "#### 25. Write a Python program to convert a given list of integers and a tuple of integers in a list of strings\n",
    "#### 26. Write a Python program to compute the sum of elements of an given array of integers, use map() function\n",
    "#### 27. Write a Python program to count the same pair in two given lists. use map() function\n",
    "#### 28. Write a Python program to convert a given list of strings into list of lists using map function\n",
    "#### 29. Write a Python program to convert a given list of tuples to a list of strings using map function\n",
    "#### 30. Python program to find the diff. between two lists using filter() function\n",
    "#### 31. Python program to remove stop words from string using filter() function\n",
    "#### 32. Python program to find common items in two arrays using lambda and filter() function\n",
    "#### 33. Python program to filter odd numbers from the list using filter() function\n",
    "#### 34. Python program to filter even numbers from the list using filter() function\n",
    "#### 35. Python program that filters non-vowels from the list using filter() function#### "
   ]
  }
 ],
 "metadata": {
  "kernelspec": {
   "display_name": "Python 3 (ipykernel)",
   "language": "python",
   "name": "python3"
  },
  "language_info": {
   "codemirror_mode": {
    "name": "ipython",
    "version": 3
   },
   "file_extension": ".py",
   "mimetype": "text/x-python",
   "name": "python",
   "nbconvert_exporter": "python",
   "pygments_lexer": "ipython3",
   "version": "3.9.7"
  }
 },
 "nbformat": 4,
 "nbformat_minor": 5
}
