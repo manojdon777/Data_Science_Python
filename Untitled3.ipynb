{
 "cells": [
  {
   "cell_type": "code",
   "execution_count": 17,
   "id": "a405ecba",
   "metadata": {},
   "outputs": [
    {
     "data": {
      "text/plain": [
       "d1    object\n",
       "d2    object\n",
       "dtype: object"
      ]
     },
     "execution_count": 17,
     "metadata": {},
     "output_type": "execute_result"
    }
   ],
   "source": [
    "import pandas as pd\n",
    "\n",
    "df = pd.DataFrame({'d1':['2020-12-01', '2020-12-02'],\n",
    "                   'd2':['01/12/22','02/12/22']})\n",
    "df2 = df.replace('22','2022')\n",
    "df.dtypes"
   ]
  },
  {
   "cell_type": "code",
   "execution_count": 42,
   "id": "60b89c58",
   "metadata": {},
   "outputs": [
    {
     "name": "stdout",
     "output_type": "stream",
     "text": [
      "         Courses    Fee Duration\n",
      "0          Spark  22000   30days\n",
      "1           2/22  25000   50days\n",
      "2          Spark  23000   30days\n",
      "3  Java Language  24000   60days\n",
      "4           2/22  26000   35days\n",
      "5   PHP Language  27000   30days\n"
     ]
    }
   ],
   "source": [
    "\n",
    "# Create a pandas DataFrame.\n",
    "import pandas as pd\n",
    "import numpy as np\n",
    "technologies= {\n",
    "    'Courses':[\"Spark\",\"2/22\",\"Spark\",\"Java Language\",\"2/22\",\"PHP Language\"],\n",
    "    'Fee' :[22000,25000,23000,24000,26000,27000],\n",
    "    'Duration':['30days','50days','30days','60days','35days','30days']\n",
    "          }\n",
    "df = pd.DataFrame(technologies)\n",
    "print(df)\n"
   ]
  },
  {
   "cell_type": "code",
   "execution_count": 43,
   "id": "454f2c7c",
   "metadata": {},
   "outputs": [
    {
     "data": {
      "text/html": [
       "<div>\n",
       "<style scoped>\n",
       "    .dataframe tbody tr th:only-of-type {\n",
       "        vertical-align: middle;\n",
       "    }\n",
       "\n",
       "    .dataframe tbody tr th {\n",
       "        vertical-align: top;\n",
       "    }\n",
       "\n",
       "    .dataframe thead th {\n",
       "        text-align: right;\n",
       "    }\n",
       "</style>\n",
       "<table border=\"1\" class=\"dataframe\">\n",
       "  <thead>\n",
       "    <tr style=\"text-align: right;\">\n",
       "      <th></th>\n",
       "      <th>Courses</th>\n",
       "      <th>Fee</th>\n",
       "      <th>Duration</th>\n",
       "    </tr>\n",
       "  </thead>\n",
       "  <tbody>\n",
       "    <tr>\n",
       "      <th>0</th>\n",
       "      <td>Spark</td>\n",
       "      <td>22000</td>\n",
       "      <td>30days</td>\n",
       "    </tr>\n",
       "    <tr>\n",
       "      <th>1</th>\n",
       "      <td>Python with Spark</td>\n",
       "      <td>25000</td>\n",
       "      <td>50days</td>\n",
       "    </tr>\n",
       "    <tr>\n",
       "      <th>2</th>\n",
       "      <td>Spark</td>\n",
       "      <td>23000</td>\n",
       "      <td>30days</td>\n",
       "    </tr>\n",
       "    <tr>\n",
       "      <th>3</th>\n",
       "      <td>Java Language</td>\n",
       "      <td>24000</td>\n",
       "      <td>60days</td>\n",
       "    </tr>\n",
       "    <tr>\n",
       "      <th>4</th>\n",
       "      <td>Python with Spark</td>\n",
       "      <td>26000</td>\n",
       "      <td>35days</td>\n",
       "    </tr>\n",
       "    <tr>\n",
       "      <th>5</th>\n",
       "      <td>PHP Language</td>\n",
       "      <td>27000</td>\n",
       "      <td>30days</td>\n",
       "    </tr>\n",
       "  </tbody>\n",
       "</table>\n",
       "</div>"
      ],
      "text/plain": [
       "             Courses    Fee Duration\n",
       "0              Spark  22000   30days\n",
       "1  Python with Spark  25000   50days\n",
       "2              Spark  23000   30days\n",
       "3      Java Language  24000   60days\n",
       "4  Python with Spark  26000   35days\n",
       "5       PHP Language  27000   30days"
      ]
     },
     "execution_count": 43,
     "metadata": {},
     "output_type": "execute_result"
    }
   ],
   "source": [
    "df2 = df.replace('2/22','Python with Spark')\n",
    "df2\n"
   ]
  },
  {
   "cell_type": "code",
   "execution_count": 29,
   "id": "930a7ec2",
   "metadata": {},
   "outputs": [
    {
     "name": "stdout",
     "output_type": "stream",
     "text": [
      "         Courses    Fee Duration\n",
      "0          Spark  22000   30days\n",
      "1          12/22  25000   50days\n",
      "2          Spark  23000   30days\n",
      "3  Java Language  24000   60days\n",
      "4          12/22  26000   35days\n",
      "5   PHP Language  27000   30days\n"
     ]
    }
   ],
   "source": [
    "import pandas as pd\n",
    "import numpy as np\n",
    "technologies= {\n",
    "    'Courses':[\"Spark\",\"12/22\",\"Spark\",\"Java Language\",\"12/22\",\"PHP Language\"],\n",
    "    'Fee' :[22000,25000,23000,24000,26000,27000],\n",
    "    'Duration':['30days','50days','30days','60days','35days','30days']\n",
    "          }\n",
    "df = pd.DataFrame(technologies)\n",
    "print(df)\n"
   ]
  },
  {
   "cell_type": "code",
   "execution_count": 31,
   "id": "5b9d02b0",
   "metadata": {},
   "outputs": [
    {
     "name": "stdout",
     "output_type": "stream",
     "text": [
      "         Courses    Fee Duration\n",
      "0          Spark  22000   30days\n",
      "1          12/22  25000   50days\n",
      "2          Spark  23000   30days\n",
      "3  Java Language  24000   60days\n",
      "4          12/22  26000   35days\n",
      "5   PHP Language  27000   30days\n"
     ]
    }
   ],
   "source": [
    "df2 = df.replace('/22','XXXX')\n",
    "print(df2)\n"
   ]
  },
  {
   "cell_type": "code",
   "execution_count": 45,
   "id": "f7e518a1",
   "metadata": {},
   "outputs": [
    {
     "data": {
      "text/plain": [
       "0    148.323970\n",
       "1    158.113883\n",
       "2    151.657509\n",
       "3    154.919334\n",
       "4    161.245155\n",
       "5    164.316767\n",
       "Name: Fee, dtype: float64"
      ]
     },
     "execution_count": 45,
     "metadata": {},
     "output_type": "execute_result"
    }
   ],
   "source": [
    "df2['Fee'].apply(np.sqrt)"
   ]
  },
  {
   "cell_type": "code",
   "execution_count": null,
   "id": "5b6c07ac",
   "metadata": {},
   "outputs": [],
   "source": []
  }
 ],
 "metadata": {
  "kernelspec": {
   "display_name": "Python 3 (ipykernel)",
   "language": "python",
   "name": "python3"
  },
  "language_info": {
   "codemirror_mode": {
    "name": "ipython",
    "version": 3
   },
   "file_extension": ".py",
   "mimetype": "text/x-python",
   "name": "python",
   "nbconvert_exporter": "python",
   "pygments_lexer": "ipython3",
   "version": "3.9.7"
  }
 },
 "nbformat": 4,
 "nbformat_minor": 5
}
