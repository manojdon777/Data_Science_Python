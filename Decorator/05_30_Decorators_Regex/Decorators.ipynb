{
 "cells": [
  {
   "cell_type": "markdown",
   "id": "gorgeous-salvation",
   "metadata": {},
   "source": [
    "# Decorators"
   ]
  },
  {
   "cell_type": "raw",
   "id": "baking-albany",
   "metadata": {},
   "source": [
    "Higher order functions"
   ]
  },
  {
   "cell_type": "code",
   "execution_count": 9,
   "id": "complimentary-vertex",
   "metadata": {},
   "outputs": [
    {
     "name": "stdout",
     "output_type": "stream",
     "text": [
      "Outer Function\n"
     ]
    }
   ],
   "source": [
    "def outer_function():\n",
    "    print(\"Outer Function\")\n",
    "    return \n",
    "\n",
    "outer_function()"
   ]
  },
  {
   "cell_type": "code",
   "execution_count": 12,
   "id": "elder-instruction",
   "metadata": {},
   "outputs": [
    {
     "data": {
      "text/plain": [
       "<function __main__.outer_function()>"
      ]
     },
     "execution_count": 12,
     "metadata": {},
     "output_type": "execute_result"
    }
   ],
   "source": [
    "def outer_function():\n",
    "    print(\"Outer Function\")\n",
    "    return \n",
    "\n",
    "outer_function"
   ]
  },
  {
   "cell_type": "code",
   "execution_count": 5,
   "id": "naked-shakespeare",
   "metadata": {},
   "outputs": [
    {
     "name": "stdout",
     "output_type": "stream",
     "text": [
      "Outer Function\n"
     ]
    }
   ],
   "source": [
    "def outer_function():\n",
    "    print(\"Outer Function\")\n",
    "    \n",
    "    def inner_function():\n",
    "        print(\"Inner Function\")\n",
    "        \n",
    "    return \n",
    "\n",
    "outer_function()"
   ]
  },
  {
   "cell_type": "code",
   "execution_count": 2,
   "id": "creative-tobacco",
   "metadata": {},
   "outputs": [
    {
     "name": "stdout",
     "output_type": "stream",
     "text": [
      "Outer Function\n",
      "Outer Function Completed\n",
      "Inner Function\n"
     ]
    }
   ],
   "source": [
    "def outer_function():\n",
    "    print(\"Outer Function\")\n",
    "    \n",
    "    def inner_function():\n",
    "        print(\"Inner Function\")\n",
    "        \n",
    "    print(\"Outer Function Completed\")\n",
    "    return inner_function()\n",
    "\n",
    "outer_function()"
   ]
  },
  {
   "cell_type": "code",
   "execution_count": 16,
   "id": "foreign-vector",
   "metadata": {},
   "outputs": [
    {
     "name": "stdout",
     "output_type": "stream",
     "text": [
      "Outer Function\n",
      "Outer Function Completed\n"
     ]
    },
    {
     "data": {
      "text/plain": [
       "<function __main__.outer_function.<locals>.inner_function()>"
      ]
     },
     "execution_count": 16,
     "metadata": {},
     "output_type": "execute_result"
    }
   ],
   "source": [
    "def outer_function():\n",
    "    print(\"Outer Function\")\n",
    "    \n",
    "    def inner_function():\n",
    "        print(\"Inner Function\")\n",
    "        \n",
    "    print(\"Outer Function Completed\")\n",
    "    return inner_function\n",
    "\n",
    "outer_function() # inner_function"
   ]
  },
  {
   "cell_type": "code",
   "execution_count": 54,
   "id": "alleged-singer",
   "metadata": {},
   "outputs": [
    {
     "name": "stdout",
     "output_type": "stream",
     "text": [
      "Outer Function\n",
      "Outer Function Completed\n",
      "Inner Function\n"
     ]
    }
   ],
   "source": [
    "def outer_function():\n",
    "    print(\"Outer Function\")\n",
    "    \n",
    "    def inner_function():\n",
    "        print(\"Inner Function\")\n",
    "        \n",
    "    print(\"Outer Function Completed\")\n",
    "    return inner_function\n",
    "\n",
    "x = outer_function()  # inner_function\n",
    "x()"
   ]
  },
  {
   "cell_type": "code",
   "execution_count": 55,
   "id": "interracial-defeat",
   "metadata": {},
   "outputs": [
    {
     "name": "stdout",
     "output_type": "stream",
     "text": [
      "Outer Function\n",
      "Outer Function Completed\n"
     ]
    },
    {
     "data": {
      "text/plain": [
       "<function __main__.outer_function.<locals>.inner_function()>"
      ]
     },
     "execution_count": 55,
     "metadata": {},
     "output_type": "execute_result"
    }
   ],
   "source": [
    "def outer_function():\n",
    "    print(\"Outer Function\")\n",
    "    \n",
    "    def inner_function():\n",
    "        print(\"Inner Function\")\n",
    "        \n",
    "    print(\"Outer Function Completed\")\n",
    "    return inner_function\n",
    "\n",
    "x = outer_function  # inner_function\n",
    "x()"
   ]
  },
  {
   "cell_type": "code",
   "execution_count": 21,
   "id": "latin-vegetarian",
   "metadata": {},
   "outputs": [
    {
     "name": "stdout",
     "output_type": "stream",
     "text": [
      "Outer Function\n",
      "Outer Function Completed\n",
      "Inner Function\n"
     ]
    },
    {
     "data": {
      "text/plain": [
       "'Hello'"
      ]
     },
     "execution_count": 21,
     "metadata": {},
     "output_type": "execute_result"
    }
   ],
   "source": [
    "def outer_function():\n",
    "    print(\"Outer Function\")\n",
    "    \n",
    "    def inner_function():\n",
    "        print(\"Inner Function\")\n",
    "        \n",
    "        return 'Hello'\n",
    "    \n",
    "    print(\"Outer Function Completed\")\n",
    "    return inner_function\n",
    "\n",
    "x = outer_function()\n",
    "x()"
   ]
  },
  {
   "cell_type": "code",
   "execution_count": 24,
   "id": "sized-guard",
   "metadata": {},
   "outputs": [
    {
     "name": "stdout",
     "output_type": "stream",
     "text": [
      "Outer Function\n",
      "Outer Function Completed\n",
      "Inner Function\n",
      "Value in variable a is : 100\n"
     ]
    },
    {
     "data": {
      "text/plain": [
       "'Hello'"
      ]
     },
     "execution_count": 24,
     "metadata": {},
     "output_type": "execute_result"
    }
   ],
   "source": [
    "def outer_function():\n",
    "    print(\"Outer Function\")\n",
    "    \n",
    "    def inner_function(a = 100):\n",
    "        print(\"Inner Function\")\n",
    "        print(\"Value in variable a is :\",a)\n",
    "        return 'Hello'\n",
    "    \n",
    "    print(\"Outer Function Completed\")\n",
    "    return inner_function\n",
    "\n",
    "x = outer_function()\n",
    "x()"
   ]
  },
  {
   "cell_type": "code",
   "execution_count": 26,
   "id": "positive-vegetarian",
   "metadata": {},
   "outputs": [
    {
     "name": "stdout",
     "output_type": "stream",
     "text": [
      "Outer Function\n",
      "Outer Function Completed\n",
      "Inner Function\n",
      "Value in variable a is : 200\n"
     ]
    },
    {
     "data": {
      "text/plain": [
       "'Hello'"
      ]
     },
     "execution_count": 26,
     "metadata": {},
     "output_type": "execute_result"
    }
   ],
   "source": [
    "def outer_function():\n",
    "    print(\"Outer Function\")\n",
    "    \n",
    "    def inner_function(a = 100):\n",
    "        print(\"Inner Function\")\n",
    "        print(\"Value in variable a is :\",a)\n",
    "        return 'Hello'\n",
    "    \n",
    "    print(\"Outer Function Completed\")\n",
    "    return inner_function\n",
    "\n",
    "x = outer_function()\n",
    "x(a = 200)"
   ]
  },
  {
   "cell_type": "code",
   "execution_count": 30,
   "id": "academic-comedy",
   "metadata": {},
   "outputs": [
    {
     "name": "stdout",
     "output_type": "stream",
     "text": [
      "Outer Function\n",
      "Outer Function Completed\n",
      "Inner Function\n",
      "Value in variable a is : 200\n",
      "Inner Function Completed\n"
     ]
    },
    {
     "data": {
      "text/plain": [
       "'Hello'"
      ]
     },
     "execution_count": 30,
     "metadata": {},
     "output_type": "execute_result"
    }
   ],
   "source": [
    "def outer_function():\n",
    "    print(\"Outer Function\")\n",
    "    \n",
    "    def inner_function(a = 100):\n",
    "        print(\"Inner Function\")\n",
    "        print(\"Value in variable a is :\",a)\n",
    "        print(\"Inner Function Completed\")\n",
    "        return 'Hello'\n",
    "    \n",
    "    print(\"Outer Function Completed\")\n",
    "    return inner_function\n",
    "\n",
    "x = outer_function()\n",
    "x(a = 200)"
   ]
  },
  {
   "cell_type": "code",
   "execution_count": 58,
   "id": "scenic-moderator",
   "metadata": {},
   "outputs": [
    {
     "name": "stdout",
     "output_type": "stream",
     "text": [
      "Outer Function\n",
      "Outer Function Completed\n",
      "We are in Inner Function\n",
      "We are testing decorators\n",
      "Inner Function Completed\n"
     ]
    }
   ],
   "source": [
    "def hello_decorator(func): # Higher order function\n",
    "    print(\"Outer Function\")\n",
    "    \n",
    "    def inner_function(a = 100):\n",
    "        print(\"We are in Inner Function\")\n",
    "        func()  # we are calling my_fun()\n",
    "        print(\"Inner Function Completed\")\n",
    "        return \n",
    "    \n",
    "    print(\"Outer Function Completed\")\n",
    "    return inner_function\n",
    "\n",
    "def my_fun():\n",
    "    print(\"We are testing decorators\")\n",
    "    \n",
    "x = hello_decorator(my_fun)\n",
    "x()"
   ]
  },
  {
   "cell_type": "code",
   "execution_count": 61,
   "id": "reliable-bottle",
   "metadata": {},
   "outputs": [
    {
     "name": "stdout",
     "output_type": "stream",
     "text": [
      "Outer Function\n",
      "Outer Function Completed\n",
      "We are in Inner Function\n",
      "1. We are testing decorators\n",
      "Inner Function Completed\n"
     ]
    },
    {
     "data": {
      "text/plain": [
       "'Hello'"
      ]
     },
     "execution_count": 61,
     "metadata": {},
     "output_type": "execute_result"
    }
   ],
   "source": [
    "def hello_decorator(test_function): # Higher order function\n",
    "    print(\"Outer Function\")\n",
    "    \n",
    "    def inner_function(a = 100):\n",
    "        print(\"We are in Inner Function\")\n",
    "        test_function()  # we are calling my_fun()\n",
    "        print(\"Inner Function Completed\")\n",
    "        return 'Hello'\n",
    "    \n",
    "    print(\"Outer Function Completed\")\n",
    "    return inner_function\n",
    "\n",
    "@hello_decorator  # hello_decorator(my_fun1)\n",
    "def my_fun1():\n",
    "    print(\"1. We are testing decorators\")\n",
    "    \n",
    "    \n",
    "my_fun1()"
   ]
  },
  {
   "cell_type": "code",
   "execution_count": 65,
   "id": "documentary-insurance",
   "metadata": {},
   "outputs": [
    {
     "name": "stdout",
     "output_type": "stream",
     "text": [
      "Factorial Function\n",
      "Factorial of 5 is 120\n"
     ]
    }
   ],
   "source": [
    "def factorial(n):\n",
    "    print(\"Factorial Function\")\n",
    "    fact = 1\n",
    "    for i in range(1,n+1):\n",
    "        fact *= i\n",
    "    print(f\"Factorial of {n} is {fact}\")\n",
    "    \n",
    "factorial(5)"
   ]
  },
  {
   "cell_type": "code",
   "execution_count": 68,
   "id": "disturbed-devices",
   "metadata": {},
   "outputs": [
    {
     "name": "stdout",
     "output_type": "stream",
     "text": [
      "Factorial Function\n",
      "Factorial of 5 is 120\n",
      "Time taken by function is : 3.0088422298431396\n"
     ]
    }
   ],
   "source": []
  },
  {
   "cell_type": "code",
   "execution_count": null,
   "id": "tropical-madagascar",
   "metadata": {},
   "outputs": [],
   "source": []
  },
  {
   "cell_type": "code",
   "execution_count": null,
   "id": "planned-burning",
   "metadata": {},
   "outputs": [],
   "source": []
  },
  {
   "cell_type": "code",
   "execution_count": 46,
   "id": "comfortable-franklin",
   "metadata": {},
   "outputs": [
    {
     "name": "stdout",
     "output_type": "stream",
     "text": [
      "Outer Function\n",
      "Outer Function Completed\n",
      "Outer Function\n",
      "Outer Function Completed\n",
      "Outer Function\n",
      "Outer Function Completed\n",
      "We are in Inner Function\n",
      "3. We are testing decorators\n",
      "Inner Function Completed\n"
     ]
    },
    {
     "data": {
      "text/plain": [
       "'Hello'"
      ]
     },
     "execution_count": 46,
     "metadata": {},
     "output_type": "execute_result"
    }
   ],
   "source": [
    "def hello_decorator(func): # Higher order function\n",
    "    print(\"Outer Function\")\n",
    "    \n",
    "    def inner_function(a = 100):\n",
    "        print(\"We are in Inner Function\")\n",
    "        func()  # we are calling my_fun()\n",
    "        print(\"Inner Function Completed\")\n",
    "        return 'Hello'\n",
    "    \n",
    "    print(\"Outer Function Completed\")\n",
    "    return inner_function\n",
    "\n",
    "@hello_decorator  # hello_decorator(my_fun)\n",
    "def my_fun1():\n",
    "    print(\"1. We are testing decorators\")\n",
    "    \n",
    "@hello_decorator  # hello_decorator(my_fun)\n",
    "def my_fun2():\n",
    "    print( \"2. We are testing decorators\")\n",
    "\n",
    "@hello_decorator  # hello_decorator(my_fun)\n",
    "def my_fun3():\n",
    "    print( \"3. We are testing decorators\")\n",
    "    \n",
    "    \n",
    "my_fun3()"
   ]
  },
  {
   "cell_type": "code",
   "execution_count": 74,
   "id": "understood-kernel",
   "metadata": {},
   "outputs": [
    {
     "name": "stdout",
     "output_type": "stream",
     "text": [
      "Factorial Function\n",
      "Factorial of 5 is 120\n",
      "Time taken by function is : 3.006618022918701\n",
      "fibonacci Function\n",
      "Time taken by function is : 2.0184667110443115\n"
     ]
    }
   ],
   "source": [
    "import time\n",
    "def factorial(n):\n",
    "    start_time = time.time()\n",
    "    print(\"Factorial Function\")\n",
    "    fact = 1\n",
    "    for i in range(1,n+1):\n",
    "        fact *= i\n",
    "    print(f\"Factorial of {n} is {fact}\")\n",
    "    time.sleep(3)\n",
    "    total_time = time.time() - start_time\n",
    "    print(\"Time taken by function is :\",total_time)\n",
    "    \n",
    "    \n",
    "def fibonacci():\n",
    "    start_time = time.time()\n",
    "    print(\"fibonacci Function\")\n",
    "    for i in range(200000):\n",
    "        pass\n",
    "    time.sleep(2)\n",
    "    total_time = time.time() - start_time\n",
    "    print(\"Time taken by function is :\",total_time)\n",
    "\n",
    "factorial(5)\n",
    "fibonacci()\n",
    "\n",
    "# 10 function"
   ]
  },
  {
   "cell_type": "code",
   "execution_count": 76,
   "id": "brilliant-prescription",
   "metadata": {},
   "outputs": [
    {
     "name": "stdout",
     "output_type": "stream",
     "text": [
      "Factorial Function\n",
      "Factorial of 5 is 120\n",
      "Time taken by function is : 3.015561103820801\n"
     ]
    }
   ],
   "source": [
    "import time\n",
    "\n",
    "def factorial(n):\n",
    "    print(\"Factorial Function\")\n",
    "    fact = 1\n",
    "    for i in range(1,n+1):\n",
    "        fact *= i\n",
    "    print(f\"Factorial of {n} is {fact}\")\n",
    "    \n",
    "\n",
    "def fibonacci():\n",
    "    start_time = time.time()\n",
    "    print(\"fibonacci Function\")\n",
    "    for i in range(200000):\n",
    "        pass\n",
    "    time.sleep(2)\n",
    "    total_time = time.time() - start_time\n",
    "    print(\"Time taken by function is :\",total_time)\n",
    "\n",
    "    \n",
    "start_time = time.time() \n",
    "factorial(5)\n",
    "time.sleep(3)\n",
    "total_time = time.time() - start_time\n",
    "print(\"Time taken by function is :\",total_time)\n",
    "\n",
    "\n",
    "# 10 function"
   ]
  },
  {
   "cell_type": "code",
   "execution_count": 85,
   "id": "objective-cause",
   "metadata": {},
   "outputs": [
    {
     "name": "stdout",
     "output_type": "stream",
     "text": [
      "Calculate Time Outer Function\n",
      "**********************************************************************\n",
      "Inner Function\n",
      "Factorial Function\n",
      "Factorial of 5 is 120\n",
      "Total time taken by function is : 2.003406524658203\n"
     ]
    }
   ],
   "source": [
    "import time\n",
    "def calculate_time(fun):\n",
    "    print(\"Calculate Time Outer Function\")\n",
    "    \n",
    "    def inner_function():\n",
    "        print(\"Inner Function\")\n",
    "        start_time = time.time()\n",
    "        fun()         # factorial()\n",
    "        end_time = time.time()\n",
    "        total_time = end_time - start_time\n",
    "        print(\"Total time taken by function is :\",total_time)\n",
    "        \n",
    "    print(\"*\"*70)\n",
    "    return inner_function\n",
    "    \n",
    "def factorial(n = 5):\n",
    "    print(\"Factorial Function\")\n",
    "    fact = 1\n",
    "    for i in range(1,n+1):\n",
    "        fact *= i\n",
    "    time.sleep(2)\n",
    "    print(f\"Factorial of {n} is {fact}\")\n",
    "    \n",
    "x = calculate_time(factorial)\n",
    "x()"
   ]
  },
  {
   "cell_type": "code",
   "execution_count": 87,
   "id": "british-liver",
   "metadata": {},
   "outputs": [
    {
     "name": "stdout",
     "output_type": "stream",
     "text": [
      "Calculate Time Outer Function\n",
      "**********************************************************************\n",
      "$$$$$$$$$$$$$$$$$$$$$$$$$$$$$$$$$$$$$$$$$$$$$$$$$$$$$$$$$$$$$$$$$$$$$$$$$$$$$$$$\n",
      "Factorial Function\n",
      "Factorial of 5 is 120\n",
      "Total time taken by function is : 2.006434202194214\n",
      "$$$$$$$$$$$$$$$$$$$$$$$$$$$$$$$$$$$$$$$$$$$$$$$$$$$$$$$$$$$$$$$$$$$$$$$$$$$$$$$$\n"
     ]
    }
   ],
   "source": [
    "import time\n",
    "def calculate_time(fun):\n",
    "    print(\"Calculate Time Outer Function\")\n",
    "    \n",
    "    def inner_function():\n",
    "        print(\"$\"*80)\n",
    "        start_time = time.time()\n",
    "        fun()         # factorial()\n",
    "        end_time = time.time()\n",
    "        total_time = end_time - start_time\n",
    "        print(\"Total time taken by function is :\",total_time)\n",
    "        print(\"$\"*80)\n",
    "        \n",
    "    print(\"*\"*70)\n",
    "    return inner_function\n",
    "    \n",
    "def factorial(n = 5):\n",
    "    print(\"Factorial Function\")\n",
    "    fact = 1\n",
    "    for i in range(1,n+1):\n",
    "        fact *= i\n",
    "    time.sleep(2)\n",
    "    print(f\"Factorial of {n} is {fact}\")\n",
    "    \n",
    "x = calculate_time(factorial)\n",
    "x()"
   ]
  },
  {
   "cell_type": "code",
   "execution_count": 93,
   "id": "psychological-noise",
   "metadata": {},
   "outputs": [
    {
     "name": "stdout",
     "output_type": "stream",
     "text": [
      "Calculate Time Outer Function\n",
      "**********************************************************************\n",
      "$$$$$$$$$$$$$$$$$$$$$$$$$$$$$$$$$$$$$$$$$$$$$$$$$$$$$$$$$$$$$$$$$$$$$$$$$$$$$$$$\n",
      "Factorial Function\n",
      "Factorial of 7 is 5040\n",
      "Total time taken by function is : 2.001377582550049\n",
      "$$$$$$$$$$$$$$$$$$$$$$$$$$$$$$$$$$$$$$$$$$$$$$$$$$$$$$$$$$$$$$$$$$$$$$$$$$$$$$$$\n"
     ]
    }
   ],
   "source": [
    "import time\n",
    "def calculate_time(fun):\n",
    "    print(\"Calculate Time Outer Function\")\n",
    "    \n",
    "    def inner_function(n):\n",
    "        print(\"$\"*80)\n",
    "        start_time = time.time()\n",
    "        fun(n)         # factorial()\n",
    "        end_time = time.time()\n",
    "        total_time = end_time - start_time\n",
    "        print(\"Total time taken by function is :\",total_time)\n",
    "        print(\"$\"*80)\n",
    "        \n",
    "    print(\"*\"*70)\n",
    "    return inner_function\n",
    "    \n",
    "def factorial(n = 5):\n",
    "    print(\"Factorial Function\")\n",
    "    fact = 1\n",
    "    for i in range(1,n+1):\n",
    "        fact *= i\n",
    "    time.sleep(2)\n",
    "    print(f\"Factorial of {n} is {fact}\")\n",
    "    \n",
    "x = calculate_time(factorial)\n",
    "x(7) # inner_function"
   ]
  },
  {
   "cell_type": "code",
   "execution_count": 99,
   "id": "sufficient-regard",
   "metadata": {},
   "outputs": [
    {
     "name": "stdout",
     "output_type": "stream",
     "text": [
      "Calculate Time Outer Function\n",
      "**********************************************************************\n",
      "$$$$$$$$$$$$$$$$$$$$$$$$$$$$$$$$$$$$$$$$$$$$$$$$$$$$$$$$$$$$$$$$$$$$$$$$$$$$$$$$\n",
      "Factorial Function\n",
      "Factorial of 5 is 120\n",
      "Total time taken by function is : 2.011598825454712\n",
      "$$$$$$$$$$$$$$$$$$$$$$$$$$$$$$$$$$$$$$$$$$$$$$$$$$$$$$$$$$$$$$$$$$$$$$$$$$$$$$$$\n",
      "++++++++++++++++++++++++++++++++++++++++++++++++++++++++++++++++++++++++++++++++++++++++++\n",
      "Calculate Time Outer Function\n",
      "**********************************************************************\n",
      "$$$$$$$$$$$$$$$$$$$$$$$$$$$$$$$$$$$$$$$$$$$$$$$$$$$$$$$$$$$$$$$$$$$$$$$$$$$$$$$$\n",
      "Fibonacci Function\n",
      "Total time taken by function is : 3.006225347518921\n",
      "$$$$$$$$$$$$$$$$$$$$$$$$$$$$$$$$$$$$$$$$$$$$$$$$$$$$$$$$$$$$$$$$$$$$$$$$$$$$$$$$\n"
     ]
    }
   ],
   "source": [
    "import time\n",
    "def calculate_time(fun):\n",
    "    print(\"Calculate Time Outer Function\")\n",
    "    \n",
    "    def inner_function():\n",
    "        print(\"$\"*80)\n",
    "        start_time = time.time()\n",
    "        fun()         # factorial()\n",
    "        end_time = time.time()\n",
    "        total_time = end_time - start_time\n",
    "        print(\"Total time taken by function is :\",total_time)\n",
    "        print(\"$\"*80)\n",
    "        \n",
    "    print(\"*\"*70)\n",
    "    return inner_function\n",
    "    \n",
    "@calculate_time\n",
    "def factorial(n = 5):\n",
    "    print(\"Factorial Function\")\n",
    "    fact = 1\n",
    "    for i in range(1,n+1):\n",
    "        fact *= i\n",
    "    time.sleep(2)\n",
    "    print(f\"Factorial of {n} is {fact}\")\n",
    "    \n",
    "factorial()\n",
    "\n",
    "print(\"+\"*90)\n",
    "@calculate_time\n",
    "def fibonacci():\n",
    "    print(\"Fibonacci Function\")\n",
    "    for i in range(1,1001):\n",
    "        pass\n",
    "    time.sleep(3)\n",
    "    \n",
    "fibonacci()"
   ]
  },
  {
   "cell_type": "code",
   "execution_count": 90,
   "id": "announced-workstation",
   "metadata": {},
   "outputs": [
    {
     "name": "stdout",
     "output_type": "stream",
     "text": [
      "Calculate Time Outer Function\n",
      "**********************************************************************\n",
      "$$$$$$$$$$$$$$$$$$$$$$$$$$$$$$$$$$$$$$$$$$$$$$$$$$$$$$$$$$$$$$$$$$$$$$$$$$$$$$$$\n",
      "Factorial Function\n",
      "Factorial of 6 is 720\n",
      "Total time taken by function is : 2.001800537109375\n",
      "$$$$$$$$$$$$$$$$$$$$$$$$$$$$$$$$$$$$$$$$$$$$$$$$$$$$$$$$$$$$$$$$$$$$$$$$$$$$$$$$\n"
     ]
    }
   ],
   "source": [
    "import time\n",
    "def calculate_time(fun):\n",
    "    print(\"Calculate Time Outer Function\")\n",
    "    \n",
    "    def inner_function(n):\n",
    "        print(\"$\"*80)\n",
    "        start_time = time.time()\n",
    "        fun(n)         # factorial()\n",
    "        end_time = time.time()\n",
    "        total_time = end_time - start_time\n",
    "        print(\"Total time taken by function is :\",total_time)\n",
    "        print(\"$\"*80)\n",
    "        \n",
    "    print(\"*\"*70)\n",
    "    return inner_function\n",
    "    \n",
    "@calculate_time\n",
    "def factorial(n = 5):\n",
    "    print(\"Factorial Function\")\n",
    "    fact = 1\n",
    "    for i in range(1,n+1):\n",
    "        fact *= i\n",
    "    time.sleep(2)\n",
    "    print(f\"Factorial of {n} is {fact}\")\n",
    "    \n",
    "factorial(6)"
   ]
  },
  {
   "cell_type": "code",
   "execution_count": 106,
   "id": "british-mattress",
   "metadata": {},
   "outputs": [
    {
     "name": "stdout",
     "output_type": "stream",
     "text": [
      "$$$$$$$$$$$$$$$$$$$$$$$$$$$$$$$$$$$$$$$$$$$$$$$$$$$$$$$$$$$$$$$$$$$$$$$$$$$$$$$$\n",
      "args (6,)\n",
      "Factorial Function\n",
      "Factorial of 5 is 120\n",
      "Total time taken by function is : 2.008171319961548\n",
      "$$$$$$$$$$$$$$$$$$$$$$$$$$$$$$$$$$$$$$$$$$$$$$$$$$$$$$$$$$$$$$$$$$$$$$$$$$$$$$$$\n",
      "++++++++++++++++++++++++++++++++++++++++++++++++++++++++++++++++++++++++++++++++++++++++++\n"
     ]
    }
   ],
   "source": [
    "import time\n",
    "def calculate_time(fun):\n",
    "    \n",
    "    def inner_function(*args):\n",
    "        print(\"$\"*80)\n",
    "        start_time = time.time()\n",
    "        print('args' , args)\n",
    "        fun()         # factorial()\n",
    "        end_time = time.time()\n",
    "        total_time = end_time - start_time\n",
    "        print(\"Total time taken by function is :\",total_time)\n",
    "        print(\"$\"*80)\n",
    "        \n",
    "    return inner_function\n",
    "    \n",
    "@calculate_time\n",
    "def factorial(n = 5):\n",
    "    print(\"Factorial Function\")\n",
    "    fact = 1\n",
    "    for i in range(1,n+1):\n",
    "        fact *= i\n",
    "    time.sleep(2)\n",
    "    print(f\"Factorial of {n} is {fact}\")\n",
    "    \n",
    "factorial(6)\n",
    "\n",
    "print(\"+\"*90)\n",
    "# @calculate_time\n",
    "# def fibonacci():\n",
    "#     print(\"Fibonacci Function\")\n",
    "#     for i in range(1,1001):\n",
    "#         pass\n",
    "#     time.sleep(3)\n",
    "    \n",
    "# fibonacci()"
   ]
  },
  {
   "cell_type": "code",
   "execution_count": null,
   "id": "thick-opening",
   "metadata": {},
   "outputs": [],
   "source": []
  }
 ],
 "metadata": {
  "kernelspec": {
   "display_name": "Python 3 (ipykernel)",
   "language": "python",
   "name": "python3"
  },
  "language_info": {
   "codemirror_mode": {
    "name": "ipython",
    "version": 3
   },
   "file_extension": ".py",
   "mimetype": "text/x-python",
   "name": "python",
   "nbconvert_exporter": "python",
   "pygments_lexer": "ipython3",
   "version": "3.9.7"
  }
 },
 "nbformat": 4,
 "nbformat_minor": 5
}
