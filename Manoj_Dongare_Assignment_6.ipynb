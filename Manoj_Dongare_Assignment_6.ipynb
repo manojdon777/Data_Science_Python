{
 "cells": [
  {
   "cell_type": "markdown",
   "id": "99e59bde",
   "metadata": {},
   "source": [
    "#### 1. Write a Python program to sort a list of tuples using Lambda."
   ]
  },
  {
   "cell_type": "code",
   "execution_count": 32,
   "id": "45fcd197",
   "metadata": {},
   "outputs": [
    {
     "name": "stdout",
     "output_type": "stream",
     "text": [
      "[(34, 12), (35, 23), (32, 46)]\n",
      "[(34, 12), (35, 23), (32, 46)]\n"
     ]
    }
   ],
   "source": [
    "def sortTuple(tup1):\n",
    "    tup1.sort(key=lambda x:x[1])\n",
    "    print(tup1)\n",
    "def sortedTuple(tup1):\n",
    "    tup1 = sorted(tup1, key=lambda x:x[1])\n",
    "    print(tup1)\n",
    "sortTuple([(32,46),(34,12),(35,23)])\n",
    "sortedTuple([(32,46),(34,12),(35,23)])"
   ]
  },
  {
   "cell_type": "markdown",
   "id": "ea2b4a41",
   "metadata": {},
   "source": [
    "#### 2. Write a Python program to sort a list of dictionaries using Lambda\n"
   ]
  },
  {
   "cell_type": "code",
   "execution_count": 37,
   "id": "aa9a3f35",
   "metadata": {},
   "outputs": [
    {
     "name": "stdout",
     "output_type": "stream",
     "text": [
      "[{'name': 'ajit', 'mark': 98}, {'name': 'ashj', 'mark': 95}]\n",
      "[{'name': 'ashj', 'mark': 95}, {'name': 'ajit', 'mark': 98}]\n"
     ]
    }
   ],
   "source": [
    "def sortDict(dct):\n",
    "    dct.sort(key=lambda x:x['name'])\n",
    "    print(dct)\n",
    "def sortedDict(dct):\n",
    "    dct = sorted(dct, key=lambda x:x['mark'])\n",
    "    print(dct)\n",
    "    \n",
    "lst=[{\"name\":'ajit',\"mark\":98},{\"name\":\"ashj\",\"mark\":95}]\n",
    "\n",
    "sortDict(lst)\n",
    "sortedDict(lst)"
   ]
  },
  {
   "cell_type": "markdown",
   "id": "9574232e",
   "metadata": {},
   "source": [
    "#### 3. Write a Python program to find square and cube every number in a given list of integers using Lambda"
   ]
  },
  {
   "cell_type": "code",
   "execution_count": 1,
   "id": "2dc18f2d",
   "metadata": {},
   "outputs": [
    {
     "name": "stdout",
     "output_type": "stream",
     "text": [
      "[1, 4, 9, 16, 25]\n",
      "[1, 8, 27, 64, 125]\n"
     ]
    }
   ],
   "source": [
    "def sqDict(dict1):\n",
    "    return (list(map(lambda x: x**2,dict1)))\n",
    "def cubeDict(dict1):\n",
    "    return (list(map(lambda x: x**3,dict1)))\n",
    "print(sqDict([1,2,3,4,5]))\n",
    "print(cubeDict([1,2,3,4,5]))\n"
   ]
  },
  {
   "cell_type": "markdown",
   "id": "6950d2ce",
   "metadata": {},
   "source": [
    "#### 4. Write a Python program to find if a given string starts with a given character using Lambda"
   ]
  },
  {
   "cell_type": "code",
   "execution_count": 44,
   "id": "fec7f607",
   "metadata": {},
   "outputs": [
    {
     "name": "stdout",
     "output_type": "stream",
     "text": [
      "True\n"
     ]
    }
   ],
   "source": [
    "def fun(string):\n",
    "    x = lambda x: x.startswith('c')\n",
    "    print(x(string))\n",
    "fun('charcoal')"
   ]
  },
  {
   "cell_type": "markdown",
   "id": "fb0f8854",
   "metadata": {},
   "source": [
    "#### 5. Write a Python program to check whether a given string is number or not using Lambda\n"
   ]
  },
  {
   "cell_type": "code",
   "execution_count": 48,
   "id": "031934bd",
   "metadata": {},
   "outputs": [
    {
     "name": "stdout",
     "output_type": "stream",
     "text": [
      "True\n"
     ]
    }
   ],
   "source": [
    "def isNumber(string):\n",
    "    fun = lambda x:x.isdecimal()\n",
    "    print(fun(string))\n",
    "isNumber('2987')"
   ]
  },
  {
   "cell_type": "markdown",
   "id": "47497472",
   "metadata": {},
   "source": [
    "#### 6. Write a Python program to create Fibonacci series using Lambda"
   ]
  },
  {
   "cell_type": "code",
   "execution_count": null,
   "id": "9be23519",
   "metadata": {},
   "outputs": [],
   "source": [
    "n = 11\n",
    "fib = lambda x: x if x<=1 else fib(x-2)+fib(x-1)\n",
    "l = list(map(fib,range(n)))"
   ]
  },
  {
   "cell_type": "markdown",
   "id": "ec9b45f2",
   "metadata": {},
   "source": [
    "#### 7. Write a Python program to find the intersection of two given arrays using Lambda"
   ]
  },
  {
   "cell_type": "code",
   "execution_count": 8,
   "id": "b5771f02",
   "metadata": {},
   "outputs": [
    {
     "name": "stdout",
     "output_type": "stream",
     "text": [
      "[2, 4, 6]\n"
     ]
    }
   ],
   "source": [
    "def intersect(l1, l2)\n",
    "    intersection = filter(lambda x:  x in l1,l2)\n",
    "    print(list(intersection))\n",
    "l1=[1,2,3,4,5,6]\n",
    "l2=[2,4,6,7,8]\n",
    "intersect(l1,l2)"
   ]
  },
  {
   "cell_type": "markdown",
   "id": "41a0c4e8",
   "metadata": {},
   "source": [
    "#### 8. Write a Python program to rearrange positive and negative numbers in a given array using Lambda"
   ]
  },
  {
   "cell_type": "code",
   "execution_count": 11,
   "id": "db7717c0",
   "metadata": {},
   "outputs": [
    {
     "name": "stdout",
     "output_type": "stream",
     "text": [
      "[-8, -6, -5, -3, -1, 2, 4, 7]\n"
     ]
    }
   ],
   "source": [
    "def posNeg(lst):\n",
    "    lst.sort(key=lambda x:x)\n",
    "    print(lst)\n",
    "posNeg([-1,2,-3,4,-5,-6,7,-8])"
   ]
  },
  {
   "cell_type": "markdown",
   "id": "7c0d66f6",
   "metadata": {},
   "source": [
    "#### 9. Write a Python program to count the even, odd numbers in a given array of integers using Lambda"
   ]
  },
  {
   "cell_type": "code",
   "execution_count": 6,
   "id": "d57c5395",
   "metadata": {},
   "outputs": [
    {
     "name": "stdout",
     "output_type": "stream",
     "text": [
      "Even = 4\n",
      "Odd = 5\n"
     ]
    }
   ],
   "source": [
    "def count(lst):    \n",
    "    print('Even =',len(list(filter(lambda x: x%2 == 0,lst))))\n",
    "    print('Odd =',len(list(filter(lambda x: x%2 != 0,lst))))\n",
    "count([1,2,3,4,5,6,7,8,9])"
   ]
  },
  {
   "cell_type": "markdown",
   "id": "6f37cf5e",
   "metadata": {},
   "source": [
    "#### 10. Write a Python program to add two given lists using map and lambda"
   ]
  },
  {
   "cell_type": "code",
   "execution_count": 8,
   "id": "d7e52091",
   "metadata": {},
   "outputs": [
    {
     "name": "stdout",
     "output_type": "stream",
     "text": [
      "[2, 4, 6, 8, 10, 12, 14, 16, 18]\n"
     ]
    }
   ],
   "source": [
    "def addLists(l1, l2):\n",
    "    return list(map(lambda x,y: x+y,l1, l2))\n",
    "l1=[1,2,3,4,5,6,7,8,9]\n",
    "l2=[1,2,3,4,5,6,7,8,9]\n",
    "print(addLists(l1,l2))"
   ]
  },
  {
   "cell_type": "markdown",
   "id": "1209f30e",
   "metadata": {},
   "source": [
    "#### 11. Write a Python program to find numbers divisible by nineteen or thirteen from a list of numbers using Lambda"
   ]
  },
  {
   "cell_type": "code",
   "execution_count": 17,
   "id": "957e3041",
   "metadata": {},
   "outputs": [
    {
     "name": "stdout",
     "output_type": "stream",
     "text": [
      "[13, 19, 38, 52, 65, 95]\n"
     ]
    }
   ],
   "source": [
    "def div(lst):\n",
    "    return list(filter(lambda x:x%13==0 or x%19==0, lst))\n",
    "print(div([12,13,19,18,24,38,72,48,52,65,95]))"
   ]
  },
  {
   "cell_type": "markdown",
   "id": "8e06098d",
   "metadata": {},
   "source": [
    "#### 12. Write a Python program to find palindromes in a given list of strings using Lambda"
   ]
  },
  {
   "cell_type": "code",
   "execution_count": 19,
   "id": "c915683b",
   "metadata": {},
   "outputs": [
    {
     "name": "stdout",
     "output_type": "stream",
     "text": [
      "['121', 'mom', 'bob', 'pop', '151']\n"
     ]
    }
   ],
   "source": [
    "def isPalindrome(lst):\n",
    "    return list(filter(lambda x:x==x[::-1], lst))\n",
    "print(isPalindrome(['121','papa','mom','bob','pop','sap','coco','son','151']))"
   ]
  },
  {
   "cell_type": "markdown",
   "id": "c496ecc4",
   "metadata": {},
   "source": [
    "#### 13. Write a Python program to find all anagrams of a string in a given list of strings using lambda"
   ]
  },
  {
   "cell_type": "code",
   "execution_count": 23,
   "id": "53045278",
   "metadata": {},
   "outputs": [
    {
     "name": "stdout",
     "output_type": "stream",
     "text": [
      "['map', 'pam']\n"
     ]
    }
   ],
   "source": [
    "from collections import Counter\n",
    "user_input=['map','pam']\n",
    "str1='amp'\n",
    "a=list(filter(lambda x:Counter(str1)==Counter(x),user_input))\n",
    "print(a)"
   ]
  },
  {
   "cell_type": "markdown",
   "id": "6e93792d",
   "metadata": {},
   "source": [
    "#### 14. Write a Python program that multiplies each number of a given list with a given number using lambda function. Print the result"
   ]
  },
  {
   "cell_type": "code",
   "execution_count": 33,
   "id": "ffc71666",
   "metadata": {},
   "outputs": [
    {
     "name": "stdout",
     "output_type": "stream",
     "text": [
      "[5, 10, 15, 20, 25, 30, 35, 40, 45]\n"
     ]
    }
   ],
   "source": [
    "def mult(lst, number):\n",
    "    mul = lambda x:[i*number for i in x]\n",
    "    print(mul(lst))\n",
    "mult([1,2,3,4,5,6,7,8,9],5)"
   ]
  },
  {
   "cell_type": "markdown",
   "id": "13638346",
   "metadata": {},
   "source": [
    "#### 15. Write a Python program to calculate the sum of the positive and negative numbers of a given list of numbers using lambda function"
   ]
  },
  {
   "cell_type": "code",
   "execution_count": 10,
   "id": "c983dbca",
   "metadata": {},
   "outputs": [
    {
     "name": "stdout",
     "output_type": "stream",
     "text": [
      "14\n"
     ]
    }
   ],
   "source": [
    "from functools import reduce\n",
    "def SUM(lst):\n",
    "#     print(reduce(lambda x:sum(x), lst))\n",
    "    print(sum(list(filter(lambda nums:nums,lst))))\n",
    "SUM([2,4,6,8,-1,-2,-3])"
   ]
  },
  {
   "cell_type": "markdown",
   "id": "214c2bc8",
   "metadata": {},
   "source": [
    "#### 16. Write a Python program to find the list with maximum and minimum length using lambda"
   ]
  },
  {
   "cell_type": "code",
   "execution_count": 1,
   "id": "27bf86ce",
   "metadata": {},
   "outputs": [
    {
     "name": "stdout",
     "output_type": "stream",
     "text": [
      "Maximum length 7 and Minimum length 1\n"
     ]
    }
   ],
   "source": [
    "list_1=[[1],[0,1],[0,1,2],[0,1,2,3],[0,1,2,3,4],[0,1,2,3,4,5],[0,1,2,3,4,5,6]]\n",
    "X=lambda x:len(x)\n",
    "Len=list(map(X,list_1))\n",
    "print(f'Maximum length {max(Len)} and Minimum length {min(Len)}')"
   ]
  },
  {
   "cell_type": "markdown",
   "id": "6ee2df4b",
   "metadata": {},
   "source": [
    "#### 17. Write a Python program to check whether a specified list is sorted or not using lambda\n"
   ]
  },
  {
   "cell_type": "code",
   "execution_count": 2,
   "id": "8a533651",
   "metadata": {},
   "outputs": [
    {
     "name": "stdout",
     "output_type": "stream",
     "text": [
      "Yes Sorted\n"
     ]
    }
   ],
   "source": [
    "l_1=[1,2,3,4,5,6,7,8,9]\n",
    "X=lambda a : print('Yes Sorted') if sorted(a)==a else print(\"not sorted\")\n",
    "X(l_1)"
   ]
  },
  {
   "cell_type": "markdown",
   "id": "c5482b10",
   "metadata": {},
   "source": [
    "#### 18. Write a Python program to remove all elements from a given list present in another list using lambda.\n"
   ]
  },
  {
   "cell_type": "code",
   "execution_count": 8,
   "id": "e9594bae",
   "metadata": {},
   "outputs": [
    {
     "name": "stdout",
     "output_type": "stream",
     "text": [
      "[1, 2, 3]\n"
     ]
    }
   ],
   "source": [
    "l1=[1,2,3,4,5,6]\n",
    "l2=[4,5,6,7,8,9]\n",
    "x = list(filter(lambda x:x not in l2, l1))\n",
    "print(x)"
   ]
  },
  {
   "cell_type": "markdown",
   "id": "e0b89e21",
   "metadata": {},
   "source": [
    "#### 19. Write a Python program to convert string element to integer inside a given tuple using lambda\n"
   ]
  },
  {
   "cell_type": "code",
   "execution_count": 12,
   "id": "59d66c67",
   "metadata": {},
   "outputs": [
    {
     "name": "stdout",
     "output_type": "stream",
     "text": [
      "((123, 33), (66, 456), (678, 99))\n"
     ]
    }
   ],
   "source": [
    "def tuple_to_str(tuple_1):\n",
    "    result=tuple(map(lambda x : (int(x[1]), int(x[2])),tuple_1))\n",
    "    return result\n",
    "tuple_str=(('abc','123','33'),('def','66','456'),('ghi','678','99'))\n",
    "X=tuple_to_str(tuple_str)\n",
    "print(X)"
   ]
  },
  {
   "cell_type": "markdown",
   "id": "a09f94b6",
   "metadata": {},
   "source": [
    "#### 20. Write a Python program to count the occurrences of the items in a given list using lambda\n"
   ]
  },
  {
   "cell_type": "code",
   "execution_count": 4,
   "id": "f99b5011",
   "metadata": {},
   "outputs": [
    {
     "name": "stdout",
     "output_type": "stream",
     "text": [
      "{1: 3, 2: 3, 3: 2, 4: 4, 5: 3, 6: 3}\n"
     ]
    }
   ],
   "source": [
    "l1=[1,2,3,4,5,6,4,5,6,2,1,3,2,1,4,5,6,4]\n",
    "result=dict(map(lambda x: (x,list(l1).count(x)),l1))\n",
    "print(result)"
   ]
  },
  {
   "cell_type": "markdown",
   "id": "45204f28",
   "metadata": {},
   "source": [
    "#### 21. Write a Python program to add three given lists using Python map and lambda\n"
   ]
  },
  {
   "cell_type": "code",
   "execution_count": null,
   "id": "64be09c4",
   "metadata": {},
   "outputs": [],
   "source": [
    "l1=[1,2,3,4,5,6]\n",
    "l2=[1,2,3,4,5,6]\n",
    "l3=[1,2,3,4,5,6]\n",
    "l4=list(map(lambda x,y,z:x+y+z,l1,l2,l3))\n",
    "l4"
   ]
  },
  {
   "cell_type": "markdown",
   "id": "dc77d579",
   "metadata": {},
   "source": [
    "#### 22. Write a Python program to listify the list of given strings individually using Python map\n"
   ]
  },
  {
   "cell_type": "code",
   "execution_count": 1,
   "id": "b92d1b74",
   "metadata": {},
   "outputs": [
    {
     "data": {
      "text/plain": [
       "[['Y', 'o', 'g', 'e', 's', 'h'],\n",
       " ['M', 'a', 'y', 'u', 'r'],\n",
       " ['P', 'u', 's', 'h', 'k', 'a', 'r'],\n",
       " ['P', 'a', 'w', 'a', 'n']]"
      ]
     },
     "execution_count": 1,
     "metadata": {},
     "output_type": "execute_result"
    }
   ],
   "source": [
    "list1=[\"Yogesh\",\"Mayur\",\"Pushkar\",\"Pawan\"]\n",
    "list2=list(map(lambda x:list(x),list1))\n",
    "list2"
   ]
  },
  {
   "cell_type": "markdown",
   "id": "b59fc876",
   "metadata": {},
   "source": [
    "#### 23. Write a Python program to square the elements of a list using map() function\n"
   ]
  },
  {
   "cell_type": "code",
   "execution_count": null,
   "id": "2e26c443",
   "metadata": {},
   "outputs": [],
   "source": [
    "list1=[1,2,3,4,5]\n",
    "list2=list(map(lambda x:x**2,list1))\n",
    "list2"
   ]
  },
  {
   "cell_type": "markdown",
   "id": "4d4b5e28",
   "metadata": {},
   "source": [
    "#### 24. Write a Python program to add two given lists and find the difference between lists. Use map() function"
   ]
  },
  {
   "cell_type": "code",
   "execution_count": null,
   "id": "8abad3c1",
   "metadata": {},
   "outputs": [],
   "source": [
    "list1=[2,3,4,5]\n",
    "list2=[1,2,3,4]\n",
    "list3=list(map(lambda x,y:x+y,list1,list2))\n",
    "diff=lambda x,y:set(x)^set(y)\n",
    "print(\"Two list after adding :\",list3)\n",
    "print(\"Difference of two list is :\", list(diff(list1,list2)))"
   ]
  },
  {
   "cell_type": "markdown",
   "id": "337fb28a",
   "metadata": {},
   "source": [
    "#### 25. Write a Python program to convert a given list of integers and a tuple of integers in a list of strings"
   ]
  },
  {
   "cell_type": "code",
   "execution_count": null,
   "id": "6c31529e",
   "metadata": {},
   "outputs": [],
   "source": [
    "list1=[1,2,3,4]\n",
    "tuple1=(1,2,3,4,5)\n",
    "list_str=list(map(lambda x:str(x),list1))\n",
    "tuple_str=tuple(map(lambda x:str(x),list1))\n",
    "print(\"list of int to list of str :\",list_str)\n",
    "print(\"tuple of int to tuple of str :\",tuple_str)"
   ]
  },
  {
   "cell_type": "markdown",
   "id": "63bf06bd",
   "metadata": {},
   "source": [
    "#### 26. Write a Python program to compute the sum of elements of an given array of integers, use map() function"
   ]
  },
  {
   "cell_type": "code",
   "execution_count": null,
   "id": "bb40c74b",
   "metadata": {},
   "outputs": [],
   "source": [
    "list1=[1,2,3,4,5]\n",
    "sum1=sum(list(map(lambda x:x,list1)))\n",
    "print(\"Sum of all element in list1 is :\",sum1)"
   ]
  },
  {
   "cell_type": "markdown",
   "id": "abefec3a",
   "metadata": {},
   "source": [
    "#### 27. Write a Python program to count the same pair in two given lists. use map() function\n"
   ]
  },
  {
   "cell_type": "code",
   "execution_count": null,
   "id": "4d757e7c",
   "metadata": {},
   "outputs": [],
   "source": [
    "list1=[1,2,3,4,5,6]\n",
    "list2=[2,2,7,4,2,6]\n",
    "x=sum(list(map(lambda x,y: 1 if x==y else 0,list1,list2)))\n",
    "print(\"Count of same pair is :\",x"
   ]
  },
  {
   "cell_type": "markdown",
   "id": "e2eb49ce",
   "metadata": {},
   "source": [
    "#### 28. Write a Python program to convert a given list of strings into list of lists using map function\n"
   ]
  },
  {
   "cell_type": "code",
   "execution_count": null,
   "id": "81576c71",
   "metadata": {},
   "outputs": [],
   "source": [
    "list1=[\"Yogesh\",\"Mayur\",\"Pawan\",\"Jadhav\"]\n",
    "list2=list(map(lambda x:list(x),list1))\n",
    "list2"
   ]
  },
  {
   "cell_type": "markdown",
   "id": "c83e5e2f",
   "metadata": {},
   "source": [
    "#### 29. Write a Python program to convert a given list of tuples to a list of strings using map function\n"
   ]
  },
  {
   "cell_type": "code",
   "execution_count": null,
   "id": "1ffc42bf",
   "metadata": {},
   "outputs": [],
   "source": [
    "list1=[(\"1\",\"2\",\"3\"),(\"4\",\"5\",\"6\"),(\"7\",\"8\",\"7\")]\n",
    "list2=list(map(lambda x:\"\".join(x),list1))\n",
    "list2"
   ]
  },
  {
   "cell_type": "markdown",
   "id": "84dd115f",
   "metadata": {},
   "source": [
    "#### 30. Python program to find the diff. between two lists using filter() function\n"
   ]
  },
  {
   "cell_type": "code",
   "execution_count": null,
   "id": "a15426a0",
   "metadata": {},
   "outputs": [],
   "source": [
    "list1=[1,2,3,4,5]\n",
    "list2=[4,5,6,7,8]\n",
    "list3=list(filter(lambda x: x not in list2, list1))\n",
    "list3"
   ]
  },
  {
   "cell_type": "markdown",
   "id": "a058334e",
   "metadata": {},
   "source": [
    "#### 31. Python program to remove stop words from string using filter() function\n"
   ]
  },
  {
   "cell_type": "code",
   "execution_count": null,
   "id": "58da4e8c",
   "metadata": {},
   "outputs": [],
   "source": []
  },
  {
   "cell_type": "markdown",
   "id": "ad40ce3d",
   "metadata": {},
   "source": [
    "#### 32. Python program to find common items in two arrays using lambda and filter() function\n"
   ]
  },
  {
   "cell_type": "code",
   "execution_count": null,
   "id": "aa35e01e",
   "metadata": {},
   "outputs": [],
   "source": []
  },
  {
   "cell_type": "markdown",
   "id": "a6407a5b",
   "metadata": {},
   "source": [
    "#### 33. Python program to filter odd numbers from the list using filter() function\n"
   ]
  },
  {
   "cell_type": "code",
   "execution_count": null,
   "id": "2a855d57",
   "metadata": {},
   "outputs": [],
   "source": []
  },
  {
   "cell_type": "markdown",
   "id": "6ad58b8f",
   "metadata": {},
   "source": [
    "#### 34. Python program to filter even numbers from the list using filter() function\n"
   ]
  },
  {
   "cell_type": "code",
   "execution_count": null,
   "id": "d0802307",
   "metadata": {},
   "outputs": [],
   "source": []
  },
  {
   "cell_type": "markdown",
   "id": "d3440ba8",
   "metadata": {},
   "source": [
    "#### 35. Python program that filters non-vowels from the list using filter() function"
   ]
  }
 ],
 "metadata": {
  "kernelspec": {
   "display_name": "Python 3 (ipykernel)",
   "language": "python",
   "name": "python3"
  },
  "language_info": {
   "codemirror_mode": {
    "name": "ipython",
    "version": 3
   },
   "file_extension": ".py",
   "mimetype": "text/x-python",
   "name": "python",
   "nbconvert_exporter": "python",
   "pygments_lexer": "ipython3",
   "version": "3.9.7"
  }
 },
 "nbformat": 4,
 "nbformat_minor": 5
}
