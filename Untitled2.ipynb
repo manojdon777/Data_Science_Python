{
 "cells": [
  {
   "cell_type": "code",
   "execution_count": 11,
   "id": "895dbae1",
   "metadata": {},
   "outputs": [
    {
     "name": "stdout",
     "output_type": "stream",
     "text": [
      "[1, 2]\n"
     ]
    }
   ],
   "source": [
    "l1=[1,2,3,4]\n",
    "l2=[1,2]\n",
    "res = list(filter(lambda x: x in l2, l1))\n",
    "print(res)"
   ]
  },
  {
   "cell_type": "code",
   "execution_count": null,
   "id": "20470be7",
   "metadata": {},
   "outputs": [],
   "source": [
    "list1 = [2,3,4]\n",
    "list2 = [1,2,3]\n",
    "Add_result = list(map(lambda x,y: x+y,list1,list2))\n",
    "print(f'Add_result',Add_result)\n",
    "Sub_result = list(map(lambda x,y: x-y,list1,list2))\n",
    "print(f'Sub_result',Sub_result)"
   ]
  },
  {
   "cell_type": "code",
   "execution_count": null,
   "id": "43969f34",
   "metadata": {},
   "outputs": [],
   "source": [
    "list1 = [4,6,2,7,1,8,34,65,95]\n",
    "if divisible by 2 replace it by 1\n",
    "if divisible by 3 replace by 0\n",
    "else delete number from list"
   ]
  }
 ],
 "metadata": {
  "kernelspec": {
   "display_name": "Python 3 (ipykernel)",
   "language": "python",
   "name": "python3"
  },
  "language_info": {
   "codemirror_mode": {
    "name": "ipython",
    "version": 3
   },
   "file_extension": ".py",
   "mimetype": "text/x-python",
   "name": "python",
   "nbconvert_exporter": "python",
   "pygments_lexer": "ipython3",
   "version": "3.9.7"
  }
 },
 "nbformat": 4,
 "nbformat_minor": 5
}
