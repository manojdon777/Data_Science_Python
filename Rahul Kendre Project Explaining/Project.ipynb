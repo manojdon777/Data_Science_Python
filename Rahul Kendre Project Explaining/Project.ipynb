{
 "cells": [
  {
   "cell_type": "markdown",
   "id": "temporal-resort",
   "metadata": {},
   "source": [
    "# Project"
   ]
  },
  {
   "cell_type": "code",
   "execution_count": null,
   "id": "polish-cocktail",
   "metadata": {},
   "outputs": [],
   "source": [
    "NDA"
   ]
  },
  {
   "cell_type": "code",
   "execution_count": null,
   "id": "typical-caution",
   "metadata": {},
   "outputs": [],
   "source": [
    "CSV \n",
    "Excel\n",
    "JSON"
   ]
  },
  {
   "cell_type": "code",
   "execution_count": null,
   "id": "driven-leather",
   "metadata": {},
   "outputs": [],
   "source": [
    "JSON >> 450 key - value\n",
    "\n",
    "60 feature (key-value)\n",
    "6 to 10 months\n",
    "\n",
    "CSV file\n",
    "\n",
    "Number of cores\n",
    "GPU\n",
    "i7 >> 6 or 8 cores\n",
    "AWS >> 32 cores\n",
    "16 GB"
   ]
  },
  {
   "cell_type": "code",
   "execution_count": null,
   "id": "following-concentration",
   "metadata": {},
   "outputs": [],
   "source": [
    "xgboost\n",
    "git add\n",
    "git commit\n",
    "git push\n",
    "\n",
    "git pull \n",
    "run python files"
   ]
  },
  {
   "cell_type": "code",
   "execution_count": null,
   "id": "exposed-understanding",
   "metadata": {},
   "outputs": [],
   "source": [
    "Deployment:\n",
    "    bank statement analysis: \n",
    "        15 API\n",
    "        \n",
    "    Document classification:\n",
    "        \n",
    "        \n",
    "Docker "
   ]
  },
  {
   "cell_type": "code",
   "execution_count": null,
   "id": "oriental-radiation",
   "metadata": {},
   "outputs": [],
   "source": [
    "EDA\n",
    "4 models\n",
    "\n",
    "1. Logistic\n",
    "2. KNN\n",
    "3. Decision Tree\n",
    "4. Random Forest\n",
    "5. AdaBoost\n",
    "6. Gradient Boosting\n",
    "\n",
    "\n",
    "6 columns"
   ]
  },
  {
   "cell_type": "code",
   "execution_count": null,
   "id": "african-fleet",
   "metadata": {},
   "outputs": [],
   "source": [
    "Logistic:\n",
    "    EDA:\n",
    "        Handle Missing values:(2 columns)\n",
    "            1. mean\n",
    "            2. median\n",
    "            3. mode\n",
    "            4. KNN IMputer\n",
    "            \n",
    "        Outliers detection: (2 columns)  >> 1000 rows\n",
    "            1. zscore\n",
    "            2. iqr\n",
    "            3. boxplot\n",
    "            4. scatter plot\n",
    "            \n",
    "            Log, squre root, cube root, reciprocal Transformation\n",
    "            Delete \n",
    "            \n",
    "     Encoding:(3 columns)\n",
    "        1. OneHot (2 columns)\n",
    "        2. Label Encoder(1)\n",
    "        \n",
    "    Assumptions:\n",
    "        1. Linearity(cont independent var Vs Logit Function)\n",
    "        2. No Multicolinearity:\n",
    "            corr matrix\n",
    "            VIF( 1 to 10)\n",
    "            \n",
    "        \n",
    "    Correlation:(-1 to +1)\n",
    "        \n",
    "    80 to 85\n"
   ]
  },
  {
   "cell_type": "markdown",
   "id": "fancy-treasurer",
   "metadata": {},
   "source": [
    "# 2. KNN"
   ]
  },
  {
   "cell_type": "code",
   "execution_count": null,
   "id": "organizational-bristol",
   "metadata": {},
   "outputs": [],
   "source": [
    "Good accuracy(80k)\n",
    "k = 15\n",
    "Hyperparameter tuning:\n",
    "    GridSearchCV\n",
    "    RandomizedSearchCV\n",
    "    \n",
    "20 Lakh\n",
    "\n",
    "90 < accuracy"
   ]
  },
  {
   "cell_type": "markdown",
   "id": "ethical-sailing",
   "metadata": {},
   "source": [
    "# 3. Decision Tree"
   ]
  },
  {
   "cell_type": "code",
   "execution_count": null,
   "id": "accepting-helena",
   "metadata": {},
   "outputs": [],
   "source": [
    "Overfitting:\n",
    "    Low Bias and High Variance\n",
    "    Trainig data accuracy : High(99%)\n",
    "    Testing Data Accuracy : Low(75%)\n",
    "        \n",
    "    Low Bias : High Training accuracy\n",
    "    High Bias : Low Training accuracy\n",
    "        \n",
    "    Variance :\n",
    "        difference between two dataset accuracies\n",
    "        \n",
    "    Low Train       Low Test          >> Low Variance   >> Underfitting\n",
    "    Low Train       High Test         >> High Variance\n",
    "    High Train      Low Test          >> High Variance  >> Overfitting\n",
    "    High Train      High Test         >> Low Variance   >> Best Model \n",
    "    \n",
    "Low Bias and High Variance  >> Overfitting\n",
    "\n",
    "high Bias and Low Variance  >> Underfitting\n",
    "\n",
    "1. Hyperparameter Tuning:\n",
    "    max_depth\n",
    "    criteria\n",
    "    min_sample_split\n",
    "    min_sample_leaf\n",
    "    \n",
    "    96 % train\n",
    "    95 % test\n",
    "    \n",
    "2. Pruning\n",
    "\n",
    "85% test\n",
    "93% train"
   ]
  },
  {
   "cell_type": "markdown",
   "id": "accepted-federation",
   "metadata": {},
   "source": [
    "# 4. Random Forest"
   ]
  },
  {
   "cell_type": "code",
   "execution_count": 1,
   "id": "coordinated-addition",
   "metadata": {},
   "outputs": [
    {
     "ename": "SyntaxError",
     "evalue": "invalid syntax (<ipython-input-1-fa6b704bf154>, line 1)",
     "output_type": "error",
     "traceback": [
      "\u001b[1;36m  File \u001b[1;32m\"<ipython-input-1-fa6b704bf154>\"\u001b[1;36m, line \u001b[1;32m1\u001b[0m\n\u001b[1;33m    1. Hyperparameter Tuning:\u001b[0m\n\u001b[1;37m       ^\u001b[0m\n\u001b[1;31mSyntaxError\u001b[0m\u001b[1;31m:\u001b[0m invalid syntax\n"
     ]
    }
   ],
   "source": [
    "1. Hyperparameter Tuning:\n",
    "    max_depth\n",
    "    criteria >> \n",
    "    min_sample_split\n",
    "    min_sample_leaf\n",
    "    n_estimater\n",
    "    max_features = 'auto'  >> np.sqrt(number of features)\n",
    "    \n",
    "    50 parameter: 7 features\n",
    "       \n",
    "\n",
    "96 % train\n",
    "95 % test\n",
    "    \n",
    "accuracy\n",
    "Precision:(FP)\n",
    "Recall >> (FN)\n",
    "f1-Score >> (FP and FN)\n",
    "\n",
    "900-100\n",
    "class1       1            1         1\n",
    "class2       0            0         0 \n",
    "accuracy >> 90%\n",
    "  \n",
    "0.85 \n",
    "    \n",
    "1 DT >> 1 min\n",
    "100 DT >> 100 min\n",
    "\n",
    "\n",
    "credit card number( 80 % missing value)\n",
    "3425 6752 >> 1\n",
    "nan       >> 0\n",
    "nan\n",
    "Nan\n",
    "Nan\n",
    "3425 6752\n",
    "3425 6752\n",
    "\n",
    "Precision\n",
    "Recall\n",
    "f1-Score"
   ]
  },
  {
   "cell_type": "markdown",
   "id": "pointed-ultimate",
   "metadata": {},
   "source": [
    "# Feature Selection"
   ]
  },
  {
   "cell_type": "code",
   "execution_count": null,
   "id": "sufficient-match",
   "metadata": {},
   "outputs": [],
   "source": [
    "50 feature:\n",
    "    70 features\n",
    "    \n",
    "Derived Features:\n",
    "    \n",
    "accountOpenDate\":\"24102018\",\n",
    "\n",
    "Account Opened in last 3 months\n",
    "Account Opened in last 6 months\n",
    "Account Opened in last 12 months\n",
    "Account Opened in last 2 years\n",
    "Account Opened in last 3 years\n",
    "\n",
    "current Balance\n",
    "sanctioned amount\n",
    "\n",
    "100\n",
    "secured enq\n",
    "unsecured enq\n",
    "\n",
    "70 features:\n",
    "    \n",
    "     \n",
    "1. Filter Method\n",
    "2. Wrapper Method\n",
    "3. Embedded Method:\n",
    "    RF\n",
    "    L1 Regularization(Lasso Regression)\n",
    "    \n",
    "y = m1x1 + m2x2 + m3x3 + c\n",
    "\n",
    "Feature Extraction:\n",
    "    PCA\n",
    "    LDA"
   ]
  },
  {
   "cell_type": "markdown",
   "id": "sound-presentation",
   "metadata": {},
   "source": [
    "# Hypothesis Testing"
   ]
  },
  {
   "cell_type": "code",
   "execution_count": null,
   "id": "eleven-nurse",
   "metadata": {},
   "outputs": [],
   "source": [
    "1. chi-square(Cat vs Cat)\n",
    "2. Normality:(Linear Regression)\n",
    "    1. shapiro\n",
    "    2. ks test\n",
    "    3. normal test\n",
    "3. T-Test\n",
    "4. Z-Test\n",
    "5. AONVA (Numeric Vs Cat)\n"
   ]
  },
  {
   "cell_type": "code",
   "execution_count": null,
   "id": "chubby-flooring",
   "metadata": {},
   "outputs": [],
   "source": []
  },
  {
   "cell_type": "code",
   "execution_count": null,
   "id": "educated-mechanism",
   "metadata": {},
   "outputs": [],
   "source": [
    "Naive Bayes:\n",
    "    Multinomial \n",
    "    Gaussian\n",
    "    Bernoulli\n",
    "\n",
    "SVM "
   ]
  },
  {
   "cell_type": "code",
   "execution_count": null,
   "id": "declared-neutral",
   "metadata": {},
   "outputs": [],
   "source": [
    "Project Pipeline:\n",
    "    "
   ]
  }
 ],
 "metadata": {
  "kernelspec": {
   "display_name": "Python 3",
   "language": "python",
   "name": "python3"
  },
  "language_info": {
   "codemirror_mode": {
    "name": "ipython",
    "version": 3
   },
   "file_extension": ".py",
   "mimetype": "text/x-python",
   "name": "python",
   "nbconvert_exporter": "python",
   "pygments_lexer": "ipython3",
   "version": "3.8.7"
  }
 },
 "nbformat": 4,
 "nbformat_minor": 5
}
