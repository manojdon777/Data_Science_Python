{
 "cells": [
  {
   "cell_type": "markdown",
   "id": "attempted-accent",
   "metadata": {},
   "source": [
    "# Regular Expression"
   ]
  },
  {
   "cell_type": "code",
   "execution_count": null,
   "id": "hollow-search",
   "metadata": {},
   "outputs": [],
   "source": [
    "import re\n",
    "regex >> Regular Expression\n",
    "\n",
    "Text Processing\n",
    "\n",
    "pattern"
   ]
  },
  {
   "cell_type": "markdown",
   "id": "collaborative-profile",
   "metadata": {},
   "source": [
    "# Regular Expression Functions"
   ]
  },
  {
   "cell_type": "code",
   "execution_count": null,
   "id": "received-rebel",
   "metadata": {},
   "outputs": [],
   "source": [
    "1. findall() # list\n",
    "2. sub() # string\n",
    "3. match()\n",
    "4. search()\n",
    "5. compile()\n",
    "6. split()"
   ]
  },
  {
   "cell_type": "code",
   "execution_count": null,
   "id": "raising-infrastructure",
   "metadata": {},
   "outputs": [],
   "source": [
    "pdf2image\n",
    "pytesseract  >> image to text"
   ]
  },
  {
   "cell_type": "markdown",
   "id": "third-pizza",
   "metadata": {},
   "source": [
    "# 1. findall()"
   ]
  },
  {
   "cell_type": "code",
   "execution_count": null,
   "id": "twenty-theme",
   "metadata": {},
   "outputs": [],
   "source": [
    "re.findall(pattern, text)\n",
    "Finall function returns list of matches"
   ]
  },
  {
   "cell_type": "code",
   "execution_count": 3,
   "id": "grave-small",
   "metadata": {},
   "outputs": [
    {
     "data": {
      "text/plain": [
       "['9988776655', '7788776644']"
      ]
     },
     "execution_count": 3,
     "metadata": {},
     "output_type": "execute_result"
    }
   ],
   "source": [
    "import re\n",
    "text = \"\"\"My Mobile Number is : 9988776655,\n",
    "        email id is : viratkohli@gmail.com\n",
    "        todays date is : 30-05-2022\n",
    "        \n",
    "        Mobile Number is : 7788776644\n",
    "        \"\"\"\n",
    "\n",
    "mobile_number = re.findall('[0-9]{10}',text) # [9988776655,7788776644]\n",
    "mobile_number"
   ]
  },
  {
   "cell_type": "code",
   "execution_count": 6,
   "id": "disabled-malpractice",
   "metadata": {},
   "outputs": [
    {
     "data": {
      "text/plain": [
       "['9988776655', '7788776648']"
      ]
     },
     "execution_count": 6,
     "metadata": {},
     "output_type": "execute_result"
    }
   ],
   "source": [
    "import re\n",
    "text = \"\"\"My Mobile Number is : 9988776655,\n",
    "        email id is : viratkohli@gmail.com\n",
    "        todays date is : 30-05-2022\n",
    "        \n",
    "        Mobile Number is : 7788776648\n",
    "        \"\"\"\n",
    "\n",
    "mobile_number = re.findall('[0-9]{10}',text) # [9988776655,7788776644]\n",
    "mobile_number"
   ]
  },
  {
   "cell_type": "code",
   "execution_count": 8,
   "id": "aware-destruction",
   "metadata": {},
   "outputs": [
    {
     "data": {
      "text/plain": [
       "['99887', '76655', '77887', '76648']"
      ]
     },
     "execution_count": 8,
     "metadata": {},
     "output_type": "execute_result"
    }
   ],
   "source": [
    "import re\n",
    "text = \"\"\"My Mobile Number is : 9988776655,\n",
    "        email id is : viratkohli@gmail.com\n",
    "        todays date is : 30-05-2022\n",
    "        \n",
    "        Mobile Number is : 7788776648\n",
    "        \"\"\"\n",
    "\n",
    "mobile_number = re.findall('[0-9]{5}',text) # [9988776655,7788776644]\n",
    "mobile_number"
   ]
  },
  {
   "cell_type": "code",
   "execution_count": 10,
   "id": "equivalent-coral",
   "metadata": {},
   "outputs": [
    {
     "data": {
      "text/plain": [
       "['9988', '7766', '2022', '7788', '7766']"
      ]
     },
     "execution_count": 10,
     "metadata": {},
     "output_type": "execute_result"
    }
   ],
   "source": [
    "import re\n",
    "text = \"\"\"My Mobile Number is : 9988776655,\n",
    "        email id is : viratkohli@gmail.com\n",
    "        todays date is : 30-05-2022\n",
    "        \n",
    "        Mobile Number is : 7788776648\n",
    "        \"\"\"\n",
    "\n",
    "mobile_number = re.findall('[0-9]{4}',text) # []\n",
    "mobile_number"
   ]
  },
  {
   "cell_type": "code",
   "execution_count": 17,
   "id": "structural-plaza",
   "metadata": {},
   "outputs": [
    {
     "name": "stdout",
     "output_type": "stream",
     "text": [
      "['9988776655', '7788776648'] 2\n"
     ]
    }
   ],
   "source": [
    "import re\n",
    "text = \"\"\"My Mobile Number is : 9988776655,\n",
    "        email id is : viratkohli@gmail.com\n",
    "        todays date is : 30-05-2022\n",
    "        \n",
    "        Mobile Number is : 7788776648\n",
    "        \"\"\"\n",
    "\n",
    "mobile_number = re.findall('[0-9]{10}',text) \n",
    "print(mobile_number,len(mobile_number))"
   ]
  },
  {
   "cell_type": "code",
   "execution_count": 23,
   "id": "attractive-soundtrack",
   "metadata": {},
   "outputs": [
    {
     "name": "stdout",
     "output_type": "stream",
     "text": [
      "['30-05-2022', '29-05-2021', '31-05-2012', '30-09-2022'] 4\n"
     ]
    }
   ],
   "source": [
    "import re\n",
    "text = \"\"\"My Mobile Number is : 9988776655,\n",
    "        email id is : viratkohli@gmail.com\n",
    "        todays date is : 30-05-2022\n",
    "        \n",
    "        Mobile Number is : 7788776648\n",
    "        29-05-2021\n",
    "        31-05-2012\n",
    "        30-09-2022\n",
    "        \"\"\"\n",
    "\n",
    "date = re.findall('[0-9]{2}[-][0-9]{2}[-][0-9]{4}',text) \n",
    "print(date,len(date))"
   ]
  },
  {
   "cell_type": "code",
   "execution_count": 26,
   "id": "primary-break",
   "metadata": {},
   "outputs": [
    {
     "name": "stdout",
     "output_type": "stream",
     "text": [
      "['30-05-2022', '29-05-2021', '31-05-2012', '30-09-2022', '30/09/2022'] 5\n"
     ]
    }
   ],
   "source": [
    "import re\n",
    "text = \"\"\"My Mobile Number is : 9988776655,\n",
    "        email id is : viratkohli@gmail.com\n",
    "        todays date is : 30-05-2022\n",
    "        \n",
    "        Mobile Number is : 7788776648\n",
    "        29-05-2021\n",
    "        31-05-2012\n",
    "        30-09-2022\n",
    "        30/09/2022\n",
    "        \"\"\"\n",
    "\n",
    "date = re.findall('[0-9]{2}[-/][0-9]{2}[-/][0-9]{4}',text) \n",
    "print(date,len(date))"
   ]
  },
  {
   "cell_type": "code",
   "execution_count": 29,
   "id": "formed-nursing",
   "metadata": {},
   "outputs": [
    {
     "data": {
      "text/plain": [
       "['ASDFG4567P', 'POIUY3456W']"
      ]
     },
     "execution_count": 29,
     "metadata": {},
     "output_type": "execute_result"
    }
   ],
   "source": [
    "import re\n",
    "text = \"\"\"My Mobile Number is : 9988776655,\n",
    "        email id is : viratkohli@gmail.com\n",
    "        todays date is : 30-05-2022\n",
    "        \n",
    "        Mobile Number is : 7788776648\n",
    "        29-05-2021\n",
    "        31-05-2012\n",
    "        30-09-2022\n",
    "        30/09/2022\n",
    "        PAN CARD NUMBER : ASDFG4567P\n",
    "        PAN CARD NUMBER : POIUY3456W\n",
    "        PAN CARD NUMBER : POIUY34567\n",
    "\n",
    "        \"\"\"\n",
    "\n",
    "pan_number = re.findall('[A-Z]{5}[0-9]{4}[A-Z]',text)\n",
    "pan_number"
   ]
  },
  {
   "cell_type": "code",
   "execution_count": 31,
   "id": "right-reaction",
   "metadata": {},
   "outputs": [
    {
     "data": {
      "text/plain": [
       "['viratkohli@gmail.com']"
      ]
     },
     "execution_count": 31,
     "metadata": {},
     "output_type": "execute_result"
    }
   ],
   "source": [
    "import re\n",
    "text = \"\"\"My Mobile Number is : 9988776655,\n",
    "        email id is : viratkohli@gmail.com\n",
    "        todays date is : 30-05-2022\n",
    "        \n",
    "        Mobile Number is : 7788776648\n",
    "        29-05-2021\n",
    "        31-05-2012\n",
    "        30-09-2022\n",
    "        30/09/2022\n",
    "        PAN CARD NUMBER : ASDFG4567P\n",
    "        PAN CARD NUMBER : POIUY3456W\n",
    "        PAN CARD NUMBER : POIUY34567\n",
    "\n",
    "        \"\"\"\n",
    "\n",
    "email_id = re.findall('[a-z]{2,20}[@][a-z.]{3,15}',text)\n",
    "email_id"
   ]
  },
  {
   "cell_type": "code",
   "execution_count": 34,
   "id": "presidential-tomorrow",
   "metadata": {},
   "outputs": [
    {
     "data": {
      "text/plain": [
       "['viratkohli@gmail.com', 'viratkohli123@gmail.com']"
      ]
     },
     "execution_count": 34,
     "metadata": {},
     "output_type": "execute_result"
    }
   ],
   "source": [
    "import re\n",
    "text = \"\"\"My Mobile Number is : 9988776655,\n",
    "        email id is : viratkohli@gmail.com\n",
    "        email id is : viratkohli123@gmail.com\n",
    "\n",
    "        todays date is : 30-05-2022\n",
    "        \n",
    "        Mobile Number is : 7788776648\n",
    "        29-05-2021\n",
    "        31-05-2012\n",
    "        30-09-2022\n",
    "        30/09/2022\n",
    "        PAN CARD NUMBER : ASDFG4567P\n",
    "        PAN CARD NUMBER : POIUY3456W\n",
    "        PAN CARD NUMBER : POIUY34567\n",
    "\n",
    "        \"\"\"\n",
    "\n",
    "email_id = re.findall('[a-z0-9]{2,20}[@][a-z.]{3,15}',text)\n",
    "email_id"
   ]
  },
  {
   "cell_type": "code",
   "execution_count": 36,
   "id": "typical-andrew",
   "metadata": {},
   "outputs": [
    {
     "data": {
      "text/plain": [
       "['viratkohli@gmail.com', 'viratkohli123@gmail.com', 'virat_kohli123@gmail.com']"
      ]
     },
     "execution_count": 36,
     "metadata": {},
     "output_type": "execute_result"
    }
   ],
   "source": [
    "import re\n",
    "text = \"\"\"My Mobile Number is : 9988776655,\n",
    "        email id is : viratkohli@gmail.com\n",
    "        email id is : viratkohli123@gmail.com\n",
    "        email id is : virat_kohli123@gmail.com\n",
    "\n",
    "        todays date is : 30-05-2022\n",
    "        \n",
    "        Mobile Number is : 7788776648\n",
    "        29-05-2021\n",
    "        31-05-2012\n",
    "        30-09-2022\n",
    "        30/09/2022\n",
    "        PAN CARD NUMBER : ASDFG4567P\n",
    "        PAN CARD NUMBER : POIUY3456W\n",
    "        PAN CARD NUMBER : POIUY34567\n",
    "\n",
    "        \"\"\"\n",
    "\n",
    "email_id = re.findall('[a-z0-9_]{2,20}[@][a-z.]{3,15}',text)\n",
    "email_id"
   ]
  },
  {
   "cell_type": "code",
   "execution_count": 40,
   "id": "together-hybrid",
   "metadata": {},
   "outputs": [
    {
     "data": {
      "text/plain": [
       "['viratkohli@gmail.com',\n",
       " 'viratkohli123@gmail.com',\n",
       " 'virat_kohli123@gmail.com',\n",
       " 'virat-kohli@gmail.com',\n",
       " 'virat-kohli@vctcpune.co.in']"
      ]
     },
     "execution_count": 40,
     "metadata": {},
     "output_type": "execute_result"
    }
   ],
   "source": [
    "import re\n",
    "text = \"\"\"My Mobile Number is : 9988776655,\n",
    "        email id is : viratkohli@gmail.com\n",
    "        email id is : viratkohli123@gmail.com\n",
    "        email id is : virat_kohli123@gmail.com\n",
    "        email id is : virat-kohli@gmail.com\n",
    "        email id is : virat-kohli@vctcpune.co.in\n",
    "\n",
    "        todays date is : 30-05-2022\n",
    "        \n",
    "        Mobile Number is : 7788776648\n",
    "        29-05-2021\n",
    "        31-05-2012\n",
    "        30-09-2022\n",
    "        30/09/2022\n",
    "        PAN CARD NUMBER : ASDFG4567P\n",
    "        PAN CARD NUMBER : POIUY3456W\n",
    "        PAN CARD NUMBER : POIUY34567\n",
    "        \"\"\"\n",
    "\n",
    "email_id = re.findall('[a-z0-9_-]{2,20}[@][a-z.]{3,15}',text)\n",
    "email_id"
   ]
  },
  {
   "cell_type": "code",
   "execution_count": 41,
   "id": "innocent-guatemala",
   "metadata": {},
   "outputs": [
    {
     "data": {
      "text/plain": [
       "['virat', 'virat', 'virat', 'virat', 'virat']"
      ]
     },
     "execution_count": 41,
     "metadata": {},
     "output_type": "execute_result"
    }
   ],
   "source": [
    "import re\n",
    "text = \"\"\"My Mobile Number is : 9988776655,\n",
    "        email id is : viratkohli@gmail.com\n",
    "        email id is : viratkohli123@gmail.com\n",
    "        email id is : virat_kohli123@gmail.com\n",
    "        email id is : virat-kohli@gmail.com\n",
    "        email id is : virat-kohli@vctcpune.co.in\n",
    "\n",
    "        todays date is : 30-05-2022\n",
    "        \n",
    "        Mobile Number is : 7788776648\n",
    "        29-05-2021\n",
    "        31-05-2012\n",
    "        30-09-2022\n",
    "        30/09/2022\n",
    "        PAN CARD NUMBER : ASDFG4567P\n",
    "        PAN CARD NUMBER : POIUY3456W\n",
    "        PAN CARD NUMBER : POIUY34567\n",
    "        \"\"\"\n",
    "\n",
    "email_id = re.findall('virat',text)\n",
    "email_id"
   ]
  }
 ],
 "metadata": {
  "kernelspec": {
   "display_name": "Python 3",
   "language": "python",
   "name": "python3"
  },
  "language_info": {
   "codemirror_mode": {
    "name": "ipython",
    "version": 3
   },
   "file_extension": ".py",
   "mimetype": "text/x-python",
   "name": "python",
   "nbconvert_exporter": "python",
   "pygments_lexer": "ipython3",
   "version": "3.8.7"
  }
 },
 "nbformat": 4,
 "nbformat_minor": 5
}
