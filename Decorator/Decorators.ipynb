{
 "cells": [
  {
   "cell_type": "markdown",
   "id": "perfect-mumbai",
   "metadata": {},
   "source": [
    "# Decorators"
   ]
  },
  {
   "cell_type": "code",
   "execution_count": null,
   "id": "rough-premium",
   "metadata": {},
   "outputs": [],
   "source": [
    "Functions that takes another function as its argument(higher order function) and returns \n",
    "another function (object of function)\n",
    "\n",
    "higher order function >> map, filter"
   ]
  },
  {
   "cell_type": "code",
   "execution_count": 2,
   "id": "respected-triple",
   "metadata": {},
   "outputs": [
    {
     "name": "stdout",
     "output_type": "stream",
     "text": [
      "Outer Function\n"
     ]
    }
   ],
   "source": [
    "def outer_function():\n",
    "    print(\"Outer Function\")\n",
    "    \n",
    "    return \n",
    "\n",
    "outer_function()"
   ]
  },
  {
   "cell_type": "code",
   "execution_count": 6,
   "id": "responsible-pharmaceutical",
   "metadata": {},
   "outputs": [
    {
     "name": "stdout",
     "output_type": "stream",
     "text": [
      "Outer Function\n"
     ]
    }
   ],
   "source": [
    "def outer_function():\n",
    "    print(\"Outer Function\")\n",
    "    \n",
    "    def inner_function():\n",
    "        print(\"Inner Function\")\n",
    "        \n",
    "    return \n",
    "\n",
    "outer_function()\n",
    "# inner_function()"
   ]
  },
  {
   "cell_type": "code",
   "execution_count": 8,
   "id": "gothic-moral",
   "metadata": {},
   "outputs": [
    {
     "name": "stdout",
     "output_type": "stream",
     "text": [
      "Outer Function\n",
      "Inner Function\n"
     ]
    }
   ],
   "source": [
    "def outer_function():\n",
    "    print(\"Outer Function\")\n",
    "    \n",
    "    def inner_function():\n",
    "        print(\"Inner Function\")\n",
    "        \n",
    "    return inner_function()\n",
    "\n",
    "outer_function()\n"
   ]
  },
  {
   "cell_type": "code",
   "execution_count": 17,
   "id": "mineral-pleasure",
   "metadata": {},
   "outputs": [
    {
     "name": "stdout",
     "output_type": "stream",
     "text": [
      "Outer Function\n",
      "Inner Function\n"
     ]
    }
   ],
   "source": [
    "def outer_function():\n",
    "    print(\"Outer Function\")\n",
    "    \n",
    "    def inner_function():\n",
    "        print(\"Inner Function\")\n",
    "        \n",
    "    return inner_function\n",
    "\n",
    "x = outer_function()  # inner_function\n",
    "x()"
   ]
  },
  {
   "cell_type": "code",
   "execution_count": 18,
   "id": "chief-brush",
   "metadata": {},
   "outputs": [
    {
     "data": {
      "text/plain": [
       "<function __main__.my_fun()>"
      ]
     },
     "execution_count": 18,
     "metadata": {},
     "output_type": "execute_result"
    }
   ],
   "source": [
    "def my_fun():\n",
    "    print('Hello')\n",
    "    \n",
    "my_fun"
   ]
  },
  {
   "cell_type": "code",
   "execution_count": 1,
   "id": "extended-background",
   "metadata": {},
   "outputs": [
    {
     "name": "stdout",
     "output_type": "stream",
     "text": [
      "Outer Function\n",
      "Inner Function\n"
     ]
    },
    {
     "data": {
      "text/plain": [
       "'PYTHON0'"
      ]
     },
     "execution_count": 1,
     "metadata": {},
     "output_type": "execute_result"
    }
   ],
   "source": [
    "def outer_function():\n",
    "    print(\"Outer Function\")\n",
    "    \n",
    "    def inner_function():\n",
    "        print(\"Inner Function\")\n",
    "        return 'PYTHON0'\n",
    "        \n",
    "    return inner_function\n",
    "\n",
    "x = outer_function()  # inner_function\n",
    "x()"
   ]
  },
  {
   "cell_type": "code",
   "execution_count": 24,
   "id": "faced-germany",
   "metadata": {},
   "outputs": [
    {
     "name": "stdout",
     "output_type": "stream",
     "text": [
      "Outer Function\n",
      "++++++++++++++++++++++++++++++++++++++++++++++++++++++++++++++++++++++\n",
      "Inner Function\n",
      "**********************************************************************\n"
     ]
    },
    {
     "data": {
      "text/plain": [
       "'PYTHON'"
      ]
     },
     "execution_count": 24,
     "metadata": {},
     "output_type": "execute_result"
    }
   ],
   "source": [
    "def outer_function():\n",
    "    print(\"Outer Function\")\n",
    "    \n",
    "    def inner_function():\n",
    "        print(\"Inner Function\")\n",
    "        print(\"*\"*70)\n",
    "        return 'PYTHON'\n",
    "        \n",
    "    print(\"+\"*70)\n",
    "    \n",
    "    return inner_function\n",
    "\n",
    "x = outer_function()  # inner_function\n",
    "x()"
   ]
  },
  {
   "cell_type": "code",
   "execution_count": 29,
   "id": "indoor-motion",
   "metadata": {},
   "outputs": [
    {
     "name": "stdout",
     "output_type": "stream",
     "text": [
      "Outer Function\n",
      "++++++++++++++++++++++++++++++++++++++++++++++++++++++++++++++++++++++\n",
      "Inner Function\n",
      "**********************************************************************\n",
      "Value in variable a is : 100\n",
      "End of Inner Function\n"
     ]
    },
    {
     "data": {
      "text/plain": [
       "'PYTHON'"
      ]
     },
     "execution_count": 29,
     "metadata": {},
     "output_type": "execute_result"
    }
   ],
   "source": [
    "def outer_function():\n",
    "    print(\"Outer Function\")\n",
    "    \n",
    "    def inner_function(a):\n",
    "        print(\"Inner Function\")\n",
    "        print(\"*\"*70)\n",
    "        print(\"Value in variable a is :\",a)\n",
    "        print(\"End of Inner Function\")\n",
    "        return 'PYTHON'\n",
    "        \n",
    "    print(\"+\"*70)\n",
    "    \n",
    "    return inner_function\n",
    "\n",
    "x = outer_function()  # inner_function\n",
    "x(100)"
   ]
  },
  {
   "cell_type": "code",
   "execution_count": null,
   "id": "hispanic-calgary",
   "metadata": {},
   "outputs": [],
   "source": []
  }
 ],
 "metadata": {
  "kernelspec": {
   "display_name": "Python 3 (ipykernel)",
   "language": "python",
   "name": "python3"
  },
  "language_info": {
   "codemirror_mode": {
    "name": "ipython",
    "version": 3
   },
   "file_extension": ".py",
   "mimetype": "text/x-python",
   "name": "python",
   "nbconvert_exporter": "python",
   "pygments_lexer": "ipython3",
   "version": "3.9.7"
  }
 },
 "nbformat": 4,
 "nbformat_minor": 5
}
