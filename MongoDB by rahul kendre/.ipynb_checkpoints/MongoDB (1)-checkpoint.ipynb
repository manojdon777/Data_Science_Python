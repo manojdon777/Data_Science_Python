{
 "cells": [
  {
   "cell_type": "markdown",
   "id": "burning-cooperative",
   "metadata": {},
   "source": [
    "# Data"
   ]
  },
  {
   "cell_type": "code",
   "execution_count": null,
   "id": "suited-orchestra",
   "metadata": {},
   "outputs": [],
   "source": [
    "CSV\n",
    "Excel\n",
    "JSON\n",
    "MySQL(2 Table ) >> SQL  >> Tabular data \n",
    "PostGreSQL\n",
    "MongoDB         >> NoSQL Database  >> JSON\n",
    "Client Server\n",
    "Web Scrapping"
   ]
  },
  {
   "cell_type": "markdown",
   "id": "structured-poster",
   "metadata": {},
   "source": [
    "# Operations"
   ]
  },
  {
   "cell_type": "code",
   "execution_count": null,
   "id": "settled-blood",
   "metadata": {},
   "outputs": [],
   "source": [
    "1. Create DataBase\n",
    "2. Read\n",
    "3. Update\n",
    "4. Delete\n",
    "5. Insert\n",
    "6. Sorting"
   ]
  },
  {
   "cell_type": "markdown",
   "id": "suspected-reviewer",
   "metadata": {},
   "source": [
    "# MongoDB"
   ]
  },
  {
   "cell_type": "code",
   "execution_count": null,
   "id": "assured-voltage",
   "metadata": {},
   "outputs": [],
   "source": [
    "1. MongoDB Compass\n",
    "2. NoSQL Booster\n",
    "\n",
    "\n",
    "Tables >> Collection\n",
    "Rows   >> Documents(JSON)"
   ]
  },
  {
   "cell_type": "code",
   "execution_count": 3,
   "id": "familiar-establishment",
   "metadata": {},
   "outputs": [
    {
     "data": {
      "text/plain": [
       "MongoClient(host=['localhost:27017'], document_class=dict, tz_aware=False, connect=True)"
      ]
     },
     "execution_count": 3,
     "metadata": {},
     "output_type": "execute_result"
    }
   ],
   "source": [
    "import pymongo\n",
    "port_number = 27017  # 27021\n",
    "mongo_client = pymongo.MongoClient('mongodb://localhost:27017')\n",
    "mongo_client"
   ]
  },
  {
   "cell_type": "markdown",
   "id": "functional-fence",
   "metadata": {},
   "source": [
    "# Create DataBase"
   ]
  },
  {
   "cell_type": "code",
   "execution_count": 4,
   "id": "convinced-corporation",
   "metadata": {},
   "outputs": [
    {
     "data": {
      "text/plain": [
       "Database(MongoClient(host=['localhost:27017'], document_class=dict, tz_aware=False, connect=True), 'project_db')"
      ]
     },
     "execution_count": 4,
     "metadata": {},
     "output_type": "execute_result"
    }
   ],
   "source": [
    "db_name = 'project_db'\n",
    "db = mongo_client[db_name]"
   ]
  },
  {
   "cell_type": "markdown",
   "id": "linear-polyester",
   "metadata": {},
   "source": [
    "## Check Database"
   ]
  },
  {
   "cell_type": "code",
   "execution_count": 5,
   "id": "documentary-delicious",
   "metadata": {},
   "outputs": [
    {
     "data": {
      "text/plain": [
       "['admin', 'config', 'local']"
      ]
     },
     "execution_count": 5,
     "metadata": {},
     "output_type": "execute_result"
    }
   ],
   "source": [
    "mongo_client.list_database_names()"
   ]
  },
  {
   "cell_type": "markdown",
   "id": "iraqi-eagle",
   "metadata": {},
   "source": [
    "## Create Collection"
   ]
  },
  {
   "cell_type": "code",
   "execution_count": 6,
   "id": "breeding-hughes",
   "metadata": {},
   "outputs": [],
   "source": [
    "collection_user = db['user_details']\n",
    "collection_proj_var = db['proj_variables']\n",
    "collection_analysis = db['analysis_details']"
   ]
  },
  {
   "cell_type": "raw",
   "id": "adult-edward",
   "metadata": {},
   "source": [
    "First Page >> Aadhar Card\n",
    "image1 = 'aadhar_card'"
   ]
  },
  {
   "cell_type": "markdown",
   "id": "separate-implementation",
   "metadata": {},
   "source": [
    "# Check Collections"
   ]
  },
  {
   "cell_type": "code",
   "execution_count": 11,
   "id": "dedicated-participant",
   "metadata": {},
   "outputs": [
    {
     "data": {
      "text/plain": [
       "[]"
      ]
     },
     "execution_count": 11,
     "metadata": {},
     "output_type": "execute_result"
    }
   ],
   "source": [
    "collection_names_list = db.list_collection_names()\n",
    "collection_names_list"
   ]
  },
  {
   "cell_type": "markdown",
   "id": "hidden-monitor",
   "metadata": {},
   "source": [
    "# 1. Insert "
   ]
  },
  {
   "cell_type": "markdown",
   "id": "polyphonic-latex",
   "metadata": {},
   "source": [
    "# 1.1 insert_one"
   ]
  },
  {
   "cell_type": "code",
   "execution_count": null,
   "id": "external-morocco",
   "metadata": {},
   "outputs": [],
   "source": [
    "To insert a record or document"
   ]
  },
  {
   "cell_type": "code",
   "execution_count": 81,
   "id": "small-valentine",
   "metadata": {},
   "outputs": [
    {
     "data": {
      "text/plain": [
       "<pymongo.results.InsertOneResult at 0x2118fa54fc0>"
      ]
     },
     "execution_count": 81,
     "metadata": {},
     "output_type": "execute_result"
    }
   ],
   "source": [
    "collection_user.insert_one({'First Name': \"Virat\", \"Last Name\": \"Kohli\",\n",
    "                           'Mobile Number':9988776655, \"Location\": 'Bangalore'})"
   ]
  },
  {
   "cell_type": "code",
   "execution_count": 82,
   "id": "sealed-bread",
   "metadata": {},
   "outputs": [
    {
     "data": {
      "text/plain": [
       "<pymongo.results.InsertOneResult at 0x2118fa9c280>"
      ]
     },
     "execution_count": 82,
     "metadata": {},
     "output_type": "execute_result"
    }
   ],
   "source": [
    "collection_user.insert_one({'First Name': \"Rohit\", \"Last Name\": \"Sharma\",\n",
    "                           'Mobile Number':8988112233, \"Location\": 'Mumbai'})"
   ]
  },
  {
   "cell_type": "code",
   "execution_count": 83,
   "id": "interim-german",
   "metadata": {},
   "outputs": [
    {
     "data": {
      "text/plain": [
       "<pymongo.results.InsertOneResult at 0x2118fa79100>"
      ]
     },
     "execution_count": 83,
     "metadata": {},
     "output_type": "execute_result"
    }
   ],
   "source": [
    "collection_user.insert_one({'First Name': \"Rohit\", \"Last Name\": \"Sharma\",\n",
    "                           'Mobile Number':8988112233, \"Location\": 'Chennai'})"
   ]
  },
  {
   "cell_type": "markdown",
   "id": "coordinate-religious",
   "metadata": {},
   "source": [
    "# 1.2 insert_many"
   ]
  },
  {
   "cell_type": "code",
   "execution_count": null,
   "id": "shaped-amplifier",
   "metadata": {},
   "outputs": [],
   "source": []
  },
  {
   "cell_type": "code",
   "execution_count": 84,
   "id": "prospective-dublin",
   "metadata": {},
   "outputs": [
    {
     "data": {
      "text/plain": [
       "<pymongo.results.InsertManyResult at 0x2118fa07e80>"
      ]
     },
     "execution_count": 84,
     "metadata": {},
     "output_type": "execute_result"
    }
   ],
   "source": [
    "data = [{'First Name': \"Sachin\", \"Last Name\": \"Tendulkar\",\n",
    "         'Mobile Number':8888112233, \"Location\": 'Mumbai'},\n",
    "        \n",
    "       {'First Name': \"Suresh\", \"Last Name\": \"Raina\",\n",
    "                           'Mobile Number':9788112244, \"Location\": 'Delhi'},\n",
    "        \n",
    "       {'First Name': \"Shikhar\", \"Last Name\": \"Dhawan\",\n",
    "                           'Mobile Number':7988112233, \"Location\": 'Pune'}]\n",
    "collection_user.insert_many(data)"
   ]
  },
  {
   "cell_type": "markdown",
   "id": "dutch-promotion",
   "metadata": {},
   "source": [
    "# 2. find"
   ]
  },
  {
   "cell_type": "markdown",
   "id": "indirect-terminology",
   "metadata": {},
   "source": [
    "## 2.1 find_one"
   ]
  },
  {
   "cell_type": "code",
   "execution_count": null,
   "id": "nuclear-label",
   "metadata": {},
   "outputs": [],
   "source": [
    "Used to select data from collection, \n",
    "It will return only first occurrence"
   ]
  },
  {
   "cell_type": "code",
   "execution_count": 18,
   "id": "logical-sequence",
   "metadata": {},
   "outputs": [
    {
     "data": {
      "text/plain": [
       "{'_id': ObjectId('62599e5467fe63f24aed05cd'),\n",
       " 'First Name': 'Suresh',\n",
       " 'Last Name': 'Raina',\n",
       " 'Mobile Number': 9788112244,\n",
       " 'Location': 'Delhi'}"
      ]
     },
     "execution_count": 18,
     "metadata": {},
     "output_type": "execute_result"
    }
   ],
   "source": [
    "collection_user.find_one({'First Name':'Suresh'})"
   ]
  },
  {
   "cell_type": "code",
   "execution_count": 20,
   "id": "established-communication",
   "metadata": {},
   "outputs": [
    {
     "data": {
      "text/plain": [
       "{'_id': ObjectId('62599d9067fe63f24aed05c9'),\n",
       " 'First Name': 'Rohit',\n",
       " 'Last Name': 'Sharma',\n",
       " 'Mobile Number': 8988112233,\n",
       " 'Location': 'Mumbai'}"
      ]
     },
     "execution_count": 20,
     "metadata": {},
     "output_type": "execute_result"
    }
   ],
   "source": [
    "collection_user.find_one({'First Name':'Rohit'})"
   ]
  },
  {
   "cell_type": "code",
   "execution_count": 22,
   "id": "furnished-logistics",
   "metadata": {},
   "outputs": [
    {
     "data": {
      "text/plain": [
       "{'_id': ObjectId('62599f3567fe63f24aed05cf'),\n",
       " 'First Name': 'Rohit',\n",
       " 'Last Name': 'Sharma',\n",
       " 'Mobile Number': 8988112233,\n",
       " 'Location': 'Chennai'}"
      ]
     },
     "execution_count": 22,
     "metadata": {},
     "output_type": "execute_result"
    }
   ],
   "source": [
    "collection_user.find_one({'First Name':'Rohit', 'Location':\"Chennai\"})"
   ]
  },
  {
   "cell_type": "code",
   "execution_count": 26,
   "id": "threaded-kruger",
   "metadata": {},
   "outputs": [
    {
     "name": "stdout",
     "output_type": "stream",
     "text": [
      "User Already Exists\n"
     ]
    }
   ],
   "source": [
    "response = collection_user.find_one({'Mobile Number':9988776655})\n",
    "if not response:\n",
    "    collection_user.insert_one({'First Name': \"Virat\", \"Last Name\": \"Kohli\",\n",
    "                           'Mobile Number':9988776655, \"Location\": 'Bangalore'})\n",
    "    \n",
    "else:\n",
    "    print(\"User Already Exists\")"
   ]
  },
  {
   "cell_type": "markdown",
   "id": "czech-democrat",
   "metadata": {},
   "source": [
    "## find"
   ]
  },
  {
   "cell_type": "code",
   "execution_count": 29,
   "id": "female-census",
   "metadata": {},
   "outputs": [
    {
     "data": {
      "text/plain": [
       "[{'_id': ObjectId('62599cf967fe63f24aed05c8'),\n",
       "  'First Name': 'Virat',\n",
       "  'Last Name': 'Kohli',\n",
       "  'Mobile Number': 9988776655,\n",
       "  'Location': 'Bangalore'},\n",
       " {'_id': ObjectId('6259a00167fe63f24aed05d0'),\n",
       "  'First Name': 'Virat',\n",
       "  'Last Name': 'Kohli',\n",
       "  'Mobile Number': 9988776655,\n",
       "  'Location': 'Bangalore'}]"
      ]
     },
     "execution_count": 29,
     "metadata": {},
     "output_type": "execute_result"
    }
   ],
   "source": [
    "data = collection_user.find({'First Name': 'Virat'})\n",
    "list(data)"
   ]
  },
  {
   "cell_type": "code",
   "execution_count": 31,
   "id": "charming-voltage",
   "metadata": {},
   "outputs": [
    {
     "data": {
      "text/plain": [
       "[{'_id': ObjectId('62599d9067fe63f24aed05c9'),\n",
       "  'First Name': 'Rohit',\n",
       "  'Last Name': 'Sharma',\n",
       "  'Mobile Number': 8988112233,\n",
       "  'Location': 'Mumbai'},\n",
       " {'_id': ObjectId('62599d9f67fe63f24aed05ca'),\n",
       "  'First Name': 'Rohit',\n",
       "  'Last Name': 'Sharma',\n",
       "  'Mobile Number': 8988112233,\n",
       "  'Location': 'Mumbai'},\n",
       " {'_id': ObjectId('62599da067fe63f24aed05cb'),\n",
       "  'First Name': 'Rohit',\n",
       "  'Last Name': 'Sharma',\n",
       "  'Mobile Number': 8988112233,\n",
       "  'Location': 'Mumbai'},\n",
       " {'_id': ObjectId('62599f3567fe63f24aed05cf'),\n",
       "  'First Name': 'Rohit',\n",
       "  'Last Name': 'Sharma',\n",
       "  'Mobile Number': 8988112233,\n",
       "  'Location': 'Chennai'}]"
      ]
     },
     "execution_count": 31,
     "metadata": {},
     "output_type": "execute_result"
    }
   ],
   "source": [
    "data = collection_user.find({'First Name': 'Rohit'})\n",
    "list(data)"
   ]
  },
  {
   "cell_type": "code",
   "execution_count": 33,
   "id": "rental-stockholm",
   "metadata": {},
   "outputs": [
    {
     "data": {
      "text/plain": [
       "[{'First Name': 'Rohit',\n",
       "  'Last Name': 'Sharma',\n",
       "  'Mobile Number': 8988112233,\n",
       "  'Location': 'Mumbai'},\n",
       " {'First Name': 'Rohit',\n",
       "  'Last Name': 'Sharma',\n",
       "  'Mobile Number': 8988112233,\n",
       "  'Location': 'Mumbai'},\n",
       " {'First Name': 'Rohit',\n",
       "  'Last Name': 'Sharma',\n",
       "  'Mobile Number': 8988112233,\n",
       "  'Location': 'Mumbai'},\n",
       " {'First Name': 'Rohit',\n",
       "  'Last Name': 'Sharma',\n",
       "  'Mobile Number': 8988112233,\n",
       "  'Location': 'Chennai'}]"
      ]
     },
     "execution_count": 33,
     "metadata": {},
     "output_type": "execute_result"
    }
   ],
   "source": [
    "data = collection_user.find({'First Name': 'Rohit'}, {'_id':0})\n",
    "list(data)"
   ]
  },
  {
   "cell_type": "code",
   "execution_count": 35,
   "id": "monetary-individual",
   "metadata": {},
   "outputs": [
    {
     "data": {
      "text/plain": [
       "[{'First Name': 'Rohit', 'Mobile Number': 8988112233, 'Location': 'Mumbai'},\n",
       " {'First Name': 'Rohit', 'Mobile Number': 8988112233, 'Location': 'Mumbai'},\n",
       " {'First Name': 'Rohit', 'Mobile Number': 8988112233, 'Location': 'Mumbai'},\n",
       " {'First Name': 'Rohit', 'Mobile Number': 8988112233, 'Location': 'Chennai'}]"
      ]
     },
     "execution_count": 35,
     "metadata": {},
     "output_type": "execute_result"
    }
   ],
   "source": [
    "data = collection_user.find({'First Name': 'Rohit'}, {'_id':0,'Last Name':0})\n",
    "list(data)"
   ]
  },
  {
   "cell_type": "code",
   "execution_count": 38,
   "id": "assigned-julian",
   "metadata": {},
   "outputs": [
    {
     "data": {
      "text/plain": [
       "[{'First Name': 'Rohit', 'Mobile Number': 8988112233},\n",
       " {'First Name': 'Rohit', 'Mobile Number': 8988112233},\n",
       " {'First Name': 'Rohit', 'Mobile Number': 8988112233},\n",
       " {'First Name': 'Rohit', 'Mobile Number': 8988112233}]"
      ]
     },
     "execution_count": 38,
     "metadata": {},
     "output_type": "execute_result"
    }
   ],
   "source": [
    "data = collection_user.find({'First Name': 'Rohit'}, {'_id':0,'First Name':1,'Mobile Number':1})\n",
    "list(data)"
   ]
  },
  {
   "cell_type": "code",
   "execution_count": 47,
   "id": "familiar-jason",
   "metadata": {},
   "outputs": [
    {
     "data": {
      "text/plain": [
       "[{'First Name': 'Virat', 'Mobile Number': 9988776655, 'Location': 'Bangalore'},\n",
       " {'First Name': 'Rohit', 'Mobile Number': 8988112233, 'Location': 'Mumbai'},\n",
       " {'First Name': 'Rohit', 'Mobile Number': 8988112233, 'Location': 'Mumbai'},\n",
       " {'First Name': 'Rohit', 'Mobile Number': 8988112233, 'Location': 'Mumbai'},\n",
       " {'First Name': 'Sachin', 'Mobile Number': 8888112233, 'Location': 'Mumbai'},\n",
       " {'First Name': 'Suresh', 'Mobile Number': 9788112244, 'Location': 'Delhi'},\n",
       " {'First Name': 'Shikhar', 'Mobile Number': 7988112233, 'Location': 'Pune'},\n",
       " {'First Name': 'Rohit', 'Mobile Number': 8988112233, 'Location': 'Chennai'},\n",
       " {'First Name': 'Virat', 'Mobile Number': 9988776655, 'Location': 'Bangalore'}]"
      ]
     },
     "execution_count": 47,
     "metadata": {},
     "output_type": "execute_result"
    }
   ],
   "source": [
    "data = collection_user.find({}, {'_id':0,'First Name':1,'Mobile Number':1,'Location':1})\n",
    "data = list(data)\n",
    "data"
   ]
  },
  {
   "cell_type": "code",
   "execution_count": 48,
   "id": "professional-packing",
   "metadata": {},
   "outputs": [
    {
     "data": {
      "text/html": [
       "<div>\n",
       "<style scoped>\n",
       "    .dataframe tbody tr th:only-of-type {\n",
       "        vertical-align: middle;\n",
       "    }\n",
       "\n",
       "    .dataframe tbody tr th {\n",
       "        vertical-align: top;\n",
       "    }\n",
       "\n",
       "    .dataframe thead th {\n",
       "        text-align: right;\n",
       "    }\n",
       "</style>\n",
       "<table border=\"1\" class=\"dataframe\">\n",
       "  <thead>\n",
       "    <tr style=\"text-align: right;\">\n",
       "      <th></th>\n",
       "      <th>First Name</th>\n",
       "      <th>Mobile Number</th>\n",
       "      <th>Location</th>\n",
       "    </tr>\n",
       "  </thead>\n",
       "  <tbody>\n",
       "    <tr>\n",
       "      <th>0</th>\n",
       "      <td>Virat</td>\n",
       "      <td>9988776655</td>\n",
       "      <td>Bangalore</td>\n",
       "    </tr>\n",
       "    <tr>\n",
       "      <th>1</th>\n",
       "      <td>Rohit</td>\n",
       "      <td>8988112233</td>\n",
       "      <td>Mumbai</td>\n",
       "    </tr>\n",
       "    <tr>\n",
       "      <th>2</th>\n",
       "      <td>Rohit</td>\n",
       "      <td>8988112233</td>\n",
       "      <td>Mumbai</td>\n",
       "    </tr>\n",
       "    <tr>\n",
       "      <th>3</th>\n",
       "      <td>Rohit</td>\n",
       "      <td>8988112233</td>\n",
       "      <td>Mumbai</td>\n",
       "    </tr>\n",
       "    <tr>\n",
       "      <th>4</th>\n",
       "      <td>Sachin</td>\n",
       "      <td>8888112233</td>\n",
       "      <td>Mumbai</td>\n",
       "    </tr>\n",
       "    <tr>\n",
       "      <th>5</th>\n",
       "      <td>Suresh</td>\n",
       "      <td>9788112244</td>\n",
       "      <td>Delhi</td>\n",
       "    </tr>\n",
       "    <tr>\n",
       "      <th>6</th>\n",
       "      <td>Shikhar</td>\n",
       "      <td>7988112233</td>\n",
       "      <td>Pune</td>\n",
       "    </tr>\n",
       "    <tr>\n",
       "      <th>7</th>\n",
       "      <td>Rohit</td>\n",
       "      <td>8988112233</td>\n",
       "      <td>Chennai</td>\n",
       "    </tr>\n",
       "    <tr>\n",
       "      <th>8</th>\n",
       "      <td>Virat</td>\n",
       "      <td>9988776655</td>\n",
       "      <td>Bangalore</td>\n",
       "    </tr>\n",
       "  </tbody>\n",
       "</table>\n",
       "</div>"
      ],
      "text/plain": [
       "  First Name  Mobile Number   Location\n",
       "0      Virat     9988776655  Bangalore\n",
       "1      Rohit     8988112233     Mumbai\n",
       "2      Rohit     8988112233     Mumbai\n",
       "3      Rohit     8988112233     Mumbai\n",
       "4     Sachin     8888112233     Mumbai\n",
       "5     Suresh     9788112244      Delhi\n",
       "6    Shikhar     7988112233       Pune\n",
       "7      Rohit     8988112233    Chennai\n",
       "8      Virat     9988776655  Bangalore"
      ]
     },
     "execution_count": 48,
     "metadata": {},
     "output_type": "execute_result"
    }
   ],
   "source": [
    "import pandas as pd\n",
    "df = pd.DataFrame(data)\n",
    "df"
   ]
  },
  {
   "cell_type": "code",
   "execution_count": 50,
   "id": "surrounded-storage",
   "metadata": {},
   "outputs": [
    {
     "data": {
      "text/plain": [
       "array([[21, 20, 28, 26],\n",
       "       [10, 12, 13, 34],\n",
       "       [22, 14, 30, 14],\n",
       "       [16, 10, 31, 13],\n",
       "       [12, 33, 30, 36],\n",
       "       [34, 29, 37, 34],\n",
       "       [24, 24, 28, 10],\n",
       "       [32, 22, 22, 10],\n",
       "       [32, 31, 18, 22],\n",
       "       [36, 34, 34, 18]])"
      ]
     },
     "execution_count": 50,
     "metadata": {},
     "output_type": "execute_result"
    }
   ],
   "source": [
    "import numpy as np\n",
    "array = np.random.randint(10,40,size = (10,4))\n",
    "array"
   ]
  },
  {
   "cell_type": "code",
   "execution_count": 51,
   "id": "endless-tractor",
   "metadata": {},
   "outputs": [
    {
     "data": {
      "text/html": [
       "<div>\n",
       "<style scoped>\n",
       "    .dataframe tbody tr th:only-of-type {\n",
       "        vertical-align: middle;\n",
       "    }\n",
       "\n",
       "    .dataframe tbody tr th {\n",
       "        vertical-align: top;\n",
       "    }\n",
       "\n",
       "    .dataframe thead th {\n",
       "        text-align: right;\n",
       "    }\n",
       "</style>\n",
       "<table border=\"1\" class=\"dataframe\">\n",
       "  <thead>\n",
       "    <tr style=\"text-align: right;\">\n",
       "      <th></th>\n",
       "      <th>a</th>\n",
       "      <th>b</th>\n",
       "      <th>c</th>\n",
       "      <th>d</th>\n",
       "    </tr>\n",
       "  </thead>\n",
       "  <tbody>\n",
       "    <tr>\n",
       "      <th>0</th>\n",
       "      <td>21</td>\n",
       "      <td>20</td>\n",
       "      <td>28</td>\n",
       "      <td>26</td>\n",
       "    </tr>\n",
       "    <tr>\n",
       "      <th>1</th>\n",
       "      <td>10</td>\n",
       "      <td>12</td>\n",
       "      <td>13</td>\n",
       "      <td>34</td>\n",
       "    </tr>\n",
       "    <tr>\n",
       "      <th>2</th>\n",
       "      <td>22</td>\n",
       "      <td>14</td>\n",
       "      <td>30</td>\n",
       "      <td>14</td>\n",
       "    </tr>\n",
       "    <tr>\n",
       "      <th>3</th>\n",
       "      <td>16</td>\n",
       "      <td>10</td>\n",
       "      <td>31</td>\n",
       "      <td>13</td>\n",
       "    </tr>\n",
       "    <tr>\n",
       "      <th>4</th>\n",
       "      <td>12</td>\n",
       "      <td>33</td>\n",
       "      <td>30</td>\n",
       "      <td>36</td>\n",
       "    </tr>\n",
       "    <tr>\n",
       "      <th>5</th>\n",
       "      <td>34</td>\n",
       "      <td>29</td>\n",
       "      <td>37</td>\n",
       "      <td>34</td>\n",
       "    </tr>\n",
       "    <tr>\n",
       "      <th>6</th>\n",
       "      <td>24</td>\n",
       "      <td>24</td>\n",
       "      <td>28</td>\n",
       "      <td>10</td>\n",
       "    </tr>\n",
       "    <tr>\n",
       "      <th>7</th>\n",
       "      <td>32</td>\n",
       "      <td>22</td>\n",
       "      <td>22</td>\n",
       "      <td>10</td>\n",
       "    </tr>\n",
       "    <tr>\n",
       "      <th>8</th>\n",
       "      <td>32</td>\n",
       "      <td>31</td>\n",
       "      <td>18</td>\n",
       "      <td>22</td>\n",
       "    </tr>\n",
       "    <tr>\n",
       "      <th>9</th>\n",
       "      <td>36</td>\n",
       "      <td>34</td>\n",
       "      <td>34</td>\n",
       "      <td>18</td>\n",
       "    </tr>\n",
       "  </tbody>\n",
       "</table>\n",
       "</div>"
      ],
      "text/plain": [
       "    a   b   c   d\n",
       "0  21  20  28  26\n",
       "1  10  12  13  34\n",
       "2  22  14  30  14\n",
       "3  16  10  31  13\n",
       "4  12  33  30  36\n",
       "5  34  29  37  34\n",
       "6  24  24  28  10\n",
       "7  32  22  22  10\n",
       "8  32  31  18  22\n",
       "9  36  34  34  18"
      ]
     },
     "execution_count": 51,
     "metadata": {},
     "output_type": "execute_result"
    }
   ],
   "source": [
    "df1 = pd.DataFrame(array,columns = list('abcd'))\n",
    "df1"
   ]
  },
  {
   "cell_type": "code",
   "execution_count": 54,
   "id": "valuable-magic",
   "metadata": {},
   "outputs": [
    {
     "name": "stderr",
     "output_type": "stream",
     "text": [
      "<ipython-input-54-0ed8e87095a5>:1: FutureWarning: Using short name for 'orient' is deprecated. Only the options: ('dict', list, 'series', 'split', 'records', 'index') will be used in a future version. Use one of the above to silence this warning.\n",
      "  result = df1.to_dict(orient='record')\n"
     ]
    }
   ],
   "source": [
    "result = df1.to_dict(orient='record')"
   ]
  },
  {
   "cell_type": "code",
   "execution_count": 55,
   "id": "supreme-tradition",
   "metadata": {},
   "outputs": [
    {
     "data": {
      "text/plain": [
       "<pymongo.results.InsertManyResult at 0x2118f333240>"
      ]
     },
     "execution_count": 55,
     "metadata": {},
     "output_type": "execute_result"
    }
   ],
   "source": [
    "collection_proj_var.insert_many(result)"
   ]
  },
  {
   "cell_type": "code",
   "execution_count": 62,
   "id": "injured-dressing",
   "metadata": {},
   "outputs": [
    {
     "data": {
      "text/plain": [
       "[{'First Name': 'Sachin',\n",
       "  'Last Name': 'Tendulkar',\n",
       "  'Mobile Number': 8888112233,\n",
       "  'Location': 'Mumbai'},\n",
       " {'First Name': 'Suresh',\n",
       "  'Last Name': 'Raina',\n",
       "  'Mobile Number': 9788112244,\n",
       "  'Location': 'Delhi'},\n",
       " {'First Name': 'Shikhar',\n",
       "  'Last Name': 'Dhawan',\n",
       "  'Mobile Number': 7988112233,\n",
       "  'Location': 'Pune'}]"
      ]
     },
     "execution_count": 62,
     "metadata": {},
     "output_type": "execute_result"
    }
   ],
   "source": [
    "query = {\"First Name\" : {\"$regex\" : '^S'}}\n",
    "data = collection_user.find(query,{'_id':0})\n",
    "list(data)"
   ]
  },
  {
   "cell_type": "code",
   "execution_count": 58,
   "id": "developmental-qatar",
   "metadata": {},
   "outputs": [
    {
     "data": {
      "text/plain": [
       "[]"
      ]
     },
     "execution_count": 58,
     "metadata": {},
     "output_type": "execute_result"
    }
   ],
   "source": [
    "query = {\"First Name\" : \"S\"}\n",
    "data = collection_user.find(query)\n",
    "list(data)"
   ]
  },
  {
   "cell_type": "code",
   "execution_count": 64,
   "id": "entire-charter",
   "metadata": {},
   "outputs": [
    {
     "data": {
      "text/plain": [
       "[{'First Name': 'Virat',\n",
       "  'Last Name': 'Kohli',\n",
       "  'Mobile Number': 9988776655,\n",
       "  'Location': 'Bangalore'},\n",
       " {'First Name': 'Suresh',\n",
       "  'Last Name': 'R',\n",
       "  'Mobile Number': 9788112244,\n",
       "  'Location': 'Delhi'},\n",
       " {'First Name': 'Virat',\n",
       "  'Last Name': 'Kohli',\n",
       "  'Mobile Number': 9988776655,\n",
       "  'Location': 'Bangalore'}]"
      ]
     },
     "execution_count": 64,
     "metadata": {},
     "output_type": "execute_result"
    }
   ],
   "source": [
    "query = {\"Mobile Number\" : {\"$gt\" : 8988112233}}\n",
    "data = collection_user.find(query,{'_id':0})\n",
    "list(data)"
   ]
  },
  {
   "cell_type": "markdown",
   "id": "meaning-generation",
   "metadata": {},
   "source": [
    "# 3. Delete"
   ]
  },
  {
   "cell_type": "markdown",
   "id": "israeli-blank",
   "metadata": {},
   "source": [
    "## 3.1 Delete_one"
   ]
  },
  {
   "cell_type": "code",
   "execution_count": 66,
   "id": "processed-entertainment",
   "metadata": {},
   "outputs": [
    {
     "data": {
      "text/plain": [
       "<pymongo.results.DeleteResult at 0x2118fa8d640>"
      ]
     },
     "execution_count": 66,
     "metadata": {},
     "output_type": "execute_result"
    }
   ],
   "source": [
    "collection_user.delete_one({\"First Name\":\"Rohit\"})"
   ]
  },
  {
   "cell_type": "code",
   "execution_count": 69,
   "id": "featured-tracker",
   "metadata": {},
   "outputs": [
    {
     "data": {
      "text/plain": [
       "[{'_id': ObjectId('62599d9f67fe63f24aed05ca'),\n",
       "  'First Name': 'Rohit',\n",
       "  'Last Name': 'Sharma',\n",
       "  'Mobile Number': 8988112233,\n",
       "  'Location': 'Mumbai'},\n",
       " {'_id': ObjectId('62599da067fe63f24aed05cb'),\n",
       "  'First Name': 'Rohit',\n",
       "  'Last Name': 'Sharma',\n",
       "  'Mobile Number': 8988112233,\n",
       "  'Location': 'Mumbai'}]"
      ]
     },
     "execution_count": 69,
     "metadata": {},
     "output_type": "execute_result"
    }
   ],
   "source": [
    "data = collection_user.find({\"First Name\":\"Rohit\"})\n",
    "list(data)"
   ]
  },
  {
   "cell_type": "code",
   "execution_count": 70,
   "id": "executed-government",
   "metadata": {},
   "outputs": [
    {
     "data": {
      "text/plain": [
       "<pymongo.results.DeleteResult at 0x2118fa9e300>"
      ]
     },
     "execution_count": 70,
     "metadata": {},
     "output_type": "execute_result"
    }
   ],
   "source": [
    "collection_user.delete_one({\"First Name\":\"Rohit\", \"Location\":\"Chennai\"})"
   ]
  },
  {
   "cell_type": "code",
   "execution_count": 72,
   "id": "infectious-match",
   "metadata": {},
   "outputs": [
    {
     "data": {
      "text/plain": [
       "[{'_id': ObjectId('62599da067fe63f24aed05cb'),\n",
       "  'First Name': 'Rohit',\n",
       "  'Last Name': 'Sharma',\n",
       "  'Mobile Number': 8988112233,\n",
       "  'Location': 'Mumbai'}]"
      ]
     },
     "execution_count": 72,
     "metadata": {},
     "output_type": "execute_result"
    }
   ],
   "source": [
    "data = collection_user.find({\"First Name\":\"Rohit\", \"Location\":\"Mumbai\"})\n",
    "list(data)"
   ]
  },
  {
   "cell_type": "markdown",
   "id": "serial-finland",
   "metadata": {},
   "source": [
    "## 3.2 Delete_many"
   ]
  },
  {
   "cell_type": "code",
   "execution_count": 76,
   "id": "australian-concern",
   "metadata": {},
   "outputs": [
    {
     "data": {
      "text/plain": [
       "[]"
      ]
     },
     "execution_count": 76,
     "metadata": {},
     "output_type": "execute_result"
    }
   ],
   "source": [
    "data = collection_user.find({ \"Location\":\"Mumbai\"})\n",
    "list(data)"
   ]
  },
  {
   "cell_type": "code",
   "execution_count": 75,
   "id": "integral-opportunity",
   "metadata": {},
   "outputs": [
    {
     "data": {
      "text/plain": [
       "<pymongo.results.DeleteResult at 0x2118f9ef380>"
      ]
     },
     "execution_count": 75,
     "metadata": {},
     "output_type": "execute_result"
    }
   ],
   "source": [
    "collection_user.delete_many({\"Location\":\"Mumbai\"})"
   ]
  },
  {
   "cell_type": "code",
   "execution_count": 78,
   "id": "governing-cricket",
   "metadata": {},
   "outputs": [
    {
     "data": {
      "text/plain": [
       "[{'First Name': 'Virat',\n",
       "  'Last Name': 'Kohli',\n",
       "  'Mobile Number': 9988776655,\n",
       "  'Location': 'Bangalore'},\n",
       " {'First Name': 'Suresh',\n",
       "  'Last Name': 'R',\n",
       "  'Mobile Number': 9788112244,\n",
       "  'Location': 'Delhi'},\n",
       " {'First Name': 'Virat',\n",
       "  'Last Name': 'Kohli',\n",
       "  'Mobile Number': 9988776655,\n",
       "  'Location': 'Bangalore'}]"
      ]
     },
     "execution_count": 78,
     "metadata": {},
     "output_type": "execute_result"
    }
   ],
   "source": [
    "query = {\"Mobile Number\" : {\"$gt\" : 8988112233}}\n",
    "data = collection_user.find(query,{'_id':0})\n",
    "list(data)"
   ]
  },
  {
   "cell_type": "code",
   "execution_count": 79,
   "id": "cutting-zealand",
   "metadata": {},
   "outputs": [
    {
     "data": {
      "text/plain": [
       "<pymongo.results.DeleteResult at 0x2118fa54700>"
      ]
     },
     "execution_count": 79,
     "metadata": {},
     "output_type": "execute_result"
    }
   ],
   "source": [
    "query = {\"Mobile Number\" : {\"$gt\" : 8988112233}}\n",
    "collection_user.delete_many(query)\n"
   ]
  },
  {
   "cell_type": "markdown",
   "id": "cooked-tribute",
   "metadata": {},
   "source": [
    "# 3.3 Delete Collection"
   ]
  },
  {
   "cell_type": "code",
   "execution_count": 80,
   "id": "recorded-truth",
   "metadata": {},
   "outputs": [],
   "source": [
    "collection_proj_var.drop()"
   ]
  },
  {
   "cell_type": "code",
   "execution_count": null,
   "id": "interracial-football",
   "metadata": {},
   "outputs": [],
   "source": []
  },
  {
   "cell_type": "markdown",
   "id": "naughty-graphic",
   "metadata": {},
   "source": [
    "# 4. Update"
   ]
  },
  {
   "cell_type": "markdown",
   "id": "wrong-agenda",
   "metadata": {},
   "source": [
    "##  4.1 update_one()"
   ]
  },
  {
   "cell_type": "code",
   "execution_count": null,
   "id": "composed-investment",
   "metadata": {},
   "outputs": [],
   "source": [
    "collection.update_one(old_query, new_query)"
   ]
  },
  {
   "cell_type": "code",
   "execution_count": 85,
   "id": "certain-benjamin",
   "metadata": {},
   "outputs": [
    {
     "data": {
      "text/plain": [
       "<pymongo.results.UpdateResult at 0x2118fb5e400>"
      ]
     },
     "execution_count": 85,
     "metadata": {},
     "output_type": "execute_result"
    }
   ],
   "source": [
    "old_query = {'First Name':'Sachin'}\n",
    "new_query = {'$set': {\"Location\":\"Pune\"}}\n",
    "collection_user.update_one(old_query, new_query)"
   ]
  },
  {
   "cell_type": "code",
   "execution_count": 86,
   "id": "refined-international",
   "metadata": {},
   "outputs": [
    {
     "data": {
      "text/plain": [
       "<pymongo.results.UpdateResult at 0x2118fb5e200>"
      ]
     },
     "execution_count": 86,
     "metadata": {},
     "output_type": "execute_result"
    }
   ],
   "source": [
    "old_query = {'First Name':'Sachin'}\n",
    "new_query = {'$set': {\"First Name\":\"Dhoni\"}}\n",
    "collection_user.update_one(old_query, new_query)"
   ]
  },
  {
   "cell_type": "markdown",
   "id": "expanded-fleece",
   "metadata": {},
   "source": [
    "## 4.2 update_many()"
   ]
  },
  {
   "cell_type": "code",
   "execution_count": 87,
   "id": "subtle-consumer",
   "metadata": {},
   "outputs": [
    {
     "data": {
      "text/plain": [
       "<pymongo.results.UpdateResult at 0x2118fa9c640>"
      ]
     },
     "execution_count": 87,
     "metadata": {},
     "output_type": "execute_result"
    }
   ],
   "source": [
    "old_query = {'First Name':'Rohit'}\n",
    "new_query = {'$set': {\"Location\":\"Kolkata\"}}\n",
    "collection_user.update_many(old_query, new_query)"
   ]
  },
  {
   "cell_type": "markdown",
   "id": "military-dutch",
   "metadata": {},
   "source": [
    "# 5. Sorting"
   ]
  },
  {
   "cell_type": "code",
   "execution_count": 92,
   "id": "determined-detroit",
   "metadata": {},
   "outputs": [
    {
     "data": {
      "text/plain": [
       "[{'First Name': 'Rohit',\n",
       "  'Last Name': 'Sharma',\n",
       "  'Mobile Number': 8988112233,\n",
       "  'Location': 'Kolkata'},\n",
       " {'First Name': 'Rohit',\n",
       "  'Last Name': 'Sharma',\n",
       "  'Mobile Number': 8988112233,\n",
       "  'Location': 'Kolkata'},\n",
       " {'First Name': 'Sachin',\n",
       "  'Last Name': 'Tendulkar',\n",
       "  'Mobile Number': 8888112233,\n",
       "  'Location': 'Pune'},\n",
       " {'First Name': 'Shikhar',\n",
       "  'Last Name': 'Dhawan',\n",
       "  'Mobile Number': 7988112233,\n",
       "  'Location': 'Pune'},\n",
       " {'First Name': 'Shikhar',\n",
       "  'Last Name': 'Dhawan',\n",
       "  'Mobile Number': 7988112233,\n",
       "  'Location': 'Pune'},\n",
       " {'First Name': 'Suresh',\n",
       "  'Last Name': 'Raina',\n",
       "  'Mobile Number': 9788112244,\n",
       "  'Location': 'Delhi'},\n",
       " {'First Name': 'Virat',\n",
       "  'Last Name': 'Kohli',\n",
       "  'Mobile Number': 9988776655,\n",
       "  'Location': 'Bangalore'}]"
      ]
     },
     "execution_count": 92,
     "metadata": {},
     "output_type": "execute_result"
    }
   ],
   "source": [
    "data = collection_user.find({},{\"_id\":0}).sort('First Name')\n",
    "list(data)"
   ]
  },
  {
   "cell_type": "markdown",
   "id": "twenty-nerve",
   "metadata": {},
   "source": [
    "# 5.1 Ascending"
   ]
  },
  {
   "cell_type": "code",
   "execution_count": 98,
   "id": "apparent-sellers",
   "metadata": {},
   "outputs": [
    {
     "data": {
      "text/plain": [
       "[{'First Name': 'Shikhar',\n",
       "  'Last Name': 'Dhawan',\n",
       "  'Mobile Number': 7988112233,\n",
       "  'Location': 'Pune'},\n",
       " {'First Name': 'Shikhar',\n",
       "  'Last Name': 'Dhawan',\n",
       "  'Mobile Number': 7988112233,\n",
       "  'Location': 'Pune'},\n",
       " {'First Name': 'Sachin',\n",
       "  'Last Name': 'Tendulkar',\n",
       "  'Mobile Number': 8888112233,\n",
       "  'Location': 'Pune'},\n",
       " {'First Name': 'Rohit',\n",
       "  'Last Name': 'Sharma',\n",
       "  'Mobile Number': 8988112233,\n",
       "  'Location': 'Kolkata'},\n",
       " {'First Name': 'Rohit',\n",
       "  'Last Name': 'Sharma',\n",
       "  'Mobile Number': 8988112233,\n",
       "  'Location': 'Kolkata'},\n",
       " {'First Name': 'Suresh',\n",
       "  'Last Name': 'Raina',\n",
       "  'Mobile Number': 9788112244,\n",
       "  'Location': 'Delhi'},\n",
       " {'First Name': 'Virat',\n",
       "  'Last Name': 'Kohli',\n",
       "  'Mobile Number': 9988776655,\n",
       "  'Location': 'Bangalore'}]"
      ]
     },
     "execution_count": 98,
     "metadata": {},
     "output_type": "execute_result"
    }
   ],
   "source": [
    "data = collection_user.find({},{\"_id\":0}).sort('Mobile Number')\n",
    "list(data)"
   ]
  },
  {
   "cell_type": "code",
   "execution_count": 99,
   "id": "molecular-lloyd",
   "metadata": {},
   "outputs": [
    {
     "data": {
      "text/plain": [
       "[{'First Name': 'Virat',\n",
       "  'Last Name': 'Kohli',\n",
       "  'Mobile Number': 9988776655,\n",
       "  'Location': 'Bangalore'},\n",
       " {'First Name': 'Suresh',\n",
       "  'Last Name': 'Raina',\n",
       "  'Mobile Number': 9788112244,\n",
       "  'Location': 'Delhi'},\n",
       " {'First Name': 'Rohit',\n",
       "  'Last Name': 'Sharma',\n",
       "  'Mobile Number': 8988112233,\n",
       "  'Location': 'Kolkata'},\n",
       " {'First Name': 'Rohit',\n",
       "  'Last Name': 'Sharma',\n",
       "  'Mobile Number': 8988112233,\n",
       "  'Location': 'Kolkata'},\n",
       " {'First Name': 'Shikhar',\n",
       "  'Last Name': 'Dhawan',\n",
       "  'Mobile Number': 7988112233,\n",
       "  'Location': 'Pune'},\n",
       " {'First Name': 'Sachin',\n",
       "  'Last Name': 'Tendulkar',\n",
       "  'Mobile Number': 8888112233,\n",
       "  'Location': 'Pune'},\n",
       " {'First Name': 'Shikhar',\n",
       "  'Last Name': 'Dhawan',\n",
       "  'Mobile Number': 7988112233,\n",
       "  'Location': 'Pune'}]"
      ]
     },
     "execution_count": 99,
     "metadata": {},
     "output_type": "execute_result"
    }
   ],
   "source": [
    "data = collection_user.find({},{\"_id\":0}).sort('Location')\n",
    "list(data)"
   ]
  },
  {
   "cell_type": "markdown",
   "id": "radio-supplement",
   "metadata": {},
   "source": [
    "# 5.2 Descending Order"
   ]
  },
  {
   "cell_type": "code",
   "execution_count": 96,
   "id": "agricultural-spice",
   "metadata": {},
   "outputs": [
    {
     "data": {
      "text/plain": [
       "[{'First Name': 'Virat',\n",
       "  'Last Name': 'Kohli',\n",
       "  'Mobile Number': 9988776655,\n",
       "  'Location': 'Bangalore'},\n",
       " {'First Name': 'Suresh',\n",
       "  'Last Name': 'Raina',\n",
       "  'Mobile Number': 9788112244,\n",
       "  'Location': 'Delhi'},\n",
       " {'First Name': 'Rohit',\n",
       "  'Last Name': 'Sharma',\n",
       "  'Mobile Number': 8988112233,\n",
       "  'Location': 'Kolkata'},\n",
       " {'First Name': 'Rohit',\n",
       "  'Last Name': 'Sharma',\n",
       "  'Mobile Number': 8988112233,\n",
       "  'Location': 'Kolkata'},\n",
       " {'First Name': 'Sachin',\n",
       "  'Last Name': 'Tendulkar',\n",
       "  'Mobile Number': 8888112233,\n",
       "  'Location': 'Pune'},\n",
       " {'First Name': 'Shikhar',\n",
       "  'Last Name': 'Dhawan',\n",
       "  'Mobile Number': 7988112233,\n",
       "  'Location': 'Pune'},\n",
       " {'First Name': 'Shikhar',\n",
       "  'Last Name': 'Dhawan',\n",
       "  'Mobile Number': 7988112233,\n",
       "  'Location': 'Pune'}]"
      ]
     },
     "execution_count": 96,
     "metadata": {},
     "output_type": "execute_result"
    }
   ],
   "source": [
    "data = collection_user.find({},{\"_id\":0}).sort('Mobile Number',-1)\n",
    "list(data)"
   ]
  },
  {
   "cell_type": "code",
   "execution_count": 97,
   "id": "representative-deployment",
   "metadata": {},
   "outputs": [
    {
     "data": {
      "text/plain": [
       "[{'First Name': 'Shikhar',\n",
       "  'Last Name': 'Dhawan',\n",
       "  'Mobile Number': 7988112233,\n",
       "  'Location': 'Pune'},\n",
       " {'First Name': 'Sachin',\n",
       "  'Last Name': 'Tendulkar',\n",
       "  'Mobile Number': 8888112233,\n",
       "  'Location': 'Pune'},\n",
       " {'First Name': 'Shikhar',\n",
       "  'Last Name': 'Dhawan',\n",
       "  'Mobile Number': 7988112233,\n",
       "  'Location': 'Pune'},\n",
       " {'First Name': 'Rohit',\n",
       "  'Last Name': 'Sharma',\n",
       "  'Mobile Number': 8988112233,\n",
       "  'Location': 'Kolkata'},\n",
       " {'First Name': 'Rohit',\n",
       "  'Last Name': 'Sharma',\n",
       "  'Mobile Number': 8988112233,\n",
       "  'Location': 'Kolkata'},\n",
       " {'First Name': 'Suresh',\n",
       "  'Last Name': 'Raina',\n",
       "  'Mobile Number': 9788112244,\n",
       "  'Location': 'Delhi'},\n",
       " {'First Name': 'Virat',\n",
       "  'Last Name': 'Kohli',\n",
       "  'Mobile Number': 9988776655,\n",
       "  'Location': 'Bangalore'}]"
      ]
     },
     "execution_count": 97,
     "metadata": {},
     "output_type": "execute_result"
    }
   ],
   "source": [
    "data = collection_user.find({},{\"_id\":0}).sort('Location',-1)\n",
    "list(data)"
   ]
  }
 ],
 "metadata": {
  "kernelspec": {
   "display_name": "Python 3 (ipykernel)",
   "language": "python",
   "name": "python3"
  },
  "language_info": {
   "codemirror_mode": {
    "name": "ipython",
    "version": 3
   },
   "file_extension": ".py",
   "mimetype": "text/x-python",
   "name": "python",
   "nbconvert_exporter": "python",
   "pygments_lexer": "ipython3",
   "version": "3.9.7"
  }
 },
 "nbformat": 4,
 "nbformat_minor": 5
}
