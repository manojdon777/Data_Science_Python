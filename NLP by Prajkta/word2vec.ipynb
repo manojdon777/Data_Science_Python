{
 "cells": [
  {
   "cell_type": "markdown",
   "id": "5e3e0be0",
   "metadata": {},
   "source": [
    "#   <font color = darkblue size =6.5><center> Word2vec"
   ]
  },
  {
   "cell_type": "code",
   "execution_count": 1,
   "id": "9eca8289",
   "metadata": {},
   "outputs": [],
   "source": [
    "import pandas as pd\n",
    "from nltk.tokenize import sent_tokenize,word_tokenize\n",
    "from nltk.stem import LancasterStemmer,WordNetLemmatizer\n",
    "from nltk.corpus import stopwords\n",
    "from sklearn.model_selection import train_test_split\n",
    "import warnings\n",
    "warnings.simplefilter('ignore')"
   ]
  },
  {
   "cell_type": "code",
   "execution_count": 2,
   "id": "c0f430af",
   "metadata": {},
   "outputs": [],
   "source": [
    "data = pd.read_csv(r'C:\\Users\\DELL\\Documents\\NLP\\Train.csv')"
   ]
  },
  {
   "cell_type": "code",
   "execution_count": 3,
   "id": "cd54060c",
   "metadata": {},
   "outputs": [
    {
     "data": {
      "text/html": [
       "<div>\n",
       "<style scoped>\n",
       "    .dataframe tbody tr th:only-of-type {\n",
       "        vertical-align: middle;\n",
       "    }\n",
       "\n",
       "    .dataframe tbody tr th {\n",
       "        vertical-align: top;\n",
       "    }\n",
       "\n",
       "    .dataframe thead th {\n",
       "        text-align: right;\n",
       "    }\n",
       "</style>\n",
       "<table border=\"1\" class=\"dataframe\">\n",
       "  <thead>\n",
       "    <tr style=\"text-align: right;\">\n",
       "      <th></th>\n",
       "      <th>text</th>\n",
       "      <th>label</th>\n",
       "    </tr>\n",
       "  </thead>\n",
       "  <tbody>\n",
       "    <tr>\n",
       "      <th>0</th>\n",
       "      <td>I grew up (b. 1965) watching and loving the Th...</td>\n",
       "      <td>0</td>\n",
       "    </tr>\n",
       "    <tr>\n",
       "      <th>1</th>\n",
       "      <td>When I put this movie in my DVD player, and sa...</td>\n",
       "      <td>0</td>\n",
       "    </tr>\n",
       "    <tr>\n",
       "      <th>2</th>\n",
       "      <td>Why do people who do not know what a particula...</td>\n",
       "      <td>0</td>\n",
       "    </tr>\n",
       "    <tr>\n",
       "      <th>3</th>\n",
       "      <td>Even though I have great interest in Biblical ...</td>\n",
       "      <td>0</td>\n",
       "    </tr>\n",
       "    <tr>\n",
       "      <th>4</th>\n",
       "      <td>Im a die hard Dads Army fan and nothing will e...</td>\n",
       "      <td>1</td>\n",
       "    </tr>\n",
       "  </tbody>\n",
       "</table>\n",
       "</div>"
      ],
      "text/plain": [
       "                                                text  label\n",
       "0  I grew up (b. 1965) watching and loving the Th...      0\n",
       "1  When I put this movie in my DVD player, and sa...      0\n",
       "2  Why do people who do not know what a particula...      0\n",
       "3  Even though I have great interest in Biblical ...      0\n",
       "4  Im a die hard Dads Army fan and nothing will e...      1"
      ]
     },
     "execution_count": 3,
     "metadata": {},
     "output_type": "execute_result"
    }
   ],
   "source": [
    "data.head()"
   ]
  },
  {
   "cell_type": "code",
   "execution_count": 5,
   "id": "61a9f684",
   "metadata": {},
   "outputs": [],
   "source": [
    "x_train,x_test,y_train,y_test = train_test_split(data.text,data.label,test_size=0.2,random_state=42)"
   ]
  },
  {
   "cell_type": "code",
   "execution_count": 6,
   "id": "3b811bfc",
   "metadata": {},
   "outputs": [
    {
     "data": {
      "text/plain": [
       "32000"
      ]
     },
     "execution_count": 6,
     "metadata": {},
     "output_type": "execute_result"
    }
   ],
   "source": [
    "len(x_train)"
   ]
  },
  {
   "cell_type": "code",
   "execution_count": 7,
   "id": "c1c8a14b",
   "metadata": {},
   "outputs": [],
   "source": [
    "def tokenize(data):\n",
    "    tokens = word_tokenize(data)\n",
    "    return tokens\n",
    "\n",
    "x_train_token = x_train.apply(tokenize)\n",
    "x_test_token = x_test.apply(tokenize)"
   ]
  },
  {
   "cell_type": "code",
   "execution_count": 8,
   "id": "73574e10",
   "metadata": {},
   "outputs": [],
   "source": [
    "def cleaning(data):\n",
    "    text = [i for i in data if i.isalpha()]\n",
    "    return text \n",
    "x_train_clean = x_train_token.apply(cleaning)\n",
    "x_test_clean = x_test_token.apply(cleaning)"
   ]
  },
  {
   "cell_type": "code",
   "execution_count": 9,
   "id": "69d64019",
   "metadata": {},
   "outputs": [],
   "source": [
    "\n",
    "def Normalization(data):\n",
    "    text = [i.lower() for i in data]\n",
    "    return text \n",
    "\n",
    "x_train_lower = x_train_clean.apply(Normalization)\n",
    "x_test_lower = x_test_clean.apply(Normalization)"
   ]
  },
  {
   "cell_type": "code",
   "execution_count": 10,
   "id": "592e671b",
   "metadata": {},
   "outputs": [],
   "source": [
    "stop = stopwords.words('english')\n",
    "def stopword_1(data):\n",
    "    text = [i for i in data if i not in stop]\n",
    "    return text \n",
    "x_train_without_stop = x_train_lower.apply(stopword_1)\n",
    "x_test_without_stop = x_test_lower.apply(stopword_1)"
   ]
  },
  {
   "cell_type": "code",
   "execution_count": 11,
   "id": "435554ae",
   "metadata": {},
   "outputs": [],
   "source": [
    "def Lemmatization(data):\n",
    "    lemma = WordNetLemmatizer()\n",
    "    l1 = []\n",
    "    for i in data :\n",
    "        text = lemma.lemmatize(i)\n",
    "        l1.append(text)\n",
    "    return l1\n",
    "\n",
    "x_train_lemma = x_train_without_stop.apply(Lemmatization)\n",
    "x_test_lemma = x_test_without_stop.apply(Lemmatization)\n"
   ]
  },
  {
   "cell_type": "code",
   "execution_count": 12,
   "id": "52ab4986",
   "metadata": {},
   "outputs": [],
   "source": [
    "import gensim\n",
    "\n",
    "model = gensim.models.Word2Vec(window=10,min_count=2)\n",
    "model.build_vocab(x_train_lemma)"
   ]
  },
  {
   "cell_type": "code",
   "execution_count": 14,
   "id": "60a9e293",
   "metadata": {},
   "outputs": [
    {
     "data": {
      "text/plain": [
       "32000"
      ]
     },
     "execution_count": 14,
     "metadata": {},
     "output_type": "execute_result"
    }
   ],
   "source": [
    "model.corpus_count"
   ]
  },
  {
   "cell_type": "code",
   "execution_count": 16,
   "id": "70bdcecc",
   "metadata": {},
   "outputs": [
    {
     "data": {
      "text/plain": [
       "(6863061, 7485478)"
      ]
     },
     "execution_count": 16,
     "metadata": {},
     "output_type": "execute_result"
    }
   ],
   "source": [
    "model.train(x_train_lemma,total_examples=model.corpus_count,epochs=2)"
   ]
  },
  {
   "cell_type": "code",
   "execution_count": 18,
   "id": "e0978da5",
   "metadata": {},
   "outputs": [
    {
     "data": {
      "text/plain": [
       "100"
      ]
     },
     "execution_count": 18,
     "metadata": {},
     "output_type": "execute_result"
    }
   ],
   "source": [
    "len(model.wv['google'])"
   ]
  },
  {
   "cell_type": "code",
   "execution_count": 19,
   "id": "48544043",
   "metadata": {},
   "outputs": [
    {
     "data": {
      "text/plain": [
       "[('horrible', 0.8960574269294739),\n",
       " ('awful', 0.8882524371147156),\n",
       " ('terrible', 0.8853054046630859),\n",
       " ('suck', 0.8458284139633179),\n",
       " ('okay', 0.8101288080215454),\n",
       " ('sucked', 0.8080495595932007),\n",
       " ('stupid', 0.8000263571739197),\n",
       " ('ok', 0.7935135960578918),\n",
       " ('poor', 0.7796157002449036),\n",
       " ('pathetic', 0.7779327034950256)]"
      ]
     },
     "execution_count": 19,
     "metadata": {},
     "output_type": "execute_result"
    }
   ],
   "source": [
    "model.wv.most_similar('bad')"
   ]
  },
  {
   "cell_type": "code",
   "execution_count": 20,
   "id": "04eb1532",
   "metadata": {},
   "outputs": [
    {
     "data": {
      "text/plain": [
       "0.89605737"
      ]
     },
     "execution_count": 20,
     "metadata": {},
     "output_type": "execute_result"
    }
   ],
   "source": [
    "model.wv.similarity(w1='bad',w2='horrible')"
   ]
  },
  {
   "cell_type": "code",
   "execution_count": 21,
   "id": "fa8ddd19",
   "metadata": {},
   "outputs": [
    {
     "data": {
      "text/plain": [
       "'html'"
      ]
     },
     "execution_count": 21,
     "metadata": {},
     "output_type": "execute_result"
    }
   ],
   "source": [
    "model.wv.doesnt_match(['java','python','monkey','html','sql'])"
   ]
  },
  {
   "cell_type": "code",
   "execution_count": null,
   "id": "2994ebbb",
   "metadata": {},
   "outputs": [],
   "source": []
  }
 ],
 "metadata": {
  "kernelspec": {
   "display_name": "Python 3 (ipykernel)",
   "language": "python",
   "name": "python3"
  },
  "language_info": {
   "codemirror_mode": {
    "name": "ipython",
    "version": 3
   },
   "file_extension": ".py",
   "mimetype": "text/x-python",
   "name": "python",
   "nbconvert_exporter": "python",
   "pygments_lexer": "ipython3",
   "version": "3.9.7"
  }
 },
 "nbformat": 4,
 "nbformat_minor": 5
}
