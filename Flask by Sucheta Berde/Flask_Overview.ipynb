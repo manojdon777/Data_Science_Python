{
 "cells": [
  {
   "cell_type": "markdown",
   "id": "fcf26d02",
   "metadata": {},
   "source": [
    "# Web application Framework"
   ]
  },
  {
   "cell_type": "code",
   "execution_count": null,
   "id": "ff8deec8",
   "metadata": {},
   "outputs": [],
   "source": [
    "-Collection of utilities like libraries and modules"
   ]
  },
  {
   "cell_type": "markdown",
   "id": "a9d8eeeb",
   "metadata": {},
   "source": [
    "# Flask "
   ]
  },
  {
   "cell_type": "code",
   "execution_count": null,
   "id": "8858023e",
   "metadata": {},
   "outputs": [],
   "source": [
    "-web application framework written in python\n",
    "-WSGI = \"Webserver Gateway Interface\"\n",
    "-Werkzeug WSGI Toolkit\n",
    ">>> parsing and dumping\n",
    ">>> response and request object\n",
    "-Jinja2 Template engine\n",
    ">>>Templating system\n",
    ">>> one data source > one template > integrating template"
   ]
  },
  {
   "cell_type": "code",
   "execution_count": null,
   "id": "13036d92",
   "metadata": {},
   "outputs": [],
   "source": [
    "\"\"\"pip install flask\"\"\""
   ]
  },
  {
   "cell_type": "code",
   "execution_count": null,
   "id": "27048657",
   "metadata": {},
   "outputs": [],
   "source": [
    "route() >> Used to define the URL ans map a particular \"view function\" with the used rule\n",
    "@app.route(rule, options)"
   ]
  },
  {
   "cell_type": "code",
   "execution_count": null,
   "id": "5378a0b3",
   "metadata": {},
   "outputs": [],
   "source": [
    "run() >> \n",
    "app.run(host, port, debug, options)\n",
    "\n",
    ">>host : default or localhost = \"127.0.0.1\"\n",
    "         host = \"0.0.0.0\"\n",
    ">>port : default port = 5000\n",
    ">>debug : default debug = False"
   ]
  },
  {
   "cell_type": "code",
   "execution_count": null,
   "id": "726b9340",
   "metadata": {},
   "outputs": [],
   "source": [
    "from flask import Flask\n",
    "app = Flask(__name__)\n",
    "\n",
    "@app.route()"
   ]
  },
  {
   "cell_type": "code",
   "execution_count": null,
   "id": "8f0c509e",
   "metadata": {},
   "outputs": [],
   "source": [
    "Ctrl + C : To stop the server"
   ]
  },
  {
   "cell_type": "code",
   "execution_count": null,
   "id": "be057767",
   "metadata": {},
   "outputs": [],
   "source": [
    "API or Endpoint"
   ]
  },
  {
   "cell_type": "markdown",
   "id": "925f15c0",
   "metadata": {},
   "source": [
    "# add_url_rule"
   ]
  },
  {
   "cell_type": "code",
   "execution_count": null,
   "id": "5a040133",
   "metadata": {},
   "outputs": [],
   "source": [
    "app.add_url_rule('/hello','hello',hello)\n",
    ">>hello - rule\n",
    ">>hello - api\n",
    ">>hello - view function"
   ]
  },
  {
   "cell_type": "markdown",
   "id": "1110f58f",
   "metadata": {},
   "source": [
    "# Varaibles rules"
   ]
  },
  {
   "cell_type": "code",
   "execution_count": null,
   "id": "8a20e7d4",
   "metadata": {},
   "outputs": [],
   "source": [
    "string, int, float"
   ]
  },
  {
   "cell_type": "markdown",
   "id": "e5d35bb6",
   "metadata": {},
   "source": [
    "# HTTP methods"
   ]
  },
  {
   "cell_type": "code",
   "execution_count": null,
   "id": "84a9a118",
   "metadata": {},
   "outputs": [],
   "source": [
    "1.GET : Default\n",
    "      : unencryted\n",
    "      : most commonly used\n",
    "      : server remembers the data\n",
    "      : data is cached"
   ]
  },
  {
   "cell_type": "code",
   "execution_count": null,
   "id": "193148ea",
   "metadata": {},
   "outputs": [],
   "source": [
    "2.POST : HTML form \n",
    "       : data is not retained by the server\n",
    "       : form data"
   ]
  },
  {
   "cell_type": "code",
   "execution_count": null,
   "id": "a2aa022b",
   "metadata": {},
   "outputs": [],
   "source": [
    "@app.route('/function', methods = [\"POST\", \"GET\"])\n",
    "    if request.methods == \"POST\":\n",
    "        statement \n",
    "    else:\n",
    "        statement"
   ]
  },
  {
   "cell_type": "markdown",
   "id": "517ed52b",
   "metadata": {},
   "source": [
    "# Request object"
   ]
  },
  {
   "cell_type": "code",
   "execution_count": null,
   "id": "561a55fa",
   "metadata": {},
   "outputs": [],
   "source": [
    "-form >> attribute of request object\n",
    "      >> \"POST\"\n",
    "-args >> \"GET\" method\n",
    "-json >> \"POST\" or \"GET\""
   ]
  },
  {
   "cell_type": "code",
   "execution_count": null,
   "id": "17a82912",
   "metadata": {},
   "outputs": [],
   "source": [
    "# virtual env"
   ]
  },
  {
   "cell_type": "code",
   "execution_count": null,
   "id": "d5a04110",
   "metadata": {},
   "outputs": [],
   "source": [
    "pip install virtrualenv\n",
    "virtualenv \"environment name\"\n",
    ".\\\"environment name\"\\Scripts\\activate"
   ]
  }
 ],
 "metadata": {
  "kernelspec": {
   "display_name": "Python 3 (ipykernel)",
   "language": "python",
   "name": "python3"
  },
  "language_info": {
   "codemirror_mode": {
    "name": "ipython",
    "version": 3
   },
   "file_extension": ".py",
   "mimetype": "text/x-python",
   "name": "python",
   "nbconvert_exporter": "python",
   "pygments_lexer": "ipython3",
   "version": "3.9.7"
  }
 },
 "nbformat": 4,
 "nbformat_minor": 5
}
